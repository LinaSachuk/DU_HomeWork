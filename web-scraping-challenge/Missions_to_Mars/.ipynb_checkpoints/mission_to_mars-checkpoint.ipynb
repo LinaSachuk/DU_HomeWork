{
 "cells": [
  {
   "cell_type": "code",
   "execution_count": 47,
   "metadata": {},
   "outputs": [],
   "source": [
    "# Dependencies and Setup\n",
    "import pandas as pd\n",
    "import numpy as np\n",
    "import requests\n",
    "import time\n",
    "from pprint import pprint\n",
    "import json\n",
    "from splinter import Browser\n",
    "from bs4 import BeautifulSoup\n",
    "import pymongo"
   ]
  },
  {
   "cell_type": "markdown",
   "metadata": {},
   "source": [
    "Step 1 - Scraping\n"
   ]
  },
  {
   "cell_type": "markdown",
   "metadata": {},
   "source": [
    "NASA Mars News\n",
    "\n",
    "Scrape the NASA Mars News Site\n",
    "\n",
    "https://mars.nasa.gov/news/?page=0&per_page=40&order=publish_date+desc%2Ccreated_at+desc&search=&category=19%2C165%2C184%2C204&blank_scope=Latest\n",
    "\n",
    "and collect the latest News Title and Paragraph Text. \n",
    "Assign the text to variables that you can reference later."
   ]
  },
  {
   "cell_type": "code",
   "execution_count": 382,
   "metadata": {},
   "outputs": [],
   "source": [
    "# Creating a dictionary for mars data\n",
    "mars_data = {}"
   ]
  },
  {
   "cell_type": "code",
   "execution_count": 383,
   "metadata": {},
   "outputs": [
    {
     "name": "stdout",
     "output_type": "stream",
     "text": [
      "/usr/local/bin/chromedriver\r\n"
     ]
    }
   ],
   "source": [
    "# https://splinter.readthedocs.io/en/latest/drivers/chrome.html\n",
    "!which chromedriver"
   ]
  },
  {
   "cell_type": "code",
   "execution_count": 384,
   "metadata": {},
   "outputs": [],
   "source": [
    "executable_path = {'executable_path': '/usr/local/bin/chromedriver'}\n",
    "browser = Browser('chrome', **executable_path, headless=False)"
   ]
  },
  {
   "cell_type": "code",
   "execution_count": 385,
   "metadata": {},
   "outputs": [],
   "source": [
    "url = 'https://mars.nasa.gov/news/?page=0&per_page=40&order=publish_date+desc%2Ccreated_at+desc&search=&category=19%2C165%2C184%2C204&blank_scope=Latest'\n",
    "browser.visit(url)"
   ]
  },
  {
   "cell_type": "code",
   "execution_count": 389,
   "metadata": {},
   "outputs": [
    {
     "name": "stdout",
     "output_type": "stream",
     "text": [
      "Mars Now\n",
      "NASA chose a seventh-grader from Virginia as winner of the agency's \"Name the Rover\" essay contest. Alexander Mather's entry for \"Perseverance\" was voted tops among 28,000 entries. \n"
     ]
    }
   ],
   "source": [
    "\n",
    "html = browser.html\n",
    "soup = BeautifulSoup(html, 'html.parser')\n",
    "\n",
    "news_title = soup.find('div', class_='content_title').text\n",
    "news_p = soup.find('div', class_='article_teaser_body').text\n",
    "print(news_title)\n",
    "print(news_p)\n",
    "\n"
   ]
  },
  {
   "cell_type": "code",
   "execution_count": 390,
   "metadata": {},
   "outputs": [
    {
     "name": "stdout",
     "output_type": "stream",
     "text": [
      "{'news_p': 'NASA chose a seventh-grader from Virginia as winner of the '\n",
      "           'agency\\'s \"Name the Rover\" essay contest. Alexander Mather\\'s '\n",
      "           'entry for \"Perseverance\" was voted tops among 28,000 entries. ',\n",
      " 'news_title': 'Mars Now'}\n"
     ]
    }
   ],
   "source": [
    "mars_data['news_title'] = news_title\n",
    "mars_data['news_p'] = news_p\n",
    "\n",
    "pprint(mars_data)"
   ]
  },
  {
   "cell_type": "markdown",
   "metadata": {},
   "source": [
    "JPL Mars Space Images - Featured Image\n",
    "\n",
    "https://www.jpl.nasa.gov/spaceimages/?search=&category=Mars\n",
    "\n",
    "Use splinter to navigate the site and find the image url for the current Featured Mars Image and assign the url string to a variable called featured_image_url."
   ]
  },
  {
   "cell_type": "code",
   "execution_count": 412,
   "metadata": {},
   "outputs": [],
   "source": [
    "# executable_path = {'executable_path': '/usr/local/bin/chromedriver'}\n",
    "# browser = Browser('chrome', **executable_path, headless=False)"
   ]
  },
  {
   "cell_type": "code",
   "execution_count": 413,
   "metadata": {},
   "outputs": [],
   "source": [
    "# url = 'https://www.jpl.nasa.gov/spaceimages/?search=&category=Mars'\n",
    "# browser.visit(url)"
   ]
  },
  {
   "cell_type": "code",
   "execution_count": 415,
   "metadata": {},
   "outputs": [
    {
     "name": "stdout",
     "output_type": "stream",
     "text": [
      "=================\n",
      "https://www.jpl.nasa.gov//spaceimages/images/largesize/PIA16021_hires.jpg\n",
      "This color full-resolution image showing the heat shield of NASA's Curiosity rover was obtained during descent to the surface of Mars. This image shows the inside surface of the heat shield, with its protective multi-layered insulation.\n"
     ]
    }
   ],
   "source": [
    "\n",
    "# html = browser.html\n",
    "# soup = BeautifulSoup(html, 'html.parser')\n",
    "# base_url = 'https://www.jpl.nasa.gov/'\n",
    "\n",
    "# results = soup.find_all('figure', class_='lede')\n",
    "\n",
    "# for i in results:\n",
    "#     featured_image_url =  base_url + i.a['href']\n",
    "#     print(\"=================\")\n",
    "    \n",
    "#     print(featured_image_url)\n",
    "#     print(i.img['title'])\n",
    "    \n",
    "# # https://www.jpl.nasa.gov/    \n"
   ]
  },
  {
   "cell_type": "code",
   "execution_count": 430,
   "metadata": {},
   "outputs": [
    {
     "name": "stdout",
     "output_type": "stream",
     "text": [
      "=================\n",
      "https://www.jpl.nasa.gov//spaceimages/images/largesize/PIA19330_hires.jpg\n",
      "This map of the entire sky was captured by the European Space Agency's Planck mission - The band running through the middle corresponds to dust in our Milky Way galaxy.\n"
     ]
    }
   ],
   "source": [
    "from selenium import webdriver\n",
    "from selenium.webdriver.common.keys import Keys\n",
    "from bs4 import BeautifulSoup\n",
    "import re\n",
    "import pandas as pd\n",
    "import os\n",
    "\n",
    "#launch url\n",
    "url = 'https://www.jpl.nasa.gov/spaceimages/?search=&category=Mars'\n",
    "\n",
    "# create a new Chrome session\n",
    "driver = webdriver.Chrome()\n",
    "driver.implicitly_wait(30)\n",
    "driver.get(url)\n",
    "\n",
    "driver.find_element_by_id('full_image').click() \n",
    "\n",
    "# more info     \n",
    "driver.find_element_by_partial_link_text('more info').click() \n",
    "\n",
    "soup=BeautifulSoup(driver.page_source, 'lxml')\n",
    "results = soup.find_all('figure', class_='lede')\n",
    "\n",
    "for i in results:\n",
    "    featured_image_url =  base_url + i.a['href']\n",
    "    featureed_image_title = i.img['title']\n",
    "    print(\"=================\")\n",
    "    \n",
    "    print(featured_image_url)\n",
    "    print(featureed_image_title)\n",
    "    "
   ]
  },
  {
   "cell_type": "code",
   "execution_count": 431,
   "metadata": {},
   "outputs": [
    {
     "name": "stdout",
     "output_type": "stream",
     "text": [
      "{'featured_image_url': 'https://www.jpl.nasa.gov//spaceimages/images/largesize/PIA19330_hires.jpg',\n",
      " 'featureed_image_title': 'This map of the entire sky was captured by the '\n",
      "                          \"European Space Agency's Planck mission - The band \"\n",
      "                          'running through the middle corresponds to dust in '\n",
      "                          'our Milky Way galaxy.',\n",
      " 'news_p': 'NASA chose a seventh-grader from Virginia as winner of the '\n",
      "           'agency\\'s \"Name the Rover\" essay contest. Alexander Mather\\'s '\n",
      "           'entry for \"Perseverance\" was voted tops among 28,000 entries. ',\n",
      " 'news_title': 'Mars Now'}\n"
     ]
    }
   ],
   "source": [
    "mars_data['featured_image_url'] = featured_image_url\n",
    "mars_data['featureed_image_title'] = featureed_image_title\n",
    "\n",
    "pprint(mars_data)"
   ]
  },
  {
   "cell_type": "markdown",
   "metadata": {},
   "source": [
    "Mars Weather\n",
    "\n",
    "Visit the Mars Weather twitter account here and scrape the latest Mars weather tweet from the page. Save the tweet text for the weather report as a variable called mars_weather.\n",
    "\n",
    "https://twitter.com/marswxreport?lang=en\n",
    "\n",
    "\n"
   ]
  },
  {
   "cell_type": "code",
   "execution_count": 362,
   "metadata": {},
   "outputs": [],
   "source": [
    "executable_path = {'executable_path': '/usr/local/bin/chromedriver'}\n",
    "browser = Browser('chrome', **executable_path, headless=False)"
   ]
  },
  {
   "cell_type": "code",
   "execution_count": 363,
   "metadata": {},
   "outputs": [],
   "source": [
    "url = 'https://twitter.com/marswxreport?lang=en'\n",
    "\n",
    "browser.visit(url)"
   ]
  },
  {
   "cell_type": "code",
   "execution_count": 364,
   "metadata": {},
   "outputs": [
    {
     "name": "stdout",
     "output_type": "stream",
     "text": [
      "InSight sol 457 (2020-03-10) low -95.7ºC (-140.3ºF) high -9.1ºC (15.6ºF)\n",
      "winds from the SSE at 6.5 m/s (14.5 mph) gusting to 21.0 m/s (46.9 mph)\n",
      "pressure at 6.30 hPa\n"
     ]
    }
   ],
   "source": [
    "\n",
    "\n",
    "html = browser.html\n",
    "soup = BeautifulSoup(html, 'html.parser')\n",
    "# results = soup.find('div', class_='')\n",
    "results = soup.find('div', class_='css-901oao r-hkyrab r-1qd0xha r-1blvdjr r-16dba41 r-ad9z0x r-bcqeeo r-19yat4t r-bnwqim r-qvutc0')\n",
    "# results = soup.find('div', class_='css-901oao r-hkyrab r-1qd0xha r-1blvdjr r-16dba41 r-ad9z0x r-bcqeeo r-19yat4t r-bnwqim r-qvutc0')\n",
    "# results = soup.find('div', class_='css-901oao r-hkyrab r-1qd0xha r-1blvdjr r-16dba41 r-ad9z0x r-bcqeeo r-19yat4t r-bnwqim r-qvutc0')\n",
    "# results = soup.find('div', class_='css-901oao r-hkyrab r-1qd0xha r-1blvdjr r-16dba41 r-ad9z0x r-bcqeeo r-19yat4t r-bnwqim r-qvutc0')\n",
    "# results = soup.find('div', class_='css-901oao r-hkyrab r-1qd0xha r-a023e6 r-16dba41 r-ad9z0x r-bcqeeo r-bnwqim r-qvutc0')\n",
    "\n",
    "# results = soup.find_all('span', class_='css-901oao css-16my406 r-1qd0xha r-ad9z0x r-bcqeeo r-qvutc0')\n",
    "mars_weather = results.span.text\n",
    "print(mars_weather)\n",
    "\n",
    "   "
   ]
  },
  {
   "cell_type": "markdown",
   "metadata": {},
   "source": [
    "Mars Facts\n",
    "\n",
    "https://space-facts.com/mars/\n",
    "\n",
    "Visit the Mars Facts webpage here and use Pandas to scrape the table containing facts about the planet including Diameter, Mass, etc.\n",
    "\n",
    "\n",
    "Use Pandas to convert the data to a HTML table string.\n"
   ]
  },
  {
   "cell_type": "code",
   "execution_count": 312,
   "metadata": {},
   "outputs": [],
   "source": [
    "url = 'https://space-facts.com/mars/'\n",
    "tables = pd.read_html(url)\n",
    "# tables"
   ]
  },
  {
   "cell_type": "code",
   "execution_count": 360,
   "metadata": {},
   "outputs": [
    {
     "data": {
      "text/html": [
       "<div>\n",
       "<style scoped>\n",
       "    .dataframe tbody tr th:only-of-type {\n",
       "        vertical-align: middle;\n",
       "    }\n",
       "\n",
       "    .dataframe tbody tr th {\n",
       "        vertical-align: top;\n",
       "    }\n",
       "\n",
       "    .dataframe thead th {\n",
       "        text-align: right;\n",
       "    }\n",
       "</style>\n",
       "<table border=\"1\" class=\"dataframe\">\n",
       "  <thead>\n",
       "    <tr style=\"text-align: right;\">\n",
       "      <th></th>\n",
       "      <th>0</th>\n",
       "      <th>1</th>\n",
       "    </tr>\n",
       "  </thead>\n",
       "  <tbody>\n",
       "    <tr>\n",
       "      <th>0</th>\n",
       "      <td>Equatorial Diameter:</td>\n",
       "      <td>6,792 km</td>\n",
       "    </tr>\n",
       "    <tr>\n",
       "      <th>1</th>\n",
       "      <td>Polar Diameter:</td>\n",
       "      <td>6,752 km</td>\n",
       "    </tr>\n",
       "    <tr>\n",
       "      <th>2</th>\n",
       "      <td>Mass:</td>\n",
       "      <td>6.39 × 10^23 kg (0.11 Earths)</td>\n",
       "    </tr>\n",
       "    <tr>\n",
       "      <th>3</th>\n",
       "      <td>Moons:</td>\n",
       "      <td>2 (Phobos &amp; Deimos)</td>\n",
       "    </tr>\n",
       "    <tr>\n",
       "      <th>4</th>\n",
       "      <td>Orbit Distance:</td>\n",
       "      <td>227,943,824 km (1.38 AU)</td>\n",
       "    </tr>\n",
       "    <tr>\n",
       "      <th>5</th>\n",
       "      <td>Orbit Period:</td>\n",
       "      <td>687 days (1.9 years)</td>\n",
       "    </tr>\n",
       "    <tr>\n",
       "      <th>6</th>\n",
       "      <td>Surface Temperature:</td>\n",
       "      <td>-87 to -5 °C</td>\n",
       "    </tr>\n",
       "    <tr>\n",
       "      <th>7</th>\n",
       "      <td>First Record:</td>\n",
       "      <td>2nd millennium BC</td>\n",
       "    </tr>\n",
       "    <tr>\n",
       "      <th>8</th>\n",
       "      <td>Recorded By:</td>\n",
       "      <td>Egyptian astronomers</td>\n",
       "    </tr>\n",
       "  </tbody>\n",
       "</table>\n",
       "</div>"
      ],
      "text/plain": [
       "                      0                              1\n",
       "0  Equatorial Diameter:                       6,792 km\n",
       "1       Polar Diameter:                       6,752 km\n",
       "2                 Mass:  6.39 × 10^23 kg (0.11 Earths)\n",
       "3                Moons:            2 (Phobos & Deimos)\n",
       "4       Orbit Distance:       227,943,824 km (1.38 AU)\n",
       "5         Orbit Period:           687 days (1.9 years)\n",
       "6  Surface Temperature:                   -87 to -5 °C\n",
       "7         First Record:              2nd millennium BC\n",
       "8          Recorded By:           Egyptian astronomers"
      ]
     },
     "execution_count": 360,
     "metadata": {},
     "output_type": "execute_result"
    }
   ],
   "source": [
    "mars_profile_df = tables[0]\n",
    "mars_profile_df\n"
   ]
  },
  {
   "cell_type": "code",
   "execution_count": 314,
   "metadata": {},
   "outputs": [],
   "source": [
    "mars_profile_df.to_html('mars_profile_table.html' , index=False, header = False)\n"
   ]
  },
  {
   "cell_type": "code",
   "execution_count": 316,
   "metadata": {},
   "outputs": [],
   "source": [
    "!open mars_profile_table.html"
   ]
  },
  {
   "cell_type": "markdown",
   "metadata": {},
   "source": [
    "Mars Hemispheres\n",
    "\n",
    "https://astrogeology.usgs.gov/search/results?q=hemisphere+enhanced&k1=target&v1=Mars\n",
    "\n",
    "\n",
    "Visit the USGS Astrogeology site here to obtain high resolution images for each of Mar's hemispheres.\n",
    "\n",
    "\n",
    "You will need to click each of the links to the hemispheres in order to find the image url to the full resolution image.\n",
    "\n",
    "\n",
    "Save both the image url string for the full resolution hemisphere image, and the Hemisphere title containing the hemisphere name. Use a Python dictionary to store the data using the keys img_url and title.\n",
    "\n",
    "\n",
    "Append the dictionary with the image url string and the hemisphere title to a list. This list will contain one dictionary for each hemisphere.\n",
    "\n"
   ]
  },
  {
   "cell_type": "code",
   "execution_count": 317,
   "metadata": {},
   "outputs": [],
   "source": [
    "\n",
    "executable_path = {'executable_path': '/usr/local/bin/chromedriver'}\n",
    "browser = Browser('chrome', **executable_path, headless=False)"
   ]
  },
  {
   "cell_type": "code",
   "execution_count": 318,
   "metadata": {},
   "outputs": [],
   "source": [
    "url = 'https://astrogeology.usgs.gov/search/results?q=hemisphere+enhanced&k1=target&v1=Mars'\n",
    "\n",
    "browser.visit(url)"
   ]
  },
  {
   "cell_type": "code",
   "execution_count": 349,
   "metadata": {},
   "outputs": [
    {
     "name": "stdout",
     "output_type": "stream",
     "text": [
      "Cerberus Hemisphere Enhanced\n",
      "==============\n",
      "http://astropedia.astrogeology.usgs.gov/download/Mars/Viking/cerberus_enhanced.tif/full.jpg\n"
     ]
    }
   ],
   "source": [
    "# https://astrogeology.usgs.gov/search/map/Mars/Viking/cerberus_enhanced\n",
    "html = browser.html\n",
    "soup = BeautifulSoup(html, 'html.parser')\n",
    "h = {}\n",
    "hemisphere_image_urls = []\n",
    "\n",
    "results2 = soup.find_all('h2', class_='title')\n",
    "         \n",
    "for result2 in results2:\n",
    "    print(result2.text)\n",
    "    h['title'] =result2.text\n",
    "    \n",
    "results = soup.find_all('div', class_='wide-image-wrapper')\n",
    "for result in results:\n",
    "    print('==============')\n",
    "    print(result.a['href'])\n",
    "    h['img_url'] = result.a['href']\n",
    "\n",
    "hemisphere_image_urls.append(h)"
   ]
  },
  {
   "cell_type": "code",
   "execution_count": 350,
   "metadata": {},
   "outputs": [
    {
     "name": "stdout",
     "output_type": "stream",
     "text": [
      "Schiaparelli Hemisphere Enhanced\n",
      "==============\n",
      "http://astropedia.astrogeology.usgs.gov/download/Mars/Viking/schiaparelli_enhanced.tif/full.jpg\n"
     ]
    }
   ],
   "source": [
    "# https://astrogeology.usgs.gov/search/map/Mars/Viking/schiaparelli_enhanced\n",
    "html = browser.html\n",
    "soup = BeautifulSoup(html, 'html.parser')\n",
    "h = {}\n",
    "\n",
    "results2 = soup.find_all('h2', class_='title')\n",
    "         \n",
    "for result2 in results2:\n",
    "    print(result2.text)\n",
    "    h['title'] =result2.text\n",
    "    \n",
    "results = soup.find_all('div', class_='wide-image-wrapper')\n",
    "for result in results:\n",
    "    print('==============')\n",
    "    print(result.a['href'])\n",
    "    h['img_url'] = result.a['href']\n",
    "\n",
    "hemisphere_image_urls.append(h)"
   ]
  },
  {
   "cell_type": "code",
   "execution_count": 351,
   "metadata": {},
   "outputs": [
    {
     "name": "stdout",
     "output_type": "stream",
     "text": [
      "Syrtis Major Hemisphere Enhanced\n",
      "==============\n",
      "http://astropedia.astrogeology.usgs.gov/download/Mars/Viking/syrtis_major_enhanced.tif/full.jpg\n"
     ]
    }
   ],
   "source": [
    "# https://astrogeology.usgs.gov/search/map/Mars/Viking/syrtis_major_enhanced\n",
    "html = browser.html\n",
    "soup = BeautifulSoup(html, 'html.parser')\n",
    "h = {}\n",
    "\n",
    "results2 = soup.find_all('h2', class_='title')\n",
    "         \n",
    "for result2 in results2:\n",
    "    print(result2.text)\n",
    "    h['title'] =result2.text\n",
    "    \n",
    "results = soup.find_all('div', class_='wide-image-wrapper')\n",
    "for result in results:\n",
    "    print('==============')\n",
    "    print(result.a['href'])\n",
    "    h['img_url'] = result.a['href']\n",
    "\n",
    "hemisphere_image_urls.append(h)"
   ]
  },
  {
   "cell_type": "code",
   "execution_count": 352,
   "metadata": {},
   "outputs": [
    {
     "name": "stdout",
     "output_type": "stream",
     "text": [
      "Valles Marineris Hemisphere Enhanced\n",
      "==============\n",
      "http://astropedia.astrogeology.usgs.gov/download/Mars/Viking/valles_marineris_enhanced.tif/full.jpg\n"
     ]
    }
   ],
   "source": [
    "# https://astrogeology.usgs.gov/search/map/Mars/Viking/valles_marineris_enhanced\n",
    "html = browser.html\n",
    "soup = BeautifulSoup(html, 'html.parser')\n",
    "h = {}\n",
    "\n",
    "\n",
    "results2 = soup.find_all('h2', class_='title')\n",
    "         \n",
    "for result2 in results2:\n",
    "    print(result2.text)\n",
    "    h['title'] =result2.text\n",
    "    \n",
    "results = soup.find_all('div', class_='wide-image-wrapper')\n",
    "for result in results:\n",
    "    print('==============')\n",
    "    print(result.a['href'])\n",
    "    h['img_url'] = result.a['href']\n",
    "\n",
    "hemisphere_image_urls.append(h)"
   ]
  },
  {
   "cell_type": "code",
   "execution_count": 354,
   "metadata": {},
   "outputs": [
    {
     "name": "stdout",
     "output_type": "stream",
     "text": [
      "[{'img_url': 'http://astropedia.astrogeology.usgs.gov/download/Mars/Viking/cerberus_enhanced.tif/full.jpg',\n",
      "  'title': 'Cerberus Hemisphere Enhanced'},\n",
      " {'img_url': 'http://astropedia.astrogeology.usgs.gov/download/Mars/Viking/schiaparelli_enhanced.tif/full.jpg',\n",
      "  'title': 'Schiaparelli Hemisphere Enhanced'},\n",
      " {'img_url': 'http://astropedia.astrogeology.usgs.gov/download/Mars/Viking/syrtis_major_enhanced.tif/full.jpg',\n",
      "  'title': 'Syrtis Major Hemisphere Enhanced'},\n",
      " {'img_url': 'http://astropedia.astrogeology.usgs.gov/download/Mars/Viking/valles_marineris_enhanced.tif/full.jpg',\n",
      "  'title': 'Valles Marineris Hemisphere Enhanced'}]\n"
     ]
    }
   ],
   "source": [
    "\n",
    "pprint(hemisphere_image_urls)"
   ]
  },
  {
   "cell_type": "code",
   "execution_count": 357,
   "metadata": {},
   "outputs": [
    {
     "data": {
      "text/plain": [
       "'Valles Marineris Hemisphere'"
      ]
     },
     "execution_count": 357,
     "metadata": {},
     "output_type": "execute_result"
    }
   ],
   "source": [
    "text = 'Valles Marineris Hemisphere Enhanced'\n",
    "text.rsplit(' ', 1)[0]"
   ]
  },
  {
   "cell_type": "code",
   "execution_count": 358,
   "metadata": {},
   "outputs": [
    {
     "name": "stdout",
     "output_type": "stream",
     "text": [
      "[{'img_url': 'http://astropedia.astrogeology.usgs.gov/download/Mars/Viking/cerberus_enhanced.tif/full.jpg',\n",
      "  'title': 'Cerberus Hemisphere'},\n",
      " {'img_url': 'http://astropedia.astrogeology.usgs.gov/download/Mars/Viking/schiaparelli_enhanced.tif/full.jpg',\n",
      "  'title': 'Schiaparelli Hemisphere'},\n",
      " {'img_url': 'http://astropedia.astrogeology.usgs.gov/download/Mars/Viking/syrtis_major_enhanced.tif/full.jpg',\n",
      "  'title': 'Syrtis Major Hemisphere'},\n",
      " {'img_url': 'http://astropedia.astrogeology.usgs.gov/download/Mars/Viking/valles_marineris_enhanced.tif/full.jpg',\n",
      "  'title': 'Valles Marineris Hemisphere'}]\n"
     ]
    }
   ],
   "source": [
    "# Cutting the last word from titles\n",
    "for i in hemisphere_image_urls:\n",
    "    i['title'] = i['title'].rsplit(' ', 1)[0]\n",
    "pprint(hemisphere_image_urls)    "
   ]
  },
  {
   "cell_type": "code",
   "execution_count": null,
   "metadata": {},
   "outputs": [],
   "source": []
  }
 ],
 "metadata": {
  "kernelspec": {
   "display_name": "Python 3",
   "language": "python",
   "name": "python3"
  },
  "language_info": {
   "codemirror_mode": {
    "name": "ipython",
    "version": 3
   },
   "file_extension": ".py",
   "mimetype": "text/x-python",
   "name": "python",
   "nbconvert_exporter": "python",
   "pygments_lexer": "ipython3",
   "version": "3.7.6"
  }
 },
 "nbformat": 4,
 "nbformat_minor": 4
}
