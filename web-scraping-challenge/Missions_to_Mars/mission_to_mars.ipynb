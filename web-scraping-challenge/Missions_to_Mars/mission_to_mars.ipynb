{
 "cells": [
  {
   "cell_type": "code",
   "execution_count": 47,
   "metadata": {},
   "outputs": [],
   "source": [
    "# Dependencies and Setup\n",
    "import pandas as pd\n",
    "import numpy as np\n",
    "import requests\n",
    "import time\n",
    "from pprint import pprint\n",
    "import json\n",
    "from splinter import Browser\n",
    "from bs4 import BeautifulSoup\n",
    "import pymongo"
   ]
  },
  {
   "cell_type": "markdown",
   "metadata": {},
   "source": [
    "Step 1 - Scraping\n"
   ]
  },
  {
   "cell_type": "markdown",
   "metadata": {},
   "source": [
    "NASA Mars News\n",
    "\n",
    "Scrape the NASA Mars News Site\n",
    "\n",
    "https://mars.nasa.gov/news/?page=0&per_page=40&order=publish_date+desc%2Ccreated_at+desc&search=&category=19%2C165%2C184%2C204&blank_scope=Latest\n",
    "\n",
    "and collect the latest News Title and Paragraph Text. \n",
    "Assign the text to variables that you can reference later."
   ]
  },
  {
   "cell_type": "code",
   "execution_count": 382,
   "metadata": {},
   "outputs": [],
   "source": [
    "# Creating a dictionary for mars data\n",
    "mars_data = {}"
   ]
  },
  {
   "cell_type": "code",
   "execution_count": 383,
   "metadata": {},
   "outputs": [
    {
     "name": "stdout",
     "output_type": "stream",
     "text": [
      "/usr/local/bin/chromedriver\r\n"
     ]
    }
   ],
   "source": [
    "# https://splinter.readthedocs.io/en/latest/drivers/chrome.html\n",
    "!which chromedriver"
   ]
  },
  {
   "cell_type": "code",
   "execution_count": 384,
   "metadata": {},
   "outputs": [],
   "source": [
    "executable_path = {'executable_path': '/usr/local/bin/chromedriver'}\n",
    "browser = Browser('chrome', **executable_path, headless=False)"
   ]
  },
  {
   "cell_type": "code",
   "execution_count": 385,
   "metadata": {},
   "outputs": [],
   "source": [
    "url = 'https://mars.nasa.gov/news/?page=0&per_page=40&order=publish_date+desc%2Ccreated_at+desc&search=&category=19%2C165%2C184%2C204&blank_scope=Latest'\n",
    "browser.visit(url)"
   ]
  },
  {
   "cell_type": "code",
   "execution_count": 389,
   "metadata": {},
   "outputs": [
    {
     "name": "stdout",
     "output_type": "stream",
     "text": [
      "Mars Now\n",
      "NASA chose a seventh-grader from Virginia as winner of the agency's \"Name the Rover\" essay contest. Alexander Mather's entry for \"Perseverance\" was voted tops among 28,000 entries. \n"
     ]
    }
   ],
   "source": [
    "\n",
    "html = browser.html\n",
    "soup = BeautifulSoup(html, 'html.parser')\n",
    "\n",
    "news_title = soup.find('div', class_='content_title').text\n",
    "news_p = soup.find('div', class_='article_teaser_body').text\n",
    "print(news_title)\n",
    "print(news_p)\n",
    "\n"
   ]
  },
  {
   "cell_type": "code",
   "execution_count": 390,
   "metadata": {},
   "outputs": [
    {
     "name": "stdout",
     "output_type": "stream",
     "text": [
      "{'news_p': 'NASA chose a seventh-grader from Virginia as winner of the '\n",
      "           'agency\\'s \"Name the Rover\" essay contest. Alexander Mather\\'s '\n",
      "           'entry for \"Perseverance\" was voted tops among 28,000 entries. ',\n",
      " 'news_title': 'Mars Now'}\n"
     ]
    }
   ],
   "source": [
    "mars_data['news_title'] = news_title\n",
    "mars_data['news_p'] = news_p\n",
    "\n",
    "pprint(mars_data)"
   ]
  },
  {
   "cell_type": "markdown",
   "metadata": {},
   "source": [
    "JPL Mars Space Images - Featured Image\n",
    "\n",
    "https://www.jpl.nasa.gov/spaceimages/?search=&category=Mars\n",
    "\n",
    "Use splinter to navigate the site and find the image url for the current Featured Mars Image and assign the url string to a variable called featured_image_url."
   ]
  },
  {
   "cell_type": "code",
   "execution_count": 477,
   "metadata": {},
   "outputs": [
    {
     "name": "stdout",
     "output_type": "stream",
     "text": [
      "=================\n",
      "https://www.jpl.nasa.gov//spaceimages/images/largesize/PIA17448_hires.jpg\n",
      "This artist's impression shows how photons from the early universe are deflected by the gravitational lensing effect of massive cosmic structures as they travel across the universe.\n"
     ]
    }
   ],
   "source": [
    "from selenium import webdriver\n",
    "from selenium.webdriver.common.keys import Keys\n",
    "from bs4 import BeautifulSoup\n",
    "import re\n",
    "import pandas as pd\n",
    "import os\n",
    "\n",
    "#launch url\n",
    "url = 'https://www.jpl.nasa.gov/spaceimages/?search=&category=Mars'\n",
    "\n",
    "# create a new Chrome session\n",
    "driver = webdriver.Chrome()\n",
    "driver.implicitly_wait(30)\n",
    "driver.get(url)\n",
    "\n",
    "driver.find_element_by_id('full_image').click() \n",
    "\n",
    "# more info     \n",
    "driver.find_element_by_partial_link_text('more info').click() \n",
    "\n",
    "soup=BeautifulSoup(driver.page_source, 'lxml')\n",
    "results = soup.find_all('figure', class_='lede')\n",
    "\n",
    "for i in results:\n",
    "    featured_image_url =  base_url + i.a['href']\n",
    "    featured_image_title = i.img['title']\n",
    "    print(\"=================\")\n",
    "    \n",
    "    print(featured_image_url)\n",
    "    print(featured_image_title)\n",
    "\n",
    "driver.quit()"
   ]
  },
  {
   "cell_type": "code",
   "execution_count": 431,
   "metadata": {},
   "outputs": [
    {
     "name": "stdout",
     "output_type": "stream",
     "text": [
      "{'featured_image_url': 'https://www.jpl.nasa.gov//spaceimages/images/largesize/PIA19330_hires.jpg',\n",
      " 'featureed_image_title': 'This map of the entire sky was captured by the '\n",
      "                          \"European Space Agency's Planck mission - The band \"\n",
      "                          'running through the middle corresponds to dust in '\n",
      "                          'our Milky Way galaxy.',\n",
      " 'news_p': 'NASA chose a seventh-grader from Virginia as winner of the '\n",
      "           'agency\\'s \"Name the Rover\" essay contest. Alexander Mather\\'s '\n",
      "           'entry for \"Perseverance\" was voted tops among 28,000 entries. ',\n",
      " 'news_title': 'Mars Now'}\n"
     ]
    }
   ],
   "source": [
    "# Adding data to the mars dictionary\n",
    "mars_data['featured_image_url'] = featured_image_url\n",
    "mars_data['featured_image_title'] = featured_image_title\n",
    "\n",
    "pprint(mars_data)"
   ]
  },
  {
   "cell_type": "markdown",
   "metadata": {},
   "source": [
    "Mars Weather\n",
    "\n",
    "Visit the Mars Weather twitter account here and scrape the latest Mars weather tweet from the page. Save the tweet text for the weather report as a variable called mars_weather.\n",
    "\n",
    "https://twitter.com/marswxreport?lang=en\n"
   ]
  },
  {
   "cell_type": "code",
   "execution_count": 476,
   "metadata": {},
   "outputs": [
    {
     "name": "stdout",
     "output_type": "stream",
     "text": [
      "InSight sol 457 (2020-03-10) low -95.7ºC (-140.3ºF) high -9.1ºC (15.6ºF)\n",
      "winds from the SSE at 6.5 m/s (14.5 mph) gusting to 21.0 m/s (46.9 mph)\n",
      "pressure at 6.30 hPa\n",
      "{'featured_image_url': 'https://www.jpl.nasa.gov//spaceimages/images/largesize/PIA19330_hires.jpg',\n",
      " 'featureed_image_title': 'This map of the entire sky was captured by the '\n",
      "                          \"European Space Agency's Planck mission - The band \"\n",
      "                          'running through the middle corresponds to dust in '\n",
      "                          'our Milky Way galaxy.',\n",
      " 'mars_weather': 'InSight sol 457 (2020-03-10) low -95.7ºC (-140.3ºF) high '\n",
      "                 '-9.1ºC (15.6ºF)\\n'\n",
      "                 'winds from the SSE at 6.5 m/s (14.5 mph) gusting to 21.0 m/s '\n",
      "                 '(46.9 mph)\\n'\n",
      "                 'pressure at 6.30 hPa',\n",
      " 'news_p': 'NASA chose a seventh-grader from Virginia as winner of the '\n",
      "           'agency\\'s \"Name the Rover\" essay contest. Alexander Mather\\'s '\n",
      "           'entry for \"Perseverance\" was voted tops among 28,000 entries. ',\n",
      " 'news_title': 'Mars Now'}\n"
     ]
    }
   ],
   "source": [
    "executable_path = {'executable_path': '/usr/local/bin/chromedriver'}\n",
    "browser = Browser('chrome', **executable_path, headless=False)\n",
    "\n",
    "url = 'https://twitter.com/marswxreport?lang=en'\n",
    "browser.visit(url)\n",
    "\n",
    "\n",
    "page = requests.get(url)\n",
    "\n",
    "soup = BeautifulSoup(page.content, 'html.parser')\n",
    "# print(soup)\n",
    "\n",
    "results = soup.find_all('div', class_='js-tweet-text-container')\n",
    "\n",
    "for result in results:\n",
    "    if 'InSight sol' in result.text:\n",
    "#         print(result.text)\n",
    "        mars_weather = result.text\n",
    "        mars_weather = mars_weather.replace('pic.twitter.com',' ').rsplit(' ',1)[0]\n",
    "        break\n",
    "    \n",
    "\n",
    "print(mars_weather.strip())\n",
    "\n",
    "# Adding data to the mars dictionary\n",
    "mars_data['mars_weather'] = mars_weather.strip()\n",
    "pprint(mars_data)"
   ]
  },
  {
   "cell_type": "markdown",
   "metadata": {},
   "source": [
    "Mars Facts\n",
    "\n",
    "https://space-facts.com/mars/\n",
    "\n",
    "Visit the Mars Facts webpage here and use Pandas to scrape the table containing facts about the planet including Diameter, Mass, etc.\n",
    "\n",
    "\n",
    "Use Pandas to convert the data to a HTML table string.\n"
   ]
  },
  {
   "cell_type": "code",
   "execution_count": 312,
   "metadata": {},
   "outputs": [],
   "source": [
    "url = 'https://space-facts.com/mars/'\n",
    "tables = pd.read_html(url)\n",
    "# tables"
   ]
  },
  {
   "cell_type": "code",
   "execution_count": 360,
   "metadata": {},
   "outputs": [
    {
     "data": {
      "text/html": [
       "<div>\n",
       "<style scoped>\n",
       "    .dataframe tbody tr th:only-of-type {\n",
       "        vertical-align: middle;\n",
       "    }\n",
       "\n",
       "    .dataframe tbody tr th {\n",
       "        vertical-align: top;\n",
       "    }\n",
       "\n",
       "    .dataframe thead th {\n",
       "        text-align: right;\n",
       "    }\n",
       "</style>\n",
       "<table border=\"1\" class=\"dataframe\">\n",
       "  <thead>\n",
       "    <tr style=\"text-align: right;\">\n",
       "      <th></th>\n",
       "      <th>0</th>\n",
       "      <th>1</th>\n",
       "    </tr>\n",
       "  </thead>\n",
       "  <tbody>\n",
       "    <tr>\n",
       "      <th>0</th>\n",
       "      <td>Equatorial Diameter:</td>\n",
       "      <td>6,792 km</td>\n",
       "    </tr>\n",
       "    <tr>\n",
       "      <th>1</th>\n",
       "      <td>Polar Diameter:</td>\n",
       "      <td>6,752 km</td>\n",
       "    </tr>\n",
       "    <tr>\n",
       "      <th>2</th>\n",
       "      <td>Mass:</td>\n",
       "      <td>6.39 × 10^23 kg (0.11 Earths)</td>\n",
       "    </tr>\n",
       "    <tr>\n",
       "      <th>3</th>\n",
       "      <td>Moons:</td>\n",
       "      <td>2 (Phobos &amp; Deimos)</td>\n",
       "    </tr>\n",
       "    <tr>\n",
       "      <th>4</th>\n",
       "      <td>Orbit Distance:</td>\n",
       "      <td>227,943,824 km (1.38 AU)</td>\n",
       "    </tr>\n",
       "    <tr>\n",
       "      <th>5</th>\n",
       "      <td>Orbit Period:</td>\n",
       "      <td>687 days (1.9 years)</td>\n",
       "    </tr>\n",
       "    <tr>\n",
       "      <th>6</th>\n",
       "      <td>Surface Temperature:</td>\n",
       "      <td>-87 to -5 °C</td>\n",
       "    </tr>\n",
       "    <tr>\n",
       "      <th>7</th>\n",
       "      <td>First Record:</td>\n",
       "      <td>2nd millennium BC</td>\n",
       "    </tr>\n",
       "    <tr>\n",
       "      <th>8</th>\n",
       "      <td>Recorded By:</td>\n",
       "      <td>Egyptian astronomers</td>\n",
       "    </tr>\n",
       "  </tbody>\n",
       "</table>\n",
       "</div>"
      ],
      "text/plain": [
       "                      0                              1\n",
       "0  Equatorial Diameter:                       6,792 km\n",
       "1       Polar Diameter:                       6,752 km\n",
       "2                 Mass:  6.39 × 10^23 kg (0.11 Earths)\n",
       "3                Moons:            2 (Phobos & Deimos)\n",
       "4       Orbit Distance:       227,943,824 km (1.38 AU)\n",
       "5         Orbit Period:           687 days (1.9 years)\n",
       "6  Surface Temperature:                   -87 to -5 °C\n",
       "7         First Record:              2nd millennium BC\n",
       "8          Recorded By:           Egyptian astronomers"
      ]
     },
     "execution_count": 360,
     "metadata": {},
     "output_type": "execute_result"
    }
   ],
   "source": [
    "mars_profile_df = tables[0]\n",
    "mars_profile_df\n"
   ]
  },
  {
   "cell_type": "code",
   "execution_count": 314,
   "metadata": {},
   "outputs": [],
   "source": [
    "mars_profile_df.to_html('mars_profile_table.html' , index=False, header = False)\n"
   ]
  },
  {
   "cell_type": "code",
   "execution_count": 316,
   "metadata": {},
   "outputs": [],
   "source": [
    "!open mars_profile_table.html"
   ]
  },
  {
   "cell_type": "markdown",
   "metadata": {},
   "source": [
    "Mars Hemispheres\n",
    "\n",
    "https://astrogeology.usgs.gov/search/results?q=hemisphere+enhanced&k1=target&v1=Mars\n",
    "\n",
    "\n",
    "Visit the USGS Astrogeology site here to obtain high resolution images for each of Mar's hemispheres.\n",
    "\n",
    "\n",
    "You will need to click each of the links to the hemispheres in order to find the image url to the full resolution image.\n",
    "\n",
    "\n",
    "Save both the image url string for the full resolution hemisphere image, and the Hemisphere title containing the hemisphere name. Use a Python dictionary to store the data using the keys img_url and title.\n",
    "\n",
    "\n",
    "Append the dictionary with the image url string and the hemisphere title to a list. This list will contain one dictionary for each hemisphere.\n",
    "\n"
   ]
  },
  {
   "cell_type": "code",
   "execution_count": 478,
   "metadata": {},
   "outputs": [],
   "source": [
    "\n",
    "executable_path = {'executable_path': '/usr/local/bin/chromedriver'}\n",
    "browser = Browser('chrome', **executable_path, headless=False)"
   ]
  },
  {
   "cell_type": "code",
   "execution_count": 479,
   "metadata": {},
   "outputs": [],
   "source": [
    "url = 'https://astrogeology.usgs.gov/search/results?q=hemisphere+enhanced&k1=target&v1=Mars'\n",
    "\n",
    "browser.visit(url)"
   ]
  },
  {
   "cell_type": "code",
   "execution_count": 552,
   "metadata": {},
   "outputs": [
    {
     "name": "stdout",
     "output_type": "stream",
     "text": [
      "Cerberus Hemisphere Enhanced\n",
      "==============\n",
      "http://astropedia.astrogeology.usgs.gov/download/Mars/Viking/cerberus_enhanced.tif/full.jpg\n"
     ]
    }
   ],
   "source": [
    "from selenium.webdriver.common.by import By\n",
    "import time\n",
    "\n",
    "hemisphere_image_urls = []\n",
    "\n",
    "#launch url\n",
    "url = 'https://astrogeology.usgs.gov/search/results?q=hemisphere+enhanced&k1=target&v1=Mars'\n",
    "\n",
    "\n",
    "# create a new Chrome session\n",
    "driver = webdriver.Chrome()\n",
    "driver.get(url)\n",
    "\n",
    "driver.find_element_by_id('product-section')\n",
    "all_elements = driver.find_elements(By.TAG_NAME, 'h3')\n",
    "\n",
    "\n",
    "\n",
    "heading = all_elements[0]\n",
    "heading.click()\n",
    "\n",
    "soup=BeautifulSoup(driver.page_source, 'lxml')\n",
    "#     print(soup)\n",
    "\n",
    "h = {}\n",
    "\n",
    "results2 = soup.find_all('h2', class_='title')\n",
    "\n",
    "for result2 in results2:\n",
    "    print(result2.text)\n",
    "    h['title'] =result2.text\n",
    "\n",
    "results = soup.find_all('div', class_='wide-image-wrapper')\n",
    "for result in results:\n",
    "    print('==============')\n",
    "    print(result.a['href'])\n",
    "    h['img_url'] = result.a['href']\n",
    "\n",
    "\n",
    "hemisphere_image_urls.append(h)\n",
    "driver.quit()\n"
   ]
  },
  {
   "cell_type": "code",
   "execution_count": 553,
   "metadata": {},
   "outputs": [
    {
     "name": "stdout",
     "output_type": "stream",
     "text": [
      "Schiaparelli Hemisphere Enhanced\n",
      "==============\n",
      "http://astropedia.astrogeology.usgs.gov/download/Mars/Viking/schiaparelli_enhanced.tif/full.jpg\n"
     ]
    }
   ],
   "source": [
    "#launch url\n",
    "url = 'https://astrogeology.usgs.gov/search/results?q=hemisphere+enhanced&k1=target&v1=Mars'\n",
    "\n",
    "\n",
    "# create a new Chrome session\n",
    "driver = webdriver.Chrome()\n",
    "driver.get(url)\n",
    "\n",
    "driver.find_element_by_id('product-section')\n",
    "all_elements = driver.find_elements(By.TAG_NAME, 'h3')\n",
    "\n",
    "\n",
    "\n",
    "heading = all_elements[1]\n",
    "heading.click()\n",
    "\n",
    "soup=BeautifulSoup(driver.page_source, 'lxml')\n",
    "#     print(soup)\n",
    "\n",
    "h = {}\n",
    "\n",
    "results2 = soup.find_all('h2', class_='title')\n",
    "\n",
    "for result2 in results2:\n",
    "    print(result2.text)\n",
    "    h['title'] =result2.text\n",
    "\n",
    "results = soup.find_all('div', class_='wide-image-wrapper')\n",
    "for result in results:\n",
    "    print('==============')\n",
    "    print(result.a['href'])\n",
    "    h['img_url'] = result.a['href']\n",
    "\n",
    "\n",
    "hemisphere_image_urls.append(h)\n",
    "driver.quit()\n"
   ]
  },
  {
   "cell_type": "code",
   "execution_count": 554,
   "metadata": {},
   "outputs": [
    {
     "name": "stdout",
     "output_type": "stream",
     "text": [
      "Syrtis Major Hemisphere Enhanced\n",
      "==============\n",
      "http://astropedia.astrogeology.usgs.gov/download/Mars/Viking/syrtis_major_enhanced.tif/full.jpg\n"
     ]
    }
   ],
   "source": [
    "#launch url\n",
    "url = 'https://astrogeology.usgs.gov/search/results?q=hemisphere+enhanced&k1=target&v1=Mars'\n",
    "\n",
    "\n",
    "# create a new Chrome session\n",
    "driver = webdriver.Chrome()\n",
    "driver.get(url)\n",
    "\n",
    "driver.find_element_by_id('product-section')\n",
    "all_elements = driver.find_elements(By.TAG_NAME, 'h3')\n",
    "\n",
    "\n",
    "\n",
    "heading = all_elements[2]\n",
    "heading.click()\n",
    "\n",
    "soup=BeautifulSoup(driver.page_source, 'lxml')\n",
    "#     print(soup)\n",
    "\n",
    "h = {}\n",
    "\n",
    "results2 = soup.find_all('h2', class_='title')\n",
    "\n",
    "for result2 in results2:\n",
    "    print(result2.text)\n",
    "    h['title'] =result2.text\n",
    "\n",
    "results = soup.find_all('div', class_='wide-image-wrapper')\n",
    "for result in results:\n",
    "    print('==============')\n",
    "    print(result.a['href'])\n",
    "    h['img_url'] = result.a['href']\n",
    "\n",
    "\n",
    "hemisphere_image_urls.append(h)\n",
    "driver.quit()\n"
   ]
  },
  {
   "cell_type": "code",
   "execution_count": 555,
   "metadata": {},
   "outputs": [
    {
     "name": "stdout",
     "output_type": "stream",
     "text": [
      "Valles Marineris Hemisphere Enhanced\n",
      "==============\n",
      "http://astropedia.astrogeology.usgs.gov/download/Mars/Viking/valles_marineris_enhanced.tif/full.jpg\n"
     ]
    }
   ],
   "source": [
    "#launch url\n",
    "url = 'https://astrogeology.usgs.gov/search/results?q=hemisphere+enhanced&k1=target&v1=Mars'\n",
    "\n",
    "\n",
    "# create a new Chrome session\n",
    "driver = webdriver.Chrome()\n",
    "driver.get(url)\n",
    "\n",
    "driver.find_element_by_id('product-section')\n",
    "all_elements = driver.find_elements(By.TAG_NAME, 'h3')\n",
    "\n",
    "\n",
    "\n",
    "heading = all_elements[3]\n",
    "heading.click()\n",
    "\n",
    "soup=BeautifulSoup(driver.page_source, 'lxml')\n",
    "#     print(soup)\n",
    "\n",
    "h = {}\n",
    "\n",
    "results2 = soup.find_all('h2', class_='title')\n",
    "\n",
    "for result2 in results2:\n",
    "    print(result2.text)\n",
    "    h['title'] =result2.text\n",
    "\n",
    "results = soup.find_all('div', class_='wide-image-wrapper')\n",
    "for result in results:\n",
    "    print('==============')\n",
    "    print(result.a['href'])\n",
    "    h['img_url'] = result.a['href']\n",
    "\n",
    "\n",
    "hemisphere_image_urls.append(h)\n",
    "driver.quit()\n"
   ]
  },
  {
   "cell_type": "code",
   "execution_count": 556,
   "metadata": {},
   "outputs": [
    {
     "name": "stdout",
     "output_type": "stream",
     "text": [
      "[{'img_url': 'http://astropedia.astrogeology.usgs.gov/download/Mars/Viking/cerberus_enhanced.tif/full.jpg',\n",
      "  'title': 'Cerberus Hemisphere Enhanced'},\n",
      " {'img_url': 'http://astropedia.astrogeology.usgs.gov/download/Mars/Viking/schiaparelli_enhanced.tif/full.jpg',\n",
      "  'title': 'Schiaparelli Hemisphere Enhanced'},\n",
      " {'img_url': 'http://astropedia.astrogeology.usgs.gov/download/Mars/Viking/syrtis_major_enhanced.tif/full.jpg',\n",
      "  'title': 'Syrtis Major Hemisphere Enhanced'},\n",
      " {'img_url': 'http://astropedia.astrogeology.usgs.gov/download/Mars/Viking/valles_marineris_enhanced.tif/full.jpg',\n",
      "  'title': 'Valles Marineris Hemisphere Enhanced'}]\n"
     ]
    }
   ],
   "source": [
    "\n",
    "pprint(hemisphere_image_urls)"
   ]
  },
  {
   "cell_type": "code",
   "execution_count": 557,
   "metadata": {},
   "outputs": [
    {
     "data": {
      "text/plain": [
       "'Valles Marineris Hemisphere'"
      ]
     },
     "execution_count": 557,
     "metadata": {},
     "output_type": "execute_result"
    }
   ],
   "source": [
    "text = 'Valles Marineris Hemisphere Enhanced'\n",
    "text.rsplit(' ', 1)[0]"
   ]
  },
  {
   "cell_type": "code",
   "execution_count": 558,
   "metadata": {},
   "outputs": [
    {
     "name": "stdout",
     "output_type": "stream",
     "text": [
      "[{'img_url': 'http://astropedia.astrogeology.usgs.gov/download/Mars/Viking/cerberus_enhanced.tif/full.jpg',\n",
      "  'title': 'Cerberus Hemisphere'},\n",
      " {'img_url': 'http://astropedia.astrogeology.usgs.gov/download/Mars/Viking/schiaparelli_enhanced.tif/full.jpg',\n",
      "  'title': 'Schiaparelli Hemisphere'},\n",
      " {'img_url': 'http://astropedia.astrogeology.usgs.gov/download/Mars/Viking/syrtis_major_enhanced.tif/full.jpg',\n",
      "  'title': 'Syrtis Major Hemisphere'},\n",
      " {'img_url': 'http://astropedia.astrogeology.usgs.gov/download/Mars/Viking/valles_marineris_enhanced.tif/full.jpg',\n",
      "  'title': 'Valles Marineris Hemisphere'}]\n"
     ]
    }
   ],
   "source": [
    "# Cutting the last word from titles\n",
    "for i in hemisphere_image_urls:\n",
    "    i['title'] = i['title'].rsplit(' ', 1)[0]\n",
    "pprint(hemisphere_image_urls)    "
   ]
  },
  {
   "cell_type": "code",
   "execution_count": null,
   "metadata": {},
   "outputs": [],
   "source": []
  }
 ],
 "metadata": {
  "kernelspec": {
   "display_name": "Python 3",
   "language": "python",
   "name": "python3"
  },
  "language_info": {
   "codemirror_mode": {
    "name": "ipython",
    "version": 3
   },
   "file_extension": ".py",
   "mimetype": "text/x-python",
   "name": "python",
   "nbconvert_exporter": "python",
   "pygments_lexer": "ipython3",
   "version": "3.7.6"
  }
 },
 "nbformat": 4,
 "nbformat_minor": 4
}
