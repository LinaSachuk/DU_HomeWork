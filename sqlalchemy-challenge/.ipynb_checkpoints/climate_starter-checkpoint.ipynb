{
 "cells": [
  {
   "cell_type": "code",
   "execution_count": 1,
   "metadata": {},
   "outputs": [],
   "source": [
    "%matplotlib inline\n",
    "from matplotlib import style\n",
    "style.use('fivethirtyeight')\n",
    "import matplotlib.pyplot as plt"
   ]
  },
  {
   "cell_type": "code",
   "execution_count": 2,
   "metadata": {},
   "outputs": [],
   "source": [
    "import numpy as np\n",
    "import pandas as pd"
   ]
  },
  {
   "cell_type": "code",
   "execution_count": 3,
   "metadata": {},
   "outputs": [],
   "source": [
    "import datetime as dt"
   ]
  },
  {
   "cell_type": "markdown",
   "metadata": {},
   "source": [
    "# Reflect Tables into SQLAlchemy ORM"
   ]
  },
  {
   "cell_type": "code",
   "execution_count": 4,
   "metadata": {},
   "outputs": [],
   "source": [
    "# Python SQL toolkit and Object Relational Mapper\n",
    "import sqlalchemy\n",
    "from sqlalchemy.ext.automap import automap_base\n",
    "from sqlalchemy.orm import Session\n",
    "from sqlalchemy import create_engine, func\n",
    "# Import modules to declare columns and column data types\n",
    "from sqlalchemy import Column, Integer, String, Float"
   ]
  },
  {
   "cell_type": "code",
   "execution_count": 5,
   "metadata": {},
   "outputs": [],
   "source": [
    "engine = create_engine(\"sqlite:///Resources/hawaii.sqlite\")\n",
    "conn = engine.connect()"
   ]
  },
  {
   "cell_type": "code",
   "execution_count": 6,
   "metadata": {},
   "outputs": [],
   "source": [
    "# reflect an existing database into a new model\n",
    "Base = automap_base()\n",
    "# reflect the tables\n",
    "Base.prepare(engine, reflect=True)"
   ]
  },
  {
   "cell_type": "code",
   "execution_count": 7,
   "metadata": {},
   "outputs": [
    {
     "data": {
      "text/plain": [
       "['measurement', 'station']"
      ]
     },
     "execution_count": 7,
     "metadata": {},
     "output_type": "execute_result"
    }
   ],
   "source": [
    "# We can view all of the classes that automap found\n",
    "Base.classes.keys()"
   ]
  },
  {
   "cell_type": "code",
   "execution_count": 8,
   "metadata": {},
   "outputs": [
    {
     "data": {
      "text/html": [
       "<div>\n",
       "<style scoped>\n",
       "    .dataframe tbody tr th:only-of-type {\n",
       "        vertical-align: middle;\n",
       "    }\n",
       "\n",
       "    .dataframe tbody tr th {\n",
       "        vertical-align: top;\n",
       "    }\n",
       "\n",
       "    .dataframe thead th {\n",
       "        text-align: right;\n",
       "    }\n",
       "</style>\n",
       "<table border=\"1\" class=\"dataframe\">\n",
       "  <thead>\n",
       "    <tr style=\"text-align: right;\">\n",
       "      <th></th>\n",
       "      <th>id</th>\n",
       "      <th>station</th>\n",
       "      <th>date</th>\n",
       "      <th>prcp</th>\n",
       "      <th>tobs</th>\n",
       "    </tr>\n",
       "  </thead>\n",
       "  <tbody>\n",
       "    <tr>\n",
       "      <td>0</td>\n",
       "      <td>1</td>\n",
       "      <td>USC00519397</td>\n",
       "      <td>2010-01-01</td>\n",
       "      <td>0.08</td>\n",
       "      <td>65.0</td>\n",
       "    </tr>\n",
       "    <tr>\n",
       "      <td>1</td>\n",
       "      <td>2</td>\n",
       "      <td>USC00519397</td>\n",
       "      <td>2010-01-02</td>\n",
       "      <td>0.00</td>\n",
       "      <td>63.0</td>\n",
       "    </tr>\n",
       "    <tr>\n",
       "      <td>2</td>\n",
       "      <td>3</td>\n",
       "      <td>USC00519397</td>\n",
       "      <td>2010-01-03</td>\n",
       "      <td>0.00</td>\n",
       "      <td>74.0</td>\n",
       "    </tr>\n",
       "    <tr>\n",
       "      <td>3</td>\n",
       "      <td>4</td>\n",
       "      <td>USC00519397</td>\n",
       "      <td>2010-01-04</td>\n",
       "      <td>0.00</td>\n",
       "      <td>76.0</td>\n",
       "    </tr>\n",
       "    <tr>\n",
       "      <td>4</td>\n",
       "      <td>5</td>\n",
       "      <td>USC00519397</td>\n",
       "      <td>2010-01-06</td>\n",
       "      <td>NaN</td>\n",
       "      <td>73.0</td>\n",
       "    </tr>\n",
       "  </tbody>\n",
       "</table>\n",
       "</div>"
      ],
      "text/plain": [
       "   id      station        date  prcp  tobs\n",
       "0   1  USC00519397  2010-01-01  0.08  65.0\n",
       "1   2  USC00519397  2010-01-02  0.00  63.0\n",
       "2   3  USC00519397  2010-01-03  0.00  74.0\n",
       "3   4  USC00519397  2010-01-04  0.00  76.0\n",
       "4   5  USC00519397  2010-01-06   NaN  73.0"
      ]
     },
     "execution_count": 8,
     "metadata": {},
     "output_type": "execute_result"
    }
   ],
   "source": [
    "data_measurement = engine.execute(\"SELECT * FROM measurement\")\n",
    "    \n",
    "# Query All Records in the the measurement\n",
    "measurement_df = pd.read_sql(\"SELECT * FROM measurement\", conn)\n",
    "measurement_df.head()"
   ]
  },
  {
   "cell_type": "code",
   "execution_count": 9,
   "metadata": {},
   "outputs": [
    {
     "data": {
      "text/plain": [
       "id           int64\n",
       "station     object\n",
       "date        object\n",
       "prcp       float64\n",
       "tobs       float64\n",
       "dtype: object"
      ]
     },
     "execution_count": 9,
     "metadata": {},
     "output_type": "execute_result"
    }
   ],
   "source": [
    "# DataFrame column type check\n",
    "measurement_df.dtypes"
   ]
  },
  {
   "cell_type": "code",
   "execution_count": 10,
   "metadata": {},
   "outputs": [
    {
     "data": {
      "text/html": [
       "<div>\n",
       "<style scoped>\n",
       "    .dataframe tbody tr th:only-of-type {\n",
       "        vertical-align: middle;\n",
       "    }\n",
       "\n",
       "    .dataframe tbody tr th {\n",
       "        vertical-align: top;\n",
       "    }\n",
       "\n",
       "    .dataframe thead th {\n",
       "        text-align: right;\n",
       "    }\n",
       "</style>\n",
       "<table border=\"1\" class=\"dataframe\">\n",
       "  <thead>\n",
       "    <tr style=\"text-align: right;\">\n",
       "      <th></th>\n",
       "      <th>id</th>\n",
       "      <th>station</th>\n",
       "      <th>name</th>\n",
       "      <th>latitude</th>\n",
       "      <th>longitude</th>\n",
       "      <th>elevation</th>\n",
       "    </tr>\n",
       "  </thead>\n",
       "  <tbody>\n",
       "    <tr>\n",
       "      <td>0</td>\n",
       "      <td>1</td>\n",
       "      <td>USC00519397</td>\n",
       "      <td>WAIKIKI 717.2, HI US</td>\n",
       "      <td>21.2716</td>\n",
       "      <td>-157.8168</td>\n",
       "      <td>3.0</td>\n",
       "    </tr>\n",
       "    <tr>\n",
       "      <td>1</td>\n",
       "      <td>2</td>\n",
       "      <td>USC00513117</td>\n",
       "      <td>KANEOHE 838.1, HI US</td>\n",
       "      <td>21.4234</td>\n",
       "      <td>-157.8015</td>\n",
       "      <td>14.6</td>\n",
       "    </tr>\n",
       "    <tr>\n",
       "      <td>2</td>\n",
       "      <td>3</td>\n",
       "      <td>USC00514830</td>\n",
       "      <td>KUALOA RANCH HEADQUARTERS 886.9, HI US</td>\n",
       "      <td>21.5213</td>\n",
       "      <td>-157.8374</td>\n",
       "      <td>7.0</td>\n",
       "    </tr>\n",
       "    <tr>\n",
       "      <td>3</td>\n",
       "      <td>4</td>\n",
       "      <td>USC00517948</td>\n",
       "      <td>PEARL CITY, HI US</td>\n",
       "      <td>21.3934</td>\n",
       "      <td>-157.9751</td>\n",
       "      <td>11.9</td>\n",
       "    </tr>\n",
       "    <tr>\n",
       "      <td>4</td>\n",
       "      <td>5</td>\n",
       "      <td>USC00518838</td>\n",
       "      <td>UPPER WAHIAWA 874.3, HI US</td>\n",
       "      <td>21.4992</td>\n",
       "      <td>-158.0111</td>\n",
       "      <td>306.6</td>\n",
       "    </tr>\n",
       "  </tbody>\n",
       "</table>\n",
       "</div>"
      ],
      "text/plain": [
       "   id      station                                    name  latitude  \\\n",
       "0   1  USC00519397                    WAIKIKI 717.2, HI US   21.2716   \n",
       "1   2  USC00513117                    KANEOHE 838.1, HI US   21.4234   \n",
       "2   3  USC00514830  KUALOA RANCH HEADQUARTERS 886.9, HI US   21.5213   \n",
       "3   4  USC00517948                       PEARL CITY, HI US   21.3934   \n",
       "4   5  USC00518838              UPPER WAHIAWA 874.3, HI US   21.4992   \n",
       "\n",
       "   longitude  elevation  \n",
       "0  -157.8168        3.0  \n",
       "1  -157.8015       14.6  \n",
       "2  -157.8374        7.0  \n",
       "3  -157.9751       11.9  \n",
       "4  -158.0111      306.6  "
      ]
     },
     "execution_count": 10,
     "metadata": {},
     "output_type": "execute_result"
    }
   ],
   "source": [
    "# Query All Records in the the station\n",
    "station_df = pd.read_sql(\"SELECT * FROM station\", conn)\n",
    "station_df.head()"
   ]
  },
  {
   "cell_type": "code",
   "execution_count": 11,
   "metadata": {},
   "outputs": [
    {
     "data": {
      "text/plain": [
       "id             int64\n",
       "station       object\n",
       "name          object\n",
       "latitude     float64\n",
       "longitude    float64\n",
       "elevation    float64\n",
       "dtype: object"
      ]
     },
     "execution_count": 11,
     "metadata": {},
     "output_type": "execute_result"
    }
   ],
   "source": [
    "# DataFrame column type check\n",
    "station_df.dtypes"
   ]
  },
  {
   "cell_type": "code",
   "execution_count": 12,
   "metadata": {},
   "outputs": [
    {
     "data": {
      "text/html": [
       "<div>\n",
       "<style scoped>\n",
       "    .dataframe tbody tr th:only-of-type {\n",
       "        vertical-align: middle;\n",
       "    }\n",
       "\n",
       "    .dataframe tbody tr th {\n",
       "        vertical-align: top;\n",
       "    }\n",
       "\n",
       "    .dataframe thead th {\n",
       "        text-align: right;\n",
       "    }\n",
       "</style>\n",
       "<table border=\"1\" class=\"dataframe\">\n",
       "  <thead>\n",
       "    <tr style=\"text-align: right;\">\n",
       "      <th></th>\n",
       "      <th>station</th>\n",
       "      <th>date</th>\n",
       "      <th>prcp</th>\n",
       "      <th>tobs</th>\n",
       "      <th>name</th>\n",
       "      <th>latitude</th>\n",
       "      <th>longitude</th>\n",
       "      <th>elevation</th>\n",
       "    </tr>\n",
       "  </thead>\n",
       "  <tbody>\n",
       "    <tr>\n",
       "      <td>0</td>\n",
       "      <td>USC00519397</td>\n",
       "      <td>2010-01-01</td>\n",
       "      <td>0.08</td>\n",
       "      <td>65.0</td>\n",
       "      <td>WAIKIKI 717.2, HI US</td>\n",
       "      <td>21.2716</td>\n",
       "      <td>-157.8168</td>\n",
       "      <td>3.0</td>\n",
       "    </tr>\n",
       "    <tr>\n",
       "      <td>1</td>\n",
       "      <td>USC00519397</td>\n",
       "      <td>2010-01-02</td>\n",
       "      <td>0.00</td>\n",
       "      <td>63.0</td>\n",
       "      <td>WAIKIKI 717.2, HI US</td>\n",
       "      <td>21.2716</td>\n",
       "      <td>-157.8168</td>\n",
       "      <td>3.0</td>\n",
       "    </tr>\n",
       "    <tr>\n",
       "      <td>2</td>\n",
       "      <td>USC00519397</td>\n",
       "      <td>2010-01-03</td>\n",
       "      <td>0.00</td>\n",
       "      <td>74.0</td>\n",
       "      <td>WAIKIKI 717.2, HI US</td>\n",
       "      <td>21.2716</td>\n",
       "      <td>-157.8168</td>\n",
       "      <td>3.0</td>\n",
       "    </tr>\n",
       "    <tr>\n",
       "      <td>3</td>\n",
       "      <td>USC00519397</td>\n",
       "      <td>2010-01-04</td>\n",
       "      <td>0.00</td>\n",
       "      <td>76.0</td>\n",
       "      <td>WAIKIKI 717.2, HI US</td>\n",
       "      <td>21.2716</td>\n",
       "      <td>-157.8168</td>\n",
       "      <td>3.0</td>\n",
       "    </tr>\n",
       "    <tr>\n",
       "      <td>4</td>\n",
       "      <td>USC00519397</td>\n",
       "      <td>2010-01-06</td>\n",
       "      <td>NaN</td>\n",
       "      <td>73.0</td>\n",
       "      <td>WAIKIKI 717.2, HI US</td>\n",
       "      <td>21.2716</td>\n",
       "      <td>-157.8168</td>\n",
       "      <td>3.0</td>\n",
       "    </tr>\n",
       "  </tbody>\n",
       "</table>\n",
       "</div>"
      ],
      "text/plain": [
       "       station        date  prcp  tobs                  name  latitude  \\\n",
       "0  USC00519397  2010-01-01  0.08  65.0  WAIKIKI 717.2, HI US   21.2716   \n",
       "1  USC00519397  2010-01-02  0.00  63.0  WAIKIKI 717.2, HI US   21.2716   \n",
       "2  USC00519397  2010-01-03  0.00  74.0  WAIKIKI 717.2, HI US   21.2716   \n",
       "3  USC00519397  2010-01-04  0.00  76.0  WAIKIKI 717.2, HI US   21.2716   \n",
       "4  USC00519397  2010-01-06   NaN  73.0  WAIKIKI 717.2, HI US   21.2716   \n",
       "\n",
       "   longitude  elevation  \n",
       "0  -157.8168        3.0  \n",
       "1  -157.8168        3.0  \n",
       "2  -157.8168        3.0  \n",
       "3  -157.8168        3.0  \n",
       "4  -157.8168        3.0  "
      ]
     },
     "execution_count": 12,
     "metadata": {},
     "output_type": "execute_result"
    }
   ],
   "source": [
    "# Merge the dataFrames\n",
    "combined_data = pd.merge(measurement_df, station_df, on=\"station\", how=\"inner\")\n",
    "del combined_data['id_x']\n",
    "del combined_data['id_y']\n",
    "combined_data.head()"
   ]
  },
  {
   "cell_type": "code",
   "execution_count": 13,
   "metadata": {},
   "outputs": [],
   "source": [
    "# Save references to each table\n",
    "Measurement = Base.classes.measurement\n",
    "Station = Base.classes.station"
   ]
  },
  {
   "cell_type": "code",
   "execution_count": 14,
   "metadata": {},
   "outputs": [],
   "source": [
    "# Create our session (link) from Python to the DB\n",
    "session = Session(engine)"
   ]
  },
  {
   "cell_type": "markdown",
   "metadata": {},
   "source": [
    "# Exploratory Climate Analysis"
   ]
  },
  {
   "cell_type": "code",
   "execution_count": 15,
   "metadata": {},
   "outputs": [
    {
     "data": {
      "text/plain": [
       "'2017-08-23'"
      ]
     },
     "execution_count": 15,
     "metadata": {},
     "output_type": "execute_result"
    }
   ],
   "source": [
    "# Design a query to retrieve the last 12 months of precipitation data and plot the results\n",
    "# Calculate the date 1 year ago from the last data point in the database\n",
    "last_date = session.query(Measurement.date).order_by(Measurement.date.desc()).first().date\n",
    "\n",
    "last_date"
   ]
  },
  {
   "cell_type": "code",
   "execution_count": 166,
   "metadata": {},
   "outputs": [
    {
     "data": {
      "text/plain": [
       "'2010-01-01'"
      ]
     },
     "execution_count": 166,
     "metadata": {},
     "output_type": "execute_result"
    }
   ],
   "source": [
    "# First Date\n",
    "first_date = session.query(Measurement.date).order_by(Measurement.date).first().date\n",
    "first_date"
   ]
  },
  {
   "cell_type": "code",
   "execution_count": 18,
   "metadata": {},
   "outputs": [
    {
     "data": {
      "text/plain": [
       "<function datetime.date>"
      ]
     },
     "execution_count": 18,
     "metadata": {},
     "output_type": "execute_result"
    }
   ],
   "source": [
    "from datetime import datetime, timedelta\n",
    "\n",
    "date_365_days_ago = dt.datetime.strptime(last_date, '%Y-%m-%d') - dt.timedelta(days=365)\n",
    "date_365_days_ago.date\n",
    "\n"
   ]
  },
  {
   "cell_type": "code",
   "execution_count": 19,
   "metadata": {},
   "outputs": [
    {
     "data": {
      "text/plain": [
       "[('2016-08-24', 1.5549999999999997),\n",
       " ('2016-08-25', 0.07714285714285715),\n",
       " ('2016-08-26', 0.016666666666666666),\n",
       " ('2016-08-27', 0.06399999999999999),\n",
       " ('2016-08-28', 0.5166666666666666),\n",
       " ('2016-08-29', 0.24333333333333332),\n",
       " ('2016-08-30', 0.011666666666666667),\n",
       " ('2016-08-31', 0.6359999999999999),\n",
       " ('2016-09-01', 0.006),\n",
       " ('2016-09-02', 0.05),\n",
       " ('2016-09-03', 0.254),\n",
       " ('2016-09-04', 0.276),\n",
       " ('2016-09-05', 0.08499999999999999),\n",
       " ('2016-09-06', 0.246),\n",
       " ('2016-09-07', 0.3333333333333333),\n",
       " ('2016-09-08', 0.07666666666666667),\n",
       " ('2016-09-09', 0.17833333333333332),\n",
       " ('2016-09-10', 0.27999999999999997),\n",
       " ('2016-09-11', 0.25),\n",
       " ('2016-09-12', 0.308),\n",
       " ('2016-09-13', 0.45166666666666666),\n",
       " ('2016-09-14', 2.3800000000000003),\n",
       " ('2016-09-15', 0.8266666666666667),\n",
       " ('2016-09-16', 0.11714285714285715),\n",
       " ('2016-09-17', 0.13599999999999998),\n",
       " ('2016-09-18', 0.10600000000000001),\n",
       " ('2016-09-19', 0.064),\n",
       " ('2016-09-20', 0.14714285714285716),\n",
       " ('2016-09-21', 0.19499999999999998),\n",
       " ('2016-09-22', 0.2057142857142857),\n",
       " ('2016-09-23', 0.22428571428571428),\n",
       " ('2016-09-24', 0.04666666666666667),\n",
       " ('2016-09-25', 0.015),\n",
       " ('2016-09-26', 0.2783333333333333),\n",
       " ('2016-09-27', 0.22666666666666666),\n",
       " ('2016-09-28', 0.018571428571428572),\n",
       " ('2016-09-29', 0.42714285714285716),\n",
       " ('2016-09-30', 0.19166666666666665),\n",
       " ('2016-10-01', 0.2416666666666667),\n",
       " ('2016-10-02', 0.12),\n",
       " ('2016-10-03', 0.115),\n",
       " ('2016-10-04', 0.5816666666666667),\n",
       " ('2016-10-05', 0.1366666666666667),\n",
       " ('2016-10-06', 0.022857142857142857),\n",
       " ('2016-10-07', 0.0016666666666666668),\n",
       " ('2016-10-08', 0.008),\n",
       " ('2016-10-09', 0.0),\n",
       " ('2016-10-10', 0.0),\n",
       " ('2016-10-11', 0.11499999999999999),\n",
       " ('2016-10-12', 0.013333333333333334),\n",
       " ('2016-10-13', 0.013333333333333334),\n",
       " ('2016-10-14', 0.0),\n",
       " ('2016-10-15', 0.065),\n",
       " ('2016-10-16', 0.0),\n",
       " ('2016-10-17', 0.11000000000000001),\n",
       " ('2016-10-18', 0.09999999999999999),\n",
       " ('2016-10-19', 0.028333333333333332),\n",
       " ('2016-10-20', 0.202),\n",
       " ('2016-10-21', 0.064),\n",
       " ('2016-10-22', 0.354),\n",
       " ('2016-10-23', 0.055999999999999994),\n",
       " ('2016-10-24', 0.13166666666666665),\n",
       " ('2016-10-25', 0.15714285714285717),\n",
       " ('2016-10-26', 0.04833333333333334),\n",
       " ('2016-10-27', 0.31),\n",
       " ('2016-10-28', 0.09500000000000001),\n",
       " ('2016-10-29', 0.10666666666666667),\n",
       " ('2016-10-30', 0.26499999999999996),\n",
       " ('2016-10-31', 0.26833333333333337),\n",
       " ('2016-11-01', 0.035),\n",
       " ('2016-11-02', 0.006666666666666667),\n",
       " ('2016-11-03', 0.0033333333333333335),\n",
       " ('2016-11-04', 0.01),\n",
       " ('2016-11-05', 0.075),\n",
       " ('2016-11-06', 0.013333333333333334),\n",
       " ('2016-11-07', 0.03),\n",
       " ('2016-11-08', 0.18666666666666668),\n",
       " ('2016-11-09', 0.05714285714285714),\n",
       " ('2016-11-10', 0.0016666666666666668),\n",
       " ('2016-11-11', 0.0),\n",
       " ('2016-11-12', 0.0),\n",
       " ('2016-11-13', 0.0),\n",
       " ('2016-11-14', 0.02142857142857143),\n",
       " ('2016-11-15', 0.008333333333333333),\n",
       " ('2016-11-16', 0.25666666666666665),\n",
       " ('2016-11-17', 0.01),\n",
       " ('2016-11-18', 0.0075),\n",
       " ('2016-11-19', 0.095),\n",
       " ('2016-11-20', 0.23750000000000002),\n",
       " ('2016-11-21', 0.616),\n",
       " ('2016-11-22', 1.002),\n",
       " ('2016-11-23', 0.134),\n",
       " ('2016-11-24', 0.296),\n",
       " ('2016-11-25', 0.264),\n",
       " ('2016-11-26', 0.085),\n",
       " ('2016-11-27', 0.09166666666666667),\n",
       " ('2016-11-28', 0.12),\n",
       " ('2016-11-29', 0.07166666666666667),\n",
       " ('2016-11-30', 0.17666666666666667),\n",
       " ('2016-12-01', 0.295),\n",
       " ('2016-12-02', 0.3933333333333333),\n",
       " ('2016-12-03', 0.45166666666666666),\n",
       " ('2016-12-04', 0.13333333333333333),\n",
       " ('2016-12-05', 0.54),\n",
       " ('2016-12-06', 0.008),\n",
       " ('2016-12-07', 0.076),\n",
       " ('2016-12-08', 0.06571428571428573),\n",
       " ('2016-12-09', 0.37),\n",
       " ('2016-12-10', 0.026000000000000002),\n",
       " ('2016-12-11', 0.05),\n",
       " ('2016-12-12', 0.008333333333333333),\n",
       " ('2016-12-13', 0.12833333333333333),\n",
       " ('2016-12-14', 0.25),\n",
       " ('2016-12-15', 0.043333333333333335),\n",
       " ('2016-12-16', 0.006666666666666667),\n",
       " ('2016-12-17', 0.07),\n",
       " ('2016-12-18', 0.178),\n",
       " ('2016-12-19', 0.07),\n",
       " ('2016-12-20', 0.005),\n",
       " ('2016-12-21', 0.1285714285714286),\n",
       " ('2016-12-22', 0.4116666666666666),\n",
       " ('2016-12-23', 0.205),\n",
       " ('2016-12-24', 0.27),\n",
       " ('2016-12-25', 0.086),\n",
       " ('2016-12-26', 0.40800000000000003),\n",
       " ('2016-12-27', 0.04),\n",
       " ('2016-12-28', 0.06833333333333334),\n",
       " ('2016-12-29', 0.39666666666666667),\n",
       " ('2016-12-30', 0.5583333333333333),\n",
       " ('2016-12-31', 0.42800000000000005),\n",
       " ('2017-01-01', 0.06999999999999999),\n",
       " ('2017-01-02', 0.004),\n",
       " ('2017-01-03', 0.0),\n",
       " ('2017-01-04', 0.03),\n",
       " ('2017-01-05', 0.15833333333333333),\n",
       " ('2017-01-06', 0.13333333333333333),\n",
       " ('2017-01-07', 0.01),\n",
       " ('2017-01-08', 0.01),\n",
       " ('2017-01-09', 0.0),\n",
       " ('2017-01-10', 0.0),\n",
       " ('2017-01-11', 0.0),\n",
       " ('2017-01-12', 0.0),\n",
       " ('2017-01-13', 0.0),\n",
       " ('2017-01-14', 0.002),\n",
       " ('2017-01-15', 0.0025),\n",
       " ('2017-01-16', 0.0),\n",
       " ('2017-01-17', 0.0),\n",
       " ('2017-01-18', 0.011666666666666667),\n",
       " ('2017-01-19', 0.0033333333333333335),\n",
       " ('2017-01-20', 0.0),\n",
       " ('2017-01-21', 0.04666666666666666),\n",
       " ('2017-01-22', 0.20400000000000001),\n",
       " ('2017-01-23', 0.188),\n",
       " ('2017-01-24', 0.45),\n",
       " ('2017-01-25', 0.716),\n",
       " ('2017-01-26', 0.015714285714285715),\n",
       " ('2017-01-27', 0.008571428571428572),\n",
       " ('2017-01-28', 0.028000000000000004),\n",
       " ('2017-01-29', 0.2475),\n",
       " ('2017-01-30', 0.008333333333333333),\n",
       " ('2017-01-31', 0.0),\n",
       " ('2017-02-01', 0.0),\n",
       " ('2017-02-02', 0.0),\n",
       " ('2017-02-03', 0.0),\n",
       " ('2017-02-04', 0.0),\n",
       " ('2017-02-05', 0.0),\n",
       " ('2017-02-06', 0.06333333333333334),\n",
       " ('2017-02-07', 1.0571428571428572),\n",
       " ('2017-02-08', 0.1542857142857143),\n",
       " ('2017-02-09', 0.002857142857142857),\n",
       " ('2017-02-10', 0.0),\n",
       " ('2017-02-11', 1.866666666666667),\n",
       " ('2017-02-12', 1.7466666666666668),\n",
       " ('2017-02-13', 0.4866666666666666),\n",
       " ('2017-02-14', 0.0016666666666666668),\n",
       " ('2017-02-15', 0.016),\n",
       " ('2017-02-16', 0.36999999999999994),\n",
       " ('2017-02-17', 0.17500000000000004),\n",
       " ('2017-02-18', 0.0025),\n",
       " ('2017-02-19', 0.0475),\n",
       " ('2017-02-20', 0.0),\n",
       " ('2017-02-21', 0.026000000000000002),\n",
       " ('2017-02-22', 0.13000000000000003),\n",
       " ('2017-02-23', 0.0014285714285714286),\n",
       " ('2017-02-24', 0.0),\n",
       " ('2017-02-25', 0.0375),\n",
       " ('2017-02-26', 0.0),\n",
       " ('2017-02-27', 0.0),\n",
       " ('2017-02-28', 0.13666666666666666),\n",
       " ('2017-03-01', 1.6600000000000001),\n",
       " ('2017-03-02', 1.0933333333333333),\n",
       " ('2017-03-03', 0.37166666666666665),\n",
       " ('2017-03-04', 0.0),\n",
       " ('2017-03-05', 0.3025),\n",
       " ('2017-03-06', 0.135),\n",
       " ('2017-03-07', 0.0),\n",
       " ('2017-03-08', 0.0),\n",
       " ('2017-03-09', 0.3266666666666667),\n",
       " ('2017-03-10', 0.04142857142857143),\n",
       " ('2017-03-11', 0.008),\n",
       " ('2017-03-12', 0.0),\n",
       " ('2017-03-13', 0.0),\n",
       " ('2017-03-14', 0.008571428571428572),\n",
       " ('2017-03-15', 0.01),\n",
       " ('2017-03-16', 0.0),\n",
       " ('2017-03-17', 0.144),\n",
       " ('2017-03-18', 0.0),\n",
       " ('2017-03-19', 0.0),\n",
       " ('2017-03-20', 0.004),\n",
       " ('2017-03-21', 0.015),\n",
       " ('2017-03-22', 0.0),\n",
       " ('2017-03-23', 0.008333333333333333),\n",
       " ('2017-03-24', 0.18833333333333335),\n",
       " ('2017-03-25', 0.394),\n",
       " ('2017-03-26', 0.0),\n",
       " ('2017-03-27', 0.002),\n",
       " ('2017-03-28', 0.11833333333333335),\n",
       " ('2017-03-29', 0.03166666666666667),\n",
       " ('2017-03-30', 0.03),\n",
       " ('2017-03-31', 0.0016666666666666668),\n",
       " ('2017-04-01', 0.06833333333333334),\n",
       " ('2017-04-02', 0.0),\n",
       " ('2017-04-03', 0.11),\n",
       " ('2017-04-04', 0.02142857142857143),\n",
       " ('2017-04-05', 0.09428571428571429),\n",
       " ('2017-04-06', 0.008571428571428572),\n",
       " ('2017-04-07', 0.0),\n",
       " ('2017-04-08', 0.0),\n",
       " ('2017-04-09', 0.0),\n",
       " ('2017-04-10', 0.0033333333333333335),\n",
       " ('2017-04-11', 0.07833333333333332),\n",
       " ('2017-04-12', 0.18000000000000002),\n",
       " ('2017-04-13', 0.18166666666666667),\n",
       " ('2017-04-14', 1.1199999999999999),\n",
       " ('2017-04-15', 0.34800000000000003),\n",
       " ('2017-04-16', 0.21400000000000002),\n",
       " ('2017-04-17', 0.6140000000000001),\n",
       " ('2017-04-18', 0.48),\n",
       " ('2017-04-19', 0.03333333333333333),\n",
       " ('2017-04-20', 0.13),\n",
       " ('2017-04-21', 1.3966666666666667),\n",
       " ('2017-04-22', 0.9920000000000002),\n",
       " ('2017-04-23', 0.11499999999999999),\n",
       " ('2017-04-24', 0.015000000000000001),\n",
       " ('2017-04-25', 0.0),\n",
       " ('2017-04-26', 0.065),\n",
       " ('2017-04-27', 0.06999999999999999),\n",
       " ('2017-04-28', 0.7066666666666667),\n",
       " ('2017-04-29', 1.3399999999999999),\n",
       " ('2017-04-30', 1.07),\n",
       " ('2017-05-01', 0.135),\n",
       " ('2017-05-02', 0.008333333333333333),\n",
       " ('2017-05-03', 0.006),\n",
       " ('2017-05-04', 0.016),\n",
       " ('2017-05-05', 0.06333333333333334),\n",
       " ('2017-05-06', 0.01),\n",
       " ('2017-05-07', 0.024),\n",
       " ('2017-05-08', 0.5016666666666666),\n",
       " ('2017-05-09', 0.9260000000000002),\n",
       " ('2017-05-10', 0.14333333333333334),\n",
       " ('2017-05-11', 0.12),\n",
       " ('2017-05-12', 0.032),\n",
       " ('2017-05-13', 0.048),\n",
       " ('2017-05-14', 0.244),\n",
       " ('2017-05-15', 0.176),\n",
       " ('2017-05-16', 0.06999999999999999),\n",
       " ('2017-05-17', 0.025000000000000005),\n",
       " ('2017-05-18', 0.14166666666666666),\n",
       " ('2017-05-19', 0.01),\n",
       " ('2017-05-20', 0.0075),\n",
       " ('2017-05-21', 0.002),\n",
       " ('2017-05-22', 0.072),\n",
       " ('2017-05-23', 0.11833333333333333),\n",
       " ('2017-05-24', 0.6483333333333333),\n",
       " ('2017-05-25', 0.37000000000000005),\n",
       " ('2017-05-26', 0.004),\n",
       " ('2017-05-27', 0.085),\n",
       " ('2017-05-28', 0.06833333333333334),\n",
       " ('2017-05-29', 0.084),\n",
       " ('2017-05-30', 0.346),\n",
       " ('2017-05-31', 0.074),\n",
       " ('2017-06-01', 0.006666666666666667),\n",
       " ('2017-06-02', 0.06799999999999999),\n",
       " ('2017-06-03', 0.122),\n",
       " ('2017-06-04', 0.19166666666666665),\n",
       " ('2017-06-05', 0.013333333333333334),\n",
       " ('2017-06-06', 0.0),\n",
       " ('2017-06-07', 0.0016666666666666668),\n",
       " ('2017-06-08', 0.005),\n",
       " ('2017-06-09', 0.008),\n",
       " ('2017-06-10', 0.306),\n",
       " ('2017-06-11', 0.35833333333333334),\n",
       " ('2017-06-12', 0.2916666666666667),\n",
       " ('2017-06-13', 0.22999999999999998),\n",
       " ('2017-06-14', 0.26166666666666666),\n",
       " ('2017-06-15', 0.45166666666666666),\n",
       " ('2017-06-16', 0.03333333333333333),\n",
       " ('2017-06-17', 0.09000000000000001),\n",
       " ('2017-06-18', 0.23666666666666666),\n",
       " ('2017-06-19', 0.12166666666666666),\n",
       " ('2017-06-20', 0.11000000000000001),\n",
       " ('2017-06-21', 0.1275),\n",
       " ('2017-06-22', 0.07333333333333335),\n",
       " ('2017-06-23', 0.11166666666666665),\n",
       " ('2017-06-24', 0.128),\n",
       " ('2017-06-25', 0.12),\n",
       " ('2017-06-26', 0.02),\n",
       " ('2017-06-27', 0.018333333333333333),\n",
       " ('2017-06-28', 0.005),\n",
       " ('2017-06-29', 0.011666666666666667),\n",
       " ('2017-06-30', 0.07428571428571429),\n",
       " ('2017-07-01', 0.065),\n",
       " ('2017-07-02', 0.18),\n",
       " ('2017-07-03', 0.148),\n",
       " ('2017-07-04', 0.037500000000000006),\n",
       " ('2017-07-05', 0.0),\n",
       " ('2017-07-06', 0.004),\n",
       " ('2017-07-07', 0.1),\n",
       " ('2017-07-08', 0.016666666666666666),\n",
       " ('2017-07-09', 0.03333333333333333),\n",
       " ('2017-07-10', 0.006666666666666667),\n",
       " ('2017-07-11', 0.005),\n",
       " ('2017-07-12', 0.060000000000000005),\n",
       " ('2017-07-13', 0.3016666666666667),\n",
       " ('2017-07-14', 0.15833333333333335),\n",
       " ('2017-07-15', 0.03166666666666667),\n",
       " ('2017-07-16', 0.135),\n",
       " ('2017-07-17', 0.15166666666666667),\n",
       " ('2017-07-18', 0.3614285714285714),\n",
       " ('2017-07-19', 0.06833333333333334),\n",
       " ('2017-07-20', 0.17714285714285713),\n",
       " ('2017-07-21', 0.018571428571428572),\n",
       " ('2017-07-22', 0.7366666666666667),\n",
       " ('2017-07-23', 0.22600000000000003),\n",
       " ('2017-07-24', 0.6539999999999999),\n",
       " ('2017-07-25', 0.08714285714285715),\n",
       " ('2017-07-26', 0.08333333333333333),\n",
       " ('2017-07-27', 0.0016666666666666668),\n",
       " ('2017-07-28', 0.11),\n",
       " ('2017-07-29', 0.10166666666666667),\n",
       " ('2017-07-30', 0.06),\n",
       " ('2017-07-31', 0.0),\n",
       " ('2017-08-01', 0.04666666666666666),\n",
       " ('2017-08-02', 0.075),\n",
       " ('2017-08-03', 0.017499999999999998),\n",
       " ('2017-08-04', 0.015),\n",
       " ('2017-08-05', 0.03),\n",
       " ('2017-08-06', 0.0),\n",
       " ('2017-08-07', 0.0125),\n",
       " ('2017-08-08', 0.11000000000000001),\n",
       " ('2017-08-09', 0.049999999999999996),\n",
       " ('2017-08-10', 0.0175),\n",
       " ('2017-08-11', 0.0),\n",
       " ('2017-08-12', 0.04666666666666667),\n",
       " ('2017-08-13', 0.0),\n",
       " ('2017-08-14', 0.062),\n",
       " ('2017-08-15', 0.164),\n",
       " ('2017-08-16', 0.1525),\n",
       " ('2017-08-17', 0.0475),\n",
       " ('2017-08-18', 0.02),\n",
       " ('2017-08-19', 0.03),\n",
       " ('2017-08-20', 0.005),\n",
       " ('2017-08-21', 0.19333333333333336),\n",
       " ('2017-08-22', 0.16666666666666666),\n",
       " ('2017-08-23', 0.1325)]"
      ]
     },
     "execution_count": 19,
     "metadata": {},
     "output_type": "execute_result"
    }
   ],
   "source": [
    "# Selecting last 1 year using session.query \n",
    "# Perform a query to retrieve the data and precipitation scores\n",
    "q12 = session.query(Measurement.date, func.avg(Measurement.prcp)).\\\n",
    "                    filter(Measurement.date >= date_365_days_ago).\\\n",
    "                    group_by(Measurement.date).all()\n",
    "q12"
   ]
  },
  {
   "cell_type": "code",
   "execution_count": 20,
   "metadata": {},
   "outputs": [
    {
     "data": {
      "text/html": [
       "<div>\n",
       "<style scoped>\n",
       "    .dataframe tbody tr th:only-of-type {\n",
       "        vertical-align: middle;\n",
       "    }\n",
       "\n",
       "    .dataframe tbody tr th {\n",
       "        vertical-align: top;\n",
       "    }\n",
       "\n",
       "    .dataframe thead th {\n",
       "        text-align: right;\n",
       "    }\n",
       "</style>\n",
       "<table border=\"1\" class=\"dataframe\">\n",
       "  <thead>\n",
       "    <tr style=\"text-align: right;\">\n",
       "      <th></th>\n",
       "      <th>date</th>\n",
       "      <th>precipitation</th>\n",
       "    </tr>\n",
       "  </thead>\n",
       "  <tbody>\n",
       "    <tr>\n",
       "      <td>0</td>\n",
       "      <td>2016-08-24</td>\n",
       "      <td>1.555000</td>\n",
       "    </tr>\n",
       "    <tr>\n",
       "      <td>1</td>\n",
       "      <td>2016-08-25</td>\n",
       "      <td>0.077143</td>\n",
       "    </tr>\n",
       "    <tr>\n",
       "      <td>2</td>\n",
       "      <td>2016-08-26</td>\n",
       "      <td>0.016667</td>\n",
       "    </tr>\n",
       "    <tr>\n",
       "      <td>3</td>\n",
       "      <td>2016-08-27</td>\n",
       "      <td>0.064000</td>\n",
       "    </tr>\n",
       "    <tr>\n",
       "      <td>4</td>\n",
       "      <td>2016-08-28</td>\n",
       "      <td>0.516667</td>\n",
       "    </tr>\n",
       "    <tr>\n",
       "      <td>5</td>\n",
       "      <td>2016-08-29</td>\n",
       "      <td>0.243333</td>\n",
       "    </tr>\n",
       "    <tr>\n",
       "      <td>6</td>\n",
       "      <td>2016-08-30</td>\n",
       "      <td>0.011667</td>\n",
       "    </tr>\n",
       "    <tr>\n",
       "      <td>7</td>\n",
       "      <td>2016-08-31</td>\n",
       "      <td>0.636000</td>\n",
       "    </tr>\n",
       "    <tr>\n",
       "      <td>8</td>\n",
       "      <td>2016-09-01</td>\n",
       "      <td>0.006000</td>\n",
       "    </tr>\n",
       "    <tr>\n",
       "      <td>9</td>\n",
       "      <td>2016-09-02</td>\n",
       "      <td>0.050000</td>\n",
       "    </tr>\n",
       "  </tbody>\n",
       "</table>\n",
       "</div>"
      ],
      "text/plain": [
       "         date  precipitation\n",
       "0  2016-08-24       1.555000\n",
       "1  2016-08-25       0.077143\n",
       "2  2016-08-26       0.016667\n",
       "3  2016-08-27       0.064000\n",
       "4  2016-08-28       0.516667\n",
       "5  2016-08-29       0.243333\n",
       "6  2016-08-30       0.011667\n",
       "7  2016-08-31       0.636000\n",
       "8  2016-09-01       0.006000\n",
       "9  2016-09-02       0.050000"
      ]
     },
     "execution_count": 20,
     "metadata": {},
     "output_type": "execute_result"
    }
   ],
   "source": [
    "# Save the query results as a Pandas DataFrame and set the index to the date column\n",
    "df_q12 = pd.DataFrame(q12, columns=['date', 'precipitation'])\n",
    "df_q12.head(10)"
   ]
  },
  {
   "cell_type": "code",
   "execution_count": 21,
   "metadata": {},
   "outputs": [
    {
     "data": {
      "text/html": [
       "<div>\n",
       "<style scoped>\n",
       "    .dataframe tbody tr th:only-of-type {\n",
       "        vertical-align: middle;\n",
       "    }\n",
       "\n",
       "    .dataframe tbody tr th {\n",
       "        vertical-align: top;\n",
       "    }\n",
       "\n",
       "    .dataframe thead th {\n",
       "        text-align: right;\n",
       "    }\n",
       "</style>\n",
       "<table border=\"1\" class=\"dataframe\">\n",
       "  <thead>\n",
       "    <tr style=\"text-align: right;\">\n",
       "      <th></th>\n",
       "      <th>precipitation</th>\n",
       "    </tr>\n",
       "    <tr>\n",
       "      <th>date</th>\n",
       "      <th></th>\n",
       "    </tr>\n",
       "  </thead>\n",
       "  <tbody>\n",
       "    <tr>\n",
       "      <td>2016-08-24</td>\n",
       "      <td>1.555000</td>\n",
       "    </tr>\n",
       "    <tr>\n",
       "      <td>2016-08-25</td>\n",
       "      <td>0.077143</td>\n",
       "    </tr>\n",
       "    <tr>\n",
       "      <td>2016-08-26</td>\n",
       "      <td>0.016667</td>\n",
       "    </tr>\n",
       "    <tr>\n",
       "      <td>2016-08-27</td>\n",
       "      <td>0.064000</td>\n",
       "    </tr>\n",
       "    <tr>\n",
       "      <td>2016-08-28</td>\n",
       "      <td>0.516667</td>\n",
       "    </tr>\n",
       "    <tr>\n",
       "      <td>2016-08-29</td>\n",
       "      <td>0.243333</td>\n",
       "    </tr>\n",
       "    <tr>\n",
       "      <td>2016-08-30</td>\n",
       "      <td>0.011667</td>\n",
       "    </tr>\n",
       "    <tr>\n",
       "      <td>2016-08-31</td>\n",
       "      <td>0.636000</td>\n",
       "    </tr>\n",
       "    <tr>\n",
       "      <td>2016-09-01</td>\n",
       "      <td>0.006000</td>\n",
       "    </tr>\n",
       "    <tr>\n",
       "      <td>2016-09-02</td>\n",
       "      <td>0.050000</td>\n",
       "    </tr>\n",
       "  </tbody>\n",
       "</table>\n",
       "</div>"
      ],
      "text/plain": [
       "            precipitation\n",
       "date                     \n",
       "2016-08-24       1.555000\n",
       "2016-08-25       0.077143\n",
       "2016-08-26       0.016667\n",
       "2016-08-27       0.064000\n",
       "2016-08-28       0.516667\n",
       "2016-08-29       0.243333\n",
       "2016-08-30       0.011667\n",
       "2016-08-31       0.636000\n",
       "2016-09-01       0.006000\n",
       "2016-09-02       0.050000"
      ]
     },
     "execution_count": 21,
     "metadata": {},
     "output_type": "execute_result"
    }
   ],
   "source": [
    "# Sort the dataframe by date\n",
    "df_q12 = df_q12.sort_values(by='date')\n",
    "df_q12.set_index('date', inplace=True)\n",
    "df_q12.head(10)"
   ]
  },
  {
   "cell_type": "code",
   "execution_count": 30,
   "metadata": {},
   "outputs": [
    {
     "data": {
      "image/png": "[encoded data removed]",
      "text/plain": [
       "<Figure size 1008x432 with 1 Axes>"
      ]
     },
     "metadata": {
      "needs_background": "light"
     },
     "output_type": "display_data"
    }
   ],
   "source": [
    "# Use Pandas Plotting with Matplotlib to plot the data\n",
    "import matplotlib.ticker as ticker\n",
    "\n",
    "ax = df_q12.plot(kind='bar', width=3.5, figsize=(14,6), color = 'orange', edgecolor='purple', linewidth=1)\n",
    "ax.tick_params(axis='y', labelsize=16)\n",
    "plt.locator_params(axis='x', nbins=12)\n",
    "ax.xaxis.set_major_formatter(plt.NullFormatter())\n",
    "# ax.xaxis.set_major_formatter(ticker.PercentFormatter(xmax=6))\n",
    "# ax.xaxis.set_major_formatter(ticker.ScalarFormatter(useMathText=True))\n",
    "# ax.xaxis.set_major_formatter(ticker.FormatStrFormatter(\">%d<\"))\n",
    "# ax.xaxis.set_major_formatter(ticker.StrMethodFormatter(\"{x}\"))\n",
    "# x_axis = ['2016-08-24', '2016-08-24', '2016-10-24', '2016-11-24', '2016-12-24', '2017-01-24', '2017-02-24', '2017-03-24', '2017-04-24', '2017-05-24', '2017-06-24', '2017-07-24']\n",
    "# ticks = np.arange(len(x_axis))\n",
    "\n",
    "# Set Labels & Title\n",
    "plt.ylabel(\"Average Precipitation\", labelpad=20, size=16)\n",
    "plt.xlabel(\"Date\", labelpad=20, size=16)\n",
    "plt.title(\"Average Precipitation by Date from 2016-08-23 to 2017-08-23\", size=18)\n",
    "plt.grid(True, alpha = 0.4)\n",
    "plt.legend(bbox_to_anchor=(.6,1), fontsize=\"16\")\n",
    "# plt.xticks(ticks, x_axis, rotation=10, fontsize = 14)\n",
    "\n",
    "# Save Figure\n",
    "plt.savefig(\"avr__precipitation_by_date.png\")\n",
    "\n",
    "\n",
    "# Show plot\n",
    "plt.show()\n",
    "\n"
   ]
  },
  {
   "cell_type": "code",
   "execution_count": 99,
   "metadata": {},
   "outputs": [
    {
     "data": {
      "text/html": [
       "<div>\n",
       "<style scoped>\n",
       "    .dataframe tbody tr th:only-of-type {\n",
       "        vertical-align: middle;\n",
       "    }\n",
       "\n",
       "    .dataframe tbody tr th {\n",
       "        vertical-align: top;\n",
       "    }\n",
       "\n",
       "    .dataframe thead th {\n",
       "        text-align: right;\n",
       "    }\n",
       "</style>\n",
       "<table border=\"1\" class=\"dataframe\">\n",
       "  <thead>\n",
       "    <tr style=\"text-align: right;\">\n",
       "      <th></th>\n",
       "      <th>date</th>\n",
       "      <th>precipitation</th>\n",
       "      <th>year</th>\n",
       "      <th>month</th>\n",
       "    </tr>\n",
       "  </thead>\n",
       "  <tbody>\n",
       "    <tr>\n",
       "      <td>0</td>\n",
       "      <td>2016-08-24</td>\n",
       "      <td>1.555000</td>\n",
       "      <td>2016</td>\n",
       "      <td>8</td>\n",
       "    </tr>\n",
       "    <tr>\n",
       "      <td>1</td>\n",
       "      <td>2016-08-25</td>\n",
       "      <td>0.077143</td>\n",
       "      <td>2016</td>\n",
       "      <td>8</td>\n",
       "    </tr>\n",
       "    <tr>\n",
       "      <td>2</td>\n",
       "      <td>2016-08-26</td>\n",
       "      <td>0.016667</td>\n",
       "      <td>2016</td>\n",
       "      <td>8</td>\n",
       "    </tr>\n",
       "    <tr>\n",
       "      <td>3</td>\n",
       "      <td>2016-08-27</td>\n",
       "      <td>0.064000</td>\n",
       "      <td>2016</td>\n",
       "      <td>8</td>\n",
       "    </tr>\n",
       "    <tr>\n",
       "      <td>4</td>\n",
       "      <td>2016-08-28</td>\n",
       "      <td>0.516667</td>\n",
       "      <td>2016</td>\n",
       "      <td>8</td>\n",
       "    </tr>\n",
       "  </tbody>\n",
       "</table>\n",
       "</div>"
      ],
      "text/plain": [
       "         date  precipitation  year  month\n",
       "0  2016-08-24       1.555000  2016      8\n",
       "1  2016-08-25       0.077143  2016      8\n",
       "2  2016-08-26       0.016667  2016      8\n",
       "3  2016-08-27       0.064000  2016      8\n",
       "4  2016-08-28       0.516667  2016      8"
      ]
     },
     "execution_count": 99,
     "metadata": {},
     "output_type": "execute_result"
    }
   ],
   "source": [
    "df_q13 = pd.DataFrame(q12, columns=['date', 'precipitation'])\n",
    "df_q13.head(10)\n",
    "\n",
    "#efficient way to extract year from string format date\n",
    "df_q13['year'] = pd.DatetimeIndex(df_q13['date']).year\n",
    "\n",
    "#efficient way to extract month from string format date\n",
    "df_q13['month'] = pd.DatetimeIndex(df_q13['date']).month\n",
    "df_q13.head()"
   ]
  },
  {
   "cell_type": "code",
   "execution_count": 116,
   "metadata": {},
   "outputs": [
    {
     "data": {
      "text/html": [
       "<div>\n",
       "<style scoped>\n",
       "    .dataframe tbody tr th:only-of-type {\n",
       "        vertical-align: middle;\n",
       "    }\n",
       "\n",
       "    .dataframe tbody tr th {\n",
       "        vertical-align: top;\n",
       "    }\n",
       "\n",
       "    .dataframe thead th {\n",
       "        text-align: right;\n",
       "    }\n",
       "</style>\n",
       "<table border=\"1\" class=\"dataframe\">\n",
       "  <thead>\n",
       "    <tr style=\"text-align: right;\">\n",
       "      <th></th>\n",
       "      <th>month</th>\n",
       "      <th>precipitation</th>\n",
       "    </tr>\n",
       "  </thead>\n",
       "  <tbody>\n",
       "    <tr>\n",
       "      <td>0</td>\n",
       "      <td>Jan</td>\n",
       "      <td>0.075740</td>\n",
       "    </tr>\n",
       "    <tr>\n",
       "      <td>1</td>\n",
       "      <td>Feb</td>\n",
       "      <td>0.225781</td>\n",
       "    </tr>\n",
       "    <tr>\n",
       "      <td>2</td>\n",
       "      <td>Mar</td>\n",
       "      <td>0.157887</td>\n",
       "    </tr>\n",
       "    <tr>\n",
       "      <td>3</td>\n",
       "      <td>Apr</td>\n",
       "      <td>0.315187</td>\n",
       "    </tr>\n",
       "    <tr>\n",
       "      <td>4</td>\n",
       "      <td>May</td>\n",
       "      <td>0.147737</td>\n",
       "    </tr>\n",
       "    <tr>\n",
       "      <td>5</td>\n",
       "      <td>Jun</td>\n",
       "      <td>0.119904</td>\n",
       "    </tr>\n",
       "    <tr>\n",
       "      <td>6</td>\n",
       "      <td>Jul</td>\n",
       "      <td>0.132918</td>\n",
       "    </tr>\n",
       "    <tr>\n",
       "      <td>7</td>\n",
       "      <td>Aug</td>\n",
       "      <td>0.145639</td>\n",
       "    </tr>\n",
       "    <tr>\n",
       "      <td>8</td>\n",
       "      <td>Sep</td>\n",
       "      <td>0.280033</td>\n",
       "    </tr>\n",
       "    <tr>\n",
       "      <td>9</td>\n",
       "      <td>Oct</td>\n",
       "      <td>0.120344</td>\n",
       "    </tr>\n",
       "    <tr>\n",
       "      <td>10</td>\n",
       "      <td>Nov</td>\n",
       "      <td>0.130408</td>\n",
       "    </tr>\n",
       "    <tr>\n",
       "      <td>11</td>\n",
       "      <td>Dec</td>\n",
       "      <td>0.199009</td>\n",
       "    </tr>\n",
       "  </tbody>\n",
       "</table>\n",
       "</div>"
      ],
      "text/plain": [
       "   month  precipitation\n",
       "0    Jan       0.075740\n",
       "1    Feb       0.225781\n",
       "2    Mar       0.157887\n",
       "3    Apr       0.315187\n",
       "4    May       0.147737\n",
       "5    Jun       0.119904\n",
       "6    Jul       0.132918\n",
       "7    Aug       0.145639\n",
       "8    Sep       0.280033\n",
       "9    Oct       0.120344\n",
       "10   Nov       0.130408\n",
       "11   Dec       0.199009"
      ]
     },
     "execution_count": 116,
     "metadata": {},
     "output_type": "execute_result"
    }
   ],
   "source": [
    "# Avarage precipitation for each month of the year\n",
    "df_q13 = df_q13.groupby(['month'], as_index=False)['precipitation'].mean()\n",
    "df_q13 = pd.DataFrame(df_q13)\n",
    "import calendar\n",
    "df_q13['month'] = df_q13['month'].apply(lambda x: calendar.month_abbr[x])\n",
    "df_q13"
   ]
  },
  {
   "cell_type": "code",
   "execution_count": 135,
   "metadata": {},
   "outputs": [
    {
     "data": {
      "application/vnd.plotly.v1+json": {
       "config": {
        "plotlyServerURL": "https://plot.ly"
       },
       "data": [
        {
         "alignmentgroup": "True",
         "hoverlabel": {
          "namelength": 0
         },
         "hovertemplate": "<b>%{hovertext}</b><br><br>month=%{y}<br>precipitation=%{x}",
         "hovertext": [
          "Jan"
         ],
         "legendgroup": "Jan",
         "marker": {
          "color": "#0d0887"
         },
         "name": "Jan",
         "offsetgroup": "Jan",
         "orientation": "h",
         "showlegend": true,
         "textposition": "auto",
         "type": "bar",
         "x": [
          0.07574039938556067
         ],
         "xaxis": "x",
         "y": [
          "Jan"
         ],
         "yaxis": "y"
        },
        {
         "alignmentgroup": "True",
         "hoverlabel": {
          "namelength": 0
         },
         "hovertemplate": "<b>%{hovertext}</b><br><br>month=%{y}<br>precipitation=%{x}",
         "hovertext": [
          "Feb"
         ],
         "legendgroup": "Feb",
         "marker": {
          "color": "#46039f"
         },
         "name": "Feb",
         "offsetgroup": "Feb",
         "orientation": "h",
         "showlegend": true,
         "textposition": "auto",
         "type": "bar",
         "x": [
          0.22578146258503404
         ],
         "xaxis": "x",
         "y": [
          "Feb"
         ],
         "yaxis": "y"
        },
        {
         "alignmentgroup": "True",
         "hoverlabel": {
          "namelength": 0
         },
         "hovertemplate": "<b>%{hovertext}</b><br><br>month=%{y}<br>precipitation=%{x}",
         "hovertext": [
          "Mar"
         ],
         "legendgroup": "Mar",
         "marker": {
          "color": "#7201a8"
         },
         "name": "Mar",
         "offsetgroup": "Mar",
         "orientation": "h",
         "showlegend": true,
         "textposition": "auto",
         "type": "bar",
         "x": [
          0.15788709677419352
         ],
         "xaxis": "x",
         "y": [
          "Mar"
         ],
         "yaxis": "y"
        },
        {
         "alignmentgroup": "True",
         "hoverlabel": {
          "namelength": 0
         },
         "hovertemplate": "<b>%{hovertext}</b><br><br>month=%{y}<br>precipitation=%{x}",
         "hovertext": [
          "Apr"
         ],
         "legendgroup": "Apr",
         "marker": {
          "color": "#9c179e"
         },
         "name": "Apr",
         "offsetgroup": "Apr",
         "orientation": "h",
         "showlegend": true,
         "textposition": "auto",
         "type": "bar",
         "x": [
          0.3151873015873016
         ],
         "xaxis": "x",
         "y": [
          "Apr"
         ],
         "yaxis": "y"
        },
        {
         "alignmentgroup": "True",
         "hoverlabel": {
          "namelength": 0
         },
         "hovertemplate": "<b>%{hovertext}</b><br><br>month=%{y}<br>precipitation=%{x}",
         "hovertext": [
          "May"
         ],
         "legendgroup": "May",
         "marker": {
          "color": "#bd3786"
         },
         "name": "May",
         "offsetgroup": "May",
         "orientation": "h",
         "showlegend": true,
         "textposition": "auto",
         "type": "bar",
         "x": [
          0.14773655913978492
         ],
         "xaxis": "x",
         "y": [
          "May"
         ],
         "yaxis": "y"
        },
        {
         "alignmentgroup": "True",
         "hoverlabel": {
          "namelength": 0
         },
         "hovertemplate": "<b>%{hovertext}</b><br><br>month=%{y}<br>precipitation=%{x}",
         "hovertext": [
          "Jun"
         ],
         "legendgroup": "Jun",
         "marker": {
          "color": "#d8576b"
         },
         "name": "Jun",
         "offsetgroup": "Jun",
         "orientation": "h",
         "showlegend": true,
         "textposition": "auto",
         "type": "bar",
         "x": [
          0.11990396825396826
         ],
         "xaxis": "x",
         "y": [
          "Jun"
         ],
         "yaxis": "y"
        },
        {
         "alignmentgroup": "True",
         "hoverlabel": {
          "namelength": 0
         },
         "hovertemplate": "<b>%{hovertext}</b><br><br>month=%{y}<br>precipitation=%{x}",
         "hovertext": [
          "Jul"
         ],
         "legendgroup": "Jul",
         "marker": {
          "color": "#ed7953"
         },
         "name": "Jul",
         "offsetgroup": "Jul",
         "orientation": "h",
         "showlegend": true,
         "textposition": "auto",
         "type": "bar",
         "x": [
          0.13291781874039937
         ],
         "xaxis": "x",
         "y": [
          "Jul"
         ],
         "yaxis": "y"
        },
        {
         "alignmentgroup": "True",
         "hoverlabel": {
          "namelength": 0
         },
         "hovertemplate": "<b>%{hovertext}</b><br><br>month=%{y}<br>precipitation=%{x}",
         "hovertext": [
          "Aug"
         ],
         "legendgroup": "Aug",
         "marker": {
          "color": "#fb9f3a"
         },
         "name": "Aug",
         "offsetgroup": "Aug",
         "orientation": "h",
         "showlegend": true,
         "textposition": "auto",
         "type": "bar",
         "x": [
          0.14563901689708142
         ],
         "xaxis": "x",
         "y": [
          "Aug"
         ],
         "yaxis": "y"
        },
        {
         "alignmentgroup": "True",
         "hoverlabel": {
          "namelength": 0
         },
         "hovertemplate": "<b>%{hovertext}</b><br><br>month=%{y}<br>precipitation=%{x}",
         "hovertext": [
          "Sep"
         ],
         "legendgroup": "Sep",
         "marker": {
          "color": "#fdca26"
         },
         "name": "Sep",
         "offsetgroup": "Sep",
         "orientation": "h",
         "showlegend": true,
         "textposition": "auto",
         "type": "bar",
         "x": [
          0.2800333333333333
         ],
         "xaxis": "x",
         "y": [
          "Sep"
         ],
         "yaxis": "y"
        },
        {
         "alignmentgroup": "True",
         "hoverlabel": {
          "namelength": 0
         },
         "hovertemplate": "<b>%{hovertext}</b><br><br>month=%{y}<br>precipitation=%{x}",
         "hovertext": [
          "Oct"
         ],
         "legendgroup": "Oct",
         "marker": {
          "color": "#f0f921"
         },
         "name": "Oct",
         "offsetgroup": "Oct",
         "orientation": "h",
         "showlegend": true,
         "textposition": "auto",
         "type": "bar",
         "x": [
          0.1203440860215054
         ],
         "xaxis": "x",
         "y": [
          "Oct"
         ],
         "yaxis": "y"
        },
        {
         "alignmentgroup": "True",
         "hoverlabel": {
          "namelength": 0
         },
         "hovertemplate": "<b>%{hovertext}</b><br><br>month=%{y}<br>precipitation=%{x}",
         "hovertext": [
          "Nov"
         ],
         "legendgroup": "Nov",
         "marker": {
          "color": "#c3f921"
         },
         "name": "Nov",
         "offsetgroup": "Nov",
         "orientation": "h",
         "showlegend": true,
         "textposition": "auto",
         "type": "bar",
         "x": [
          0.13040793650793653
         ],
         "xaxis": "x",
         "y": [
          "Nov"
         ],
         "yaxis": "y"
        },
        {
         "alignmentgroup": "True",
         "hoverlabel": {
          "namelength": 0
         },
         "hovertemplate": "<b>%{hovertext}</b><br><br>month=%{y}<br>precipitation=%{x}",
         "hovertext": [
          "Dec"
         ],
         "legendgroup": "Dec",
         "marker": {
          "color": "#94f921"
         },
         "name": "Dec",
         "offsetgroup": "Dec",
         "orientation": "h",
         "showlegend": true,
         "textposition": "auto",
         "type": "bar",
         "x": [
          0.19900921658986176
         ],
         "xaxis": "x",
         "y": [
          "Dec"
         ],
         "yaxis": "y"
        }
       ],
       "layout": {
        "barmode": "relative",
        "font": {
         "color": "#7f7f7f",
         "family": "Courier New, monospace",
         "size": 18
        },
        "legend": {
         "title": {
          "text": "month"
         },
         "tracegroupgap": 0
        },
        "template": {
         "data": {
          "bar": [
           {
            "error_x": {
             "color": "#2a3f5f"
            },
            "error_y": {
             "color": "#2a3f5f"
            },
            "marker": {
             "line": {
              "color": "#E5ECF6",
              "width": 0.5
             }
            },
            "type": "bar"
           }
          ],
          "barpolar": [
           {
            "marker": {
             "line": {
              "color": "#E5ECF6",
              "width": 0.5
             }
            },
            "type": "barpolar"
           }
          ],
          "carpet": [
           {
            "aaxis": {
             "endlinecolor": "#2a3f5f",
             "gridcolor": "white",
             "linecolor": "white",
             "minorgridcolor": "white",
             "startlinecolor": "#2a3f5f"
            },
            "baxis": {
             "endlinecolor": "#2a3f5f",
             "gridcolor": "white",
             "linecolor": "white",
             "minorgridcolor": "white",
             "startlinecolor": "#2a3f5f"
            },
            "type": "carpet"
           }
          ],
          "choropleth": [
           {
            "colorbar": {
             "outlinewidth": 0,
             "ticks": ""
            },
            "type": "choropleth"
           }
          ],
          "contour": [
           {
            "colorbar": {
             "outlinewidth": 0,
             "ticks": ""
            },
            "colorscale": [
             [
              0,
              "#0d0887"
             ],
             [
              0.1111111111111111,
              "#46039f"
             ],
             [
              0.2222222222222222,
              "#7201a8"
             ],
             [
              0.3333333333333333,
              "#9c179e"
             ],
             [
              0.4444444444444444,
              "#bd3786"
             ],
             [
              0.5555555555555556,
              "#d8576b"
             ],
             [
              0.6666666666666666,
              "#ed7953"
             ],
             [
              0.7777777777777778,
              "#fb9f3a"
             ],
             [
              0.8888888888888888,
              "#fdca26"
             ],
             [
              1,
              "#f0f921"
             ]
            ],
            "type": "contour"
           }
          ],
          "contourcarpet": [
           {
            "colorbar": {
             "outlinewidth": 0,
             "ticks": ""
            },
            "type": "contourcarpet"
           }
          ],
          "heatmap": [
           {
            "colorbar": {
             "outlinewidth": 0,
             "ticks": ""
            },
            "colorscale": [
             [
              0,
              "#0d0887"
             ],
             [
              0.1111111111111111,
              "#46039f"
             ],
             [
              0.2222222222222222,
              "#7201a8"
             ],
             [
              0.3333333333333333,
              "#9c179e"
             ],
             [
              0.4444444444444444,
              "#bd3786"
             ],
             [
              0.5555555555555556,
              "#d8576b"
             ],
             [
              0.6666666666666666,
              "#ed7953"
             ],
             [
              0.7777777777777778,
              "#fb9f3a"
             ],
             [
              0.8888888888888888,
              "#fdca26"
             ],
             [
              1,
              "#f0f921"
             ]
            ],
            "type": "heatmap"
           }
          ],
          "heatmapgl": [
           {
            "colorbar": {
             "outlinewidth": 0,
             "ticks": ""
            },
            "colorscale": [
             [
              0,
              "#0d0887"
             ],
             [
              0.1111111111111111,
              "#46039f"
             ],
             [
              0.2222222222222222,
              "#7201a8"
             ],
             [
              0.3333333333333333,
              "#9c179e"
             ],
             [
              0.4444444444444444,
              "#bd3786"
             ],
             [
              0.5555555555555556,
              "#d8576b"
             ],
             [
              0.6666666666666666,
              "#ed7953"
             ],
             [
              0.7777777777777778,
              "#fb9f3a"
             ],
             [
              0.8888888888888888,
              "#fdca26"
             ],
             [
              1,
              "#f0f921"
             ]
            ],
            "type": "heatmapgl"
           }
          ],
          "histogram": [
           {
            "marker": {
             "colorbar": {
              "outlinewidth": 0,
              "ticks": ""
             }
            },
            "type": "histogram"
           }
          ],
          "histogram2d": [
           {
            "colorbar": {
             "outlinewidth": 0,
             "ticks": ""
            },
            "colorscale": [
             [
              0,
              "#0d0887"
             ],
             [
              0.1111111111111111,
              "#46039f"
             ],
             [
              0.2222222222222222,
              "#7201a8"
             ],
             [
              0.3333333333333333,
              "#9c179e"
             ],
             [
              0.4444444444444444,
              "#bd3786"
             ],
             [
              0.5555555555555556,
              "#d8576b"
             ],
             [
              0.6666666666666666,
              "#ed7953"
             ],
             [
              0.7777777777777778,
              "#fb9f3a"
             ],
             [
              0.8888888888888888,
              "#fdca26"
             ],
             [
              1,
              "#f0f921"
             ]
            ],
            "type": "histogram2d"
           }
          ],
          "histogram2dcontour": [
           {
            "colorbar": {
             "outlinewidth": 0,
             "ticks": ""
            },
            "colorscale": [
             [
              0,
              "#0d0887"
             ],
             [
              0.1111111111111111,
              "#46039f"
             ],
             [
              0.2222222222222222,
              "#7201a8"
             ],
             [
              0.3333333333333333,
              "#9c179e"
             ],
             [
              0.4444444444444444,
              "#bd3786"
             ],
             [
              0.5555555555555556,
              "#d8576b"
             ],
             [
              0.6666666666666666,
              "#ed7953"
             ],
             [
              0.7777777777777778,
              "#fb9f3a"
             ],
             [
              0.8888888888888888,
              "#fdca26"
             ],
             [
              1,
              "#f0f921"
             ]
            ],
            "type": "histogram2dcontour"
           }
          ],
          "mesh3d": [
           {
            "colorbar": {
             "outlinewidth": 0,
             "ticks": ""
            },
            "type": "mesh3d"
           }
          ],
          "parcoords": [
           {
            "line": {
             "colorbar": {
              "outlinewidth": 0,
              "ticks": ""
             }
            },
            "type": "parcoords"
           }
          ],
          "pie": [
           {
            "automargin": true,
            "type": "pie"
           }
          ],
          "scatter": [
           {
            "marker": {
             "colorbar": {
              "outlinewidth": 0,
              "ticks": ""
             }
            },
            "type": "scatter"
           }
          ],
          "scatter3d": [
           {
            "line": {
             "colorbar": {
              "outlinewidth": 0,
              "ticks": ""
             }
            },
            "marker": {
             "colorbar": {
              "outlinewidth": 0,
              "ticks": ""
             }
            },
            "type": "scatter3d"
           }
          ],
          "scattercarpet": [
           {
            "marker": {
             "colorbar": {
              "outlinewidth": 0,
              "ticks": ""
             }
            },
            "type": "scattercarpet"
           }
          ],
          "scattergeo": [
           {
            "marker": {
             "colorbar": {
              "outlinewidth": 0,
              "ticks": ""
             }
            },
            "type": "scattergeo"
           }
          ],
          "scattergl": [
           {
            "marker": {
             "colorbar": {
              "outlinewidth": 0,
              "ticks": ""
             }
            },
            "type": "scattergl"
           }
          ],
          "scattermapbox": [
           {
            "marker": {
             "colorbar": {
              "outlinewidth": 0,
              "ticks": ""
             }
            },
            "type": "scattermapbox"
           }
          ],
          "scatterpolar": [
           {
            "marker": {
             "colorbar": {
              "outlinewidth": 0,
              "ticks": ""
             }
            },
            "type": "scatterpolar"
           }
          ],
          "scatterpolargl": [
           {
            "marker": {
             "colorbar": {
              "outlinewidth": 0,
              "ticks": ""
             }
            },
            "type": "scatterpolargl"
           }
          ],
          "scatterternary": [
           {
            "marker": {
             "colorbar": {
              "outlinewidth": 0,
              "ticks": ""
             }
            },
            "type": "scatterternary"
           }
          ],
          "surface": [
           {
            "colorbar": {
             "outlinewidth": 0,
             "ticks": ""
            },
            "colorscale": [
             [
              0,
              "#0d0887"
             ],
             [
              0.1111111111111111,
              "#46039f"
             ],
             [
              0.2222222222222222,
              "#7201a8"
             ],
             [
              0.3333333333333333,
              "#9c179e"
             ],
             [
              0.4444444444444444,
              "#bd3786"
             ],
             [
              0.5555555555555556,
              "#d8576b"
             ],
             [
              0.6666666666666666,
              "#ed7953"
             ],
             [
              0.7777777777777778,
              "#fb9f3a"
             ],
             [
              0.8888888888888888,
              "#fdca26"
             ],
             [
              1,
              "#f0f921"
             ]
            ],
            "type": "surface"
           }
          ],
          "table": [
           {
            "cells": {
             "fill": {
              "color": "#EBF0F8"
             },
             "line": {
              "color": "white"
             }
            },
            "header": {
             "fill": {
              "color": "#C8D4E3"
             },
             "line": {
              "color": "white"
             }
            },
            "type": "table"
           }
          ]
         },
         "layout": {
          "annotationdefaults": {
           "arrowcolor": "#2a3f5f",
           "arrowhead": 0,
           "arrowwidth": 1
          },
          "coloraxis": {
           "colorbar": {
            "outlinewidth": 0,
            "ticks": ""
           }
          },
          "colorscale": {
           "diverging": [
            [
             0,
             "#8e0152"
            ],
            [
             0.1,
             "#c51b7d"
            ],
            [
             0.2,
             "#de77ae"
            ],
            [
             0.3,
             "#f1b6da"
            ],
            [
             0.4,
             "#fde0ef"
            ],
            [
             0.5,
             "#f7f7f7"
            ],
            [
             0.6,
             "#e6f5d0"
            ],
            [
             0.7,
             "#b8e186"
            ],
            [
             0.8,
             "#7fbc41"
            ],
            [
             0.9,
             "#4d9221"
            ],
            [
             1,
             "#276419"
            ]
           ],
           "sequential": [
            [
             0,
             "#0d0887"
            ],
            [
             0.1111111111111111,
             "#46039f"
            ],
            [
             0.2222222222222222,
             "#7201a8"
            ],
            [
             0.3333333333333333,
             "#9c179e"
            ],
            [
             0.4444444444444444,
             "#bd3786"
            ],
            [
             0.5555555555555556,
             "#d8576b"
            ],
            [
             0.6666666666666666,
             "#ed7953"
            ],
            [
             0.7777777777777778,
             "#fb9f3a"
            ],
            [
             0.8888888888888888,
             "#fdca26"
            ],
            [
             1,
             "#f0f921"
            ]
           ],
           "sequentialminus": [
            [
             0,
             "#0d0887"
            ],
            [
             0.1111111111111111,
             "#46039f"
            ],
            [
             0.2222222222222222,
             "#7201a8"
            ],
            [
             0.3333333333333333,
             "#9c179e"
            ],
            [
             0.4444444444444444,
             "#bd3786"
            ],
            [
             0.5555555555555556,
             "#d8576b"
            ],
            [
             0.6666666666666666,
             "#ed7953"
            ],
            [
             0.7777777777777778,
             "#fb9f3a"
            ],
            [
             0.8888888888888888,
             "#fdca26"
            ],
            [
             1,
             "#f0f921"
            ]
           ]
          },
          "colorway": [
           "#636efa",
           "#EF553B",
           "#00cc96",
           "#ab63fa",
           "#FFA15A",
           "#19d3f3",
           "#FF6692",
           "#B6E880",
           "#FF97FF",
           "#FECB52"
          ],
          "font": {
           "color": "#2a3f5f"
          },
          "geo": {
           "bgcolor": "white",
           "lakecolor": "white",
           "landcolor": "#E5ECF6",
           "showlakes": true,
           "showland": true,
           "subunitcolor": "white"
          },
          "hoverlabel": {
           "align": "left"
          },
          "hovermode": "closest",
          "mapbox": {
           "style": "light"
          },
          "paper_bgcolor": "white",
          "plot_bgcolor": "#E5ECF6",
          "polar": {
           "angularaxis": {
            "gridcolor": "white",
            "linecolor": "white",
            "ticks": ""
           },
           "bgcolor": "#E5ECF6",
           "radialaxis": {
            "gridcolor": "white",
            "linecolor": "white",
            "ticks": ""
           }
          },
          "scene": {
           "xaxis": {
            "backgroundcolor": "#E5ECF6",
            "gridcolor": "white",
            "gridwidth": 2,
            "linecolor": "white",
            "showbackground": true,
            "ticks": "",
            "zerolinecolor": "white"
           },
           "yaxis": {
            "backgroundcolor": "#E5ECF6",
            "gridcolor": "white",
            "gridwidth": 2,
            "linecolor": "white",
            "showbackground": true,
            "ticks": "",
            "zerolinecolor": "white"
           },
           "zaxis": {
            "backgroundcolor": "#E5ECF6",
            "gridcolor": "white",
            "gridwidth": 2,
            "linecolor": "white",
            "showbackground": true,
            "ticks": "",
            "zerolinecolor": "white"
           }
          },
          "shapedefaults": {
           "line": {
            "color": "#2a3f5f"
           }
          },
          "ternary": {
           "aaxis": {
            "gridcolor": "white",
            "linecolor": "white",
            "ticks": ""
           },
           "baxis": {
            "gridcolor": "white",
            "linecolor": "white",
            "ticks": ""
           },
           "bgcolor": "#E5ECF6",
           "caxis": {
            "gridcolor": "white",
            "linecolor": "white",
            "ticks": ""
           }
          },
          "title": {
           "x": 0.05
          },
          "xaxis": {
           "automargin": true,
           "gridcolor": "white",
           "linecolor": "white",
           "ticks": "",
           "title": {
            "standoff": 15
           },
           "zerolinecolor": "white",
           "zerolinewidth": 2
          },
          "yaxis": {
           "automargin": true,
           "gridcolor": "white",
           "linecolor": "white",
           "ticks": "",
           "title": {
            "standoff": 15
           },
           "zerolinecolor": "white",
           "zerolinewidth": 2
          }
         }
        },
        "title": {
         "text": "Average precipitation for each month of the year",
         "x": 0.5,
         "xanchor": "center",
         "y": 0.9,
         "yanchor": "top"
        },
        "xaxis": {
         "anchor": "y",
         "domain": [
          0,
          1
         ],
         "title": {
          "text": "precipitation"
         }
        },
        "yaxis": {
         "anchor": "x",
         "categoryarray": [
          "Dec",
          "Nov",
          "Oct",
          "Sep",
          "Aug",
          "Jul",
          "Jun",
          "May",
          "Apr",
          "Mar",
          "Feb",
          "Jan"
         ],
         "categoryorder": "array",
         "domain": [
          0,
          1
         ],
         "title": {
          "text": "month"
         }
        }
       }
      },
      "text/html": [
       "<div>\n",
       "        \n",
       "        \n",
       "            <div id=\"c3de71f8-0d77-4297-ab21-4ede6760a67c\" class=\"plotly-graph-div\" style=\"height:525px; width:100%;\"></div>\n",
       "            <script type=\"text/javascript\">\n",
       "                require([\"plotly\"], function(Plotly) {\n",
       "                    window.PLOTLYENV=window.PLOTLYENV || {};\n",
       "                    \n",
       "                if (document.getElementById(\"c3de71f8-0d77-4297-ab21-4ede6760a67c\")) {\n",
       "                    Plotly.newPlot(\n",
       "                        'c3de71f8-0d77-4297-ab21-4ede6760a67c',\n",
       "                        [{\"alignmentgroup\": \"True\", \"hoverlabel\": {\"namelength\": 0}, \"hovertemplate\": \"<b>%{hovertext}</b><br><br>month=%{y}<br>precipitation=%{x}\", \"hovertext\": [\"Jan\"], \"legendgroup\": \"Jan\", \"marker\": {\"color\": \"#0d0887\"}, \"name\": \"Jan\", \"offsetgroup\": \"Jan\", \"orientation\": \"h\", \"showlegend\": true, \"textposition\": \"auto\", \"type\": \"bar\", \"x\": [0.07574039938556067], \"xaxis\": \"x\", \"y\": [\"Jan\"], \"yaxis\": \"y\"}, {\"alignmentgroup\": \"True\", \"hoverlabel\": {\"namelength\": 0}, \"hovertemplate\": \"<b>%{hovertext}</b><br><br>month=%{y}<br>precipitation=%{x}\", \"hovertext\": [\"Feb\"], \"legendgroup\": \"Feb\", \"marker\": {\"color\": \"#46039f\"}, \"name\": \"Feb\", \"offsetgroup\": \"Feb\", \"orientation\": \"h\", \"showlegend\": true, \"textposition\": \"auto\", \"type\": \"bar\", \"x\": [0.22578146258503404], \"xaxis\": \"x\", \"y\": [\"Feb\"], \"yaxis\": \"y\"}, {\"alignmentgroup\": \"True\", \"hoverlabel\": {\"namelength\": 0}, \"hovertemplate\": \"<b>%{hovertext}</b><br><br>month=%{y}<br>precipitation=%{x}\", \"hovertext\": [\"Mar\"], \"legendgroup\": \"Mar\", \"marker\": {\"color\": \"#7201a8\"}, \"name\": \"Mar\", \"offsetgroup\": \"Mar\", \"orientation\": \"h\", \"showlegend\": true, \"textposition\": \"auto\", \"type\": \"bar\", \"x\": [0.15788709677419352], \"xaxis\": \"x\", \"y\": [\"Mar\"], \"yaxis\": \"y\"}, {\"alignmentgroup\": \"True\", \"hoverlabel\": {\"namelength\": 0}, \"hovertemplate\": \"<b>%{hovertext}</b><br><br>month=%{y}<br>precipitation=%{x}\", \"hovertext\": [\"Apr\"], \"legendgroup\": \"Apr\", \"marker\": {\"color\": \"#9c179e\"}, \"name\": \"Apr\", \"offsetgroup\": \"Apr\", \"orientation\": \"h\", \"showlegend\": true, \"textposition\": \"auto\", \"type\": \"bar\", \"x\": [0.3151873015873016], \"xaxis\": \"x\", \"y\": [\"Apr\"], \"yaxis\": \"y\"}, {\"alignmentgroup\": \"True\", \"hoverlabel\": {\"namelength\": 0}, \"hovertemplate\": \"<b>%{hovertext}</b><br><br>month=%{y}<br>precipitation=%{x}\", \"hovertext\": [\"May\"], \"legendgroup\": \"May\", \"marker\": {\"color\": \"#bd3786\"}, \"name\": \"May\", \"offsetgroup\": \"May\", \"orientation\": \"h\", \"showlegend\": true, \"textposition\": \"auto\", \"type\": \"bar\", \"x\": [0.14773655913978492], \"xaxis\": \"x\", \"y\": [\"May\"], \"yaxis\": \"y\"}, {\"alignmentgroup\": \"True\", \"hoverlabel\": {\"namelength\": 0}, \"hovertemplate\": \"<b>%{hovertext}</b><br><br>month=%{y}<br>precipitation=%{x}\", \"hovertext\": [\"Jun\"], \"legendgroup\": \"Jun\", \"marker\": {\"color\": \"#d8576b\"}, \"name\": \"Jun\", \"offsetgroup\": \"Jun\", \"orientation\": \"h\", \"showlegend\": true, \"textposition\": \"auto\", \"type\": \"bar\", \"x\": [0.11990396825396826], \"xaxis\": \"x\", \"y\": [\"Jun\"], \"yaxis\": \"y\"}, {\"alignmentgroup\": \"True\", \"hoverlabel\": {\"namelength\": 0}, \"hovertemplate\": \"<b>%{hovertext}</b><br><br>month=%{y}<br>precipitation=%{x}\", \"hovertext\": [\"Jul\"], \"legendgroup\": \"Jul\", \"marker\": {\"color\": \"#ed7953\"}, \"name\": \"Jul\", \"offsetgroup\": \"Jul\", \"orientation\": \"h\", \"showlegend\": true, \"textposition\": \"auto\", \"type\": \"bar\", \"x\": [0.13291781874039937], \"xaxis\": \"x\", \"y\": [\"Jul\"], \"yaxis\": \"y\"}, {\"alignmentgroup\": \"True\", \"hoverlabel\": {\"namelength\": 0}, \"hovertemplate\": \"<b>%{hovertext}</b><br><br>month=%{y}<br>precipitation=%{x}\", \"hovertext\": [\"Aug\"], \"legendgroup\": \"Aug\", \"marker\": {\"color\": \"#fb9f3a\"}, \"name\": \"Aug\", \"offsetgroup\": \"Aug\", \"orientation\": \"h\", \"showlegend\": true, \"textposition\": \"auto\", \"type\": \"bar\", \"x\": [0.14563901689708142], \"xaxis\": \"x\", \"y\": [\"Aug\"], \"yaxis\": \"y\"}, {\"alignmentgroup\": \"True\", \"hoverlabel\": {\"namelength\": 0}, \"hovertemplate\": \"<b>%{hovertext}</b><br><br>month=%{y}<br>precipitation=%{x}\", \"hovertext\": [\"Sep\"], \"legendgroup\": \"Sep\", \"marker\": {\"color\": \"#fdca26\"}, \"name\": \"Sep\", \"offsetgroup\": \"Sep\", \"orientation\": \"h\", \"showlegend\": true, \"textposition\": \"auto\", \"type\": \"bar\", \"x\": [0.2800333333333333], \"xaxis\": \"x\", \"y\": [\"Sep\"], \"yaxis\": \"y\"}, {\"alignmentgroup\": \"True\", \"hoverlabel\": {\"namelength\": 0}, \"hovertemplate\": \"<b>%{hovertext}</b><br><br>month=%{y}<br>precipitation=%{x}\", \"hovertext\": [\"Oct\"], \"legendgroup\": \"Oct\", \"marker\": {\"color\": \"#f0f921\"}, \"name\": \"Oct\", \"offsetgroup\": \"Oct\", \"orientation\": \"h\", \"showlegend\": true, \"textposition\": \"auto\", \"type\": \"bar\", \"x\": [0.1203440860215054], \"xaxis\": \"x\", \"y\": [\"Oct\"], \"yaxis\": \"y\"}, {\"alignmentgroup\": \"True\", \"hoverlabel\": {\"namelength\": 0}, \"hovertemplate\": \"<b>%{hovertext}</b><br><br>month=%{y}<br>precipitation=%{x}\", \"hovertext\": [\"Nov\"], \"legendgroup\": \"Nov\", \"marker\": {\"color\": \"#c3f921\"}, \"name\": \"Nov\", \"offsetgroup\": \"Nov\", \"orientation\": \"h\", \"showlegend\": true, \"textposition\": \"auto\", \"type\": \"bar\", \"x\": [0.13040793650793653], \"xaxis\": \"x\", \"y\": [\"Nov\"], \"yaxis\": \"y\"}, {\"alignmentgroup\": \"True\", \"hoverlabel\": {\"namelength\": 0}, \"hovertemplate\": \"<b>%{hovertext}</b><br><br>month=%{y}<br>precipitation=%{x}\", \"hovertext\": [\"Dec\"], \"legendgroup\": \"Dec\", \"marker\": {\"color\": \"#94f921\"}, \"name\": \"Dec\", \"offsetgroup\": \"Dec\", \"orientation\": \"h\", \"showlegend\": true, \"textposition\": \"auto\", \"type\": \"bar\", \"x\": [0.19900921658986176], \"xaxis\": \"x\", \"y\": [\"Dec\"], \"yaxis\": \"y\"}],\n",
       "                        {\"barmode\": \"relative\", \"font\": {\"color\": \"#7f7f7f\", \"family\": \"Courier New, monospace\", \"size\": 18}, \"legend\": {\"title\": {\"text\": \"month\"}, \"tracegroupgap\": 0}, \"template\": {\"data\": {\"bar\": [{\"error_x\": {\"color\": \"#2a3f5f\"}, \"error_y\": {\"color\": \"#2a3f5f\"}, \"marker\": {\"line\": {\"color\": \"#E5ECF6\", \"width\": 0.5}}, \"type\": \"bar\"}], \"barpolar\": [{\"marker\": {\"line\": {\"color\": \"#E5ECF6\", \"width\": 0.5}}, \"type\": \"barpolar\"}], \"carpet\": [{\"aaxis\": {\"endlinecolor\": \"#2a3f5f\", \"gridcolor\": \"white\", \"linecolor\": \"white\", \"minorgridcolor\": \"white\", \"startlinecolor\": \"#2a3f5f\"}, \"baxis\": {\"endlinecolor\": \"#2a3f5f\", \"gridcolor\": \"white\", \"linecolor\": \"white\", \"minorgridcolor\": \"white\", \"startlinecolor\": \"#2a3f5f\"}, \"type\": \"carpet\"}], \"choropleth\": [{\"colorbar\": {\"outlinewidth\": 0, \"ticks\": \"\"}, \"type\": \"choropleth\"}], \"contour\": [{\"colorbar\": {\"outlinewidth\": 0, \"ticks\": \"\"}, \"colorscale\": [[0.0, \"#0d0887\"], [0.1111111111111111, \"#46039f\"], [0.2222222222222222, \"#7201a8\"], [0.3333333333333333, \"#9c179e\"], [0.4444444444444444, \"#bd3786\"], [0.5555555555555556, \"#d8576b\"], [0.6666666666666666, \"#ed7953\"], [0.7777777777777778, \"#fb9f3a\"], [0.8888888888888888, \"#fdca26\"], [1.0, \"#f0f921\"]], \"type\": \"contour\"}], \"contourcarpet\": [{\"colorbar\": {\"outlinewidth\": 0, \"ticks\": \"\"}, \"type\": \"contourcarpet\"}], \"heatmap\": [{\"colorbar\": {\"outlinewidth\": 0, \"ticks\": \"\"}, \"colorscale\": [[0.0, \"#0d0887\"], [0.1111111111111111, \"#46039f\"], [0.2222222222222222, \"#7201a8\"], [0.3333333333333333, \"#9c179e\"], [0.4444444444444444, \"#bd3786\"], [0.5555555555555556, \"#d8576b\"], [0.6666666666666666, \"#ed7953\"], [0.7777777777777778, \"#fb9f3a\"], [0.8888888888888888, \"#fdca26\"], [1.0, \"#f0f921\"]], \"type\": \"heatmap\"}], \"heatmapgl\": [{\"colorbar\": {\"outlinewidth\": 0, \"ticks\": \"\"}, \"colorscale\": [[0.0, \"#0d0887\"], [0.1111111111111111, \"#46039f\"], [0.2222222222222222, \"#7201a8\"], [0.3333333333333333, \"#9c179e\"], [0.4444444444444444, \"#bd3786\"], [0.5555555555555556, \"#d8576b\"], [0.6666666666666666, \"#ed7953\"], [0.7777777777777778, \"#fb9f3a\"], [0.8888888888888888, \"#fdca26\"], [1.0, \"#f0f921\"]], \"type\": \"heatmapgl\"}], \"histogram\": [{\"marker\": {\"colorbar\": {\"outlinewidth\": 0, \"ticks\": \"\"}}, \"type\": \"histogram\"}], \"histogram2d\": [{\"colorbar\": {\"outlinewidth\": 0, \"ticks\": \"\"}, \"colorscale\": [[0.0, \"#0d0887\"], [0.1111111111111111, \"#46039f\"], [0.2222222222222222, \"#7201a8\"], [0.3333333333333333, \"#9c179e\"], [0.4444444444444444, \"#bd3786\"], [0.5555555555555556, \"#d8576b\"], [0.6666666666666666, \"#ed7953\"], [0.7777777777777778, \"#fb9f3a\"], [0.8888888888888888, \"#fdca26\"], [1.0, \"#f0f921\"]], \"type\": \"histogram2d\"}], \"histogram2dcontour\": [{\"colorbar\": {\"outlinewidth\": 0, \"ticks\": \"\"}, \"colorscale\": [[0.0, \"#0d0887\"], [0.1111111111111111, \"#46039f\"], [0.2222222222222222, \"#7201a8\"], [0.3333333333333333, \"#9c179e\"], [0.4444444444444444, \"#bd3786\"], [0.5555555555555556, \"#d8576b\"], [0.6666666666666666, \"#ed7953\"], [0.7777777777777778, \"#fb9f3a\"], [0.8888888888888888, \"#fdca26\"], [1.0, \"#f0f921\"]], \"type\": \"histogram2dcontour\"}], \"mesh3d\": [{\"colorbar\": {\"outlinewidth\": 0, \"ticks\": \"\"}, \"type\": \"mesh3d\"}], \"parcoords\": [{\"line\": {\"colorbar\": {\"outlinewidth\": 0, \"ticks\": \"\"}}, \"type\": \"parcoords\"}], \"pie\": [{\"automargin\": true, \"type\": \"pie\"}], \"scatter\": [{\"marker\": {\"colorbar\": {\"outlinewidth\": 0, \"ticks\": \"\"}}, \"type\": \"scatter\"}], \"scatter3d\": [{\"line\": {\"colorbar\": {\"outlinewidth\": 0, \"ticks\": \"\"}}, \"marker\": {\"colorbar\": {\"outlinewidth\": 0, \"ticks\": \"\"}}, \"type\": \"scatter3d\"}], \"scattercarpet\": [{\"marker\": {\"colorbar\": {\"outlinewidth\": 0, \"ticks\": \"\"}}, \"type\": \"scattercarpet\"}], \"scattergeo\": [{\"marker\": {\"colorbar\": {\"outlinewidth\": 0, \"ticks\": \"\"}}, \"type\": \"scattergeo\"}], \"scattergl\": [{\"marker\": {\"colorbar\": {\"outlinewidth\": 0, \"ticks\": \"\"}}, \"type\": \"scattergl\"}], \"scattermapbox\": [{\"marker\": {\"colorbar\": {\"outlinewidth\": 0, \"ticks\": \"\"}}, \"type\": \"scattermapbox\"}], \"scatterpolar\": [{\"marker\": {\"colorbar\": {\"outlinewidth\": 0, \"ticks\": \"\"}}, \"type\": \"scatterpolar\"}], \"scatterpolargl\": [{\"marker\": {\"colorbar\": {\"outlinewidth\": 0, \"ticks\": \"\"}}, \"type\": \"scatterpolargl\"}], \"scatterternary\": [{\"marker\": {\"colorbar\": {\"outlinewidth\": 0, \"ticks\": \"\"}}, \"type\": \"scatterternary\"}], \"surface\": [{\"colorbar\": {\"outlinewidth\": 0, \"ticks\": \"\"}, \"colorscale\": [[0.0, \"#0d0887\"], [0.1111111111111111, \"#46039f\"], [0.2222222222222222, \"#7201a8\"], [0.3333333333333333, \"#9c179e\"], [0.4444444444444444, \"#bd3786\"], [0.5555555555555556, \"#d8576b\"], [0.6666666666666666, \"#ed7953\"], [0.7777777777777778, \"#fb9f3a\"], [0.8888888888888888, \"#fdca26\"], [1.0, \"#f0f921\"]], \"type\": \"surface\"}], \"table\": [{\"cells\": {\"fill\": {\"color\": \"#EBF0F8\"}, \"line\": {\"color\": \"white\"}}, \"header\": {\"fill\": {\"color\": \"#C8D4E3\"}, \"line\": {\"color\": \"white\"}}, \"type\": \"table\"}]}, \"layout\": {\"annotationdefaults\": {\"arrowcolor\": \"#2a3f5f\", \"arrowhead\": 0, \"arrowwidth\": 1}, \"coloraxis\": {\"colorbar\": {\"outlinewidth\": 0, \"ticks\": \"\"}}, \"colorscale\": {\"diverging\": [[0, \"#8e0152\"], [0.1, \"#c51b7d\"], [0.2, \"#de77ae\"], [0.3, \"#f1b6da\"], [0.4, \"#fde0ef\"], [0.5, \"#f7f7f7\"], [0.6, \"#e6f5d0\"], [0.7, \"#b8e186\"], [0.8, \"#7fbc41\"], [0.9, \"#4d9221\"], [1, \"#276419\"]], \"sequential\": [[0.0, \"#0d0887\"], [0.1111111111111111, \"#46039f\"], [0.2222222222222222, \"#7201a8\"], [0.3333333333333333, \"#9c179e\"], [0.4444444444444444, \"#bd3786\"], [0.5555555555555556, \"#d8576b\"], [0.6666666666666666, \"#ed7953\"], [0.7777777777777778, \"#fb9f3a\"], [0.8888888888888888, \"#fdca26\"], [1.0, \"#f0f921\"]], \"sequentialminus\": [[0.0, \"#0d0887\"], [0.1111111111111111, \"#46039f\"], [0.2222222222222222, \"#7201a8\"], [0.3333333333333333, \"#9c179e\"], [0.4444444444444444, \"#bd3786\"], [0.5555555555555556, \"#d8576b\"], [0.6666666666666666, \"#ed7953\"], [0.7777777777777778, \"#fb9f3a\"], [0.8888888888888888, \"#fdca26\"], [1.0, \"#f0f921\"]]}, \"colorway\": [\"#636efa\", \"#EF553B\", \"#00cc96\", \"#ab63fa\", \"#FFA15A\", \"#19d3f3\", \"#FF6692\", \"#B6E880\", \"#FF97FF\", \"#FECB52\"], \"font\": {\"color\": \"#2a3f5f\"}, \"geo\": {\"bgcolor\": \"white\", \"lakecolor\": \"white\", \"landcolor\": \"#E5ECF6\", \"showlakes\": true, \"showland\": true, \"subunitcolor\": \"white\"}, \"hoverlabel\": {\"align\": \"left\"}, \"hovermode\": \"closest\", \"mapbox\": {\"style\": \"light\"}, \"paper_bgcolor\": \"white\", \"plot_bgcolor\": \"#E5ECF6\", \"polar\": {\"angularaxis\": {\"gridcolor\": \"white\", \"linecolor\": \"white\", \"ticks\": \"\"}, \"bgcolor\": \"#E5ECF6\", \"radialaxis\": {\"gridcolor\": \"white\", \"linecolor\": \"white\", \"ticks\": \"\"}}, \"scene\": {\"xaxis\": {\"backgroundcolor\": \"#E5ECF6\", \"gridcolor\": \"white\", \"gridwidth\": 2, \"linecolor\": \"white\", \"showbackground\": true, \"ticks\": \"\", \"zerolinecolor\": \"white\"}, \"yaxis\": {\"backgroundcolor\": \"#E5ECF6\", \"gridcolor\": \"white\", \"gridwidth\": 2, \"linecolor\": \"white\", \"showbackground\": true, \"ticks\": \"\", \"zerolinecolor\": \"white\"}, \"zaxis\": {\"backgroundcolor\": \"#E5ECF6\", \"gridcolor\": \"white\", \"gridwidth\": 2, \"linecolor\": \"white\", \"showbackground\": true, \"ticks\": \"\", \"zerolinecolor\": \"white\"}}, \"shapedefaults\": {\"line\": {\"color\": \"#2a3f5f\"}}, \"ternary\": {\"aaxis\": {\"gridcolor\": \"white\", \"linecolor\": \"white\", \"ticks\": \"\"}, \"baxis\": {\"gridcolor\": \"white\", \"linecolor\": \"white\", \"ticks\": \"\"}, \"bgcolor\": \"#E5ECF6\", \"caxis\": {\"gridcolor\": \"white\", \"linecolor\": \"white\", \"ticks\": \"\"}}, \"title\": {\"x\": 0.05}, \"xaxis\": {\"automargin\": true, \"gridcolor\": \"white\", \"linecolor\": \"white\", \"ticks\": \"\", \"title\": {\"standoff\": 15}, \"zerolinecolor\": \"white\", \"zerolinewidth\": 2}, \"yaxis\": {\"automargin\": true, \"gridcolor\": \"white\", \"linecolor\": \"white\", \"ticks\": \"\", \"title\": {\"standoff\": 15}, \"zerolinecolor\": \"white\", \"zerolinewidth\": 2}}}, \"title\": {\"text\": \"Average precipitation for each month of the year\", \"x\": 0.5, \"xanchor\": \"center\", \"y\": 0.9, \"yanchor\": \"top\"}, \"xaxis\": {\"anchor\": \"y\", \"domain\": [0.0, 1.0], \"title\": {\"text\": \"precipitation\"}}, \"yaxis\": {\"anchor\": \"x\", \"categoryarray\": [\"Dec\", \"Nov\", \"Oct\", \"Sep\", \"Aug\", \"Jul\", \"Jun\", \"May\", \"Apr\", \"Mar\", \"Feb\", \"Jan\"], \"categoryorder\": \"array\", \"domain\": [0.0, 1.0], \"title\": {\"text\": \"month\"}}},\n",
       "                        {\"responsive\": true}\n",
       "                    ).then(function(){\n",
       "                            \n",
       "var gd = document.getElementById('c3de71f8-0d77-4297-ab21-4ede6760a67c');\n",
       "var x = new MutationObserver(function (mutations, observer) {{\n",
       "        var display = window.getComputedStyle(gd).display;\n",
       "        if (!display || display === 'none') {{\n",
       "            console.log([gd, 'removed!']);\n",
       "            Plotly.purge(gd);\n",
       "            observer.disconnect();\n",
       "        }}\n",
       "}});\n",
       "\n",
       "// Listen for the removal of the full notebook cells\n",
       "var notebookContainer = gd.closest('#notebook-container');\n",
       "if (notebookContainer) {{\n",
       "    x.observe(notebookContainer, {childList: true});\n",
       "}}\n",
       "\n",
       "// Listen for the clearing of the current output cell\n",
       "var outputEl = gd.closest('.output');\n",
       "if (outputEl) {{\n",
       "    x.observe(outputEl, {childList: true});\n",
       "}}\n",
       "\n",
       "                        })\n",
       "                };\n",
       "                });\n",
       "            </script>\n",
       "        </div>"
      ]
     },
     "metadata": {},
     "output_type": "display_data"
    }
   ],
   "source": [
    "import plotly.express as px\n",
    "import plotly.graph_objects as go\n",
    "df = df_q13\n",
    "\n",
    "\n",
    "prec = df_q13['precipitation']\n",
    "\n",
    "fig = px.bar(df, y= 'month', x=\"precipitation\", color=\"month\",  orientation=\"h\", hover_name=\"month\",\n",
    "             color_discrete_sequence=['#0d0887', '#46039f', '#7201a8', '#9c179e', '#bd3786', '#d8576b', '#ed7953', '#fb9f3a', '#fdca26', '#f0f921', '#c3f921', '#94f921'],\n",
    "             title=\"Average precipitation for each month of the year\"\n",
    "            )\n",
    "\n",
    "fig.update_layout(\n",
    "    font=dict(\n",
    "        family=\"Courier New, monospace\",\n",
    "        size=18,\n",
    "        color=\"#7f7f7f\"\n",
    "    ),\n",
    "    title={\n",
    "        'y':0.9,\n",
    "        'x':0.5,\n",
    "        'xanchor': 'center',\n",
    "        'yanchor': 'top'}\n",
    ")\n",
    "\n",
    "\n",
    "\n",
    "fig.show()"
   ]
  },
  {
   "cell_type": "code",
   "execution_count": 141,
   "metadata": {},
   "outputs": [
    {
     "data": {
      "application/vnd.plotly.v1+json": {
       "config": {
        "plotlyServerURL": "https://plot.ly"
       },
       "data": [
        {
         "alignmentgroup": "True",
         "bingroup": "x",
         "hoverlabel": {
          "namelength": 0
         },
         "hovertemplate": "precipitation=%{x}<br>count=%{y}",
         "legendgroup": "1.5549999999999997",
         "marker": {
          "color": "#636efa",
          "opacity": 0.8
         },
         "name": "1.5549999999999997",
         "nbinsx": 40,
         "offsetgroup": "1.5549999999999997",
         "orientation": "v",
         "showlegend": true,
         "type": "histogram",
         "x": [
          1.5549999999999997
         ],
         "xaxis": "x",
         "yaxis": "y"
        },
        {
         "alignmentgroup": "True",
         "bingroup": "x",
         "hoverlabel": {
          "namelength": 0
         },
         "hovertemplate": "precipitation=%{x}<br>count=%{y}",
         "legendgroup": "0.07714285714285715",
         "marker": {
          "color": "#EF553B",
          "opacity": 0.8
         },
         "name": "0.07714285714285715",
         "nbinsx": 40,
         "offsetgroup": "0.07714285714285715",
         "orientation": "v",
         "showlegend": true,
         "type": "histogram",
         "x": [
          0.07714285714285715
         ],
         "xaxis": "x",
         "yaxis": "y"
        },
        {
         "alignmentgroup": "True",
         "bingroup": "x",
         "hoverlabel": {
          "namelength": 0
         },
         "hovertemplate": "precipitation=%{x}<br>count=%{y}",
         "legendgroup": "0.016666666666666666",
         "marker": {
          "color": "#00cc96",
          "opacity": 0.8
         },
         "name": "0.016666666666666666",
         "nbinsx": 40,
         "offsetgroup": "0.016666666666666666",
         "orientation": "v",
         "showlegend": true,
         "type": "histogram",
         "x": [
          0.016666666666666666,
          0.016666666666666666
         ],
         "xaxis": "x",
         "yaxis": "y"
        },
        {
         "alignmentgroup": "True",
         "bingroup": "x",
         "hoverlabel": {
          "namelength": 0
         },
         "hovertemplate": "precipitation=%{x}<br>count=%{y}",
         "legendgroup": "0.06399999999999999",
         "marker": {
          "color": "#ab63fa",
          "opacity": 0.8
         },
         "name": "0.06399999999999999",
         "nbinsx": 40,
         "offsetgroup": "0.06399999999999999",
         "orientation": "v",
         "showlegend": true,
         "type": "histogram",
         "x": [
          0.06399999999999999
         ],
         "xaxis": "x",
         "yaxis": "y"
        },
        {
         "alignmentgroup": "True",
         "bingroup": "x",
         "hoverlabel": {
          "namelength": 0
         },
         "hovertemplate": "precipitation=%{x}<br>count=%{y}",
         "legendgroup": "0.5166666666666666",
         "marker": {
          "color": "#FFA15A",
          "opacity": 0.8
         },
         "name": "0.5166666666666666",
         "nbinsx": 40,
         "offsetgroup": "0.5166666666666666",
         "orientation": "v",
         "showlegend": true,
         "type": "histogram",
         "x": [
          0.5166666666666666
         ],
         "xaxis": "x",
         "yaxis": "y"
        },
        {
         "alignmentgroup": "True",
         "bingroup": "x",
         "hoverlabel": {
          "namelength": 0
         },
         "hovertemplate": "precipitation=%{x}<br>count=%{y}",
         "legendgroup": "0.24333333333333332",
         "marker": {
          "color": "#19d3f3",
          "opacity": 0.8
         },
         "name": "0.24333333333333332",
         "nbinsx": 40,
         "offsetgroup": "0.24333333333333332",
         "orientation": "v",
         "showlegend": true,
         "type": "histogram",
         "x": [
          0.24333333333333332
         ],
         "xaxis": "x",
         "yaxis": "y"
        },
        {
         "alignmentgroup": "True",
         "bingroup": "x",
         "hoverlabel": {
          "namelength": 0
         },
         "hovertemplate": "precipitation=%{x}<br>count=%{y}",
         "legendgroup": "0.011666666666666667",
         "marker": {
          "color": "#FF6692",
          "opacity": 0.8
         },
         "name": "0.011666666666666667",
         "nbinsx": 40,
         "offsetgroup": "0.011666666666666667",
         "orientation": "v",
         "showlegend": true,
         "type": "histogram",
         "x": [
          0.011666666666666667,
          0.011666666666666667,
          0.011666666666666667
         ],
         "xaxis": "x",
         "yaxis": "y"
        },
        {
         "alignmentgroup": "True",
         "bingroup": "x",
         "hoverlabel": {
          "namelength": 0
         },
         "hovertemplate": "precipitation=%{x}<br>count=%{y}",
         "legendgroup": "0.6359999999999999",
         "marker": {
          "color": "#B6E880",
          "opacity": 0.8
         },
         "name": "0.6359999999999999",
         "nbinsx": 40,
         "offsetgroup": "0.6359999999999999",
         "orientation": "v",
         "showlegend": true,
         "type": "histogram",
         "x": [
          0.6359999999999999
         ],
         "xaxis": "x",
         "yaxis": "y"
        },
        {
         "alignmentgroup": "True",
         "bingroup": "x",
         "hoverlabel": {
          "namelength": 0
         },
         "hovertemplate": "precipitation=%{x}<br>count=%{y}",
         "legendgroup": "0.006",
         "marker": {
          "color": "#FF97FF",
          "opacity": 0.8
         },
         "name": "0.006",
         "nbinsx": 40,
         "offsetgroup": "0.006",
         "orientation": "v",
         "showlegend": true,
         "type": "histogram",
         "x": [
          0.006,
          0.006
         ],
         "xaxis": "x",
         "yaxis": "y"
        },
        {
         "alignmentgroup": "True",
         "bingroup": "x",
         "hoverlabel": {
          "namelength": 0
         },
         "hovertemplate": "precipitation=%{x}<br>count=%{y}",
         "legendgroup": "0.05",
         "marker": {
          "color": "#FECB52",
          "opacity": 0.8
         },
         "name": "0.05",
         "nbinsx": 40,
         "offsetgroup": "0.05",
         "orientation": "v",
         "showlegend": true,
         "type": "histogram",
         "x": [
          0.05,
          0.05
         ],
         "xaxis": "x",
         "yaxis": "y"
        },
        {
         "alignmentgroup": "True",
         "bingroup": "x",
         "hoverlabel": {
          "namelength": 0
         },
         "hovertemplate": "precipitation=%{x}<br>count=%{y}",
         "legendgroup": "0.254",
         "marker": {
          "color": "#636efa",
          "opacity": 0.8
         },
         "name": "0.254",
         "nbinsx": 40,
         "offsetgroup": "0.254",
         "orientation": "v",
         "showlegend": true,
         "type": "histogram",
         "x": [
          0.254
         ],
         "xaxis": "x",
         "yaxis": "y"
        },
        {
         "alignmentgroup": "True",
         "bingroup": "x",
         "hoverlabel": {
          "namelength": 0
         },
         "hovertemplate": "precipitation=%{x}<br>count=%{y}",
         "legendgroup": "0.276",
         "marker": {
          "color": "#EF553B",
          "opacity": 0.8
         },
         "name": "0.276",
         "nbinsx": 40,
         "offsetgroup": "0.276",
         "orientation": "v",
         "showlegend": true,
         "type": "histogram",
         "x": [
          0.276
         ],
         "xaxis": "x",
         "yaxis": "y"
        },
        {
         "alignmentgroup": "True",
         "bingroup": "x",
         "hoverlabel": {
          "namelength": 0
         },
         "hovertemplate": "precipitation=%{x}<br>count=%{y}",
         "legendgroup": "0.08499999999999999",
         "marker": {
          "color": "#00cc96",
          "opacity": 0.8
         },
         "name": "0.08499999999999999",
         "nbinsx": 40,
         "offsetgroup": "0.08499999999999999",
         "orientation": "v",
         "showlegend": true,
         "type": "histogram",
         "x": [
          0.08499999999999999
         ],
         "xaxis": "x",
         "yaxis": "y"
        },
        {
         "alignmentgroup": "True",
         "bingroup": "x",
         "hoverlabel": {
          "namelength": 0
         },
         "hovertemplate": "precipitation=%{x}<br>count=%{y}",
         "legendgroup": "0.246",
         "marker": {
          "color": "#ab63fa",
          "opacity": 0.8
         },
         "name": "0.246",
         "nbinsx": 40,
         "offsetgroup": "0.246",
         "orientation": "v",
         "showlegend": true,
         "type": "histogram",
         "x": [
          0.246
         ],
         "xaxis": "x",
         "yaxis": "y"
        },
        {
         "alignmentgroup": "True",
         "bingroup": "x",
         "hoverlabel": {
          "namelength": 0
         },
         "hovertemplate": "precipitation=%{x}<br>count=%{y}",
         "legendgroup": "0.3333333333333333",
         "marker": {
          "color": "#FFA15A",
          "opacity": 0.8
         },
         "name": "0.3333333333333333",
         "nbinsx": 40,
         "offsetgroup": "0.3333333333333333",
         "orientation": "v",
         "showlegend": true,
         "type": "histogram",
         "x": [
          0.3333333333333333
         ],
         "xaxis": "x",
         "yaxis": "y"
        },
        {
         "alignmentgroup": "True",
         "bingroup": "x",
         "hoverlabel": {
          "namelength": 0
         },
         "hovertemplate": "precipitation=%{x}<br>count=%{y}",
         "legendgroup": "0.07666666666666667",
         "marker": {
          "color": "#19d3f3",
          "opacity": 0.8
         },
         "name": "0.07666666666666667",
         "nbinsx": 40,
         "offsetgroup": "0.07666666666666667",
         "orientation": "v",
         "showlegend": true,
         "type": "histogram",
         "x": [
          0.07666666666666667
         ],
         "xaxis": "x",
         "yaxis": "y"
        },
        {
         "alignmentgroup": "True",
         "bingroup": "x",
         "hoverlabel": {
          "namelength": 0
         },
         "hovertemplate": "precipitation=%{x}<br>count=%{y}",
         "legendgroup": "0.17833333333333332",
         "marker": {
          "color": "#FF6692",
          "opacity": 0.8
         },
         "name": "0.17833333333333332",
         "nbinsx": 40,
         "offsetgroup": "0.17833333333333332",
         "orientation": "v",
         "showlegend": true,
         "type": "histogram",
         "x": [
          0.17833333333333332
         ],
         "xaxis": "x",
         "yaxis": "y"
        },
        {
         "alignmentgroup": "True",
         "bingroup": "x",
         "hoverlabel": {
          "namelength": 0
         },
         "hovertemplate": "precipitation=%{x}<br>count=%{y}",
         "legendgroup": "0.27999999999999997",
         "marker": {
          "color": "#B6E880",
          "opacity": 0.8
         },
         "name": "0.27999999999999997",
         "nbinsx": 40,
         "offsetgroup": "0.27999999999999997",
         "orientation": "v",
         "showlegend": true,
         "type": "histogram",
         "x": [
          0.27999999999999997
         ],
         "xaxis": "x",
         "yaxis": "y"
        },
        {
         "alignmentgroup": "True",
         "bingroup": "x",
         "hoverlabel": {
          "namelength": 0
         },
         "hovertemplate": "precipitation=%{x}<br>count=%{y}",
         "legendgroup": "0.25",
         "marker": {
          "color": "#FF97FF",
          "opacity": 0.8
         },
         "name": "0.25",
         "nbinsx": 40,
         "offsetgroup": "0.25",
         "orientation": "v",
         "showlegend": true,
         "type": "histogram",
         "x": [
          0.25,
          0.25
         ],
         "xaxis": "x",
         "yaxis": "y"
        },
        {
         "alignmentgroup": "True",
         "bingroup": "x",
         "hoverlabel": {
          "namelength": 0
         },
         "hovertemplate": "precipitation=%{x}<br>count=%{y}",
         "legendgroup": "0.308",
         "marker": {
          "color": "#FECB52",
          "opacity": 0.8
         },
         "name": "0.308",
         "nbinsx": 40,
         "offsetgroup": "0.308",
         "orientation": "v",
         "showlegend": true,
         "type": "histogram",
         "x": [
          0.308
         ],
         "xaxis": "x",
         "yaxis": "y"
        },
        {
         "alignmentgroup": "True",
         "bingroup": "x",
         "hoverlabel": {
          "namelength": 0
         },
         "hovertemplate": "precipitation=%{x}<br>count=%{y}",
         "legendgroup": "0.45166666666666666",
         "marker": {
          "color": "#636efa",
          "opacity": 0.8
         },
         "name": "0.45166666666666666",
         "nbinsx": 40,
         "offsetgroup": "0.45166666666666666",
         "orientation": "v",
         "showlegend": true,
         "type": "histogram",
         "x": [
          0.45166666666666666,
          0.45166666666666666,
          0.45166666666666666
         ],
         "xaxis": "x",
         "yaxis": "y"
        },
        {
         "alignmentgroup": "True",
         "bingroup": "x",
         "hoverlabel": {
          "namelength": 0
         },
         "hovertemplate": "precipitation=%{x}<br>count=%{y}",
         "legendgroup": "2.3800000000000003",
         "marker": {
          "color": "#EF553B",
          "opacity": 0.8
         },
         "name": "2.3800000000000003",
         "nbinsx": 40,
         "offsetgroup": "2.3800000000000003",
         "orientation": "v",
         "showlegend": true,
         "type": "histogram",
         "x": [
          2.3800000000000003
         ],
         "xaxis": "x",
         "yaxis": "y"
        },
        {
         "alignmentgroup": "True",
         "bingroup": "x",
         "hoverlabel": {
          "namelength": 0
         },
         "hovertemplate": "precipitation=%{x}<br>count=%{y}",
         "legendgroup": "0.8266666666666667",
         "marker": {
          "color": "#00cc96",
          "opacity": 0.8
         },
         "name": "0.8266666666666667",
         "nbinsx": 40,
         "offsetgroup": "0.8266666666666667",
         "orientation": "v",
         "showlegend": true,
         "type": "histogram",
         "x": [
          0.8266666666666667
         ],
         "xaxis": "x",
         "yaxis": "y"
        },
        {
         "alignmentgroup": "True",
         "bingroup": "x",
         "hoverlabel": {
          "namelength": 0
         },
         "hovertemplate": "precipitation=%{x}<br>count=%{y}",
         "legendgroup": "0.11714285714285715",
         "marker": {
          "color": "#ab63fa",
          "opacity": 0.8
         },
         "name": "0.11714285714285715",
         "nbinsx": 40,
         "offsetgroup": "0.11714285714285715",
         "orientation": "v",
         "showlegend": true,
         "type": "histogram",
         "x": [
          0.11714285714285715
         ],
         "xaxis": "x",
         "yaxis": "y"
        },
        {
         "alignmentgroup": "True",
         "bingroup": "x",
         "hoverlabel": {
          "namelength": 0
         },
         "hovertemplate": "precipitation=%{x}<br>count=%{y}",
         "legendgroup": "0.13599999999999998",
         "marker": {
          "color": "#FFA15A",
          "opacity": 0.8
         },
         "name": "0.13599999999999998",
         "nbinsx": 40,
         "offsetgroup": "0.13599999999999998",
         "orientation": "v",
         "showlegend": true,
         "type": "histogram",
         "x": [
          0.13599999999999998
         ],
         "xaxis": "x",
         "yaxis": "y"
        },
        {
         "alignmentgroup": "True",
         "bingroup": "x",
         "hoverlabel": {
          "namelength": 0
         },
         "hovertemplate": "precipitation=%{x}<br>count=%{y}",
         "legendgroup": "0.10600000000000001",
         "marker": {
          "color": "#19d3f3",
          "opacity": 0.8
         },
         "name": "0.10600000000000001",
         "nbinsx": 40,
         "offsetgroup": "0.10600000000000001",
         "orientation": "v",
         "showlegend": true,
         "type": "histogram",
         "x": [
          0.10600000000000001
         ],
         "xaxis": "x",
         "yaxis": "y"
        },
        {
         "alignmentgroup": "True",
         "bingroup": "x",
         "hoverlabel": {
          "namelength": 0
         },
         "hovertemplate": "precipitation=%{x}<br>count=%{y}",
         "legendgroup": "0.064",
         "marker": {
          "color": "#FF6692",
          "opacity": 0.8
         },
         "name": "0.064",
         "nbinsx": 40,
         "offsetgroup": "0.064",
         "orientation": "v",
         "showlegend": true,
         "type": "histogram",
         "x": [
          0.064,
          0.064
         ],
         "xaxis": "x",
         "yaxis": "y"
        },
        {
         "alignmentgroup": "True",
         "bingroup": "x",
         "hoverlabel": {
          "namelength": 0
         },
         "hovertemplate": "precipitation=%{x}<br>count=%{y}",
         "legendgroup": "0.14714285714285716",
         "marker": {
          "color": "#B6E880",
          "opacity": 0.8
         },
         "name": "0.14714285714285716",
         "nbinsx": 40,
         "offsetgroup": "0.14714285714285716",
         "orientation": "v",
         "showlegend": true,
         "type": "histogram",
         "x": [
          0.14714285714285716
         ],
         "xaxis": "x",
         "yaxis": "y"
        },
        {
         "alignmentgroup": "True",
         "bingroup": "x",
         "hoverlabel": {
          "namelength": 0
         },
         "hovertemplate": "precipitation=%{x}<br>count=%{y}",
         "legendgroup": "0.19499999999999998",
         "marker": {
          "color": "#FF97FF",
          "opacity": 0.8
         },
         "name": "0.19499999999999998",
         "nbinsx": 40,
         "offsetgroup": "0.19499999999999998",
         "orientation": "v",
         "showlegend": true,
         "type": "histogram",
         "x": [
          0.19499999999999998
         ],
         "xaxis": "x",
         "yaxis": "y"
        },
        {
         "alignmentgroup": "True",
         "bingroup": "x",
         "hoverlabel": {
          "namelength": 0
         },
         "hovertemplate": "precipitation=%{x}<br>count=%{y}",
         "legendgroup": "0.2057142857142857",
         "marker": {
          "color": "#FECB52",
          "opacity": 0.8
         },
         "name": "0.2057142857142857",
         "nbinsx": 40,
         "offsetgroup": "0.2057142857142857",
         "orientation": "v",
         "showlegend": true,
         "type": "histogram",
         "x": [
          0.2057142857142857
         ],
         "xaxis": "x",
         "yaxis": "y"
        },
        {
         "alignmentgroup": "True",
         "bingroup": "x",
         "hoverlabel": {
          "namelength": 0
         },
         "hovertemplate": "precipitation=%{x}<br>count=%{y}",
         "legendgroup": "0.22428571428571428",
         "marker": {
          "color": "#636efa",
          "opacity": 0.8
         },
         "name": "0.22428571428571428",
         "nbinsx": 40,
         "offsetgroup": "0.22428571428571428",
         "orientation": "v",
         "showlegend": true,
         "type": "histogram",
         "x": [
          0.22428571428571428
         ],
         "xaxis": "x",
         "yaxis": "y"
        },
        {
         "alignmentgroup": "True",
         "bingroup": "x",
         "hoverlabel": {
          "namelength": 0
         },
         "hovertemplate": "precipitation=%{x}<br>count=%{y}",
         "legendgroup": "0.04666666666666667",
         "marker": {
          "color": "#EF553B",
          "opacity": 0.8
         },
         "name": "0.04666666666666667",
         "nbinsx": 40,
         "offsetgroup": "0.04666666666666667",
         "orientation": "v",
         "showlegend": true,
         "type": "histogram",
         "x": [
          0.04666666666666667,
          0.04666666666666667
         ],
         "xaxis": "x",
         "yaxis": "y"
        },
        {
         "alignmentgroup": "True",
         "bingroup": "x",
         "hoverlabel": {
          "namelength": 0
         },
         "hovertemplate": "precipitation=%{x}<br>count=%{y}",
         "legendgroup": "0.015",
         "marker": {
          "color": "#00cc96",
          "opacity": 0.8
         },
         "name": "0.015",
         "nbinsx": 40,
         "offsetgroup": "0.015",
         "orientation": "v",
         "showlegend": true,
         "type": "histogram",
         "x": [
          0.015,
          0.015,
          0.015
         ],
         "xaxis": "x",
         "yaxis": "y"
        },
        {
         "alignmentgroup": "True",
         "bingroup": "x",
         "hoverlabel": {
          "namelength": 0
         },
         "hovertemplate": "precipitation=%{x}<br>count=%{y}",
         "legendgroup": "0.2783333333333333",
         "marker": {
          "color": "#ab63fa",
          "opacity": 0.8
         },
         "name": "0.2783333333333333",
         "nbinsx": 40,
         "offsetgroup": "0.2783333333333333",
         "orientation": "v",
         "showlegend": true,
         "type": "histogram",
         "x": [
          0.2783333333333333
         ],
         "xaxis": "x",
         "yaxis": "y"
        },
        {
         "alignmentgroup": "True",
         "bingroup": "x",
         "hoverlabel": {
          "namelength": 0
         },
         "hovertemplate": "precipitation=%{x}<br>count=%{y}",
         "legendgroup": "0.22666666666666666",
         "marker": {
          "color": "#FFA15A",
          "opacity": 0.8
         },
         "name": "0.22666666666666666",
         "nbinsx": 40,
         "offsetgroup": "0.22666666666666666",
         "orientation": "v",
         "showlegend": true,
         "type": "histogram",
         "x": [
          0.22666666666666666
         ],
         "xaxis": "x",
         "yaxis": "y"
        },
        {
         "alignmentgroup": "True",
         "bingroup": "x",
         "hoverlabel": {
          "namelength": 0
         },
         "hovertemplate": "precipitation=%{x}<br>count=%{y}",
         "legendgroup": "0.018571428571428572",
         "marker": {
          "color": "#19d3f3",
          "opacity": 0.8
         },
         "name": "0.018571428571428572",
         "nbinsx": 40,
         "offsetgroup": "0.018571428571428572",
         "orientation": "v",
         "showlegend": true,
         "type": "histogram",
         "x": [
          0.018571428571428572,
          0.018571428571428572
         ],
         "xaxis": "x",
         "yaxis": "y"
        },
        {
         "alignmentgroup": "True",
         "bingroup": "x",
         "hoverlabel": {
          "namelength": 0
         },
         "hovertemplate": "precipitation=%{x}<br>count=%{y}",
         "legendgroup": "0.42714285714285716",
         "marker": {
          "color": "#FF6692",
          "opacity": 0.8
         },
         "name": "0.42714285714285716",
         "nbinsx": 40,
         "offsetgroup": "0.42714285714285716",
         "orientation": "v",
         "showlegend": true,
         "type": "histogram",
         "x": [
          0.42714285714285716
         ],
         "xaxis": "x",
         "yaxis": "y"
        },
        {
         "alignmentgroup": "True",
         "bingroup": "x",
         "hoverlabel": {
          "namelength": 0
         },
         "hovertemplate": "precipitation=%{x}<br>count=%{y}",
         "legendgroup": "0.19166666666666665",
         "marker": {
          "color": "#B6E880",
          "opacity": 0.8
         },
         "name": "0.19166666666666665",
         "nbinsx": 40,
         "offsetgroup": "0.19166666666666665",
         "orientation": "v",
         "showlegend": true,
         "type": "histogram",
         "x": [
          0.19166666666666665,
          0.19166666666666665
         ],
         "xaxis": "x",
         "yaxis": "y"
        },
        {
         "alignmentgroup": "True",
         "bingroup": "x",
         "hoverlabel": {
          "namelength": 0
         },
         "hovertemplate": "precipitation=%{x}<br>count=%{y}",
         "legendgroup": "0.2416666666666667",
         "marker": {
          "color": "#FF97FF",
          "opacity": 0.8
         },
         "name": "0.2416666666666667",
         "nbinsx": 40,
         "offsetgroup": "0.2416666666666667",
         "orientation": "v",
         "showlegend": true,
         "type": "histogram",
         "x": [
          0.2416666666666667
         ],
         "xaxis": "x",
         "yaxis": "y"
        },
        {
         "alignmentgroup": "True",
         "bingroup": "x",
         "hoverlabel": {
          "namelength": 0
         },
         "hovertemplate": "precipitation=%{x}<br>count=%{y}",
         "legendgroup": "0.12",
         "marker": {
          "color": "#FECB52",
          "opacity": 0.8
         },
         "name": "0.12",
         "nbinsx": 40,
         "offsetgroup": "0.12",
         "orientation": "v",
         "showlegend": true,
         "type": "histogram",
         "x": [
          0.12,
          0.12,
          0.12,
          0.12
         ],
         "xaxis": "x",
         "yaxis": "y"
        },
        {
         "alignmentgroup": "True",
         "bingroup": "x",
         "hoverlabel": {
          "namelength": 0
         },
         "hovertemplate": "precipitation=%{x}<br>count=%{y}",
         "legendgroup": "0.115",
         "marker": {
          "color": "#636efa",
          "opacity": 0.8
         },
         "name": "0.115",
         "nbinsx": 40,
         "offsetgroup": "0.115",
         "orientation": "v",
         "showlegend": true,
         "type": "histogram",
         "x": [
          0.115
         ],
         "xaxis": "x",
         "yaxis": "y"
        },
        {
         "alignmentgroup": "True",
         "bingroup": "x",
         "hoverlabel": {
          "namelength": 0
         },
         "hovertemplate": "precipitation=%{x}<br>count=%{y}",
         "legendgroup": "0.5816666666666667",
         "marker": {
          "color": "#EF553B",
          "opacity": 0.8
         },
         "name": "0.5816666666666667",
         "nbinsx": 40,
         "offsetgroup": "0.5816666666666667",
         "orientation": "v",
         "showlegend": true,
         "type": "histogram",
         "x": [
          0.5816666666666667
         ],
         "xaxis": "x",
         "yaxis": "y"
        },
        {
         "alignmentgroup": "True",
         "bingroup": "x",
         "hoverlabel": {
          "namelength": 0
         },
         "hovertemplate": "precipitation=%{x}<br>count=%{y}",
         "legendgroup": "0.1366666666666667",
         "marker": {
          "color": "#00cc96",
          "opacity": 0.8
         },
         "name": "0.1366666666666667",
         "nbinsx": 40,
         "offsetgroup": "0.1366666666666667",
         "orientation": "v",
         "showlegend": true,
         "type": "histogram",
         "x": [
          0.1366666666666667
         ],
         "xaxis": "x",
         "yaxis": "y"
        },
        {
         "alignmentgroup": "True",
         "bingroup": "x",
         "hoverlabel": {
          "namelength": 0
         },
         "hovertemplate": "precipitation=%{x}<br>count=%{y}",
         "legendgroup": "0.022857142857142857",
         "marker": {
          "color": "#ab63fa",
          "opacity": 0.8
         },
         "name": "0.022857142857142857",
         "nbinsx": 40,
         "offsetgroup": "0.022857142857142857",
         "orientation": "v",
         "showlegend": true,
         "type": "histogram",
         "x": [
          0.022857142857142857
         ],
         "xaxis": "x",
         "yaxis": "y"
        },
        {
         "alignmentgroup": "True",
         "bingroup": "x",
         "hoverlabel": {
          "namelength": 0
         },
         "hovertemplate": "precipitation=%{x}<br>count=%{y}",
         "legendgroup": "0.0016666666666666668",
         "marker": {
          "color": "#FFA15A",
          "opacity": 0.8
         },
         "name": "0.0016666666666666668",
         "nbinsx": 40,
         "offsetgroup": "0.0016666666666666668",
         "orientation": "v",
         "showlegend": true,
         "type": "histogram",
         "x": [
          0.0016666666666666668,
          0.0016666666666666668,
          0.0016666666666666668,
          0.0016666666666666668,
          0.0016666666666666668,
          0.0016666666666666668
         ],
         "xaxis": "x",
         "yaxis": "y"
        },
        {
         "alignmentgroup": "True",
         "bingroup": "x",
         "hoverlabel": {
          "namelength": 0
         },
         "hovertemplate": "precipitation=%{x}<br>count=%{y}",
         "legendgroup": "0.008",
         "marker": {
          "color": "#19d3f3",
          "opacity": 0.8
         },
         "name": "0.008",
         "nbinsx": 40,
         "offsetgroup": "0.008",
         "orientation": "v",
         "showlegend": true,
         "type": "histogram",
         "x": [
          0.008,
          0.008,
          0.008,
          0.008
         ],
         "xaxis": "x",
         "yaxis": "y"
        },
        {
         "alignmentgroup": "True",
         "bingroup": "x",
         "hoverlabel": {
          "namelength": 0
         },
         "hovertemplate": "precipitation=%{x}<br>count=%{y}",
         "legendgroup": "0.0",
         "marker": {
          "color": "#FF6692",
          "opacity": 0.8
         },
         "name": "0.0",
         "nbinsx": 40,
         "offsetgroup": "0.0",
         "orientation": "v",
         "showlegend": true,
         "type": "histogram",
         "x": [
          0,
          0,
          0,
          0,
          0,
          0,
          0,
          0,
          0,
          0,
          0,
          0,
          0,
          0,
          0,
          0,
          0,
          0,
          0,
          0,
          0,
          0,
          0,
          0,
          0,
          0,
          0,
          0,
          0,
          0,
          0,
          0,
          0,
          0,
          0,
          0,
          0,
          0,
          0,
          0,
          0,
          0,
          0,
          0,
          0,
          0,
          0,
          0
         ],
         "xaxis": "x",
         "yaxis": "y"
        },
        {
         "alignmentgroup": "True",
         "bingroup": "x",
         "hoverlabel": {
          "namelength": 0
         },
         "hovertemplate": "precipitation=%{x}<br>count=%{y}",
         "legendgroup": "0.11499999999999999",
         "marker": {
          "color": "#B6E880",
          "opacity": 0.8
         },
         "name": "0.11499999999999999",
         "nbinsx": 40,
         "offsetgroup": "0.11499999999999999",
         "orientation": "v",
         "showlegend": true,
         "type": "histogram",
         "x": [
          0.11499999999999999,
          0.11499999999999999
         ],
         "xaxis": "x",
         "yaxis": "y"
        },
        {
         "alignmentgroup": "True",
         "bingroup": "x",
         "hoverlabel": {
          "namelength": 0
         },
         "hovertemplate": "precipitation=%{x}<br>count=%{y}",
         "legendgroup": "0.013333333333333334",
         "marker": {
          "color": "#FF97FF",
          "opacity": 0.8
         },
         "name": "0.013333333333333334",
         "nbinsx": 40,
         "offsetgroup": "0.013333333333333334",
         "orientation": "v",
         "showlegend": true,
         "type": "histogram",
         "x": [
          0.013333333333333334,
          0.013333333333333334,
          0.013333333333333334,
          0.013333333333333334
         ],
         "xaxis": "x",
         "yaxis": "y"
        },
        {
         "alignmentgroup": "True",
         "bingroup": "x",
         "hoverlabel": {
          "namelength": 0
         },
         "hovertemplate": "precipitation=%{x}<br>count=%{y}",
         "legendgroup": "0.065",
         "marker": {
          "color": "#FECB52",
          "opacity": 0.8
         },
         "name": "0.065",
         "nbinsx": 40,
         "offsetgroup": "0.065",
         "orientation": "v",
         "showlegend": true,
         "type": "histogram",
         "x": [
          0.065,
          0.065,
          0.065
         ],
         "xaxis": "x",
         "yaxis": "y"
        },
        {
         "alignmentgroup": "True",
         "bingroup": "x",
         "hoverlabel": {
          "namelength": 0
         },
         "hovertemplate": "precipitation=%{x}<br>count=%{y}",
         "legendgroup": "0.11000000000000001",
         "marker": {
          "color": "#636efa",
          "opacity": 0.8
         },
         "name": "0.11000000000000001",
         "nbinsx": 40,
         "offsetgroup": "0.11000000000000001",
         "orientation": "v",
         "showlegend": true,
         "type": "histogram",
         "x": [
          0.11000000000000001,
          0.11000000000000001,
          0.11000000000000001
         ],
         "xaxis": "x",
         "yaxis": "y"
        },
        {
         "alignmentgroup": "True",
         "bingroup": "x",
         "hoverlabel": {
          "namelength": 0
         },
         "hovertemplate": "precipitation=%{x}<br>count=%{y}",
         "legendgroup": "0.09999999999999999",
         "marker": {
          "color": "#EF553B",
          "opacity": 0.8
         },
         "name": "0.09999999999999999",
         "nbinsx": 40,
         "offsetgroup": "0.09999999999999999",
         "orientation": "v",
         "showlegend": true,
         "type": "histogram",
         "x": [
          0.09999999999999999
         ],
         "xaxis": "x",
         "yaxis": "y"
        },
        {
         "alignmentgroup": "True",
         "bingroup": "x",
         "hoverlabel": {
          "namelength": 0
         },
         "hovertemplate": "precipitation=%{x}<br>count=%{y}",
         "legendgroup": "0.028333333333333332",
         "marker": {
          "color": "#00cc96",
          "opacity": 0.8
         },
         "name": "0.028333333333333332",
         "nbinsx": 40,
         "offsetgroup": "0.028333333333333332",
         "orientation": "v",
         "showlegend": true,
         "type": "histogram",
         "x": [
          0.028333333333333332
         ],
         "xaxis": "x",
         "yaxis": "y"
        },
        {
         "alignmentgroup": "True",
         "bingroup": "x",
         "hoverlabel": {
          "namelength": 0
         },
         "hovertemplate": "precipitation=%{x}<br>count=%{y}",
         "legendgroup": "0.202",
         "marker": {
          "color": "#ab63fa",
          "opacity": 0.8
         },
         "name": "0.202",
         "nbinsx": 40,
         "offsetgroup": "0.202",
         "orientation": "v",
         "showlegend": true,
         "type": "histogram",
         "x": [
          0.202
         ],
         "xaxis": "x",
         "yaxis": "y"
        },
        {
         "alignmentgroup": "True",
         "bingroup": "x",
         "hoverlabel": {
          "namelength": 0
         },
         "hovertemplate": "precipitation=%{x}<br>count=%{y}",
         "legendgroup": "0.354",
         "marker": {
          "color": "#FFA15A",
          "opacity": 0.8
         },
         "name": "0.354",
         "nbinsx": 40,
         "offsetgroup": "0.354",
         "orientation": "v",
         "showlegend": true,
         "type": "histogram",
         "x": [
          0.354
         ],
         "xaxis": "x",
         "yaxis": "y"
        },
        {
         "alignmentgroup": "True",
         "bingroup": "x",
         "hoverlabel": {
          "namelength": 0
         },
         "hovertemplate": "precipitation=%{x}<br>count=%{y}",
         "legendgroup": "0.055999999999999994",
         "marker": {
          "color": "#19d3f3",
          "opacity": 0.8
         },
         "name": "0.055999999999999994",
         "nbinsx": 40,
         "offsetgroup": "0.055999999999999994",
         "orientation": "v",
         "showlegend": true,
         "type": "histogram",
         "x": [
          0.055999999999999994
         ],
         "xaxis": "x",
         "yaxis": "y"
        },
        {
         "alignmentgroup": "True",
         "bingroup": "x",
         "hoverlabel": {
          "namelength": 0
         },
         "hovertemplate": "precipitation=%{x}<br>count=%{y}",
         "legendgroup": "0.13166666666666665",
         "marker": {
          "color": "#FF6692",
          "opacity": 0.8
         },
         "name": "0.13166666666666665",
         "nbinsx": 40,
         "offsetgroup": "0.13166666666666665",
         "orientation": "v",
         "showlegend": true,
         "type": "histogram",
         "x": [
          0.13166666666666665
         ],
         "xaxis": "x",
         "yaxis": "y"
        },
        {
         "alignmentgroup": "True",
         "bingroup": "x",
         "hoverlabel": {
          "namelength": 0
         },
         "hovertemplate": "precipitation=%{x}<br>count=%{y}",
         "legendgroup": "0.15714285714285717",
         "marker": {
          "color": "#B6E880",
          "opacity": 0.8
         },
         "name": "0.15714285714285717",
         "nbinsx": 40,
         "offsetgroup": "0.15714285714285717",
         "orientation": "v",
         "showlegend": true,
         "type": "histogram",
         "x": [
          0.15714285714285717
         ],
         "xaxis": "x",
         "yaxis": "y"
        },
        {
         "alignmentgroup": "True",
         "bingroup": "x",
         "hoverlabel": {
          "namelength": 0
         },
         "hovertemplate": "precipitation=%{x}<br>count=%{y}",
         "legendgroup": "0.04833333333333334",
         "marker": {
          "color": "#FF97FF",
          "opacity": 0.8
         },
         "name": "0.04833333333333334",
         "nbinsx": 40,
         "offsetgroup": "0.04833333333333334",
         "orientation": "v",
         "showlegend": true,
         "type": "histogram",
         "x": [
          0.04833333333333334
         ],
         "xaxis": "x",
         "yaxis": "y"
        },
        {
         "alignmentgroup": "True",
         "bingroup": "x",
         "hoverlabel": {
          "namelength": 0
         },
         "hovertemplate": "precipitation=%{x}<br>count=%{y}",
         "legendgroup": "0.31",
         "marker": {
          "color": "#FECB52",
          "opacity": 0.8
         },
         "name": "0.31",
         "nbinsx": 40,
         "offsetgroup": "0.31",
         "orientation": "v",
         "showlegend": true,
         "type": "histogram",
         "x": [
          0.31
         ],
         "xaxis": "x",
         "yaxis": "y"
        },
        {
         "alignmentgroup": "True",
         "bingroup": "x",
         "hoverlabel": {
          "namelength": 0
         },
         "hovertemplate": "precipitation=%{x}<br>count=%{y}",
         "legendgroup": "0.09500000000000001",
         "marker": {
          "color": "#636efa",
          "opacity": 0.8
         },
         "name": "0.09500000000000001",
         "nbinsx": 40,
         "offsetgroup": "0.09500000000000001",
         "orientation": "v",
         "showlegend": true,
         "type": "histogram",
         "x": [
          0.09500000000000001
         ],
         "xaxis": "x",
         "yaxis": "y"
        },
        {
         "alignmentgroup": "True",
         "bingroup": "x",
         "hoverlabel": {
          "namelength": 0
         },
         "hovertemplate": "precipitation=%{x}<br>count=%{y}",
         "legendgroup": "0.10666666666666667",
         "marker": {
          "color": "#EF553B",
          "opacity": 0.8
         },
         "name": "0.10666666666666667",
         "nbinsx": 40,
         "offsetgroup": "0.10666666666666667",
         "orientation": "v",
         "showlegend": true,
         "type": "histogram",
         "x": [
          0.10666666666666667
         ],
         "xaxis": "x",
         "yaxis": "y"
        },
        {
         "alignmentgroup": "True",
         "bingroup": "x",
         "hoverlabel": {
          "namelength": 0
         },
         "hovertemplate": "precipitation=%{x}<br>count=%{y}",
         "legendgroup": "0.26499999999999996",
         "marker": {
          "color": "#00cc96",
          "opacity": 0.8
         },
         "name": "0.26499999999999996",
         "nbinsx": 40,
         "offsetgroup": "0.26499999999999996",
         "orientation": "v",
         "showlegend": true,
         "type": "histogram",
         "x": [
          0.26499999999999996
         ],
         "xaxis": "x",
         "yaxis": "y"
        },
        {
         "alignmentgroup": "True",
         "bingroup": "x",
         "hoverlabel": {
          "namelength": 0
         },
         "hovertemplate": "precipitation=%{x}<br>count=%{y}",
         "legendgroup": "0.26833333333333337",
         "marker": {
          "color": "#ab63fa",
          "opacity": 0.8
         },
         "name": "0.26833333333333337",
         "nbinsx": 40,
         "offsetgroup": "0.26833333333333337",
         "orientation": "v",
         "showlegend": true,
         "type": "histogram",
         "x": [
          0.26833333333333337
         ],
         "xaxis": "x",
         "yaxis": "y"
        },
        {
         "alignmentgroup": "True",
         "bingroup": "x",
         "hoverlabel": {
          "namelength": 0
         },
         "hovertemplate": "precipitation=%{x}<br>count=%{y}",
         "legendgroup": "0.035",
         "marker": {
          "color": "#FFA15A",
          "opacity": 0.8
         },
         "name": "0.035",
         "nbinsx": 40,
         "offsetgroup": "0.035",
         "orientation": "v",
         "showlegend": true,
         "type": "histogram",
         "x": [
          0.035
         ],
         "xaxis": "x",
         "yaxis": "y"
        },
        {
         "alignmentgroup": "True",
         "bingroup": "x",
         "hoverlabel": {
          "namelength": 0
         },
         "hovertemplate": "precipitation=%{x}<br>count=%{y}",
         "legendgroup": "0.006666666666666667",
         "marker": {
          "color": "#19d3f3",
          "opacity": 0.8
         },
         "name": "0.006666666666666667",
         "nbinsx": 40,
         "offsetgroup": "0.006666666666666667",
         "orientation": "v",
         "showlegend": true,
         "type": "histogram",
         "x": [
          0.006666666666666667,
          0.006666666666666667,
          0.006666666666666667,
          0.006666666666666667
         ],
         "xaxis": "x",
         "yaxis": "y"
        },
        {
         "alignmentgroup": "True",
         "bingroup": "x",
         "hoverlabel": {
          "namelength": 0
         },
         "hovertemplate": "precipitation=%{x}<br>count=%{y}",
         "legendgroup": "0.0033333333333333335",
         "marker": {
          "color": "#FF6692",
          "opacity": 0.8
         },
         "name": "0.0033333333333333335",
         "nbinsx": 40,
         "offsetgroup": "0.0033333333333333335",
         "orientation": "v",
         "showlegend": true,
         "type": "histogram",
         "x": [
          0.0033333333333333335,
          0.0033333333333333335,
          0.0033333333333333335
         ],
         "xaxis": "x",
         "yaxis": "y"
        },
        {
         "alignmentgroup": "True",
         "bingroup": "x",
         "hoverlabel": {
          "namelength": 0
         },
         "hovertemplate": "precipitation=%{x}<br>count=%{y}",
         "legendgroup": "0.01",
         "marker": {
          "color": "#B6E880",
          "opacity": 0.8
         },
         "name": "0.01",
         "nbinsx": 40,
         "offsetgroup": "0.01",
         "orientation": "v",
         "showlegend": true,
         "type": "histogram",
         "x": [
          0.01,
          0.01,
          0.01,
          0.01,
          0.01,
          0.01,
          0.01
         ],
         "xaxis": "x",
         "yaxis": "y"
        },
        {
         "alignmentgroup": "True",
         "bingroup": "x",
         "hoverlabel": {
          "namelength": 0
         },
         "hovertemplate": "precipitation=%{x}<br>count=%{y}",
         "legendgroup": "0.075",
         "marker": {
          "color": "#FF97FF",
          "opacity": 0.8
         },
         "name": "0.075",
         "nbinsx": 40,
         "offsetgroup": "0.075",
         "orientation": "v",
         "showlegend": true,
         "type": "histogram",
         "x": [
          0.075,
          0.075
         ],
         "xaxis": "x",
         "yaxis": "y"
        },
        {
         "alignmentgroup": "True",
         "bingroup": "x",
         "hoverlabel": {
          "namelength": 0
         },
         "hovertemplate": "precipitation=%{x}<br>count=%{y}",
         "legendgroup": "0.03",
         "marker": {
          "color": "#FECB52",
          "opacity": 0.8
         },
         "name": "0.03",
         "nbinsx": 40,
         "offsetgroup": "0.03",
         "orientation": "v",
         "showlegend": true,
         "type": "histogram",
         "x": [
          0.03,
          0.03,
          0.03,
          0.03,
          0.03
         ],
         "xaxis": "x",
         "yaxis": "y"
        },
        {
         "alignmentgroup": "True",
         "bingroup": "x",
         "hoverlabel": {
          "namelength": 0
         },
         "hovertemplate": "precipitation=%{x}<br>count=%{y}",
         "legendgroup": "0.18666666666666668",
         "marker": {
          "color": "#636efa",
          "opacity": 0.8
         },
         "name": "0.18666666666666668",
         "nbinsx": 40,
         "offsetgroup": "0.18666666666666668",
         "orientation": "v",
         "showlegend": true,
         "type": "histogram",
         "x": [
          0.18666666666666668
         ],
         "xaxis": "x",
         "yaxis": "y"
        },
        {
         "alignmentgroup": "True",
         "bingroup": "x",
         "hoverlabel": {
          "namelength": 0
         },
         "hovertemplate": "precipitation=%{x}<br>count=%{y}",
         "legendgroup": "0.05714285714285714",
         "marker": {
          "color": "#EF553B",
          "opacity": 0.8
         },
         "name": "0.05714285714285714",
         "nbinsx": 40,
         "offsetgroup": "0.05714285714285714",
         "orientation": "v",
         "showlegend": true,
         "type": "histogram",
         "x": [
          0.05714285714285714
         ],
         "xaxis": "x",
         "yaxis": "y"
        },
        {
         "alignmentgroup": "True",
         "bingroup": "x",
         "hoverlabel": {
          "namelength": 0
         },
         "hovertemplate": "precipitation=%{x}<br>count=%{y}",
         "legendgroup": "0.02142857142857143",
         "marker": {
          "color": "#00cc96",
          "opacity": 0.8
         },
         "name": "0.02142857142857143",
         "nbinsx": 40,
         "offsetgroup": "0.02142857142857143",
         "orientation": "v",
         "showlegend": true,
         "type": "histogram",
         "x": [
          0.02142857142857143,
          0.02142857142857143
         ],
         "xaxis": "x",
         "yaxis": "y"
        },
        {
         "alignmentgroup": "True",
         "bingroup": "x",
         "hoverlabel": {
          "namelength": 0
         },
         "hovertemplate": "precipitation=%{x}<br>count=%{y}",
         "legendgroup": "0.008333333333333333",
         "marker": {
          "color": "#ab63fa",
          "opacity": 0.8
         },
         "name": "0.008333333333333333",
         "nbinsx": 40,
         "offsetgroup": "0.008333333333333333",
         "orientation": "v",
         "showlegend": true,
         "type": "histogram",
         "x": [
          0.008333333333333333,
          0.008333333333333333,
          0.008333333333333333,
          0.008333333333333333,
          0.008333333333333333
         ],
         "xaxis": "x",
         "yaxis": "y"
        },
        {
         "alignmentgroup": "True",
         "bingroup": "x",
         "hoverlabel": {
          "namelength": 0
         },
         "hovertemplate": "precipitation=%{x}<br>count=%{y}",
         "legendgroup": "0.25666666666666665",
         "marker": {
          "color": "#FFA15A",
          "opacity": 0.8
         },
         "name": "0.25666666666666665",
         "nbinsx": 40,
         "offsetgroup": "0.25666666666666665",
         "orientation": "v",
         "showlegend": true,
         "type": "histogram",
         "x": [
          0.25666666666666665
         ],
         "xaxis": "x",
         "yaxis": "y"
        },
        {
         "alignmentgroup": "True",
         "bingroup": "x",
         "hoverlabel": {
          "namelength": 0
         },
         "hovertemplate": "precipitation=%{x}<br>count=%{y}",
         "legendgroup": "0.0075",
         "marker": {
          "color": "#19d3f3",
          "opacity": 0.8
         },
         "name": "0.0075",
         "nbinsx": 40,
         "offsetgroup": "0.0075",
         "orientation": "v",
         "showlegend": true,
         "type": "histogram",
         "x": [
          0.0075,
          0.0075
         ],
         "xaxis": "x",
         "yaxis": "y"
        },
        {
         "alignmentgroup": "True",
         "bingroup": "x",
         "hoverlabel": {
          "namelength": 0
         },
         "hovertemplate": "precipitation=%{x}<br>count=%{y}",
         "legendgroup": "0.095",
         "marker": {
          "color": "#FF6692",
          "opacity": 0.8
         },
         "name": "0.095",
         "nbinsx": 40,
         "offsetgroup": "0.095",
         "orientation": "v",
         "showlegend": true,
         "type": "histogram",
         "x": [
          0.095
         ],
         "xaxis": "x",
         "yaxis": "y"
        },
        {
         "alignmentgroup": "True",
         "bingroup": "x",
         "hoverlabel": {
          "namelength": 0
         },
         "hovertemplate": "precipitation=%{x}<br>count=%{y}",
         "legendgroup": "0.23750000000000002",
         "marker": {
          "color": "#B6E880",
          "opacity": 0.8
         },
         "name": "0.23750000000000002",
         "nbinsx": 40,
         "offsetgroup": "0.23750000000000002",
         "orientation": "v",
         "showlegend": true,
         "type": "histogram",
         "x": [
          0.23750000000000002
         ],
         "xaxis": "x",
         "yaxis": "y"
        },
        {
         "alignmentgroup": "True",
         "bingroup": "x",
         "hoverlabel": {
          "namelength": 0
         },
         "hovertemplate": "precipitation=%{x}<br>count=%{y}",
         "legendgroup": "0.616",
         "marker": {
          "color": "#FF97FF",
          "opacity": 0.8
         },
         "name": "0.616",
         "nbinsx": 40,
         "offsetgroup": "0.616",
         "orientation": "v",
         "showlegend": true,
         "type": "histogram",
         "x": [
          0.616
         ],
         "xaxis": "x",
         "yaxis": "y"
        },
        {
         "alignmentgroup": "True",
         "bingroup": "x",
         "hoverlabel": {
          "namelength": 0
         },
         "hovertemplate": "precipitation=%{x}<br>count=%{y}",
         "legendgroup": "1.002",
         "marker": {
          "color": "#FECB52",
          "opacity": 0.8
         },
         "name": "1.002",
         "nbinsx": 40,
         "offsetgroup": "1.002",
         "orientation": "v",
         "showlegend": true,
         "type": "histogram",
         "x": [
          1.002
         ],
         "xaxis": "x",
         "yaxis": "y"
        },
        {
         "alignmentgroup": "True",
         "bingroup": "x",
         "hoverlabel": {
          "namelength": 0
         },
         "hovertemplate": "precipitation=%{x}<br>count=%{y}",
         "legendgroup": "0.134",
         "marker": {
          "color": "#636efa",
          "opacity": 0.8
         },
         "name": "0.134",
         "nbinsx": 40,
         "offsetgroup": "0.134",
         "orientation": "v",
         "showlegend": true,
         "type": "histogram",
         "x": [
          0.134
         ],
         "xaxis": "x",
         "yaxis": "y"
        },
        {
         "alignmentgroup": "True",
         "bingroup": "x",
         "hoverlabel": {
          "namelength": 0
         },
         "hovertemplate": "precipitation=%{x}<br>count=%{y}",
         "legendgroup": "0.296",
         "marker": {
          "color": "#EF553B",
          "opacity": 0.8
         },
         "name": "0.296",
         "nbinsx": 40,
         "offsetgroup": "0.296",
         "orientation": "v",
         "showlegend": true,
         "type": "histogram",
         "x": [
          0.296
         ],
         "xaxis": "x",
         "yaxis": "y"
        },
        {
         "alignmentgroup": "True",
         "bingroup": "x",
         "hoverlabel": {
          "namelength": 0
         },
         "hovertemplate": "precipitation=%{x}<br>count=%{y}",
         "legendgroup": "0.264",
         "marker": {
          "color": "#00cc96",
          "opacity": 0.8
         },
         "name": "0.264",
         "nbinsx": 40,
         "offsetgroup": "0.264",
         "orientation": "v",
         "showlegend": true,
         "type": "histogram",
         "x": [
          0.264
         ],
         "xaxis": "x",
         "yaxis": "y"
        },
        {
         "alignmentgroup": "True",
         "bingroup": "x",
         "hoverlabel": {
          "namelength": 0
         },
         "hovertemplate": "precipitation=%{x}<br>count=%{y}",
         "legendgroup": "0.085",
         "marker": {
          "color": "#ab63fa",
          "opacity": 0.8
         },
         "name": "0.085",
         "nbinsx": 40,
         "offsetgroup": "0.085",
         "orientation": "v",
         "showlegend": true,
         "type": "histogram",
         "x": [
          0.085,
          0.085
         ],
         "xaxis": "x",
         "yaxis": "y"
        },
        {
         "alignmentgroup": "True",
         "bingroup": "x",
         "hoverlabel": {
          "namelength": 0
         },
         "hovertemplate": "precipitation=%{x}<br>count=%{y}",
         "legendgroup": "0.09166666666666667",
         "marker": {
          "color": "#FFA15A",
          "opacity": 0.8
         },
         "name": "0.09166666666666667",
         "nbinsx": 40,
         "offsetgroup": "0.09166666666666667",
         "orientation": "v",
         "showlegend": true,
         "type": "histogram",
         "x": [
          0.09166666666666667
         ],
         "xaxis": "x",
         "yaxis": "y"
        },
        {
         "alignmentgroup": "True",
         "bingroup": "x",
         "hoverlabel": {
          "namelength": 0
         },
         "hovertemplate": "precipitation=%{x}<br>count=%{y}",
         "legendgroup": "0.07166666666666667",
         "marker": {
          "color": "#19d3f3",
          "opacity": 0.8
         },
         "name": "0.07166666666666667",
         "nbinsx": 40,
         "offsetgroup": "0.07166666666666667",
         "orientation": "v",
         "showlegend": true,
         "type": "histogram",
         "x": [
          0.07166666666666667
         ],
         "xaxis": "x",
         "yaxis": "y"
        },
        {
         "alignmentgroup": "True",
         "bingroup": "x",
         "hoverlabel": {
          "namelength": 0
         },
         "hovertemplate": "precipitation=%{x}<br>count=%{y}",
         "legendgroup": "0.17666666666666667",
         "marker": {
          "color": "#FF6692",
          "opacity": 0.8
         },
         "name": "0.17666666666666667",
         "nbinsx": 40,
         "offsetgroup": "0.17666666666666667",
         "orientation": "v",
         "showlegend": true,
         "type": "histogram",
         "x": [
          0.17666666666666667
         ],
         "xaxis": "x",
         "yaxis": "y"
        },
        {
         "alignmentgroup": "True",
         "bingroup": "x",
         "hoverlabel": {
          "namelength": 0
         },
         "hovertemplate": "precipitation=%{x}<br>count=%{y}",
         "legendgroup": "0.295",
         "marker": {
          "color": "#B6E880",
          "opacity": 0.8
         },
         "name": "0.295",
         "nbinsx": 40,
         "offsetgroup": "0.295",
         "orientation": "v",
         "showlegend": true,
         "type": "histogram",
         "x": [
          0.295
         ],
         "xaxis": "x",
         "yaxis": "y"
        },
        {
         "alignmentgroup": "True",
         "bingroup": "x",
         "hoverlabel": {
          "namelength": 0
         },
         "hovertemplate": "precipitation=%{x}<br>count=%{y}",
         "legendgroup": "0.3933333333333333",
         "marker": {
          "color": "#FF97FF",
          "opacity": 0.8
         },
         "name": "0.3933333333333333",
         "nbinsx": 40,
         "offsetgroup": "0.3933333333333333",
         "orientation": "v",
         "showlegend": true,
         "type": "histogram",
         "x": [
          0.3933333333333333
         ],
         "xaxis": "x",
         "yaxis": "y"
        },
        {
         "alignmentgroup": "True",
         "bingroup": "x",
         "hoverlabel": {
          "namelength": 0
         },
         "hovertemplate": "precipitation=%{x}<br>count=%{y}",
         "legendgroup": "0.13333333333333333",
         "marker": {
          "color": "#FECB52",
          "opacity": 0.8
         },
         "name": "0.13333333333333333",
         "nbinsx": 40,
         "offsetgroup": "0.13333333333333333",
         "orientation": "v",
         "showlegend": true,
         "type": "histogram",
         "x": [
          0.13333333333333333,
          0.13333333333333333
         ],
         "xaxis": "x",
         "yaxis": "y"
        },
        {
         "alignmentgroup": "True",
         "bingroup": "x",
         "hoverlabel": {
          "namelength": 0
         },
         "hovertemplate": "precipitation=%{x}<br>count=%{y}",
         "legendgroup": "0.54",
         "marker": {
          "color": "#636efa",
          "opacity": 0.8
         },
         "name": "0.54",
         "nbinsx": 40,
         "offsetgroup": "0.54",
         "orientation": "v",
         "showlegend": true,
         "type": "histogram",
         "x": [
          0.54
         ],
         "xaxis": "x",
         "yaxis": "y"
        },
        {
         "alignmentgroup": "True",
         "bingroup": "x",
         "hoverlabel": {
          "namelength": 0
         },
         "hovertemplate": "precipitation=%{x}<br>count=%{y}",
         "legendgroup": "0.076",
         "marker": {
          "color": "#EF553B",
          "opacity": 0.8
         },
         "name": "0.076",
         "nbinsx": 40,
         "offsetgroup": "0.076",
         "orientation": "v",
         "showlegend": true,
         "type": "histogram",
         "x": [
          0.076
         ],
         "xaxis": "x",
         "yaxis": "y"
        },
        {
         "alignmentgroup": "True",
         "bingroup": "x",
         "hoverlabel": {
          "namelength": 0
         },
         "hovertemplate": "precipitation=%{x}<br>count=%{y}",
         "legendgroup": "0.06571428571428573",
         "marker": {
          "color": "#00cc96",
          "opacity": 0.8
         },
         "name": "0.06571428571428573",
         "nbinsx": 40,
         "offsetgroup": "0.06571428571428573",
         "orientation": "v",
         "showlegend": true,
         "type": "histogram",
         "x": [
          0.06571428571428573
         ],
         "xaxis": "x",
         "yaxis": "y"
        },
        {
         "alignmentgroup": "True",
         "bingroup": "x",
         "hoverlabel": {
          "namelength": 0
         },
         "hovertemplate": "precipitation=%{x}<br>count=%{y}",
         "legendgroup": "0.37",
         "marker": {
          "color": "#ab63fa",
          "opacity": 0.8
         },
         "name": "0.37",
         "nbinsx": 40,
         "offsetgroup": "0.37",
         "orientation": "v",
         "showlegend": true,
         "type": "histogram",
         "x": [
          0.37
         ],
         "xaxis": "x",
         "yaxis": "y"
        },
        {
         "alignmentgroup": "True",
         "bingroup": "x",
         "hoverlabel": {
          "namelength": 0
         },
         "hovertemplate": "precipitation=%{x}<br>count=%{y}",
         "legendgroup": "0.026000000000000002",
         "marker": {
          "color": "#FFA15A",
          "opacity": 0.8
         },
         "name": "0.026000000000000002",
         "nbinsx": 40,
         "offsetgroup": "0.026000000000000002",
         "orientation": "v",
         "showlegend": true,
         "type": "histogram",
         "x": [
          0.026000000000000002,
          0.026000000000000002
         ],
         "xaxis": "x",
         "yaxis": "y"
        },
        {
         "alignmentgroup": "True",
         "bingroup": "x",
         "hoverlabel": {
          "namelength": 0
         },
         "hovertemplate": "precipitation=%{x}<br>count=%{y}",
         "legendgroup": "0.12833333333333333",
         "marker": {
          "color": "#19d3f3",
          "opacity": 0.8
         },
         "name": "0.12833333333333333",
         "nbinsx": 40,
         "offsetgroup": "0.12833333333333333",
         "orientation": "v",
         "showlegend": true,
         "type": "histogram",
         "x": [
          0.12833333333333333
         ],
         "xaxis": "x",
         "yaxis": "y"
        },
        {
         "alignmentgroup": "True",
         "bingroup": "x",
         "hoverlabel": {
          "namelength": 0
         },
         "hovertemplate": "precipitation=%{x}<br>count=%{y}",
         "legendgroup": "0.043333333333333335",
         "marker": {
          "color": "#FF6692",
          "opacity": 0.8
         },
         "name": "0.043333333333333335",
         "nbinsx": 40,
         "offsetgroup": "0.043333333333333335",
         "orientation": "v",
         "showlegend": true,
         "type": "histogram",
         "x": [
          0.043333333333333335
         ],
         "xaxis": "x",
         "yaxis": "y"
        },
        {
         "alignmentgroup": "True",
         "bingroup": "x",
         "hoverlabel": {
          "namelength": 0
         },
         "hovertemplate": "precipitation=%{x}<br>count=%{y}",
         "legendgroup": "0.07",
         "marker": {
          "color": "#B6E880",
          "opacity": 0.8
         },
         "name": "0.07",
         "nbinsx": 40,
         "offsetgroup": "0.07",
         "orientation": "v",
         "showlegend": true,
         "type": "histogram",
         "x": [
          0.07,
          0.07
         ],
         "xaxis": "x",
         "yaxis": "y"
        },
        {
         "alignmentgroup": "True",
         "bingroup": "x",
         "hoverlabel": {
          "namelength": 0
         },
         "hovertemplate": "precipitation=%{x}<br>count=%{y}",
         "legendgroup": "0.178",
         "marker": {
          "color": "#FF97FF",
          "opacity": 0.8
         },
         "name": "0.178",
         "nbinsx": 40,
         "offsetgroup": "0.178",
         "orientation": "v",
         "showlegend": true,
         "type": "histogram",
         "x": [
          0.178
         ],
         "xaxis": "x",
         "yaxis": "y"
        },
        {
         "alignmentgroup": "True",
         "bingroup": "x",
         "hoverlabel": {
          "namelength": 0
         },
         "hovertemplate": "precipitation=%{x}<br>count=%{y}",
         "legendgroup": "0.005",
         "marker": {
          "color": "#FECB52",
          "opacity": 0.8
         },
         "name": "0.005",
         "nbinsx": 40,
         "offsetgroup": "0.005",
         "orientation": "v",
         "showlegend": true,
         "type": "histogram",
         "x": [
          0.005,
          0.005,
          0.005,
          0.005,
          0.005
         ],
         "xaxis": "x",
         "yaxis": "y"
        },
        {
         "alignmentgroup": "True",
         "bingroup": "x",
         "hoverlabel": {
          "namelength": 0
         },
         "hovertemplate": "precipitation=%{x}<br>count=%{y}",
         "legendgroup": "0.1285714285714286",
         "marker": {
          "color": "#636efa",
          "opacity": 0.8
         },
         "name": "0.1285714285714286",
         "nbinsx": 40,
         "offsetgroup": "0.1285714285714286",
         "orientation": "v",
         "showlegend": true,
         "type": "histogram",
         "x": [
          0.1285714285714286
         ],
         "xaxis": "x",
         "yaxis": "y"
        },
        {
         "alignmentgroup": "True",
         "bingroup": "x",
         "hoverlabel": {
          "namelength": 0
         },
         "hovertemplate": "precipitation=%{x}<br>count=%{y}",
         "legendgroup": "0.4116666666666666",
         "marker": {
          "color": "#EF553B",
          "opacity": 0.8
         },
         "name": "0.4116666666666666",
         "nbinsx": 40,
         "offsetgroup": "0.4116666666666666",
         "orientation": "v",
         "showlegend": true,
         "type": "histogram",
         "x": [
          0.4116666666666666
         ],
         "xaxis": "x",
         "yaxis": "y"
        },
        {
         "alignmentgroup": "True",
         "bingroup": "x",
         "hoverlabel": {
          "namelength": 0
         },
         "hovertemplate": "precipitation=%{x}<br>count=%{y}",
         "legendgroup": "0.205",
         "marker": {
          "color": "#00cc96",
          "opacity": 0.8
         },
         "name": "0.205",
         "nbinsx": 40,
         "offsetgroup": "0.205",
         "orientation": "v",
         "showlegend": true,
         "type": "histogram",
         "x": [
          0.205
         ],
         "xaxis": "x",
         "yaxis": "y"
        },
        {
         "alignmentgroup": "True",
         "bingroup": "x",
         "hoverlabel": {
          "namelength": 0
         },
         "hovertemplate": "precipitation=%{x}<br>count=%{y}",
         "legendgroup": "0.27",
         "marker": {
          "color": "#ab63fa",
          "opacity": 0.8
         },
         "name": "0.27",
         "nbinsx": 40,
         "offsetgroup": "0.27",
         "orientation": "v",
         "showlegend": true,
         "type": "histogram",
         "x": [
          0.27
         ],
         "xaxis": "x",
         "yaxis": "y"
        },
        {
         "alignmentgroup": "True",
         "bingroup": "x",
         "hoverlabel": {
          "namelength": 0
         },
         "hovertemplate": "precipitation=%{x}<br>count=%{y}",
         "legendgroup": "0.086",
         "marker": {
          "color": "#FFA15A",
          "opacity": 0.8
         },
         "name": "0.086",
         "nbinsx": 40,
         "offsetgroup": "0.086",
         "orientation": "v",
         "showlegend": true,
         "type": "histogram",
         "x": [
          0.086
         ],
         "xaxis": "x",
         "yaxis": "y"
        },
        {
         "alignmentgroup": "True",
         "bingroup": "x",
         "hoverlabel": {
          "namelength": 0
         },
         "hovertemplate": "precipitation=%{x}<br>count=%{y}",
         "legendgroup": "0.40800000000000003",
         "marker": {
          "color": "#19d3f3",
          "opacity": 0.8
         },
         "name": "0.40800000000000003",
         "nbinsx": 40,
         "offsetgroup": "0.40800000000000003",
         "orientation": "v",
         "showlegend": true,
         "type": "histogram",
         "x": [
          0.40800000000000003
         ],
         "xaxis": "x",
         "yaxis": "y"
        },
        {
         "alignmentgroup": "True",
         "bingroup": "x",
         "hoverlabel": {
          "namelength": 0
         },
         "hovertemplate": "precipitation=%{x}<br>count=%{y}",
         "legendgroup": "0.04",
         "marker": {
          "color": "#FF6692",
          "opacity": 0.8
         },
         "name": "0.04",
         "nbinsx": 40,
         "offsetgroup": "0.04",
         "orientation": "v",
         "showlegend": true,
         "type": "histogram",
         "x": [
          0.04
         ],
         "xaxis": "x",
         "yaxis": "y"
        },
        {
         "alignmentgroup": "True",
         "bingroup": "x",
         "hoverlabel": {
          "namelength": 0
         },
         "hovertemplate": "precipitation=%{x}<br>count=%{y}",
         "legendgroup": "0.06833333333333334",
         "marker": {
          "color": "#B6E880",
          "opacity": 0.8
         },
         "name": "0.06833333333333334",
         "nbinsx": 40,
         "offsetgroup": "0.06833333333333334",
         "orientation": "v",
         "showlegend": true,
         "type": "histogram",
         "x": [
          0.06833333333333334,
          0.06833333333333334,
          0.06833333333333334,
          0.06833333333333334
         ],
         "xaxis": "x",
         "yaxis": "y"
        },
        {
         "alignmentgroup": "True",
         "bingroup": "x",
         "hoverlabel": {
          "namelength": 0
         },
         "hovertemplate": "precipitation=%{x}<br>count=%{y}",
         "legendgroup": "0.39666666666666667",
         "marker": {
          "color": "#FF97FF",
          "opacity": 0.8
         },
         "name": "0.39666666666666667",
         "nbinsx": 40,
         "offsetgroup": "0.39666666666666667",
         "orientation": "v",
         "showlegend": true,
         "type": "histogram",
         "x": [
          0.39666666666666667
         ],
         "xaxis": "x",
         "yaxis": "y"
        },
        {
         "alignmentgroup": "True",
         "bingroup": "x",
         "hoverlabel": {
          "namelength": 0
         },
         "hovertemplate": "precipitation=%{x}<br>count=%{y}",
         "legendgroup": "0.5583333333333333",
         "marker": {
          "color": "#FECB52",
          "opacity": 0.8
         },
         "name": "0.5583333333333333",
         "nbinsx": 40,
         "offsetgroup": "0.5583333333333333",
         "orientation": "v",
         "showlegend": true,
         "type": "histogram",
         "x": [
          0.5583333333333333
         ],
         "xaxis": "x",
         "yaxis": "y"
        },
        {
         "alignmentgroup": "True",
         "bingroup": "x",
         "hoverlabel": {
          "namelength": 0
         },
         "hovertemplate": "precipitation=%{x}<br>count=%{y}",
         "legendgroup": "0.42800000000000005",
         "marker": {
          "color": "#636efa",
          "opacity": 0.8
         },
         "name": "0.42800000000000005",
         "nbinsx": 40,
         "offsetgroup": "0.42800000000000005",
         "orientation": "v",
         "showlegend": true,
         "type": "histogram",
         "x": [
          0.42800000000000005
         ],
         "xaxis": "x",
         "yaxis": "y"
        },
        {
         "alignmentgroup": "True",
         "bingroup": "x",
         "hoverlabel": {
          "namelength": 0
         },
         "hovertemplate": "precipitation=%{x}<br>count=%{y}",
         "legendgroup": "0.06999999999999999",
         "marker": {
          "color": "#EF553B",
          "opacity": 0.8
         },
         "name": "0.06999999999999999",
         "nbinsx": 40,
         "offsetgroup": "0.06999999999999999",
         "orientation": "v",
         "showlegend": true,
         "type": "histogram",
         "x": [
          0.06999999999999999,
          0.06999999999999999,
          0.06999999999999999
         ],
         "xaxis": "x",
         "yaxis": "y"
        },
        {
         "alignmentgroup": "True",
         "bingroup": "x",
         "hoverlabel": {
          "namelength": 0
         },
         "hovertemplate": "precipitation=%{x}<br>count=%{y}",
         "legendgroup": "0.004",
         "marker": {
          "color": "#00cc96",
          "opacity": 0.8
         },
         "name": "0.004",
         "nbinsx": 40,
         "offsetgroup": "0.004",
         "orientation": "v",
         "showlegend": true,
         "type": "histogram",
         "x": [
          0.004,
          0.004,
          0.004,
          0.004
         ],
         "xaxis": "x",
         "yaxis": "y"
        },
        {
         "alignmentgroup": "True",
         "bingroup": "x",
         "hoverlabel": {
          "namelength": 0
         },
         "hovertemplate": "precipitation=%{x}<br>count=%{y}",
         "legendgroup": "0.15833333333333333",
         "marker": {
          "color": "#ab63fa",
          "opacity": 0.8
         },
         "name": "0.15833333333333333",
         "nbinsx": 40,
         "offsetgroup": "0.15833333333333333",
         "orientation": "v",
         "showlegend": true,
         "type": "histogram",
         "x": [
          0.15833333333333333
         ],
         "xaxis": "x",
         "yaxis": "y"
        },
        {
         "alignmentgroup": "True",
         "bingroup": "x",
         "hoverlabel": {
          "namelength": 0
         },
         "hovertemplate": "precipitation=%{x}<br>count=%{y}",
         "legendgroup": "0.002",
         "marker": {
          "color": "#FFA15A",
          "opacity": 0.8
         },
         "name": "0.002",
         "nbinsx": 40,
         "offsetgroup": "0.002",
         "orientation": "v",
         "showlegend": true,
         "type": "histogram",
         "x": [
          0.002,
          0.002,
          0.002
         ],
         "xaxis": "x",
         "yaxis": "y"
        },
        {
         "alignmentgroup": "True",
         "bingroup": "x",
         "hoverlabel": {
          "namelength": 0
         },
         "hovertemplate": "precipitation=%{x}<br>count=%{y}",
         "legendgroup": "0.0025",
         "marker": {
          "color": "#19d3f3",
          "opacity": 0.8
         },
         "name": "0.0025",
         "nbinsx": 40,
         "offsetgroup": "0.0025",
         "orientation": "v",
         "showlegend": true,
         "type": "histogram",
         "x": [
          0.0025,
          0.0025
         ],
         "xaxis": "x",
         "yaxis": "y"
        },
        {
         "alignmentgroup": "True",
         "bingroup": "x",
         "hoverlabel": {
          "namelength": 0
         },
         "hovertemplate": "precipitation=%{x}<br>count=%{y}",
         "legendgroup": "0.04666666666666666",
         "marker": {
          "color": "#FF6692",
          "opacity": 0.8
         },
         "name": "0.04666666666666666",
         "nbinsx": 40,
         "offsetgroup": "0.04666666666666666",
         "orientation": "v",
         "showlegend": true,
         "type": "histogram",
         "x": [
          0.04666666666666666,
          0.04666666666666666
         ],
         "xaxis": "x",
         "yaxis": "y"
        },
        {
         "alignmentgroup": "True",
         "bingroup": "x",
         "hoverlabel": {
          "namelength": 0
         },
         "hovertemplate": "precipitation=%{x}<br>count=%{y}",
         "legendgroup": "0.20400000000000001",
         "marker": {
          "color": "#B6E880",
          "opacity": 0.8
         },
         "name": "0.20400000000000001",
         "nbinsx": 40,
         "offsetgroup": "0.20400000000000001",
         "orientation": "v",
         "showlegend": true,
         "type": "histogram",
         "x": [
          0.20400000000000001
         ],
         "xaxis": "x",
         "yaxis": "y"
        },
        {
         "alignmentgroup": "True",
         "bingroup": "x",
         "hoverlabel": {
          "namelength": 0
         },
         "hovertemplate": "precipitation=%{x}<br>count=%{y}",
         "legendgroup": "0.188",
         "marker": {
          "color": "#FF97FF",
          "opacity": 0.8
         },
         "name": "0.188",
         "nbinsx": 40,
         "offsetgroup": "0.188",
         "orientation": "v",
         "showlegend": true,
         "type": "histogram",
         "x": [
          0.188
         ],
         "xaxis": "x",
         "yaxis": "y"
        },
        {
         "alignmentgroup": "True",
         "bingroup": "x",
         "hoverlabel": {
          "namelength": 0
         },
         "hovertemplate": "precipitation=%{x}<br>count=%{y}",
         "legendgroup": "0.45",
         "marker": {
          "color": "#FECB52",
          "opacity": 0.8
         },
         "name": "0.45",
         "nbinsx": 40,
         "offsetgroup": "0.45",
         "orientation": "v",
         "showlegend": true,
         "type": "histogram",
         "x": [
          0.45
         ],
         "xaxis": "x",
         "yaxis": "y"
        },
        {
         "alignmentgroup": "True",
         "bingroup": "x",
         "hoverlabel": {
          "namelength": 0
         },
         "hovertemplate": "precipitation=%{x}<br>count=%{y}",
         "legendgroup": "0.716",
         "marker": {
          "color": "#636efa",
          "opacity": 0.8
         },
         "name": "0.716",
         "nbinsx": 40,
         "offsetgroup": "0.716",
         "orientation": "v",
         "showlegend": true,
         "type": "histogram",
         "x": [
          0.716
         ],
         "xaxis": "x",
         "yaxis": "y"
        },
        {
         "alignmentgroup": "True",
         "bingroup": "x",
         "hoverlabel": {
          "namelength": 0
         },
         "hovertemplate": "precipitation=%{x}<br>count=%{y}",
         "legendgroup": "0.015714285714285715",
         "marker": {
          "color": "#EF553B",
          "opacity": 0.8
         },
         "name": "0.015714285714285715",
         "nbinsx": 40,
         "offsetgroup": "0.015714285714285715",
         "orientation": "v",
         "showlegend": true,
         "type": "histogram",
         "x": [
          0.015714285714285715
         ],
         "xaxis": "x",
         "yaxis": "y"
        },
        {
         "alignmentgroup": "True",
         "bingroup": "x",
         "hoverlabel": {
          "namelength": 0
         },
         "hovertemplate": "precipitation=%{x}<br>count=%{y}",
         "legendgroup": "0.008571428571428572",
         "marker": {
          "color": "#00cc96",
          "opacity": 0.8
         },
         "name": "0.008571428571428572",
         "nbinsx": 40,
         "offsetgroup": "0.008571428571428572",
         "orientation": "v",
         "showlegend": true,
         "type": "histogram",
         "x": [
          0.008571428571428572,
          0.008571428571428572,
          0.008571428571428572
         ],
         "xaxis": "x",
         "yaxis": "y"
        },
        {
         "alignmentgroup": "True",
         "bingroup": "x",
         "hoverlabel": {
          "namelength": 0
         },
         "hovertemplate": "precipitation=%{x}<br>count=%{y}",
         "legendgroup": "0.028000000000000004",
         "marker": {
          "color": "#ab63fa",
          "opacity": 0.8
         },
         "name": "0.028000000000000004",
         "nbinsx": 40,
         "offsetgroup": "0.028000000000000004",
         "orientation": "v",
         "showlegend": true,
         "type": "histogram",
         "x": [
          0.028000000000000004
         ],
         "xaxis": "x",
         "yaxis": "y"
        },
        {
         "alignmentgroup": "True",
         "bingroup": "x",
         "hoverlabel": {
          "namelength": 0
         },
         "hovertemplate": "precipitation=%{x}<br>count=%{y}",
         "legendgroup": "0.2475",
         "marker": {
          "color": "#FFA15A",
          "opacity": 0.8
         },
         "name": "0.2475",
         "nbinsx": 40,
         "offsetgroup": "0.2475",
         "orientation": "v",
         "showlegend": true,
         "type": "histogram",
         "x": [
          0.2475
         ],
         "xaxis": "x",
         "yaxis": "y"
        },
        {
         "alignmentgroup": "True",
         "bingroup": "x",
         "hoverlabel": {
          "namelength": 0
         },
         "hovertemplate": "precipitation=%{x}<br>count=%{y}",
         "legendgroup": "0.06333333333333334",
         "marker": {
          "color": "#19d3f3",
          "opacity": 0.8
         },
         "name": "0.06333333333333334",
         "nbinsx": 40,
         "offsetgroup": "0.06333333333333334",
         "orientation": "v",
         "showlegend": true,
         "type": "histogram",
         "x": [
          0.06333333333333334,
          0.06333333333333334
         ],
         "xaxis": "x",
         "yaxis": "y"
        },
        {
         "alignmentgroup": "True",
         "bingroup": "x",
         "hoverlabel": {
          "namelength": 0
         },
         "hovertemplate": "precipitation=%{x}<br>count=%{y}",
         "legendgroup": "1.0571428571428572",
         "marker": {
          "color": "#FF6692",
          "opacity": 0.8
         },
         "name": "1.0571428571428572",
         "nbinsx": 40,
         "offsetgroup": "1.0571428571428572",
         "orientation": "v",
         "showlegend": true,
         "type": "histogram",
         "x": [
          1.0571428571428572
         ],
         "xaxis": "x",
         "yaxis": "y"
        },
        {
         "alignmentgroup": "True",
         "bingroup": "x",
         "hoverlabel": {
          "namelength": 0
         },
         "hovertemplate": "precipitation=%{x}<br>count=%{y}",
         "legendgroup": "0.1542857142857143",
         "marker": {
          "color": "#B6E880",
          "opacity": 0.8
         },
         "name": "0.1542857142857143",
         "nbinsx": 40,
         "offsetgroup": "0.1542857142857143",
         "orientation": "v",
         "showlegend": true,
         "type": "histogram",
         "x": [
          0.1542857142857143
         ],
         "xaxis": "x",
         "yaxis": "y"
        },
        {
         "alignmentgroup": "True",
         "bingroup": "x",
         "hoverlabel": {
          "namelength": 0
         },
         "hovertemplate": "precipitation=%{x}<br>count=%{y}",
         "legendgroup": "0.002857142857142857",
         "marker": {
          "color": "#FF97FF",
          "opacity": 0.8
         },
         "name": "0.002857142857142857",
         "nbinsx": 40,
         "offsetgroup": "0.002857142857142857",
         "orientation": "v",
         "showlegend": true,
         "type": "histogram",
         "x": [
          0.002857142857142857
         ],
         "xaxis": "x",
         "yaxis": "y"
        },
        {
         "alignmentgroup": "True",
         "bingroup": "x",
         "hoverlabel": {
          "namelength": 0
         },
         "hovertemplate": "precipitation=%{x}<br>count=%{y}",
         "legendgroup": "1.866666666666667",
         "marker": {
          "color": "#FECB52",
          "opacity": 0.8
         },
         "name": "1.866666666666667",
         "nbinsx": 40,
         "offsetgroup": "1.866666666666667",
         "orientation": "v",
         "showlegend": true,
         "type": "histogram",
         "x": [
          1.866666666666667
         ],
         "xaxis": "x",
         "yaxis": "y"
        },
        {
         "alignmentgroup": "True",
         "bingroup": "x",
         "hoverlabel": {
          "namelength": 0
         },
         "hovertemplate": "precipitation=%{x}<br>count=%{y}",
         "legendgroup": "1.7466666666666668",
         "marker": {
          "color": "#636efa",
          "opacity": 0.8
         },
         "name": "1.7466666666666668",
         "nbinsx": 40,
         "offsetgroup": "1.7466666666666668",
         "orientation": "v",
         "showlegend": true,
         "type": "histogram",
         "x": [
          1.7466666666666668
         ],
         "xaxis": "x",
         "yaxis": "y"
        },
        {
         "alignmentgroup": "True",
         "bingroup": "x",
         "hoverlabel": {
          "namelength": 0
         },
         "hovertemplate": "precipitation=%{x}<br>count=%{y}",
         "legendgroup": "0.4866666666666666",
         "marker": {
          "color": "#EF553B",
          "opacity": 0.8
         },
         "name": "0.4866666666666666",
         "nbinsx": 40,
         "offsetgroup": "0.4866666666666666",
         "orientation": "v",
         "showlegend": true,
         "type": "histogram",
         "x": [
          0.4866666666666666
         ],
         "xaxis": "x",
         "yaxis": "y"
        },
        {
         "alignmentgroup": "True",
         "bingroup": "x",
         "hoverlabel": {
          "namelength": 0
         },
         "hovertemplate": "precipitation=%{x}<br>count=%{y}",
         "legendgroup": "0.016",
         "marker": {
          "color": "#00cc96",
          "opacity": 0.8
         },
         "name": "0.016",
         "nbinsx": 40,
         "offsetgroup": "0.016",
         "orientation": "v",
         "showlegend": true,
         "type": "histogram",
         "x": [
          0.016,
          0.016
         ],
         "xaxis": "x",
         "yaxis": "y"
        },
        {
         "alignmentgroup": "True",
         "bingroup": "x",
         "hoverlabel": {
          "namelength": 0
         },
         "hovertemplate": "precipitation=%{x}<br>count=%{y}",
         "legendgroup": "0.36999999999999994",
         "marker": {
          "color": "#ab63fa",
          "opacity": 0.8
         },
         "name": "0.36999999999999994",
         "nbinsx": 40,
         "offsetgroup": "0.36999999999999994",
         "orientation": "v",
         "showlegend": true,
         "type": "histogram",
         "x": [
          0.36999999999999994
         ],
         "xaxis": "x",
         "yaxis": "y"
        },
        {
         "alignmentgroup": "True",
         "bingroup": "x",
         "hoverlabel": {
          "namelength": 0
         },
         "hovertemplate": "precipitation=%{x}<br>count=%{y}",
         "legendgroup": "0.17500000000000004",
         "marker": {
          "color": "#FFA15A",
          "opacity": 0.8
         },
         "name": "0.17500000000000004",
         "nbinsx": 40,
         "offsetgroup": "0.17500000000000004",
         "orientation": "v",
         "showlegend": true,
         "type": "histogram",
         "x": [
          0.17500000000000004
         ],
         "xaxis": "x",
         "yaxis": "y"
        },
        {
         "alignmentgroup": "True",
         "bingroup": "x",
         "hoverlabel": {
          "namelength": 0
         },
         "hovertemplate": "precipitation=%{x}<br>count=%{y}",
         "legendgroup": "0.0475",
         "marker": {
          "color": "#19d3f3",
          "opacity": 0.8
         },
         "name": "0.0475",
         "nbinsx": 40,
         "offsetgroup": "0.0475",
         "orientation": "v",
         "showlegend": true,
         "type": "histogram",
         "x": [
          0.0475,
          0.0475
         ],
         "xaxis": "x",
         "yaxis": "y"
        },
        {
         "alignmentgroup": "True",
         "bingroup": "x",
         "hoverlabel": {
          "namelength": 0
         },
         "hovertemplate": "precipitation=%{x}<br>count=%{y}",
         "legendgroup": "0.13000000000000003",
         "marker": {
          "color": "#FF6692",
          "opacity": 0.8
         },
         "name": "0.13000000000000003",
         "nbinsx": 40,
         "offsetgroup": "0.13000000000000003",
         "orientation": "v",
         "showlegend": true,
         "type": "histogram",
         "x": [
          0.13000000000000003
         ],
         "xaxis": "x",
         "yaxis": "y"
        },
        {
         "alignmentgroup": "True",
         "bingroup": "x",
         "hoverlabel": {
          "namelength": 0
         },
         "hovertemplate": "precipitation=%{x}<br>count=%{y}",
         "legendgroup": "0.0014285714285714286",
         "marker": {
          "color": "#B6E880",
          "opacity": 0.8
         },
         "name": "0.0014285714285714286",
         "nbinsx": 40,
         "offsetgroup": "0.0014285714285714286",
         "orientation": "v",
         "showlegend": true,
         "type": "histogram",
         "x": [
          0.0014285714285714286
         ],
         "xaxis": "x",
         "yaxis": "y"
        },
        {
         "alignmentgroup": "True",
         "bingroup": "x",
         "hoverlabel": {
          "namelength": 0
         },
         "hovertemplate": "precipitation=%{x}<br>count=%{y}",
         "legendgroup": "0.0375",
         "marker": {
          "color": "#FF97FF",
          "opacity": 0.8
         },
         "name": "0.0375",
         "nbinsx": 40,
         "offsetgroup": "0.0375",
         "orientation": "v",
         "showlegend": true,
         "type": "histogram",
         "x": [
          0.0375
         ],
         "xaxis": "x",
         "yaxis": "y"
        },
        {
         "alignmentgroup": "True",
         "bingroup": "x",
         "hoverlabel": {
          "namelength": 0
         },
         "hovertemplate": "precipitation=%{x}<br>count=%{y}",
         "legendgroup": "0.13666666666666666",
         "marker": {
          "color": "#FECB52",
          "opacity": 0.8
         },
         "name": "0.13666666666666666",
         "nbinsx": 40,
         "offsetgroup": "0.13666666666666666",
         "orientation": "v",
         "showlegend": true,
         "type": "histogram",
         "x": [
          0.13666666666666666
         ],
         "xaxis": "x",
         "yaxis": "y"
        },
        {
         "alignmentgroup": "True",
         "bingroup": "x",
         "hoverlabel": {
          "namelength": 0
         },
         "hovertemplate": "precipitation=%{x}<br>count=%{y}",
         "legendgroup": "1.6600000000000001",
         "marker": {
          "color": "#636efa",
          "opacity": 0.8
         },
         "name": "1.6600000000000001",
         "nbinsx": 40,
         "offsetgroup": "1.6600000000000001",
         "orientation": "v",
         "showlegend": true,
         "type": "histogram",
         "x": [
          1.6600000000000001
         ],
         "xaxis": "x",
         "yaxis": "y"
        },
        {
         "alignmentgroup": "True",
         "bingroup": "x",
         "hoverlabel": {
          "namelength": 0
         },
         "hovertemplate": "precipitation=%{x}<br>count=%{y}",
         "legendgroup": "1.0933333333333333",
         "marker": {
          "color": "#EF553B",
          "opacity": 0.8
         },
         "name": "1.0933333333333333",
         "nbinsx": 40,
         "offsetgroup": "1.0933333333333333",
         "orientation": "v",
         "showlegend": true,
         "type": "histogram",
         "x": [
          1.0933333333333333
         ],
         "xaxis": "x",
         "yaxis": "y"
        },
        {
         "alignmentgroup": "True",
         "bingroup": "x",
         "hoverlabel": {
          "namelength": 0
         },
         "hovertemplate": "precipitation=%{x}<br>count=%{y}",
         "legendgroup": "0.37166666666666665",
         "marker": {
          "color": "#00cc96",
          "opacity": 0.8
         },
         "name": "0.37166666666666665",
         "nbinsx": 40,
         "offsetgroup": "0.37166666666666665",
         "orientation": "v",
         "showlegend": true,
         "type": "histogram",
         "x": [
          0.37166666666666665
         ],
         "xaxis": "x",
         "yaxis": "y"
        },
        {
         "alignmentgroup": "True",
         "bingroup": "x",
         "hoverlabel": {
          "namelength": 0
         },
         "hovertemplate": "precipitation=%{x}<br>count=%{y}",
         "legendgroup": "0.3025",
         "marker": {
          "color": "#ab63fa",
          "opacity": 0.8
         },
         "name": "0.3025",
         "nbinsx": 40,
         "offsetgroup": "0.3025",
         "orientation": "v",
         "showlegend": true,
         "type": "histogram",
         "x": [
          0.3025
         ],
         "xaxis": "x",
         "yaxis": "y"
        },
        {
         "alignmentgroup": "True",
         "bingroup": "x",
         "hoverlabel": {
          "namelength": 0
         },
         "hovertemplate": "precipitation=%{x}<br>count=%{y}",
         "legendgroup": "0.135",
         "marker": {
          "color": "#FFA15A",
          "opacity": 0.8
         },
         "name": "0.135",
         "nbinsx": 40,
         "offsetgroup": "0.135",
         "orientation": "v",
         "showlegend": true,
         "type": "histogram",
         "x": [
          0.135,
          0.135,
          0.135
         ],
         "xaxis": "x",
         "yaxis": "y"
        },
        {
         "alignmentgroup": "True",
         "bingroup": "x",
         "hoverlabel": {
          "namelength": 0
         },
         "hovertemplate": "precipitation=%{x}<br>count=%{y}",
         "legendgroup": "0.3266666666666667",
         "marker": {
          "color": "#19d3f3",
          "opacity": 0.8
         },
         "name": "0.3266666666666667",
         "nbinsx": 40,
         "offsetgroup": "0.3266666666666667",
         "orientation": "v",
         "showlegend": true,
         "type": "histogram",
         "x": [
          0.3266666666666667
         ],
         "xaxis": "x",
         "yaxis": "y"
        },
        {
         "alignmentgroup": "True",
         "bingroup": "x",
         "hoverlabel": {
          "namelength": 0
         },
         "hovertemplate": "precipitation=%{x}<br>count=%{y}",
         "legendgroup": "0.04142857142857143",
         "marker": {
          "color": "#FF6692",
          "opacity": 0.8
         },
         "name": "0.04142857142857143",
         "nbinsx": 40,
         "offsetgroup": "0.04142857142857143",
         "orientation": "v",
         "showlegend": true,
         "type": "histogram",
         "x": [
          0.04142857142857143
         ],
         "xaxis": "x",
         "yaxis": "y"
        },
        {
         "alignmentgroup": "True",
         "bingroup": "x",
         "hoverlabel": {
          "namelength": 0
         },
         "hovertemplate": "precipitation=%{x}<br>count=%{y}",
         "legendgroup": "0.144",
         "marker": {
          "color": "#B6E880",
          "opacity": 0.8
         },
         "name": "0.144",
         "nbinsx": 40,
         "offsetgroup": "0.144",
         "orientation": "v",
         "showlegend": true,
         "type": "histogram",
         "x": [
          0.144
         ],
         "xaxis": "x",
         "yaxis": "y"
        },
        {
         "alignmentgroup": "True",
         "bingroup": "x",
         "hoverlabel": {
          "namelength": 0
         },
         "hovertemplate": "precipitation=%{x}<br>count=%{y}",
         "legendgroup": "0.18833333333333335",
         "marker": {
          "color": "#FF97FF",
          "opacity": 0.8
         },
         "name": "0.18833333333333335",
         "nbinsx": 40,
         "offsetgroup": "0.18833333333333335",
         "orientation": "v",
         "showlegend": true,
         "type": "histogram",
         "x": [
          0.18833333333333335
         ],
         "xaxis": "x",
         "yaxis": "y"
        },
        {
         "alignmentgroup": "True",
         "bingroup": "x",
         "hoverlabel": {
          "namelength": 0
         },
         "hovertemplate": "precipitation=%{x}<br>count=%{y}",
         "legendgroup": "0.394",
         "marker": {
          "color": "#FECB52",
          "opacity": 0.8
         },
         "name": "0.394",
         "nbinsx": 40,
         "offsetgroup": "0.394",
         "orientation": "v",
         "showlegend": true,
         "type": "histogram",
         "x": [
          0.394
         ],
         "xaxis": "x",
         "yaxis": "y"
        },
        {
         "alignmentgroup": "True",
         "bingroup": "x",
         "hoverlabel": {
          "namelength": 0
         },
         "hovertemplate": "precipitation=%{x}<br>count=%{y}",
         "legendgroup": "0.11833333333333335",
         "marker": {
          "color": "#636efa",
          "opacity": 0.8
         },
         "name": "0.11833333333333335",
         "nbinsx": 40,
         "offsetgroup": "0.11833333333333335",
         "orientation": "v",
         "showlegend": true,
         "type": "histogram",
         "x": [
          0.11833333333333335
         ],
         "xaxis": "x",
         "yaxis": "y"
        },
        {
         "alignmentgroup": "True",
         "bingroup": "x",
         "hoverlabel": {
          "namelength": 0
         },
         "hovertemplate": "precipitation=%{x}<br>count=%{y}",
         "legendgroup": "0.03166666666666667",
         "marker": {
          "color": "#EF553B",
          "opacity": 0.8
         },
         "name": "0.03166666666666667",
         "nbinsx": 40,
         "offsetgroup": "0.03166666666666667",
         "orientation": "v",
         "showlegend": true,
         "type": "histogram",
         "x": [
          0.03166666666666667,
          0.03166666666666667
         ],
         "xaxis": "x",
         "yaxis": "y"
        },
        {
         "alignmentgroup": "True",
         "bingroup": "x",
         "hoverlabel": {
          "namelength": 0
         },
         "hovertemplate": "precipitation=%{x}<br>count=%{y}",
         "legendgroup": "0.11",
         "marker": {
          "color": "#00cc96",
          "opacity": 0.8
         },
         "name": "0.11",
         "nbinsx": 40,
         "offsetgroup": "0.11",
         "orientation": "v",
         "showlegend": true,
         "type": "histogram",
         "x": [
          0.11,
          0.11
         ],
         "xaxis": "x",
         "yaxis": "y"
        },
        {
         "alignmentgroup": "True",
         "bingroup": "x",
         "hoverlabel": {
          "namelength": 0
         },
         "hovertemplate": "precipitation=%{x}<br>count=%{y}",
         "legendgroup": "0.09428571428571429",
         "marker": {
          "color": "#ab63fa",
          "opacity": 0.8
         },
         "name": "0.09428571428571429",
         "nbinsx": 40,
         "offsetgroup": "0.09428571428571429",
         "orientation": "v",
         "showlegend": true,
         "type": "histogram",
         "x": [
          0.09428571428571429
         ],
         "xaxis": "x",
         "yaxis": "y"
        },
        {
         "alignmentgroup": "True",
         "bingroup": "x",
         "hoverlabel": {
          "namelength": 0
         },
         "hovertemplate": "precipitation=%{x}<br>count=%{y}",
         "legendgroup": "0.07833333333333332",
         "marker": {
          "color": "#FFA15A",
          "opacity": 0.8
         },
         "name": "0.07833333333333332",
         "nbinsx": 40,
         "offsetgroup": "0.07833333333333332",
         "orientation": "v",
         "showlegend": true,
         "type": "histogram",
         "x": [
          0.07833333333333332
         ],
         "xaxis": "x",
         "yaxis": "y"
        },
        {
         "alignmentgroup": "True",
         "bingroup": "x",
         "hoverlabel": {
          "namelength": 0
         },
         "hovertemplate": "precipitation=%{x}<br>count=%{y}",
         "legendgroup": "0.18000000000000002",
         "marker": {
          "color": "#19d3f3",
          "opacity": 0.8
         },
         "name": "0.18000000000000002",
         "nbinsx": 40,
         "offsetgroup": "0.18000000000000002",
         "orientation": "v",
         "showlegend": true,
         "type": "histogram",
         "x": [
          0.18000000000000002
         ],
         "xaxis": "x",
         "yaxis": "y"
        },
        {
         "alignmentgroup": "True",
         "bingroup": "x",
         "hoverlabel": {
          "namelength": 0
         },
         "hovertemplate": "precipitation=%{x}<br>count=%{y}",
         "legendgroup": "0.18166666666666667",
         "marker": {
          "color": "#FF6692",
          "opacity": 0.8
         },
         "name": "0.18166666666666667",
         "nbinsx": 40,
         "offsetgroup": "0.18166666666666667",
         "orientation": "v",
         "showlegend": true,
         "type": "histogram",
         "x": [
          0.18166666666666667
         ],
         "xaxis": "x",
         "yaxis": "y"
        },
        {
         "alignmentgroup": "True",
         "bingroup": "x",
         "hoverlabel": {
          "namelength": 0
         },
         "hovertemplate": "precipitation=%{x}<br>count=%{y}",
         "legendgroup": "1.1199999999999999",
         "marker": {
          "color": "#B6E880",
          "opacity": 0.8
         },
         "name": "1.1199999999999999",
         "nbinsx": 40,
         "offsetgroup": "1.1199999999999999",
         "orientation": "v",
         "showlegend": true,
         "type": "histogram",
         "x": [
          1.1199999999999999
         ],
         "xaxis": "x",
         "yaxis": "y"
        },
        {
         "alignmentgroup": "True",
         "bingroup": "x",
         "hoverlabel": {
          "namelength": 0
         },
         "hovertemplate": "precipitation=%{x}<br>count=%{y}",
         "legendgroup": "0.34800000000000003",
         "marker": {
          "color": "#FF97FF",
          "opacity": 0.8
         },
         "name": "0.34800000000000003",
         "nbinsx": 40,
         "offsetgroup": "0.34800000000000003",
         "orientation": "v",
         "showlegend": true,
         "type": "histogram",
         "x": [
          0.34800000000000003
         ],
         "xaxis": "x",
         "yaxis": "y"
        },
        {
         "alignmentgroup": "True",
         "bingroup": "x",
         "hoverlabel": {
          "namelength": 0
         },
         "hovertemplate": "precipitation=%{x}<br>count=%{y}",
         "legendgroup": "0.21400000000000002",
         "marker": {
          "color": "#FECB52",
          "opacity": 0.8
         },
         "name": "0.21400000000000002",
         "nbinsx": 40,
         "offsetgroup": "0.21400000000000002",
         "orientation": "v",
         "showlegend": true,
         "type": "histogram",
         "x": [
          0.21400000000000002
         ],
         "xaxis": "x",
         "yaxis": "y"
        },
        {
         "alignmentgroup": "True",
         "bingroup": "x",
         "hoverlabel": {
          "namelength": 0
         },
         "hovertemplate": "precipitation=%{x}<br>count=%{y}",
         "legendgroup": "0.6140000000000001",
         "marker": {
          "color": "#636efa",
          "opacity": 0.8
         },
         "name": "0.6140000000000001",
         "nbinsx": 40,
         "offsetgroup": "0.6140000000000001",
         "orientation": "v",
         "showlegend": true,
         "type": "histogram",
         "x": [
          0.6140000000000001
         ],
         "xaxis": "x",
         "yaxis": "y"
        },
        {
         "alignmentgroup": "True",
         "bingroup": "x",
         "hoverlabel": {
          "namelength": 0
         },
         "hovertemplate": "precipitation=%{x}<br>count=%{y}",
         "legendgroup": "0.48",
         "marker": {
          "color": "#EF553B",
          "opacity": 0.8
         },
         "name": "0.48",
         "nbinsx": 40,
         "offsetgroup": "0.48",
         "orientation": "v",
         "showlegend": true,
         "type": "histogram",
         "x": [
          0.48
         ],
         "xaxis": "x",
         "yaxis": "y"
        },
        {
         "alignmentgroup": "True",
         "bingroup": "x",
         "hoverlabel": {
          "namelength": 0
         },
         "hovertemplate": "precipitation=%{x}<br>count=%{y}",
         "legendgroup": "0.03333333333333333",
         "marker": {
          "color": "#00cc96",
          "opacity": 0.8
         },
         "name": "0.03333333333333333",
         "nbinsx": 40,
         "offsetgroup": "0.03333333333333333",
         "orientation": "v",
         "showlegend": true,
         "type": "histogram",
         "x": [
          0.03333333333333333,
          0.03333333333333333,
          0.03333333333333333
         ],
         "xaxis": "x",
         "yaxis": "y"
        },
        {
         "alignmentgroup": "True",
         "bingroup": "x",
         "hoverlabel": {
          "namelength": 0
         },
         "hovertemplate": "precipitation=%{x}<br>count=%{y}",
         "legendgroup": "0.13",
         "marker": {
          "color": "#ab63fa",
          "opacity": 0.8
         },
         "name": "0.13",
         "nbinsx": 40,
         "offsetgroup": "0.13",
         "orientation": "v",
         "showlegend": true,
         "type": "histogram",
         "x": [
          0.13
         ],
         "xaxis": "x",
         "yaxis": "y"
        },
        {
         "alignmentgroup": "True",
         "bingroup": "x",
         "hoverlabel": {
          "namelength": 0
         },
         "hovertemplate": "precipitation=%{x}<br>count=%{y}",
         "legendgroup": "1.3966666666666667",
         "marker": {
          "color": "#FFA15A",
          "opacity": 0.8
         },
         "name": "1.3966666666666667",
         "nbinsx": 40,
         "offsetgroup": "1.3966666666666667",
         "orientation": "v",
         "showlegend": true,
         "type": "histogram",
         "x": [
          1.3966666666666667
         ],
         "xaxis": "x",
         "yaxis": "y"
        },
        {
         "alignmentgroup": "True",
         "bingroup": "x",
         "hoverlabel": {
          "namelength": 0
         },
         "hovertemplate": "precipitation=%{x}<br>count=%{y}",
         "legendgroup": "0.9920000000000002",
         "marker": {
          "color": "#19d3f3",
          "opacity": 0.8
         },
         "name": "0.9920000000000002",
         "nbinsx": 40,
         "offsetgroup": "0.9920000000000002",
         "orientation": "v",
         "showlegend": true,
         "type": "histogram",
         "x": [
          0.9920000000000002
         ],
         "xaxis": "x",
         "yaxis": "y"
        },
        {
         "alignmentgroup": "True",
         "bingroup": "x",
         "hoverlabel": {
          "namelength": 0
         },
         "hovertemplate": "precipitation=%{x}<br>count=%{y}",
         "legendgroup": "0.015000000000000001",
         "marker": {
          "color": "#FF6692",
          "opacity": 0.8
         },
         "name": "0.015000000000000001",
         "nbinsx": 40,
         "offsetgroup": "0.015000000000000001",
         "orientation": "v",
         "showlegend": true,
         "type": "histogram",
         "x": [
          0.015000000000000001
         ],
         "xaxis": "x",
         "yaxis": "y"
        },
        {
         "alignmentgroup": "True",
         "bingroup": "x",
         "hoverlabel": {
          "namelength": 0
         },
         "hovertemplate": "precipitation=%{x}<br>count=%{y}",
         "legendgroup": "0.7066666666666667",
         "marker": {
          "color": "#B6E880",
          "opacity": 0.8
         },
         "name": "0.7066666666666667",
         "nbinsx": 40,
         "offsetgroup": "0.7066666666666667",
         "orientation": "v",
         "showlegend": true,
         "type": "histogram",
         "x": [
          0.7066666666666667
         ],
         "xaxis": "x",
         "yaxis": "y"
        },
        {
         "alignmentgroup": "True",
         "bingroup": "x",
         "hoverlabel": {
          "namelength": 0
         },
         "hovertemplate": "precipitation=%{x}<br>count=%{y}",
         "legendgroup": "1.3399999999999999",
         "marker": {
          "color": "#FF97FF",
          "opacity": 0.8
         },
         "name": "1.3399999999999999",
         "nbinsx": 40,
         "offsetgroup": "1.3399999999999999",
         "orientation": "v",
         "showlegend": true,
         "type": "histogram",
         "x": [
          1.3399999999999999
         ],
         "xaxis": "x",
         "yaxis": "y"
        },
        {
         "alignmentgroup": "True",
         "bingroup": "x",
         "hoverlabel": {
          "namelength": 0
         },
         "hovertemplate": "precipitation=%{x}<br>count=%{y}",
         "legendgroup": "1.07",
         "marker": {
          "color": "#FECB52",
          "opacity": 0.8
         },
         "name": "1.07",
         "nbinsx": 40,
         "offsetgroup": "1.07",
         "orientation": "v",
         "showlegend": true,
         "type": "histogram",
         "x": [
          1.07
         ],
         "xaxis": "x",
         "yaxis": "y"
        },
        {
         "alignmentgroup": "True",
         "bingroup": "x",
         "hoverlabel": {
          "namelength": 0
         },
         "hovertemplate": "precipitation=%{x}<br>count=%{y}",
         "legendgroup": "0.024",
         "marker": {
          "color": "#636efa",
          "opacity": 0.8
         },
         "name": "0.024",
         "nbinsx": 40,
         "offsetgroup": "0.024",
         "orientation": "v",
         "showlegend": true,
         "type": "histogram",
         "x": [
          0.024
         ],
         "xaxis": "x",
         "yaxis": "y"
        },
        {
         "alignmentgroup": "True",
         "bingroup": "x",
         "hoverlabel": {
          "namelength": 0
         },
         "hovertemplate": "precipitation=%{x}<br>count=%{y}",
         "legendgroup": "0.5016666666666666",
         "marker": {
          "color": "#EF553B",
          "opacity": 0.8
         },
         "name": "0.5016666666666666",
         "nbinsx": 40,
         "offsetgroup": "0.5016666666666666",
         "orientation": "v",
         "showlegend": true,
         "type": "histogram",
         "x": [
          0.5016666666666666
         ],
         "xaxis": "x",
         "yaxis": "y"
        },
        {
         "alignmentgroup": "True",
         "bingroup": "x",
         "hoverlabel": {
          "namelength": 0
         },
         "hovertemplate": "precipitation=%{x}<br>count=%{y}",
         "legendgroup": "0.9260000000000002",
         "marker": {
          "color": "#00cc96",
          "opacity": 0.8
         },
         "name": "0.9260000000000002",
         "nbinsx": 40,
         "offsetgroup": "0.9260000000000002",
         "orientation": "v",
         "showlegend": true,
         "type": "histogram",
         "x": [
          0.9260000000000002
         ],
         "xaxis": "x",
         "yaxis": "y"
        },
        {
         "alignmentgroup": "True",
         "bingroup": "x",
         "hoverlabel": {
          "namelength": 0
         },
         "hovertemplate": "precipitation=%{x}<br>count=%{y}",
         "legendgroup": "0.14333333333333334",
         "marker": {
          "color": "#ab63fa",
          "opacity": 0.8
         },
         "name": "0.14333333333333334",
         "nbinsx": 40,
         "offsetgroup": "0.14333333333333334",
         "orientation": "v",
         "showlegend": true,
         "type": "histogram",
         "x": [
          0.14333333333333334
         ],
         "xaxis": "x",
         "yaxis": "y"
        },
        {
         "alignmentgroup": "True",
         "bingroup": "x",
         "hoverlabel": {
          "namelength": 0
         },
         "hovertemplate": "precipitation=%{x}<br>count=%{y}",
         "legendgroup": "0.032",
         "marker": {
          "color": "#FFA15A",
          "opacity": 0.8
         },
         "name": "0.032",
         "nbinsx": 40,
         "offsetgroup": "0.032",
         "orientation": "v",
         "showlegend": true,
         "type": "histogram",
         "x": [
          0.032
         ],
         "xaxis": "x",
         "yaxis": "y"
        },
        {
         "alignmentgroup": "True",
         "bingroup": "x",
         "hoverlabel": {
          "namelength": 0
         },
         "hovertemplate": "precipitation=%{x}<br>count=%{y}",
         "legendgroup": "0.048",
         "marker": {
          "color": "#19d3f3",
          "opacity": 0.8
         },
         "name": "0.048",
         "nbinsx": 40,
         "offsetgroup": "0.048",
         "orientation": "v",
         "showlegend": true,
         "type": "histogram",
         "x": [
          0.048
         ],
         "xaxis": "x",
         "yaxis": "y"
        },
        {
         "alignmentgroup": "True",
         "bingroup": "x",
         "hoverlabel": {
          "namelength": 0
         },
         "hovertemplate": "precipitation=%{x}<br>count=%{y}",
         "legendgroup": "0.244",
         "marker": {
          "color": "#FF6692",
          "opacity": 0.8
         },
         "name": "0.244",
         "nbinsx": 40,
         "offsetgroup": "0.244",
         "orientation": "v",
         "showlegend": true,
         "type": "histogram",
         "x": [
          0.244
         ],
         "xaxis": "x",
         "yaxis": "y"
        },
        {
         "alignmentgroup": "True",
         "bingroup": "x",
         "hoverlabel": {
          "namelength": 0
         },
         "hovertemplate": "precipitation=%{x}<br>count=%{y}",
         "legendgroup": "0.176",
         "marker": {
          "color": "#B6E880",
          "opacity": 0.8
         },
         "name": "0.176",
         "nbinsx": 40,
         "offsetgroup": "0.176",
         "orientation": "v",
         "showlegend": true,
         "type": "histogram",
         "x": [
          0.176
         ],
         "xaxis": "x",
         "yaxis": "y"
        },
        {
         "alignmentgroup": "True",
         "bingroup": "x",
         "hoverlabel": {
          "namelength": 0
         },
         "hovertemplate": "precipitation=%{x}<br>count=%{y}",
         "legendgroup": "0.025000000000000005",
         "marker": {
          "color": "#FF97FF",
          "opacity": 0.8
         },
         "name": "0.025000000000000005",
         "nbinsx": 40,
         "offsetgroup": "0.025000000000000005",
         "orientation": "v",
         "showlegend": true,
         "type": "histogram",
         "x": [
          0.025000000000000005
         ],
         "xaxis": "x",
         "yaxis": "y"
        },
        {
         "alignmentgroup": "True",
         "bingroup": "x",
         "hoverlabel": {
          "namelength": 0
         },
         "hovertemplate": "precipitation=%{x}<br>count=%{y}",
         "legendgroup": "0.14166666666666666",
         "marker": {
          "color": "#FECB52",
          "opacity": 0.8
         },
         "name": "0.14166666666666666",
         "nbinsx": 40,
         "offsetgroup": "0.14166666666666666",
         "orientation": "v",
         "showlegend": true,
         "type": "histogram",
         "x": [
          0.14166666666666666
         ],
         "xaxis": "x",
         "yaxis": "y"
        },
        {
         "alignmentgroup": "True",
         "bingroup": "x",
         "hoverlabel": {
          "namelength": 0
         },
         "hovertemplate": "precipitation=%{x}<br>count=%{y}",
         "legendgroup": "0.072",
         "marker": {
          "color": "#636efa",
          "opacity": 0.8
         },
         "name": "0.072",
         "nbinsx": 40,
         "offsetgroup": "0.072",
         "orientation": "v",
         "showlegend": true,
         "type": "histogram",
         "x": [
          0.072
         ],
         "xaxis": "x",
         "yaxis": "y"
        },
        {
         "alignmentgroup": "True",
         "bingroup": "x",
         "hoverlabel": {
          "namelength": 0
         },
         "hovertemplate": "precipitation=%{x}<br>count=%{y}",
         "legendgroup": "0.11833333333333333",
         "marker": {
          "color": "#EF553B",
          "opacity": 0.8
         },
         "name": "0.11833333333333333",
         "nbinsx": 40,
         "offsetgroup": "0.11833333333333333",
         "orientation": "v",
         "showlegend": true,
         "type": "histogram",
         "x": [
          0.11833333333333333
         ],
         "xaxis": "x",
         "yaxis": "y"
        },
        {
         "alignmentgroup": "True",
         "bingroup": "x",
         "hoverlabel": {
          "namelength": 0
         },
         "hovertemplate": "precipitation=%{x}<br>count=%{y}",
         "legendgroup": "0.6483333333333333",
         "marker": {
          "color": "#00cc96",
          "opacity": 0.8
         },
         "name": "0.6483333333333333",
         "nbinsx": 40,
         "offsetgroup": "0.6483333333333333",
         "orientation": "v",
         "showlegend": true,
         "type": "histogram",
         "x": [
          0.6483333333333333
         ],
         "xaxis": "x",
         "yaxis": "y"
        },
        {
         "alignmentgroup": "True",
         "bingroup": "x",
         "hoverlabel": {
          "namelength": 0
         },
         "hovertemplate": "precipitation=%{x}<br>count=%{y}",
         "legendgroup": "0.37000000000000005",
         "marker": {
          "color": "#ab63fa",
          "opacity": 0.8
         },
         "name": "0.37000000000000005",
         "nbinsx": 40,
         "offsetgroup": "0.37000000000000005",
         "orientation": "v",
         "showlegend": true,
         "type": "histogram",
         "x": [
          0.37000000000000005
         ],
         "xaxis": "x",
         "yaxis": "y"
        },
        {
         "alignmentgroup": "True",
         "bingroup": "x",
         "hoverlabel": {
          "namelength": 0
         },
         "hovertemplate": "precipitation=%{x}<br>count=%{y}",
         "legendgroup": "0.084",
         "marker": {
          "color": "#FFA15A",
          "opacity": 0.8
         },
         "name": "0.084",
         "nbinsx": 40,
         "offsetgroup": "0.084",
         "orientation": "v",
         "showlegend": true,
         "type": "histogram",
         "x": [
          0.084
         ],
         "xaxis": "x",
         "yaxis": "y"
        },
        {
         "alignmentgroup": "True",
         "bingroup": "x",
         "hoverlabel": {
          "namelength": 0
         },
         "hovertemplate": "precipitation=%{x}<br>count=%{y}",
         "legendgroup": "0.346",
         "marker": {
          "color": "#19d3f3",
          "opacity": 0.8
         },
         "name": "0.346",
         "nbinsx": 40,
         "offsetgroup": "0.346",
         "orientation": "v",
         "showlegend": true,
         "type": "histogram",
         "x": [
          0.346
         ],
         "xaxis": "x",
         "yaxis": "y"
        },
        {
         "alignmentgroup": "True",
         "bingroup": "x",
         "hoverlabel": {
          "namelength": 0
         },
         "hovertemplate": "precipitation=%{x}<br>count=%{y}",
         "legendgroup": "0.074",
         "marker": {
          "color": "#FF6692",
          "opacity": 0.8
         },
         "name": "0.074",
         "nbinsx": 40,
         "offsetgroup": "0.074",
         "orientation": "v",
         "showlegend": true,
         "type": "histogram",
         "x": [
          0.074
         ],
         "xaxis": "x",
         "yaxis": "y"
        },
        {
         "alignmentgroup": "True",
         "bingroup": "x",
         "hoverlabel": {
          "namelength": 0
         },
         "hovertemplate": "precipitation=%{x}<br>count=%{y}",
         "legendgroup": "0.06799999999999999",
         "marker": {
          "color": "#B6E880",
          "opacity": 0.8
         },
         "name": "0.06799999999999999",
         "nbinsx": 40,
         "offsetgroup": "0.06799999999999999",
         "orientation": "v",
         "showlegend": true,
         "type": "histogram",
         "x": [
          0.06799999999999999
         ],
         "xaxis": "x",
         "yaxis": "y"
        },
        {
         "alignmentgroup": "True",
         "bingroup": "x",
         "hoverlabel": {
          "namelength": 0
         },
         "hovertemplate": "precipitation=%{x}<br>count=%{y}",
         "legendgroup": "0.122",
         "marker": {
          "color": "#FF97FF",
          "opacity": 0.8
         },
         "name": "0.122",
         "nbinsx": 40,
         "offsetgroup": "0.122",
         "orientation": "v",
         "showlegend": true,
         "type": "histogram",
         "x": [
          0.122
         ],
         "xaxis": "x",
         "yaxis": "y"
        },
        {
         "alignmentgroup": "True",
         "bingroup": "x",
         "hoverlabel": {
          "namelength": 0
         },
         "hovertemplate": "precipitation=%{x}<br>count=%{y}",
         "legendgroup": "0.306",
         "marker": {
          "color": "#FECB52",
          "opacity": 0.8
         },
         "name": "0.306",
         "nbinsx": 40,
         "offsetgroup": "0.306",
         "orientation": "v",
         "showlegend": true,
         "type": "histogram",
         "x": [
          0.306
         ],
         "xaxis": "x",
         "yaxis": "y"
        },
        {
         "alignmentgroup": "True",
         "bingroup": "x",
         "hoverlabel": {
          "namelength": 0
         },
         "hovertemplate": "precipitation=%{x}<br>count=%{y}",
         "legendgroup": "0.35833333333333334",
         "marker": {
          "color": "#636efa",
          "opacity": 0.8
         },
         "name": "0.35833333333333334",
         "nbinsx": 40,
         "offsetgroup": "0.35833333333333334",
         "orientation": "v",
         "showlegend": true,
         "type": "histogram",
         "x": [
          0.35833333333333334
         ],
         "xaxis": "x",
         "yaxis": "y"
        },
        {
         "alignmentgroup": "True",
         "bingroup": "x",
         "hoverlabel": {
          "namelength": 0
         },
         "hovertemplate": "precipitation=%{x}<br>count=%{y}",
         "legendgroup": "0.2916666666666667",
         "marker": {
          "color": "#EF553B",
          "opacity": 0.8
         },
         "name": "0.2916666666666667",
         "nbinsx": 40,
         "offsetgroup": "0.2916666666666667",
         "orientation": "v",
         "showlegend": true,
         "type": "histogram",
         "x": [
          0.2916666666666667
         ],
         "xaxis": "x",
         "yaxis": "y"
        },
        {
         "alignmentgroup": "True",
         "bingroup": "x",
         "hoverlabel": {
          "namelength": 0
         },
         "hovertemplate": "precipitation=%{x}<br>count=%{y}",
         "legendgroup": "0.22999999999999998",
         "marker": {
          "color": "#00cc96",
          "opacity": 0.8
         },
         "name": "0.22999999999999998",
         "nbinsx": 40,
         "offsetgroup": "0.22999999999999998",
         "orientation": "v",
         "showlegend": true,
         "type": "histogram",
         "x": [
          0.22999999999999998
         ],
         "xaxis": "x",
         "yaxis": "y"
        },
        {
         "alignmentgroup": "True",
         "bingroup": "x",
         "hoverlabel": {
          "namelength": 0
         },
         "hovertemplate": "precipitation=%{x}<br>count=%{y}",
         "legendgroup": "0.26166666666666666",
         "marker": {
          "color": "#ab63fa",
          "opacity": 0.8
         },
         "name": "0.26166666666666666",
         "nbinsx": 40,
         "offsetgroup": "0.26166666666666666",
         "orientation": "v",
         "showlegend": true,
         "type": "histogram",
         "x": [
          0.26166666666666666
         ],
         "xaxis": "x",
         "yaxis": "y"
        },
        {
         "alignmentgroup": "True",
         "bingroup": "x",
         "hoverlabel": {
          "namelength": 0
         },
         "hovertemplate": "precipitation=%{x}<br>count=%{y}",
         "legendgroup": "0.09000000000000001",
         "marker": {
          "color": "#FFA15A",
          "opacity": 0.8
         },
         "name": "0.09000000000000001",
         "nbinsx": 40,
         "offsetgroup": "0.09000000000000001",
         "orientation": "v",
         "showlegend": true,
         "type": "histogram",
         "x": [
          0.09000000000000001
         ],
         "xaxis": "x",
         "yaxis": "y"
        },
        {
         "alignmentgroup": "True",
         "bingroup": "x",
         "hoverlabel": {
          "namelength": 0
         },
         "hovertemplate": "precipitation=%{x}<br>count=%{y}",
         "legendgroup": "0.23666666666666666",
         "marker": {
          "color": "#19d3f3",
          "opacity": 0.8
         },
         "name": "0.23666666666666666",
         "nbinsx": 40,
         "offsetgroup": "0.23666666666666666",
         "orientation": "v",
         "showlegend": true,
         "type": "histogram",
         "x": [
          0.23666666666666666
         ],
         "xaxis": "x",
         "yaxis": "y"
        },
        {
         "alignmentgroup": "True",
         "bingroup": "x",
         "hoverlabel": {
          "namelength": 0
         },
         "hovertemplate": "precipitation=%{x}<br>count=%{y}",
         "legendgroup": "0.12166666666666666",
         "marker": {
          "color": "#FF6692",
          "opacity": 0.8
         },
         "name": "0.12166666666666666",
         "nbinsx": 40,
         "offsetgroup": "0.12166666666666666",
         "orientation": "v",
         "showlegend": true,
         "type": "histogram",
         "x": [
          0.12166666666666666
         ],
         "xaxis": "x",
         "yaxis": "y"
        },
        {
         "alignmentgroup": "True",
         "bingroup": "x",
         "hoverlabel": {
          "namelength": 0
         },
         "hovertemplate": "precipitation=%{x}<br>count=%{y}",
         "legendgroup": "0.1275",
         "marker": {
          "color": "#B6E880",
          "opacity": 0.8
         },
         "name": "0.1275",
         "nbinsx": 40,
         "offsetgroup": "0.1275",
         "orientation": "v",
         "showlegend": true,
         "type": "histogram",
         "x": [
          0.1275
         ],
         "xaxis": "x",
         "yaxis": "y"
        },
        {
         "alignmentgroup": "True",
         "bingroup": "x",
         "hoverlabel": {
          "namelength": 0
         },
         "hovertemplate": "precipitation=%{x}<br>count=%{y}",
         "legendgroup": "0.07333333333333335",
         "marker": {
          "color": "#FF97FF",
          "opacity": 0.8
         },
         "name": "0.07333333333333335",
         "nbinsx": 40,
         "offsetgroup": "0.07333333333333335",
         "orientation": "v",
         "showlegend": true,
         "type": "histogram",
         "x": [
          0.07333333333333335
         ],
         "xaxis": "x",
         "yaxis": "y"
        },
        {
         "alignmentgroup": "True",
         "bingroup": "x",
         "hoverlabel": {
          "namelength": 0
         },
         "hovertemplate": "precipitation=%{x}<br>count=%{y}",
         "legendgroup": "0.11166666666666665",
         "marker": {
          "color": "#FECB52",
          "opacity": 0.8
         },
         "name": "0.11166666666666665",
         "nbinsx": 40,
         "offsetgroup": "0.11166666666666665",
         "orientation": "v",
         "showlegend": true,
         "type": "histogram",
         "x": [
          0.11166666666666665
         ],
         "xaxis": "x",
         "yaxis": "y"
        },
        {
         "alignmentgroup": "True",
         "bingroup": "x",
         "hoverlabel": {
          "namelength": 0
         },
         "hovertemplate": "precipitation=%{x}<br>count=%{y}",
         "legendgroup": "0.128",
         "marker": {
          "color": "#636efa",
          "opacity": 0.8
         },
         "name": "0.128",
         "nbinsx": 40,
         "offsetgroup": "0.128",
         "orientation": "v",
         "showlegend": true,
         "type": "histogram",
         "x": [
          0.128
         ],
         "xaxis": "x",
         "yaxis": "y"
        },
        {
         "alignmentgroup": "True",
         "bingroup": "x",
         "hoverlabel": {
          "namelength": 0
         },
         "hovertemplate": "precipitation=%{x}<br>count=%{y}",
         "legendgroup": "0.02",
         "marker": {
          "color": "#EF553B",
          "opacity": 0.8
         },
         "name": "0.02",
         "nbinsx": 40,
         "offsetgroup": "0.02",
         "orientation": "v",
         "showlegend": true,
         "type": "histogram",
         "x": [
          0.02,
          0.02
         ],
         "xaxis": "x",
         "yaxis": "y"
        },
        {
         "alignmentgroup": "True",
         "bingroup": "x",
         "hoverlabel": {
          "namelength": 0
         },
         "hovertemplate": "precipitation=%{x}<br>count=%{y}",
         "legendgroup": "0.018333333333333333",
         "marker": {
          "color": "#00cc96",
          "opacity": 0.8
         },
         "name": "0.018333333333333333",
         "nbinsx": 40,
         "offsetgroup": "0.018333333333333333",
         "orientation": "v",
         "showlegend": true,
         "type": "histogram",
         "x": [
          0.018333333333333333
         ],
         "xaxis": "x",
         "yaxis": "y"
        },
        {
         "alignmentgroup": "True",
         "bingroup": "x",
         "hoverlabel": {
          "namelength": 0
         },
         "hovertemplate": "precipitation=%{x}<br>count=%{y}",
         "legendgroup": "0.07428571428571429",
         "marker": {
          "color": "#ab63fa",
          "opacity": 0.8
         },
         "name": "0.07428571428571429",
         "nbinsx": 40,
         "offsetgroup": "0.07428571428571429",
         "orientation": "v",
         "showlegend": true,
         "type": "histogram",
         "x": [
          0.07428571428571429
         ],
         "xaxis": "x",
         "yaxis": "y"
        },
        {
         "alignmentgroup": "True",
         "bingroup": "x",
         "hoverlabel": {
          "namelength": 0
         },
         "hovertemplate": "precipitation=%{x}<br>count=%{y}",
         "legendgroup": "0.18",
         "marker": {
          "color": "#FFA15A",
          "opacity": 0.8
         },
         "name": "0.18",
         "nbinsx": 40,
         "offsetgroup": "0.18",
         "orientation": "v",
         "showlegend": true,
         "type": "histogram",
         "x": [
          0.18
         ],
         "xaxis": "x",
         "yaxis": "y"
        },
        {
         "alignmentgroup": "True",
         "bingroup": "x",
         "hoverlabel": {
          "namelength": 0
         },
         "hovertemplate": "precipitation=%{x}<br>count=%{y}",
         "legendgroup": "0.148",
         "marker": {
          "color": "#19d3f3",
          "opacity": 0.8
         },
         "name": "0.148",
         "nbinsx": 40,
         "offsetgroup": "0.148",
         "orientation": "v",
         "showlegend": true,
         "type": "histogram",
         "x": [
          0.148
         ],
         "xaxis": "x",
         "yaxis": "y"
        },
        {
         "alignmentgroup": "True",
         "bingroup": "x",
         "hoverlabel": {
          "namelength": 0
         },
         "hovertemplate": "precipitation=%{x}<br>count=%{y}",
         "legendgroup": "0.037500000000000006",
         "marker": {
          "color": "#FF6692",
          "opacity": 0.8
         },
         "name": "0.037500000000000006",
         "nbinsx": 40,
         "offsetgroup": "0.037500000000000006",
         "orientation": "v",
         "showlegend": true,
         "type": "histogram",
         "x": [
          0.037500000000000006
         ],
         "xaxis": "x",
         "yaxis": "y"
        },
        {
         "alignmentgroup": "True",
         "bingroup": "x",
         "hoverlabel": {
          "namelength": 0
         },
         "hovertemplate": "precipitation=%{x}<br>count=%{y}",
         "legendgroup": "0.1",
         "marker": {
          "color": "#B6E880",
          "opacity": 0.8
         },
         "name": "0.1",
         "nbinsx": 40,
         "offsetgroup": "0.1",
         "orientation": "v",
         "showlegend": true,
         "type": "histogram",
         "x": [
          0.1
         ],
         "xaxis": "x",
         "yaxis": "y"
        },
        {
         "alignmentgroup": "True",
         "bingroup": "x",
         "hoverlabel": {
          "namelength": 0
         },
         "hovertemplate": "precipitation=%{x}<br>count=%{y}",
         "legendgroup": "0.060000000000000005",
         "marker": {
          "color": "#FF97FF",
          "opacity": 0.8
         },
         "name": "0.060000000000000005",
         "nbinsx": 40,
         "offsetgroup": "0.060000000000000005",
         "orientation": "v",
         "showlegend": true,
         "type": "histogram",
         "x": [
          0.060000000000000005
         ],
         "xaxis": "x",
         "yaxis": "y"
        },
        {
         "alignmentgroup": "True",
         "bingroup": "x",
         "hoverlabel": {
          "namelength": 0
         },
         "hovertemplate": "precipitation=%{x}<br>count=%{y}",
         "legendgroup": "0.3016666666666667",
         "marker": {
          "color": "#FECB52",
          "opacity": 0.8
         },
         "name": "0.3016666666666667",
         "nbinsx": 40,
         "offsetgroup": "0.3016666666666667",
         "orientation": "v",
         "showlegend": true,
         "type": "histogram",
         "x": [
          0.3016666666666667
         ],
         "xaxis": "x",
         "yaxis": "y"
        },
        {
         "alignmentgroup": "True",
         "bingroup": "x",
         "hoverlabel": {
          "namelength": 0
         },
         "hovertemplate": "precipitation=%{x}<br>count=%{y}",
         "legendgroup": "0.15833333333333335",
         "marker": {
          "color": "#636efa",
          "opacity": 0.8
         },
         "name": "0.15833333333333335",
         "nbinsx": 40,
         "offsetgroup": "0.15833333333333335",
         "orientation": "v",
         "showlegend": true,
         "type": "histogram",
         "x": [
          0.15833333333333335
         ],
         "xaxis": "x",
         "yaxis": "y"
        },
        {
         "alignmentgroup": "True",
         "bingroup": "x",
         "hoverlabel": {
          "namelength": 0
         },
         "hovertemplate": "precipitation=%{x}<br>count=%{y}",
         "legendgroup": "0.15166666666666667",
         "marker": {
          "color": "#EF553B",
          "opacity": 0.8
         },
         "name": "0.15166666666666667",
         "nbinsx": 40,
         "offsetgroup": "0.15166666666666667",
         "orientation": "v",
         "showlegend": true,
         "type": "histogram",
         "x": [
          0.15166666666666667
         ],
         "xaxis": "x",
         "yaxis": "y"
        },
        {
         "alignmentgroup": "True",
         "bingroup": "x",
         "hoverlabel": {
          "namelength": 0
         },
         "hovertemplate": "precipitation=%{x}<br>count=%{y}",
         "legendgroup": "0.3614285714285714",
         "marker": {
          "color": "#00cc96",
          "opacity": 0.8
         },
         "name": "0.3614285714285714",
         "nbinsx": 40,
         "offsetgroup": "0.3614285714285714",
         "orientation": "v",
         "showlegend": true,
         "type": "histogram",
         "x": [
          0.3614285714285714
         ],
         "xaxis": "x",
         "yaxis": "y"
        },
        {
         "alignmentgroup": "True",
         "bingroup": "x",
         "hoverlabel": {
          "namelength": 0
         },
         "hovertemplate": "precipitation=%{x}<br>count=%{y}",
         "legendgroup": "0.17714285714285713",
         "marker": {
          "color": "#ab63fa",
          "opacity": 0.8
         },
         "name": "0.17714285714285713",
         "nbinsx": 40,
         "offsetgroup": "0.17714285714285713",
         "orientation": "v",
         "showlegend": true,
         "type": "histogram",
         "x": [
          0.17714285714285713
         ],
         "xaxis": "x",
         "yaxis": "y"
        },
        {
         "alignmentgroup": "True",
         "bingroup": "x",
         "hoverlabel": {
          "namelength": 0
         },
         "hovertemplate": "precipitation=%{x}<br>count=%{y}",
         "legendgroup": "0.7366666666666667",
         "marker": {
          "color": "#FFA15A",
          "opacity": 0.8
         },
         "name": "0.7366666666666667",
         "nbinsx": 40,
         "offsetgroup": "0.7366666666666667",
         "orientation": "v",
         "showlegend": true,
         "type": "histogram",
         "x": [
          0.7366666666666667
         ],
         "xaxis": "x",
         "yaxis": "y"
        },
        {
         "alignmentgroup": "True",
         "bingroup": "x",
         "hoverlabel": {
          "namelength": 0
         },
         "hovertemplate": "precipitation=%{x}<br>count=%{y}",
         "legendgroup": "0.22600000000000003",
         "marker": {
          "color": "#19d3f3",
          "opacity": 0.8
         },
         "name": "0.22600000000000003",
         "nbinsx": 40,
         "offsetgroup": "0.22600000000000003",
         "orientation": "v",
         "showlegend": true,
         "type": "histogram",
         "x": [
          0.22600000000000003
         ],
         "xaxis": "x",
         "yaxis": "y"
        },
        {
         "alignmentgroup": "True",
         "bingroup": "x",
         "hoverlabel": {
          "namelength": 0
         },
         "hovertemplate": "precipitation=%{x}<br>count=%{y}",
         "legendgroup": "0.6539999999999999",
         "marker": {
          "color": "#FF6692",
          "opacity": 0.8
         },
         "name": "0.6539999999999999",
         "nbinsx": 40,
         "offsetgroup": "0.6539999999999999",
         "orientation": "v",
         "showlegend": true,
         "type": "histogram",
         "x": [
          0.6539999999999999
         ],
         "xaxis": "x",
         "yaxis": "y"
        },
        {
         "alignmentgroup": "True",
         "bingroup": "x",
         "hoverlabel": {
          "namelength": 0
         },
         "hovertemplate": "precipitation=%{x}<br>count=%{y}",
         "legendgroup": "0.08714285714285715",
         "marker": {
          "color": "#B6E880",
          "opacity": 0.8
         },
         "name": "0.08714285714285715",
         "nbinsx": 40,
         "offsetgroup": "0.08714285714285715",
         "orientation": "v",
         "showlegend": true,
         "type": "histogram",
         "x": [
          0.08714285714285715
         ],
         "xaxis": "x",
         "yaxis": "y"
        },
        {
         "alignmentgroup": "True",
         "bingroup": "x",
         "hoverlabel": {
          "namelength": 0
         },
         "hovertemplate": "precipitation=%{x}<br>count=%{y}",
         "legendgroup": "0.08333333333333333",
         "marker": {
          "color": "#FF97FF",
          "opacity": 0.8
         },
         "name": "0.08333333333333333",
         "nbinsx": 40,
         "offsetgroup": "0.08333333333333333",
         "orientation": "v",
         "showlegend": true,
         "type": "histogram",
         "x": [
          0.08333333333333333
         ],
         "xaxis": "x",
         "yaxis": "y"
        },
        {
         "alignmentgroup": "True",
         "bingroup": "x",
         "hoverlabel": {
          "namelength": 0
         },
         "hovertemplate": "precipitation=%{x}<br>count=%{y}",
         "legendgroup": "0.10166666666666667",
         "marker": {
          "color": "#FECB52",
          "opacity": 0.8
         },
         "name": "0.10166666666666667",
         "nbinsx": 40,
         "offsetgroup": "0.10166666666666667",
         "orientation": "v",
         "showlegend": true,
         "type": "histogram",
         "x": [
          0.10166666666666667
         ],
         "xaxis": "x",
         "yaxis": "y"
        },
        {
         "alignmentgroup": "True",
         "bingroup": "x",
         "hoverlabel": {
          "namelength": 0
         },
         "hovertemplate": "precipitation=%{x}<br>count=%{y}",
         "legendgroup": "0.06",
         "marker": {
          "color": "#636efa",
          "opacity": 0.8
         },
         "name": "0.06",
         "nbinsx": 40,
         "offsetgroup": "0.06",
         "orientation": "v",
         "showlegend": true,
         "type": "histogram",
         "x": [
          0.06
         ],
         "xaxis": "x",
         "yaxis": "y"
        },
        {
         "alignmentgroup": "True",
         "bingroup": "x",
         "hoverlabel": {
          "namelength": 0
         },
         "hovertemplate": "precipitation=%{x}<br>count=%{y}",
         "legendgroup": "0.017499999999999998",
         "marker": {
          "color": "#EF553B",
          "opacity": 0.8
         },
         "name": "0.017499999999999998",
         "nbinsx": 40,
         "offsetgroup": "0.017499999999999998",
         "orientation": "v",
         "showlegend": true,
         "type": "histogram",
         "x": [
          0.017499999999999998
         ],
         "xaxis": "x",
         "yaxis": "y"
        },
        {
         "alignmentgroup": "True",
         "bingroup": "x",
         "hoverlabel": {
          "namelength": 0
         },
         "hovertemplate": "precipitation=%{x}<br>count=%{y}",
         "legendgroup": "0.0125",
         "marker": {
          "color": "#00cc96",
          "opacity": 0.8
         },
         "name": "0.0125",
         "nbinsx": 40,
         "offsetgroup": "0.0125",
         "orientation": "v",
         "showlegend": true,
         "type": "histogram",
         "x": [
          0.0125
         ],
         "xaxis": "x",
         "yaxis": "y"
        },
        {
         "alignmentgroup": "True",
         "bingroup": "x",
         "hoverlabel": {
          "namelength": 0
         },
         "hovertemplate": "precipitation=%{x}<br>count=%{y}",
         "legendgroup": "0.049999999999999996",
         "marker": {
          "color": "#ab63fa",
          "opacity": 0.8
         },
         "name": "0.049999999999999996",
         "nbinsx": 40,
         "offsetgroup": "0.049999999999999996",
         "orientation": "v",
         "showlegend": true,
         "type": "histogram",
         "x": [
          0.049999999999999996
         ],
         "xaxis": "x",
         "yaxis": "y"
        },
        {
         "alignmentgroup": "True",
         "bingroup": "x",
         "hoverlabel": {
          "namelength": 0
         },
         "hovertemplate": "precipitation=%{x}<br>count=%{y}",
         "legendgroup": "0.0175",
         "marker": {
          "color": "#FFA15A",
          "opacity": 0.8
         },
         "name": "0.0175",
         "nbinsx": 40,
         "offsetgroup": "0.0175",
         "orientation": "v",
         "showlegend": true,
         "type": "histogram",
         "x": [
          0.0175
         ],
         "xaxis": "x",
         "yaxis": "y"
        },
        {
         "alignmentgroup": "True",
         "bingroup": "x",
         "hoverlabel": {
          "namelength": 0
         },
         "hovertemplate": "precipitation=%{x}<br>count=%{y}",
         "legendgroup": "0.062",
         "marker": {
          "color": "#19d3f3",
          "opacity": 0.8
         },
         "name": "0.062",
         "nbinsx": 40,
         "offsetgroup": "0.062",
         "orientation": "v",
         "showlegend": true,
         "type": "histogram",
         "x": [
          0.062
         ],
         "xaxis": "x",
         "yaxis": "y"
        },
        {
         "alignmentgroup": "True",
         "bingroup": "x",
         "hoverlabel": {
          "namelength": 0
         },
         "hovertemplate": "precipitation=%{x}<br>count=%{y}",
         "legendgroup": "0.164",
         "marker": {
          "color": "#FF6692",
          "opacity": 0.8
         },
         "name": "0.164",
         "nbinsx": 40,
         "offsetgroup": "0.164",
         "orientation": "v",
         "showlegend": true,
         "type": "histogram",
         "x": [
          0.164
         ],
         "xaxis": "x",
         "yaxis": "y"
        },
        {
         "alignmentgroup": "True",
         "bingroup": "x",
         "hoverlabel": {
          "namelength": 0
         },
         "hovertemplate": "precipitation=%{x}<br>count=%{y}",
         "legendgroup": "0.1525",
         "marker": {
          "color": "#B6E880",
          "opacity": 0.8
         },
         "name": "0.1525",
         "nbinsx": 40,
         "offsetgroup": "0.1525",
         "orientation": "v",
         "showlegend": true,
         "type": "histogram",
         "x": [
          0.1525
         ],
         "xaxis": "x",
         "yaxis": "y"
        },
        {
         "alignmentgroup": "True",
         "bingroup": "x",
         "hoverlabel": {
          "namelength": 0
         },
         "hovertemplate": "precipitation=%{x}<br>count=%{y}",
         "legendgroup": "0.19333333333333336",
         "marker": {
          "color": "#FF97FF",
          "opacity": 0.8
         },
         "name": "0.19333333333333336",
         "nbinsx": 40,
         "offsetgroup": "0.19333333333333336",
         "orientation": "v",
         "showlegend": true,
         "type": "histogram",
         "x": [
          0.19333333333333336
         ],
         "xaxis": "x",
         "yaxis": "y"
        },
        {
         "alignmentgroup": "True",
         "bingroup": "x",
         "hoverlabel": {
          "namelength": 0
         },
         "hovertemplate": "precipitation=%{x}<br>count=%{y}",
         "legendgroup": "0.16666666666666666",
         "marker": {
          "color": "#FECB52",
          "opacity": 0.8
         },
         "name": "0.16666666666666666",
         "nbinsx": 40,
         "offsetgroup": "0.16666666666666666",
         "orientation": "v",
         "showlegend": true,
         "type": "histogram",
         "x": [
          0.16666666666666666
         ],
         "xaxis": "x",
         "yaxis": "y"
        },
        {
         "alignmentgroup": "True",
         "bingroup": "x",
         "hoverlabel": {
          "namelength": 0
         },
         "hovertemplate": "precipitation=%{x}<br>count=%{y}",
         "legendgroup": "0.1325",
         "marker": {
          "color": "#636efa",
          "opacity": 0.8
         },
         "name": "0.1325",
         "nbinsx": 40,
         "offsetgroup": "0.1325",
         "orientation": "v",
         "showlegend": true,
         "type": "histogram",
         "x": [
          0.1325
         ],
         "xaxis": "x",
         "yaxis": "y"
        }
       ],
       "layout": {
        "barmode": "relative",
        "font": {
         "color": "#7f7f7f",
         "family": "Courier New, monospace",
         "size": 18
        },
        "legend": {
         "title": {
          "text": "precipitation"
         },
         "tracegroupgap": 0
        },
        "template": {
         "data": {
          "bar": [
           {
            "error_x": {
             "color": "#2a3f5f"
            },
            "error_y": {
             "color": "#2a3f5f"
            },
            "marker": {
             "line": {
              "color": "#E5ECF6",
              "width": 0.5
             }
            },
            "type": "bar"
           }
          ],
          "barpolar": [
           {
            "marker": {
             "line": {
              "color": "#E5ECF6",
              "width": 0.5
             }
            },
            "type": "barpolar"
           }
          ],
          "carpet": [
           {
            "aaxis": {
             "endlinecolor": "#2a3f5f",
             "gridcolor": "white",
             "linecolor": "white",
             "minorgridcolor": "white",
             "startlinecolor": "#2a3f5f"
            },
            "baxis": {
             "endlinecolor": "#2a3f5f",
             "gridcolor": "white",
             "linecolor": "white",
             "minorgridcolor": "white",
             "startlinecolor": "#2a3f5f"
            },
            "type": "carpet"
           }
          ],
          "choropleth": [
           {
            "colorbar": {
             "outlinewidth": 0,
             "ticks": ""
            },
            "type": "choropleth"
           }
          ],
          "contour": [
           {
            "colorbar": {
             "outlinewidth": 0,
             "ticks": ""
            },
            "colorscale": [
             [
              0,
              "#0d0887"
             ],
             [
              0.1111111111111111,
              "#46039f"
             ],
             [
              0.2222222222222222,
              "#7201a8"
             ],
             [
              0.3333333333333333,
              "#9c179e"
             ],
             [
              0.4444444444444444,
              "#bd3786"
             ],
             [
              0.5555555555555556,
              "#d8576b"
             ],
             [
              0.6666666666666666,
              "#ed7953"
             ],
             [
              0.7777777777777778,
              "#fb9f3a"
             ],
             [
              0.8888888888888888,
              "#fdca26"
             ],
             [
              1,
              "#f0f921"
             ]
            ],
            "type": "contour"
           }
          ],
          "contourcarpet": [
           {
            "colorbar": {
             "outlinewidth": 0,
             "ticks": ""
            },
            "type": "contourcarpet"
           }
          ],
          "heatmap": [
           {
            "colorbar": {
             "outlinewidth": 0,
             "ticks": ""
            },
            "colorscale": [
             [
              0,
              "#0d0887"
             ],
             [
              0.1111111111111111,
              "#46039f"
             ],
             [
              0.2222222222222222,
              "#7201a8"
             ],
             [
              0.3333333333333333,
              "#9c179e"
             ],
             [
              0.4444444444444444,
              "#bd3786"
             ],
             [
              0.5555555555555556,
              "#d8576b"
             ],
             [
              0.6666666666666666,
              "#ed7953"
             ],
             [
              0.7777777777777778,
              "#fb9f3a"
             ],
             [
              0.8888888888888888,
              "#fdca26"
             ],
             [
              1,
              "#f0f921"
             ]
            ],
            "type": "heatmap"
           }
          ],
          "heatmapgl": [
           {
            "colorbar": {
             "outlinewidth": 0,
             "ticks": ""
            },
            "colorscale": [
             [
              0,
              "#0d0887"
             ],
             [
              0.1111111111111111,
              "#46039f"
             ],
             [
              0.2222222222222222,
              "#7201a8"
             ],
             [
              0.3333333333333333,
              "#9c179e"
             ],
             [
              0.4444444444444444,
              "#bd3786"
             ],
             [
              0.5555555555555556,
              "#d8576b"
             ],
             [
              0.6666666666666666,
              "#ed7953"
             ],
             [
              0.7777777777777778,
              "#fb9f3a"
             ],
             [
              0.8888888888888888,
              "#fdca26"
             ],
             [
              1,
              "#f0f921"
             ]
            ],
            "type": "heatmapgl"
           }
          ],
          "histogram": [
           {
            "marker": {
             "colorbar": {
              "outlinewidth": 0,
              "ticks": ""
             }
            },
            "type": "histogram"
           }
          ],
          "histogram2d": [
           {
            "colorbar": {
             "outlinewidth": 0,
             "ticks": ""
            },
            "colorscale": [
             [
              0,
              "#0d0887"
             ],
             [
              0.1111111111111111,
              "#46039f"
             ],
             [
              0.2222222222222222,
              "#7201a8"
             ],
             [
              0.3333333333333333,
              "#9c179e"
             ],
             [
              0.4444444444444444,
              "#bd3786"
             ],
             [
              0.5555555555555556,
              "#d8576b"
             ],
             [
              0.6666666666666666,
              "#ed7953"
             ],
             [
              0.7777777777777778,
              "#fb9f3a"
             ],
             [
              0.8888888888888888,
              "#fdca26"
             ],
             [
              1,
              "#f0f921"
             ]
            ],
            "type": "histogram2d"
           }
          ],
          "histogram2dcontour": [
           {
            "colorbar": {
             "outlinewidth": 0,
             "ticks": ""
            },
            "colorscale": [
             [
              0,
              "#0d0887"
             ],
             [
              0.1111111111111111,
              "#46039f"
             ],
             [
              0.2222222222222222,
              "#7201a8"
             ],
             [
              0.3333333333333333,
              "#9c179e"
             ],
             [
              0.4444444444444444,
              "#bd3786"
             ],
             [
              0.5555555555555556,
              "#d8576b"
             ],
             [
              0.6666666666666666,
              "#ed7953"
             ],
             [
              0.7777777777777778,
              "#fb9f3a"
             ],
             [
              0.8888888888888888,
              "#fdca26"
             ],
             [
              1,
              "#f0f921"
             ]
            ],
            "type": "histogram2dcontour"
           }
          ],
          "mesh3d": [
           {
            "colorbar": {
             "outlinewidth": 0,
             "ticks": ""
            },
            "type": "mesh3d"
           }
          ],
          "parcoords": [
           {
            "line": {
             "colorbar": {
              "outlinewidth": 0,
              "ticks": ""
             }
            },
            "type": "parcoords"
           }
          ],
          "pie": [
           {
            "automargin": true,
            "type": "pie"
           }
          ],
          "scatter": [
           {
            "marker": {
             "colorbar": {
              "outlinewidth": 0,
              "ticks": ""
             }
            },
            "type": "scatter"
           }
          ],
          "scatter3d": [
           {
            "line": {
             "colorbar": {
              "outlinewidth": 0,
              "ticks": ""
             }
            },
            "marker": {
             "colorbar": {
              "outlinewidth": 0,
              "ticks": ""
             }
            },
            "type": "scatter3d"
           }
          ],
          "scattercarpet": [
           {
            "marker": {
             "colorbar": {
              "outlinewidth": 0,
              "ticks": ""
             }
            },
            "type": "scattercarpet"
           }
          ],
          "scattergeo": [
           {
            "marker": {
             "colorbar": {
              "outlinewidth": 0,
              "ticks": ""
             }
            },
            "type": "scattergeo"
           }
          ],
          "scattergl": [
           {
            "marker": {
             "colorbar": {
              "outlinewidth": 0,
              "ticks": ""
             }
            },
            "type": "scattergl"
           }
          ],
          "scattermapbox": [
           {
            "marker": {
             "colorbar": {
              "outlinewidth": 0,
              "ticks": ""
             }
            },
            "type": "scattermapbox"
           }
          ],
          "scatterpolar": [
           {
            "marker": {
             "colorbar": {
              "outlinewidth": 0,
              "ticks": ""
             }
            },
            "type": "scatterpolar"
           }
          ],
          "scatterpolargl": [
           {
            "marker": {
             "colorbar": {
              "outlinewidth": 0,
              "ticks": ""
             }
            },
            "type": "scatterpolargl"
           }
          ],
          "scatterternary": [
           {
            "marker": {
             "colorbar": {
              "outlinewidth": 0,
              "ticks": ""
             }
            },
            "type": "scatterternary"
           }
          ],
          "surface": [
           {
            "colorbar": {
             "outlinewidth": 0,
             "ticks": ""
            },
            "colorscale": [
             [
              0,
              "#0d0887"
             ],
             [
              0.1111111111111111,
              "#46039f"
             ],
             [
              0.2222222222222222,
              "#7201a8"
             ],
             [
              0.3333333333333333,
              "#9c179e"
             ],
             [
              0.4444444444444444,
              "#bd3786"
             ],
             [
              0.5555555555555556,
              "#d8576b"
             ],
             [
              0.6666666666666666,
              "#ed7953"
             ],
             [
              0.7777777777777778,
              "#fb9f3a"
             ],
             [
              0.8888888888888888,
              "#fdca26"
             ],
             [
              1,
              "#f0f921"
             ]
            ],
            "type": "surface"
           }
          ],
          "table": [
           {
            "cells": {
             "fill": {
              "color": "#EBF0F8"
             },
             "line": {
              "color": "white"
             }
            },
            "header": {
             "fill": {
              "color": "#C8D4E3"
             },
             "line": {
              "color": "white"
             }
            },
            "type": "table"
           }
          ]
         },
         "layout": {
          "annotationdefaults": {
           "arrowcolor": "#2a3f5f",
           "arrowhead": 0,
           "arrowwidth": 1
          },
          "coloraxis": {
           "colorbar": {
            "outlinewidth": 0,
            "ticks": ""
           }
          },
          "colorscale": {
           "diverging": [
            [
             0,
             "#8e0152"
            ],
            [
             0.1,
             "#c51b7d"
            ],
            [
             0.2,
             "#de77ae"
            ],
            [
             0.3,
             "#f1b6da"
            ],
            [
             0.4,
             "#fde0ef"
            ],
            [
             0.5,
             "#f7f7f7"
            ],
            [
             0.6,
             "#e6f5d0"
            ],
            [
             0.7,
             "#b8e186"
            ],
            [
             0.8,
             "#7fbc41"
            ],
            [
             0.9,
             "#4d9221"
            ],
            [
             1,
             "#276419"
            ]
           ],
           "sequential": [
            [
             0,
             "#0d0887"
            ],
            [
             0.1111111111111111,
             "#46039f"
            ],
            [
             0.2222222222222222,
             "#7201a8"
            ],
            [
             0.3333333333333333,
             "#9c179e"
            ],
            [
             0.4444444444444444,
             "#bd3786"
            ],
            [
             0.5555555555555556,
             "#d8576b"
            ],
            [
             0.6666666666666666,
             "#ed7953"
            ],
            [
             0.7777777777777778,
             "#fb9f3a"
            ],
            [
             0.8888888888888888,
             "#fdca26"
            ],
            [
             1,
             "#f0f921"
            ]
           ],
           "sequentialminus": [
            [
             0,
             "#0d0887"
            ],
            [
             0.1111111111111111,
             "#46039f"
            ],
            [
             0.2222222222222222,
             "#7201a8"
            ],
            [
             0.3333333333333333,
             "#9c179e"
            ],
            [
             0.4444444444444444,
             "#bd3786"
            ],
            [
             0.5555555555555556,
             "#d8576b"
            ],
            [
             0.6666666666666666,
             "#ed7953"
            ],
            [
             0.7777777777777778,
             "#fb9f3a"
            ],
            [
             0.8888888888888888,
             "#fdca26"
            ],
            [
             1,
             "#f0f921"
            ]
           ]
          },
          "colorway": [
           "#636efa",
           "#EF553B",
           "#00cc96",
           "#ab63fa",
           "#FFA15A",
           "#19d3f3",
           "#FF6692",
           "#B6E880",
           "#FF97FF",
           "#FECB52"
          ],
          "font": {
           "color": "#2a3f5f"
          },
          "geo": {
           "bgcolor": "white",
           "lakecolor": "white",
           "landcolor": "#E5ECF6",
           "showlakes": true,
           "showland": true,
           "subunitcolor": "white"
          },
          "hoverlabel": {
           "align": "left"
          },
          "hovermode": "closest",
          "mapbox": {
           "style": "light"
          },
          "paper_bgcolor": "white",
          "plot_bgcolor": "#E5ECF6",
          "polar": {
           "angularaxis": {
            "gridcolor": "white",
            "linecolor": "white",
            "ticks": ""
           },
           "bgcolor": "#E5ECF6",
           "radialaxis": {
            "gridcolor": "white",
            "linecolor": "white",
            "ticks": ""
           }
          },
          "scene": {
           "xaxis": {
            "backgroundcolor": "#E5ECF6",
            "gridcolor": "white",
            "gridwidth": 2,
            "linecolor": "white",
            "showbackground": true,
            "ticks": "",
            "zerolinecolor": "white"
           },
           "yaxis": {
            "backgroundcolor": "#E5ECF6",
            "gridcolor": "white",
            "gridwidth": 2,
            "linecolor": "white",
            "showbackground": true,
            "ticks": "",
            "zerolinecolor": "white"
           },
           "zaxis": {
            "backgroundcolor": "#E5ECF6",
            "gridcolor": "white",
            "gridwidth": 2,
            "linecolor": "white",
            "showbackground": true,
            "ticks": "",
            "zerolinecolor": "white"
           }
          },
          "shapedefaults": {
           "line": {
            "color": "#2a3f5f"
           }
          },
          "ternary": {
           "aaxis": {
            "gridcolor": "white",
            "linecolor": "white",
            "ticks": ""
           },
           "baxis": {
            "gridcolor": "white",
            "linecolor": "white",
            "ticks": ""
           },
           "bgcolor": "#E5ECF6",
           "caxis": {
            "gridcolor": "white",
            "linecolor": "white",
            "ticks": ""
           }
          },
          "title": {
           "x": 0.05
          },
          "xaxis": {
           "automargin": true,
           "gridcolor": "white",
           "linecolor": "white",
           "ticks": "",
           "title": {
            "standoff": 15
           },
           "zerolinecolor": "white",
           "zerolinewidth": 2
          },
          "yaxis": {
           "automargin": true,
           "gridcolor": "white",
           "linecolor": "white",
           "ticks": "",
           "title": {
            "standoff": 15
           },
           "zerolinecolor": "white",
           "zerolinewidth": 2
          }
         }
        },
        "title": {
         "text": "Histogram of Precipitation",
         "x": 0.5,
         "xanchor": "center",
         "y": 0.9,
         "yanchor": "top"
        },
        "xaxis": {
         "anchor": "y",
         "categoryarray": [
          1.5549999999999997,
          0.07714285714285715,
          0.016666666666666666,
          0.06399999999999999,
          0.5166666666666666,
          0.24333333333333332,
          0.011666666666666667,
          0.6359999999999999,
          0.006,
          0.05,
          0.254,
          0.276,
          0.08499999999999999,
          0.246,
          0.3333333333333333,
          0.07666666666666667,
          0.17833333333333332,
          0.27999999999999997,
          0.25,
          0.308,
          0.45166666666666666,
          2.3800000000000003,
          0.8266666666666667,
          0.11714285714285715,
          0.13599999999999998,
          0.10600000000000001,
          0.064,
          0.14714285714285716,
          0.19499999999999998,
          0.2057142857142857,
          0.22428571428571428,
          0.04666666666666667,
          0.015,
          0.2783333333333333,
          0.22666666666666666,
          0.018571428571428572,
          0.42714285714285716,
          0.19166666666666665,
          0.2416666666666667,
          0.12,
          0.115,
          0.5816666666666667,
          0.1366666666666667,
          0.022857142857142857,
          0.0016666666666666668,
          0.008,
          0,
          0.11499999999999999,
          0.013333333333333334,
          0.065,
          0.11000000000000001,
          0.09999999999999999,
          0.028333333333333332,
          0.202,
          0.354,
          0.055999999999999994,
          0.13166666666666665,
          0.15714285714285717,
          0.04833333333333334,
          0.31,
          0.09500000000000001,
          0.10666666666666667,
          0.26499999999999996,
          0.26833333333333337,
          0.035,
          0.006666666666666667,
          0.0033333333333333335,
          0.01,
          0.075,
          0.03,
          0.18666666666666668,
          0.05714285714285714,
          0.02142857142857143,
          0.008333333333333333,
          0.25666666666666665,
          0.0075,
          0.095,
          0.23750000000000002,
          0.616,
          1.002,
          0.134,
          0.296,
          0.264,
          0.085,
          0.09166666666666667,
          0.07166666666666667,
          0.17666666666666667,
          0.295,
          0.3933333333333333,
          0.13333333333333333,
          0.54,
          0.076,
          0.06571428571428573,
          0.37,
          0.026000000000000002,
          0.12833333333333333,
          0.043333333333333335,
          0.07,
          0.178,
          0.005,
          0.1285714285714286,
          0.4116666666666666,
          0.205,
          0.27,
          0.086,
          0.40800000000000003,
          0.04,
          0.06833333333333334,
          0.39666666666666667,
          0.5583333333333333,
          0.42800000000000005,
          0.06999999999999999,
          0.004,
          0.15833333333333333,
          0.002,
          0.0025,
          0.04666666666666666,
          0.20400000000000001,
          0.188,
          0.45,
          0.716,
          0.015714285714285715,
          0.008571428571428572,
          0.028000000000000004,
          0.2475,
          0.06333333333333334,
          1.0571428571428572,
          0.1542857142857143,
          0.002857142857142857,
          1.866666666666667,
          1.7466666666666668,
          0.4866666666666666,
          0.016,
          0.36999999999999994,
          0.17500000000000004,
          0.0475,
          0.13000000000000003,
          0.0014285714285714286,
          0.0375,
          0.13666666666666666,
          1.6600000000000001,
          1.0933333333333333,
          0.37166666666666665,
          0.3025,
          0.135,
          0.3266666666666667,
          0.04142857142857143,
          0.144,
          0.18833333333333335,
          0.394,
          0.11833333333333335,
          0.03166666666666667,
          0.11,
          0.09428571428571429,
          0.07833333333333332,
          0.18000000000000002,
          0.18166666666666667,
          1.1199999999999999,
          0.34800000000000003,
          0.21400000000000002,
          0.6140000000000001,
          0.48,
          0.03333333333333333,
          0.13,
          1.3966666666666667,
          0.9920000000000002,
          0.015000000000000001,
          0.7066666666666667,
          1.3399999999999999,
          1.07,
          0.024,
          0.5016666666666666,
          0.9260000000000002,
          0.14333333333333334,
          0.032,
          0.048,
          0.244,
          0.176,
          0.025000000000000005,
          0.14166666666666666,
          0.072,
          0.11833333333333333,
          0.6483333333333333,
          0.37000000000000005,
          0.084,
          0.346,
          0.074,
          0.06799999999999999,
          0.122,
          0.306,
          0.35833333333333334,
          0.2916666666666667,
          0.22999999999999998,
          0.26166666666666666,
          0.09000000000000001,
          0.23666666666666666,
          0.12166666666666666,
          0.1275,
          0.07333333333333335,
          0.11166666666666665,
          0.128,
          0.02,
          0.018333333333333333,
          0.07428571428571429,
          0.18,
          0.148,
          0.037500000000000006,
          0.1,
          0.060000000000000005,
          0.3016666666666667,
          0.15833333333333335,
          0.15166666666666667,
          0.3614285714285714,
          0.17714285714285713,
          0.7366666666666667,
          0.22600000000000003,
          0.6539999999999999,
          0.08714285714285715,
          0.08333333333333333,
          0.10166666666666667,
          0.06,
          0.017499999999999998,
          0.0125,
          0.049999999999999996,
          0.0175,
          0.062,
          0.164,
          0.1525,
          0.19333333333333336,
          0.16666666666666666,
          0.1325
         ],
         "categoryorder": "array",
         "domain": [
          0,
          1
         ],
         "title": {
          "text": "precipitation"
         }
        },
        "yaxis": {
         "anchor": "x",
         "domain": [
          0,
          1
         ],
         "title": {
          "text": "count"
         },
         "type": "log"
        }
       }
      },
      "text/html": [
       "<div>\n",
       "        \n",
       "        \n",
       "            <div id=\"92d6fb02-4672-43d1-8fd7-3ac2797ab3a8\" class=\"plotly-graph-div\" style=\"height:525px; width:100%;\"></div>\n",
       "            <script type=\"text/javascript\">\n",
       "                require([\"plotly\"], function(Plotly) {\n",
       "                    window.PLOTLYENV=window.PLOTLYENV || {};\n",
       "                    \n",
       "                if (document.getElementById(\"92d6fb02-4672-43d1-8fd7-3ac2797ab3a8\")) {\n",
       "                    Plotly.newPlot(\n",
       "                        '92d6fb02-4672-43d1-8fd7-3ac2797ab3a8',\n",
       "                        [{\"alignmentgroup\": \"True\", \"bingroup\": \"x\", \"hoverlabel\": {\"namelength\": 0}, \"hovertemplate\": \"precipitation=%{x}<br>count=%{y}\", \"legendgroup\": \"1.5549999999999997\", \"marker\": {\"color\": \"#636efa\", \"opacity\": 0.8}, \"name\": \"1.5549999999999997\", \"nbinsx\": 40, \"offsetgroup\": \"1.5549999999999997\", \"orientation\": \"v\", \"showlegend\": true, \"type\": \"histogram\", \"x\": [1.5549999999999997], \"xaxis\": \"x\", \"yaxis\": \"y\"}, {\"alignmentgroup\": \"True\", \"bingroup\": \"x\", \"hoverlabel\": {\"namelength\": 0}, \"hovertemplate\": \"precipitation=%{x}<br>count=%{y}\", \"legendgroup\": \"0.07714285714285715\", \"marker\": {\"color\": \"#EF553B\", \"opacity\": 0.8}, \"name\": \"0.07714285714285715\", \"nbinsx\": 40, \"offsetgroup\": \"0.07714285714285715\", \"orientation\": \"v\", \"showlegend\": true, \"type\": \"histogram\", \"x\": [0.07714285714285715], \"xaxis\": \"x\", \"yaxis\": \"y\"}, {\"alignmentgroup\": \"True\", \"bingroup\": \"x\", \"hoverlabel\": {\"namelength\": 0}, \"hovertemplate\": \"precipitation=%{x}<br>count=%{y}\", \"legendgroup\": \"0.016666666666666666\", \"marker\": {\"color\": \"#00cc96\", \"opacity\": 0.8}, \"name\": \"0.016666666666666666\", \"nbinsx\": 40, \"offsetgroup\": \"0.016666666666666666\", \"orientation\": \"v\", \"showlegend\": true, \"type\": \"histogram\", \"x\": [0.016666666666666666, 0.016666666666666666], \"xaxis\": \"x\", \"yaxis\": \"y\"}, {\"alignmentgroup\": \"True\", \"bingroup\": \"x\", \"hoverlabel\": {\"namelength\": 0}, \"hovertemplate\": \"precipitation=%{x}<br>count=%{y}\", \"legendgroup\": \"0.06399999999999999\", \"marker\": {\"color\": \"#ab63fa\", \"opacity\": 0.8}, \"name\": \"0.06399999999999999\", \"nbinsx\": 40, \"offsetgroup\": \"0.06399999999999999\", \"orientation\": \"v\", \"showlegend\": true, \"type\": \"histogram\", \"x\": [0.06399999999999999], \"xaxis\": \"x\", \"yaxis\": \"y\"}, {\"alignmentgroup\": \"True\", \"bingroup\": \"x\", \"hoverlabel\": {\"namelength\": 0}, \"hovertemplate\": \"precipitation=%{x}<br>count=%{y}\", \"legendgroup\": \"0.5166666666666666\", \"marker\": {\"color\": \"#FFA15A\", \"opacity\": 0.8}, \"name\": \"0.5166666666666666\", \"nbinsx\": 40, \"offsetgroup\": \"0.5166666666666666\", \"orientation\": \"v\", \"showlegend\": true, \"type\": \"histogram\", \"x\": [0.5166666666666666], \"xaxis\": \"x\", \"yaxis\": \"y\"}, {\"alignmentgroup\": \"True\", \"bingroup\": \"x\", \"hoverlabel\": {\"namelength\": 0}, \"hovertemplate\": \"precipitation=%{x}<br>count=%{y}\", \"legendgroup\": \"0.24333333333333332\", \"marker\": {\"color\": \"#19d3f3\", \"opacity\": 0.8}, \"name\": \"0.24333333333333332\", \"nbinsx\": 40, \"offsetgroup\": \"0.24333333333333332\", \"orientation\": \"v\", \"showlegend\": true, \"type\": \"histogram\", \"x\": [0.24333333333333332], \"xaxis\": \"x\", \"yaxis\": \"y\"}, {\"alignmentgroup\": \"True\", \"bingroup\": \"x\", \"hoverlabel\": {\"namelength\": 0}, \"hovertemplate\": \"precipitation=%{x}<br>count=%{y}\", \"legendgroup\": \"0.011666666666666667\", \"marker\": {\"color\": \"#FF6692\", \"opacity\": 0.8}, \"name\": \"0.011666666666666667\", \"nbinsx\": 40, \"offsetgroup\": \"0.011666666666666667\", \"orientation\": \"v\", \"showlegend\": true, \"type\": \"histogram\", \"x\": [0.011666666666666667, 0.011666666666666667, 0.011666666666666667], \"xaxis\": \"x\", \"yaxis\": \"y\"}, {\"alignmentgroup\": \"True\", \"bingroup\": \"x\", \"hoverlabel\": {\"namelength\": 0}, \"hovertemplate\": \"precipitation=%{x}<br>count=%{y}\", \"legendgroup\": \"0.6359999999999999\", \"marker\": {\"color\": \"#B6E880\", \"opacity\": 0.8}, \"name\": \"0.6359999999999999\", \"nbinsx\": 40, \"offsetgroup\": \"0.6359999999999999\", \"orientation\": \"v\", \"showlegend\": true, \"type\": \"histogram\", \"x\": [0.6359999999999999], \"xaxis\": \"x\", \"yaxis\": \"y\"}, {\"alignmentgroup\": \"True\", \"bingroup\": \"x\", \"hoverlabel\": {\"namelength\": 0}, \"hovertemplate\": \"precipitation=%{x}<br>count=%{y}\", \"legendgroup\": \"0.006\", \"marker\": {\"color\": \"#FF97FF\", \"opacity\": 0.8}, \"name\": \"0.006\", \"nbinsx\": 40, \"offsetgroup\": \"0.006\", \"orientation\": \"v\", \"showlegend\": true, \"type\": \"histogram\", \"x\": [0.006, 0.006], \"xaxis\": \"x\", \"yaxis\": \"y\"}, {\"alignmentgroup\": \"True\", \"bingroup\": \"x\", \"hoverlabel\": {\"namelength\": 0}, \"hovertemplate\": \"precipitation=%{x}<br>count=%{y}\", \"legendgroup\": \"0.05\", \"marker\": {\"color\": \"#FECB52\", \"opacity\": 0.8}, \"name\": \"0.05\", \"nbinsx\": 40, \"offsetgroup\": \"0.05\", \"orientation\": \"v\", \"showlegend\": true, \"type\": \"histogram\", \"x\": [0.05, 0.05], \"xaxis\": \"x\", \"yaxis\": \"y\"}, {\"alignmentgroup\": \"True\", \"bingroup\": \"x\", \"hoverlabel\": {\"namelength\": 0}, \"hovertemplate\": \"precipitation=%{x}<br>count=%{y}\", \"legendgroup\": \"0.254\", \"marker\": {\"color\": \"#636efa\", \"opacity\": 0.8}, \"name\": \"0.254\", \"nbinsx\": 40, \"offsetgroup\": \"0.254\", \"orientation\": \"v\", \"showlegend\": true, \"type\": \"histogram\", \"x\": [0.254], \"xaxis\": \"x\", \"yaxis\": \"y\"}, {\"alignmentgroup\": \"True\", \"bingroup\": \"x\", \"hoverlabel\": {\"namelength\": 0}, \"hovertemplate\": \"precipitation=%{x}<br>count=%{y}\", \"legendgroup\": \"0.276\", \"marker\": {\"color\": \"#EF553B\", \"opacity\": 0.8}, \"name\": \"0.276\", \"nbinsx\": 40, \"offsetgroup\": \"0.276\", \"orientation\": \"v\", \"showlegend\": true, \"type\": \"histogram\", \"x\": [0.276], \"xaxis\": \"x\", \"yaxis\": \"y\"}, {\"alignmentgroup\": \"True\", \"bingroup\": \"x\", \"hoverlabel\": {\"namelength\": 0}, \"hovertemplate\": \"precipitation=%{x}<br>count=%{y}\", \"legendgroup\": \"0.08499999999999999\", \"marker\": {\"color\": \"#00cc96\", \"opacity\": 0.8}, \"name\": \"0.08499999999999999\", \"nbinsx\": 40, \"offsetgroup\": \"0.08499999999999999\", \"orientation\": \"v\", \"showlegend\": true, \"type\": \"histogram\", \"x\": [0.08499999999999999], \"xaxis\": \"x\", \"yaxis\": \"y\"}, {\"alignmentgroup\": \"True\", \"bingroup\": \"x\", \"hoverlabel\": {\"namelength\": 0}, \"hovertemplate\": \"precipitation=%{x}<br>count=%{y}\", \"legendgroup\": \"0.246\", \"marker\": {\"color\": \"#ab63fa\", \"opacity\": 0.8}, \"name\": \"0.246\", \"nbinsx\": 40, \"offsetgroup\": \"0.246\", \"orientation\": \"v\", \"showlegend\": true, \"type\": \"histogram\", \"x\": [0.246], \"xaxis\": \"x\", \"yaxis\": \"y\"}, {\"alignmentgroup\": \"True\", \"bingroup\": \"x\", \"hoverlabel\": {\"namelength\": 0}, \"hovertemplate\": \"precipitation=%{x}<br>count=%{y}\", \"legendgroup\": \"0.3333333333333333\", \"marker\": {\"color\": \"#FFA15A\", \"opacity\": 0.8}, \"name\": \"0.3333333333333333\", \"nbinsx\": 40, \"offsetgroup\": \"0.3333333333333333\", \"orientation\": \"v\", \"showlegend\": true, \"type\": \"histogram\", \"x\": [0.3333333333333333], \"xaxis\": \"x\", \"yaxis\": \"y\"}, {\"alignmentgroup\": \"True\", \"bingroup\": \"x\", \"hoverlabel\": {\"namelength\": 0}, \"hovertemplate\": \"precipitation=%{x}<br>count=%{y}\", \"legendgroup\": \"0.07666666666666667\", \"marker\": {\"color\": \"#19d3f3\", \"opacity\": 0.8}, \"name\": \"0.07666666666666667\", \"nbinsx\": 40, \"offsetgroup\": \"0.07666666666666667\", \"orientation\": \"v\", \"showlegend\": true, \"type\": \"histogram\", \"x\": [0.07666666666666667], \"xaxis\": \"x\", \"yaxis\": \"y\"}, {\"alignmentgroup\": \"True\", \"bingroup\": \"x\", \"hoverlabel\": {\"namelength\": 0}, \"hovertemplate\": \"precipitation=%{x}<br>count=%{y}\", \"legendgroup\": \"0.17833333333333332\", \"marker\": {\"color\": \"#FF6692\", \"opacity\": 0.8}, \"name\": \"0.17833333333333332\", \"nbinsx\": 40, \"offsetgroup\": \"0.17833333333333332\", \"orientation\": \"v\", \"showlegend\": true, \"type\": \"histogram\", \"x\": [0.17833333333333332], \"xaxis\": \"x\", \"yaxis\": \"y\"}, {\"alignmentgroup\": \"True\", \"bingroup\": \"x\", \"hoverlabel\": {\"namelength\": 0}, \"hovertemplate\": \"precipitation=%{x}<br>count=%{y}\", \"legendgroup\": \"0.27999999999999997\", \"marker\": {\"color\": \"#B6E880\", \"opacity\": 0.8}, \"name\": \"0.27999999999999997\", \"nbinsx\": 40, \"offsetgroup\": \"0.27999999999999997\", \"orientation\": \"v\", \"showlegend\": true, \"type\": \"histogram\", \"x\": [0.27999999999999997], \"xaxis\": \"x\", \"yaxis\": \"y\"}, {\"alignmentgroup\": \"True\", \"bingroup\": \"x\", \"hoverlabel\": {\"namelength\": 0}, \"hovertemplate\": \"precipitation=%{x}<br>count=%{y}\", \"legendgroup\": \"0.25\", \"marker\": {\"color\": \"#FF97FF\", \"opacity\": 0.8}, \"name\": \"0.25\", \"nbinsx\": 40, \"offsetgroup\": \"0.25\", \"orientation\": \"v\", \"showlegend\": true, \"type\": \"histogram\", \"x\": [0.25, 0.25], \"xaxis\": \"x\", \"yaxis\": \"y\"}, {\"alignmentgroup\": \"True\", \"bingroup\": \"x\", \"hoverlabel\": {\"namelength\": 0}, \"hovertemplate\": \"precipitation=%{x}<br>count=%{y}\", \"legendgroup\": \"0.308\", \"marker\": {\"color\": \"#FECB52\", \"opacity\": 0.8}, \"name\": \"0.308\", \"nbinsx\": 40, \"offsetgroup\": \"0.308\", \"orientation\": \"v\", \"showlegend\": true, \"type\": \"histogram\", \"x\": [0.308], \"xaxis\": \"x\", \"yaxis\": \"y\"}, {\"alignmentgroup\": \"True\", \"bingroup\": \"x\", \"hoverlabel\": {\"namelength\": 0}, \"hovertemplate\": \"precipitation=%{x}<br>count=%{y}\", \"legendgroup\": \"0.45166666666666666\", \"marker\": {\"color\": \"#636efa\", \"opacity\": 0.8}, \"name\": \"0.45166666666666666\", \"nbinsx\": 40, \"offsetgroup\": \"0.45166666666666666\", \"orientation\": \"v\", \"showlegend\": true, \"type\": \"histogram\", \"x\": [0.45166666666666666, 0.45166666666666666, 0.45166666666666666], \"xaxis\": \"x\", \"yaxis\": \"y\"}, {\"alignmentgroup\": \"True\", \"bingroup\": \"x\", \"hoverlabel\": {\"namelength\": 0}, \"hovertemplate\": \"precipitation=%{x}<br>count=%{y}\", \"legendgroup\": \"2.3800000000000003\", \"marker\": {\"color\": \"#EF553B\", \"opacity\": 0.8}, \"name\": \"2.3800000000000003\", \"nbinsx\": 40, \"offsetgroup\": \"2.3800000000000003\", \"orientation\": \"v\", \"showlegend\": true, \"type\": \"histogram\", \"x\": [2.3800000000000003], \"xaxis\": \"x\", \"yaxis\": \"y\"}, {\"alignmentgroup\": \"True\", \"bingroup\": \"x\", \"hoverlabel\": {\"namelength\": 0}, \"hovertemplate\": \"precipitation=%{x}<br>count=%{y}\", \"legendgroup\": \"0.8266666666666667\", \"marker\": {\"color\": \"#00cc96\", \"opacity\": 0.8}, \"name\": \"0.8266666666666667\", \"nbinsx\": 40, \"offsetgroup\": \"0.8266666666666667\", \"orientation\": \"v\", \"showlegend\": true, \"type\": \"histogram\", \"x\": [0.8266666666666667], \"xaxis\": \"x\", \"yaxis\": \"y\"}, {\"alignmentgroup\": \"True\", \"bingroup\": \"x\", \"hoverlabel\": {\"namelength\": 0}, \"hovertemplate\": \"precipitation=%{x}<br>count=%{y}\", \"legendgroup\": \"0.11714285714285715\", \"marker\": {\"color\": \"#ab63fa\", \"opacity\": 0.8}, \"name\": \"0.11714285714285715\", \"nbinsx\": 40, \"offsetgroup\": \"0.11714285714285715\", \"orientation\": \"v\", \"showlegend\": true, \"type\": \"histogram\", \"x\": [0.11714285714285715], \"xaxis\": \"x\", \"yaxis\": \"y\"}, {\"alignmentgroup\": \"True\", \"bingroup\": \"x\", \"hoverlabel\": {\"namelength\": 0}, \"hovertemplate\": \"precipitation=%{x}<br>count=%{y}\", \"legendgroup\": \"0.13599999999999998\", \"marker\": {\"color\": \"#FFA15A\", \"opacity\": 0.8}, \"name\": \"0.13599999999999998\", \"nbinsx\": 40, \"offsetgroup\": \"0.13599999999999998\", \"orientation\": \"v\", \"showlegend\": true, \"type\": \"histogram\", \"x\": [0.13599999999999998], \"xaxis\": \"x\", \"yaxis\": \"y\"}, {\"alignmentgroup\": \"True\", \"bingroup\": \"x\", \"hoverlabel\": {\"namelength\": 0}, \"hovertemplate\": \"precipitation=%{x}<br>count=%{y}\", \"legendgroup\": \"0.10600000000000001\", \"marker\": {\"color\": \"#19d3f3\", \"opacity\": 0.8}, \"name\": \"0.10600000000000001\", \"nbinsx\": 40, \"offsetgroup\": \"0.10600000000000001\", \"orientation\": \"v\", \"showlegend\": true, \"type\": \"histogram\", \"x\": [0.10600000000000001], \"xaxis\": \"x\", \"yaxis\": \"y\"}, {\"alignmentgroup\": \"True\", \"bingroup\": \"x\", \"hoverlabel\": {\"namelength\": 0}, \"hovertemplate\": \"precipitation=%{x}<br>count=%{y}\", \"legendgroup\": \"0.064\", \"marker\": {\"color\": \"#FF6692\", \"opacity\": 0.8}, \"name\": \"0.064\", \"nbinsx\": 40, \"offsetgroup\": \"0.064\", \"orientation\": \"v\", \"showlegend\": true, \"type\": \"histogram\", \"x\": [0.064, 0.064], \"xaxis\": \"x\", \"yaxis\": \"y\"}, {\"alignmentgroup\": \"True\", \"bingroup\": \"x\", \"hoverlabel\": {\"namelength\": 0}, \"hovertemplate\": \"precipitation=%{x}<br>count=%{y}\", \"legendgroup\": \"0.14714285714285716\", \"marker\": {\"color\": \"#B6E880\", \"opacity\": 0.8}, \"name\": \"0.14714285714285716\", \"nbinsx\": 40, \"offsetgroup\": \"0.14714285714285716\", \"orientation\": \"v\", \"showlegend\": true, \"type\": \"histogram\", \"x\": [0.14714285714285716], \"xaxis\": \"x\", \"yaxis\": \"y\"}, {\"alignmentgroup\": \"True\", \"bingroup\": \"x\", \"hoverlabel\": {\"namelength\": 0}, \"hovertemplate\": \"precipitation=%{x}<br>count=%{y}\", \"legendgroup\": \"0.19499999999999998\", \"marker\": {\"color\": \"#FF97FF\", \"opacity\": 0.8}, \"name\": \"0.19499999999999998\", \"nbinsx\": 40, \"offsetgroup\": \"0.19499999999999998\", \"orientation\": \"v\", \"showlegend\": true, \"type\": \"histogram\", \"x\": [0.19499999999999998], \"xaxis\": \"x\", \"yaxis\": \"y\"}, {\"alignmentgroup\": \"True\", \"bingroup\": \"x\", \"hoverlabel\": {\"namelength\": 0}, \"hovertemplate\": \"precipitation=%{x}<br>count=%{y}\", \"legendgroup\": \"0.2057142857142857\", \"marker\": {\"color\": \"#FECB52\", \"opacity\": 0.8}, \"name\": \"0.2057142857142857\", \"nbinsx\": 40, \"offsetgroup\": \"0.2057142857142857\", \"orientation\": \"v\", \"showlegend\": true, \"type\": \"histogram\", \"x\": [0.2057142857142857], \"xaxis\": \"x\", \"yaxis\": \"y\"}, {\"alignmentgroup\": \"True\", \"bingroup\": \"x\", \"hoverlabel\": {\"namelength\": 0}, \"hovertemplate\": \"precipitation=%{x}<br>count=%{y}\", \"legendgroup\": \"0.22428571428571428\", \"marker\": {\"color\": \"#636efa\", \"opacity\": 0.8}, \"name\": \"0.22428571428571428\", \"nbinsx\": 40, \"offsetgroup\": \"0.22428571428571428\", \"orientation\": \"v\", \"showlegend\": true, \"type\": \"histogram\", \"x\": [0.22428571428571428], \"xaxis\": \"x\", \"yaxis\": \"y\"}, {\"alignmentgroup\": \"True\", \"bingroup\": \"x\", \"hoverlabel\": {\"namelength\": 0}, \"hovertemplate\": \"precipitation=%{x}<br>count=%{y}\", \"legendgroup\": \"0.04666666666666667\", \"marker\": {\"color\": \"#EF553B\", \"opacity\": 0.8}, \"name\": \"0.04666666666666667\", \"nbinsx\": 40, \"offsetgroup\": \"0.04666666666666667\", \"orientation\": \"v\", \"showlegend\": true, \"type\": \"histogram\", \"x\": [0.04666666666666667, 0.04666666666666667], \"xaxis\": \"x\", \"yaxis\": \"y\"}, {\"alignmentgroup\": \"True\", \"bingroup\": \"x\", \"hoverlabel\": {\"namelength\": 0}, \"hovertemplate\": \"precipitation=%{x}<br>count=%{y}\", \"legendgroup\": \"0.015\", \"marker\": {\"color\": \"#00cc96\", \"opacity\": 0.8}, \"name\": \"0.015\", \"nbinsx\": 40, \"offsetgroup\": \"0.015\", \"orientation\": \"v\", \"showlegend\": true, \"type\": \"histogram\", \"x\": [0.015, 0.015, 0.015], \"xaxis\": \"x\", \"yaxis\": \"y\"}, {\"alignmentgroup\": \"True\", \"bingroup\": \"x\", \"hoverlabel\": {\"namelength\": 0}, \"hovertemplate\": \"precipitation=%{x}<br>count=%{y}\", \"legendgroup\": \"0.2783333333333333\", \"marker\": {\"color\": \"#ab63fa\", \"opacity\": 0.8}, \"name\": \"0.2783333333333333\", \"nbinsx\": 40, \"offsetgroup\": \"0.2783333333333333\", \"orientation\": \"v\", \"showlegend\": true, \"type\": \"histogram\", \"x\": [0.2783333333333333], \"xaxis\": \"x\", \"yaxis\": \"y\"}, {\"alignmentgroup\": \"True\", \"bingroup\": \"x\", \"hoverlabel\": {\"namelength\": 0}, \"hovertemplate\": \"precipitation=%{x}<br>count=%{y}\", \"legendgroup\": \"0.22666666666666666\", \"marker\": {\"color\": \"#FFA15A\", \"opacity\": 0.8}, \"name\": \"0.22666666666666666\", \"nbinsx\": 40, \"offsetgroup\": \"0.22666666666666666\", \"orientation\": \"v\", \"showlegend\": true, \"type\": \"histogram\", \"x\": [0.22666666666666666], \"xaxis\": \"x\", \"yaxis\": \"y\"}, {\"alignmentgroup\": \"True\", \"bingroup\": \"x\", \"hoverlabel\": {\"namelength\": 0}, \"hovertemplate\": \"precipitation=%{x}<br>count=%{y}\", \"legendgroup\": \"0.018571428571428572\", \"marker\": {\"color\": \"#19d3f3\", \"opacity\": 0.8}, \"name\": \"0.018571428571428572\", \"nbinsx\": 40, \"offsetgroup\": \"0.018571428571428572\", \"orientation\": \"v\", \"showlegend\": true, \"type\": \"histogram\", \"x\": [0.018571428571428572, 0.018571428571428572], \"xaxis\": \"x\", \"yaxis\": \"y\"}, {\"alignmentgroup\": \"True\", \"bingroup\": \"x\", \"hoverlabel\": {\"namelength\": 0}, \"hovertemplate\": \"precipitation=%{x}<br>count=%{y}\", \"legendgroup\": \"0.42714285714285716\", \"marker\": {\"color\": \"#FF6692\", \"opacity\": 0.8}, \"name\": \"0.42714285714285716\", \"nbinsx\": 40, \"offsetgroup\": \"0.42714285714285716\", \"orientation\": \"v\", \"showlegend\": true, \"type\": \"histogram\", \"x\": [0.42714285714285716], \"xaxis\": \"x\", \"yaxis\": \"y\"}, {\"alignmentgroup\": \"True\", \"bingroup\": \"x\", \"hoverlabel\": {\"namelength\": 0}, \"hovertemplate\": \"precipitation=%{x}<br>count=%{y}\", \"legendgroup\": \"0.19166666666666665\", \"marker\": {\"color\": \"#B6E880\", \"opacity\": 0.8}, \"name\": \"0.19166666666666665\", \"nbinsx\": 40, \"offsetgroup\": \"0.19166666666666665\", \"orientation\": \"v\", \"showlegend\": true, \"type\": \"histogram\", \"x\": [0.19166666666666665, 0.19166666666666665], \"xaxis\": \"x\", \"yaxis\": \"y\"}, {\"alignmentgroup\": \"True\", \"bingroup\": \"x\", \"hoverlabel\": {\"namelength\": 0}, \"hovertemplate\": \"precipitation=%{x}<br>count=%{y}\", \"legendgroup\": \"0.2416666666666667\", \"marker\": {\"color\": \"#FF97FF\", \"opacity\": 0.8}, \"name\": \"0.2416666666666667\", \"nbinsx\": 40, \"offsetgroup\": \"0.2416666666666667\", \"orientation\": \"v\", \"showlegend\": true, \"type\": \"histogram\", \"x\": [0.2416666666666667], \"xaxis\": \"x\", \"yaxis\": \"y\"}, {\"alignmentgroup\": \"True\", \"bingroup\": \"x\", \"hoverlabel\": {\"namelength\": 0}, \"hovertemplate\": \"precipitation=%{x}<br>count=%{y}\", \"legendgroup\": \"0.12\", \"marker\": {\"color\": \"#FECB52\", \"opacity\": 0.8}, \"name\": \"0.12\", \"nbinsx\": 40, \"offsetgroup\": \"0.12\", \"orientation\": \"v\", \"showlegend\": true, \"type\": \"histogram\", \"x\": [0.12, 0.12, 0.12, 0.12], \"xaxis\": \"x\", \"yaxis\": \"y\"}, {\"alignmentgroup\": \"True\", \"bingroup\": \"x\", \"hoverlabel\": {\"namelength\": 0}, \"hovertemplate\": \"precipitation=%{x}<br>count=%{y}\", \"legendgroup\": \"0.115\", \"marker\": {\"color\": \"#636efa\", \"opacity\": 0.8}, \"name\": \"0.115\", \"nbinsx\": 40, \"offsetgroup\": \"0.115\", \"orientation\": \"v\", \"showlegend\": true, \"type\": \"histogram\", \"x\": [0.115], \"xaxis\": \"x\", \"yaxis\": \"y\"}, {\"alignmentgroup\": \"True\", \"bingroup\": \"x\", \"hoverlabel\": {\"namelength\": 0}, \"hovertemplate\": \"precipitation=%{x}<br>count=%{y}\", \"legendgroup\": \"0.5816666666666667\", \"marker\": {\"color\": \"#EF553B\", \"opacity\": 0.8}, \"name\": \"0.5816666666666667\", \"nbinsx\": 40, \"offsetgroup\": \"0.5816666666666667\", \"orientation\": \"v\", \"showlegend\": true, \"type\": \"histogram\", \"x\": [0.5816666666666667], \"xaxis\": \"x\", \"yaxis\": \"y\"}, {\"alignmentgroup\": \"True\", \"bingroup\": \"x\", \"hoverlabel\": {\"namelength\": 0}, \"hovertemplate\": \"precipitation=%{x}<br>count=%{y}\", \"legendgroup\": \"0.1366666666666667\", \"marker\": {\"color\": \"#00cc96\", \"opacity\": 0.8}, \"name\": \"0.1366666666666667\", \"nbinsx\": 40, \"offsetgroup\": \"0.1366666666666667\", \"orientation\": \"v\", \"showlegend\": true, \"type\": \"histogram\", \"x\": [0.1366666666666667], \"xaxis\": \"x\", \"yaxis\": \"y\"}, {\"alignmentgroup\": \"True\", \"bingroup\": \"x\", \"hoverlabel\": {\"namelength\": 0}, \"hovertemplate\": \"precipitation=%{x}<br>count=%{y}\", \"legendgroup\": \"0.022857142857142857\", \"marker\": {\"color\": \"#ab63fa\", \"opacity\": 0.8}, \"name\": \"0.022857142857142857\", \"nbinsx\": 40, \"offsetgroup\": \"0.022857142857142857\", \"orientation\": \"v\", \"showlegend\": true, \"type\": \"histogram\", \"x\": [0.022857142857142857], \"xaxis\": \"x\", \"yaxis\": \"y\"}, {\"alignmentgroup\": \"True\", \"bingroup\": \"x\", \"hoverlabel\": {\"namelength\": 0}, \"hovertemplate\": \"precipitation=%{x}<br>count=%{y}\", \"legendgroup\": \"0.0016666666666666668\", \"marker\": {\"color\": \"#FFA15A\", \"opacity\": 0.8}, \"name\": \"0.0016666666666666668\", \"nbinsx\": 40, \"offsetgroup\": \"0.0016666666666666668\", \"orientation\": \"v\", \"showlegend\": true, \"type\": \"histogram\", \"x\": [0.0016666666666666668, 0.0016666666666666668, 0.0016666666666666668, 0.0016666666666666668, 0.0016666666666666668, 0.0016666666666666668], \"xaxis\": \"x\", \"yaxis\": \"y\"}, {\"alignmentgroup\": \"True\", \"bingroup\": \"x\", \"hoverlabel\": {\"namelength\": 0}, \"hovertemplate\": \"precipitation=%{x}<br>count=%{y}\", \"legendgroup\": \"0.008\", \"marker\": {\"color\": \"#19d3f3\", \"opacity\": 0.8}, \"name\": \"0.008\", \"nbinsx\": 40, \"offsetgroup\": \"0.008\", \"orientation\": \"v\", \"showlegend\": true, \"type\": \"histogram\", \"x\": [0.008, 0.008, 0.008, 0.008], \"xaxis\": \"x\", \"yaxis\": \"y\"}, {\"alignmentgroup\": \"True\", \"bingroup\": \"x\", \"hoverlabel\": {\"namelength\": 0}, \"hovertemplate\": \"precipitation=%{x}<br>count=%{y}\", \"legendgroup\": \"0.0\", \"marker\": {\"color\": \"#FF6692\", \"opacity\": 0.8}, \"name\": \"0.0\", \"nbinsx\": 40, \"offsetgroup\": \"0.0\", \"orientation\": \"v\", \"showlegend\": true, \"type\": \"histogram\", \"x\": [0.0, 0.0, 0.0, 0.0, 0.0, 0.0, 0.0, 0.0, 0.0, 0.0, 0.0, 0.0, 0.0, 0.0, 0.0, 0.0, 0.0, 0.0, 0.0, 0.0, 0.0, 0.0, 0.0, 0.0, 0.0, 0.0, 0.0, 0.0, 0.0, 0.0, 0.0, 0.0, 0.0, 0.0, 0.0, 0.0, 0.0, 0.0, 0.0, 0.0, 0.0, 0.0, 0.0, 0.0, 0.0, 0.0, 0.0, 0.0], \"xaxis\": \"x\", \"yaxis\": \"y\"}, {\"alignmentgroup\": \"True\", \"bingroup\": \"x\", \"hoverlabel\": {\"namelength\": 0}, \"hovertemplate\": \"precipitation=%{x}<br>count=%{y}\", \"legendgroup\": \"0.11499999999999999\", \"marker\": {\"color\": \"#B6E880\", \"opacity\": 0.8}, \"name\": \"0.11499999999999999\", \"nbinsx\": 40, \"offsetgroup\": \"0.11499999999999999\", \"orientation\": \"v\", \"showlegend\": true, \"type\": \"histogram\", \"x\": [0.11499999999999999, 0.11499999999999999], \"xaxis\": \"x\", \"yaxis\": \"y\"}, {\"alignmentgroup\": \"True\", \"bingroup\": \"x\", \"hoverlabel\": {\"namelength\": 0}, \"hovertemplate\": \"precipitation=%{x}<br>count=%{y}\", \"legendgroup\": \"0.013333333333333334\", \"marker\": {\"color\": \"#FF97FF\", \"opacity\": 0.8}, \"name\": \"0.013333333333333334\", \"nbinsx\": 40, \"offsetgroup\": \"0.013333333333333334\", \"orientation\": \"v\", \"showlegend\": true, \"type\": \"histogram\", \"x\": [0.013333333333333334, 0.013333333333333334, 0.013333333333333334, 0.013333333333333334], \"xaxis\": \"x\", \"yaxis\": \"y\"}, {\"alignmentgroup\": \"True\", \"bingroup\": \"x\", \"hoverlabel\": {\"namelength\": 0}, \"hovertemplate\": \"precipitation=%{x}<br>count=%{y}\", \"legendgroup\": \"0.065\", \"marker\": {\"color\": \"#FECB52\", \"opacity\": 0.8}, \"name\": \"0.065\", \"nbinsx\": 40, \"offsetgroup\": \"0.065\", \"orientation\": \"v\", \"showlegend\": true, \"type\": \"histogram\", \"x\": [0.065, 0.065, 0.065], \"xaxis\": \"x\", \"yaxis\": \"y\"}, {\"alignmentgroup\": \"True\", \"bingroup\": \"x\", \"hoverlabel\": {\"namelength\": 0}, \"hovertemplate\": \"precipitation=%{x}<br>count=%{y}\", \"legendgroup\": \"0.11000000000000001\", \"marker\": {\"color\": \"#636efa\", \"opacity\": 0.8}, \"name\": \"0.11000000000000001\", \"nbinsx\": 40, \"offsetgroup\": \"0.11000000000000001\", \"orientation\": \"v\", \"showlegend\": true, \"type\": \"histogram\", \"x\": [0.11000000000000001, 0.11000000000000001, 0.11000000000000001], \"xaxis\": \"x\", \"yaxis\": \"y\"}, {\"alignmentgroup\": \"True\", \"bingroup\": \"x\", \"hoverlabel\": {\"namelength\": 0}, \"hovertemplate\": \"precipitation=%{x}<br>count=%{y}\", \"legendgroup\": \"0.09999999999999999\", \"marker\": {\"color\": \"#EF553B\", \"opacity\": 0.8}, \"name\": \"0.09999999999999999\", \"nbinsx\": 40, \"offsetgroup\": \"0.09999999999999999\", \"orientation\": \"v\", \"showlegend\": true, \"type\": \"histogram\", \"x\": [0.09999999999999999], \"xaxis\": \"x\", \"yaxis\": \"y\"}, {\"alignmentgroup\": \"True\", \"bingroup\": \"x\", \"hoverlabel\": {\"namelength\": 0}, \"hovertemplate\": \"precipitation=%{x}<br>count=%{y}\", \"legendgroup\": \"0.028333333333333332\", \"marker\": {\"color\": \"#00cc96\", \"opacity\": 0.8}, \"name\": \"0.028333333333333332\", \"nbinsx\": 40, \"offsetgroup\": \"0.028333333333333332\", \"orientation\": \"v\", \"showlegend\": true, \"type\": \"histogram\", \"x\": [0.028333333333333332], \"xaxis\": \"x\", \"yaxis\": \"y\"}, {\"alignmentgroup\": \"True\", \"bingroup\": \"x\", \"hoverlabel\": {\"namelength\": 0}, \"hovertemplate\": \"precipitation=%{x}<br>count=%{y}\", \"legendgroup\": \"0.202\", \"marker\": {\"color\": \"#ab63fa\", \"opacity\": 0.8}, \"name\": \"0.202\", \"nbinsx\": 40, \"offsetgroup\": \"0.202\", \"orientation\": \"v\", \"showlegend\": true, \"type\": \"histogram\", \"x\": [0.202], \"xaxis\": \"x\", \"yaxis\": \"y\"}, {\"alignmentgroup\": \"True\", \"bingroup\": \"x\", \"hoverlabel\": {\"namelength\": 0}, \"hovertemplate\": \"precipitation=%{x}<br>count=%{y}\", \"legendgroup\": \"0.354\", \"marker\": {\"color\": \"#FFA15A\", \"opacity\": 0.8}, \"name\": \"0.354\", \"nbinsx\": 40, \"offsetgroup\": \"0.354\", \"orientation\": \"v\", \"showlegend\": true, \"type\": \"histogram\", \"x\": [0.354], \"xaxis\": \"x\", \"yaxis\": \"y\"}, {\"alignmentgroup\": \"True\", \"bingroup\": \"x\", \"hoverlabel\": {\"namelength\": 0}, \"hovertemplate\": \"precipitation=%{x}<br>count=%{y}\", \"legendgroup\": \"0.055999999999999994\", \"marker\": {\"color\": \"#19d3f3\", \"opacity\": 0.8}, \"name\": \"0.055999999999999994\", \"nbinsx\": 40, \"offsetgroup\": \"0.055999999999999994\", \"orientation\": \"v\", \"showlegend\": true, \"type\": \"histogram\", \"x\": [0.055999999999999994], \"xaxis\": \"x\", \"yaxis\": \"y\"}, {\"alignmentgroup\": \"True\", \"bingroup\": \"x\", \"hoverlabel\": {\"namelength\": 0}, \"hovertemplate\": \"precipitation=%{x}<br>count=%{y}\", \"legendgroup\": \"0.13166666666666665\", \"marker\": {\"color\": \"#FF6692\", \"opacity\": 0.8}, \"name\": \"0.13166666666666665\", \"nbinsx\": 40, \"offsetgroup\": \"0.13166666666666665\", \"orientation\": \"v\", \"showlegend\": true, \"type\": \"histogram\", \"x\": [0.13166666666666665], \"xaxis\": \"x\", \"yaxis\": \"y\"}, {\"alignmentgroup\": \"True\", \"bingroup\": \"x\", \"hoverlabel\": {\"namelength\": 0}, \"hovertemplate\": \"precipitation=%{x}<br>count=%{y}\", \"legendgroup\": \"0.15714285714285717\", \"marker\": {\"color\": \"#B6E880\", \"opacity\": 0.8}, \"name\": \"0.15714285714285717\", \"nbinsx\": 40, \"offsetgroup\": \"0.15714285714285717\", \"orientation\": \"v\", \"showlegend\": true, \"type\": \"histogram\", \"x\": [0.15714285714285717], \"xaxis\": \"x\", \"yaxis\": \"y\"}, {\"alignmentgroup\": \"True\", \"bingroup\": \"x\", \"hoverlabel\": {\"namelength\": 0}, \"hovertemplate\": \"precipitation=%{x}<br>count=%{y}\", \"legendgroup\": \"0.04833333333333334\", \"marker\": {\"color\": \"#FF97FF\", \"opacity\": 0.8}, \"name\": \"0.04833333333333334\", \"nbinsx\": 40, \"offsetgroup\": \"0.04833333333333334\", \"orientation\": \"v\", \"showlegend\": true, \"type\": \"histogram\", \"x\": [0.04833333333333334], \"xaxis\": \"x\", \"yaxis\": \"y\"}, {\"alignmentgroup\": \"True\", \"bingroup\": \"x\", \"hoverlabel\": {\"namelength\": 0}, \"hovertemplate\": \"precipitation=%{x}<br>count=%{y}\", \"legendgroup\": \"0.31\", \"marker\": {\"color\": \"#FECB52\", \"opacity\": 0.8}, \"name\": \"0.31\", \"nbinsx\": 40, \"offsetgroup\": \"0.31\", \"orientation\": \"v\", \"showlegend\": true, \"type\": \"histogram\", \"x\": [0.31], \"xaxis\": \"x\", \"yaxis\": \"y\"}, {\"alignmentgroup\": \"True\", \"bingroup\": \"x\", \"hoverlabel\": {\"namelength\": 0}, \"hovertemplate\": \"precipitation=%{x}<br>count=%{y}\", \"legendgroup\": \"0.09500000000000001\", \"marker\": {\"color\": \"#636efa\", \"opacity\": 0.8}, \"name\": \"0.09500000000000001\", \"nbinsx\": 40, \"offsetgroup\": \"0.09500000000000001\", \"orientation\": \"v\", \"showlegend\": true, \"type\": \"histogram\", \"x\": [0.09500000000000001], \"xaxis\": \"x\", \"yaxis\": \"y\"}, {\"alignmentgroup\": \"True\", \"bingroup\": \"x\", \"hoverlabel\": {\"namelength\": 0}, \"hovertemplate\": \"precipitation=%{x}<br>count=%{y}\", \"legendgroup\": \"0.10666666666666667\", \"marker\": {\"color\": \"#EF553B\", \"opacity\": 0.8}, \"name\": \"0.10666666666666667\", \"nbinsx\": 40, \"offsetgroup\": \"0.10666666666666667\", \"orientation\": \"v\", \"showlegend\": true, \"type\": \"histogram\", \"x\": [0.10666666666666667], \"xaxis\": \"x\", \"yaxis\": \"y\"}, {\"alignmentgroup\": \"True\", \"bingroup\": \"x\", \"hoverlabel\": {\"namelength\": 0}, \"hovertemplate\": \"precipitation=%{x}<br>count=%{y}\", \"legendgroup\": \"0.26499999999999996\", \"marker\": {\"color\": \"#00cc96\", \"opacity\": 0.8}, \"name\": \"0.26499999999999996\", \"nbinsx\": 40, \"offsetgroup\": \"0.26499999999999996\", \"orientation\": \"v\", \"showlegend\": true, \"type\": \"histogram\", \"x\": [0.26499999999999996], \"xaxis\": \"x\", \"yaxis\": \"y\"}, {\"alignmentgroup\": \"True\", \"bingroup\": \"x\", \"hoverlabel\": {\"namelength\": 0}, \"hovertemplate\": \"precipitation=%{x}<br>count=%{y}\", \"legendgroup\": \"0.26833333333333337\", \"marker\": {\"color\": \"#ab63fa\", \"opacity\": 0.8}, \"name\": \"0.26833333333333337\", \"nbinsx\": 40, \"offsetgroup\": \"0.26833333333333337\", \"orientation\": \"v\", \"showlegend\": true, \"type\": \"histogram\", \"x\": [0.26833333333333337], \"xaxis\": \"x\", \"yaxis\": \"y\"}, {\"alignmentgroup\": \"True\", \"bingroup\": \"x\", \"hoverlabel\": {\"namelength\": 0}, \"hovertemplate\": \"precipitation=%{x}<br>count=%{y}\", \"legendgroup\": \"0.035\", \"marker\": {\"color\": \"#FFA15A\", \"opacity\": 0.8}, \"name\": \"0.035\", \"nbinsx\": 40, \"offsetgroup\": \"0.035\", \"orientation\": \"v\", \"showlegend\": true, \"type\": \"histogram\", \"x\": [0.035], \"xaxis\": \"x\", \"yaxis\": \"y\"}, {\"alignmentgroup\": \"True\", \"bingroup\": \"x\", \"hoverlabel\": {\"namelength\": 0}, \"hovertemplate\": \"precipitation=%{x}<br>count=%{y}\", \"legendgroup\": \"0.006666666666666667\", \"marker\": {\"color\": \"#19d3f3\", \"opacity\": 0.8}, \"name\": \"0.006666666666666667\", \"nbinsx\": 40, \"offsetgroup\": \"0.006666666666666667\", \"orientation\": \"v\", \"showlegend\": true, \"type\": \"histogram\", \"x\": [0.006666666666666667, 0.006666666666666667, 0.006666666666666667, 0.006666666666666667], \"xaxis\": \"x\", \"yaxis\": \"y\"}, {\"alignmentgroup\": \"True\", \"bingroup\": \"x\", \"hoverlabel\": {\"namelength\": 0}, \"hovertemplate\": \"precipitation=%{x}<br>count=%{y}\", \"legendgroup\": \"0.0033333333333333335\", \"marker\": {\"color\": \"#FF6692\", \"opacity\": 0.8}, \"name\": \"0.0033333333333333335\", \"nbinsx\": 40, \"offsetgroup\": \"0.0033333333333333335\", \"orientation\": \"v\", \"showlegend\": true, \"type\": \"histogram\", \"x\": [0.0033333333333333335, 0.0033333333333333335, 0.0033333333333333335], \"xaxis\": \"x\", \"yaxis\": \"y\"}, {\"alignmentgroup\": \"True\", \"bingroup\": \"x\", \"hoverlabel\": {\"namelength\": 0}, \"hovertemplate\": \"precipitation=%{x}<br>count=%{y}\", \"legendgroup\": \"0.01\", \"marker\": {\"color\": \"#B6E880\", \"opacity\": 0.8}, \"name\": \"0.01\", \"nbinsx\": 40, \"offsetgroup\": \"0.01\", \"orientation\": \"v\", \"showlegend\": true, \"type\": \"histogram\", \"x\": [0.01, 0.01, 0.01, 0.01, 0.01, 0.01, 0.01], \"xaxis\": \"x\", \"yaxis\": \"y\"}, {\"alignmentgroup\": \"True\", \"bingroup\": \"x\", \"hoverlabel\": {\"namelength\": 0}, \"hovertemplate\": \"precipitation=%{x}<br>count=%{y}\", \"legendgroup\": \"0.075\", \"marker\": {\"color\": \"#FF97FF\", \"opacity\": 0.8}, \"name\": \"0.075\", \"nbinsx\": 40, \"offsetgroup\": \"0.075\", \"orientation\": \"v\", \"showlegend\": true, \"type\": \"histogram\", \"x\": [0.075, 0.075], \"xaxis\": \"x\", \"yaxis\": \"y\"}, {\"alignmentgroup\": \"True\", \"bingroup\": \"x\", \"hoverlabel\": {\"namelength\": 0}, \"hovertemplate\": \"precipitation=%{x}<br>count=%{y}\", \"legendgroup\": \"0.03\", \"marker\": {\"color\": \"#FECB52\", \"opacity\": 0.8}, \"name\": \"0.03\", \"nbinsx\": 40, \"offsetgroup\": \"0.03\", \"orientation\": \"v\", \"showlegend\": true, \"type\": \"histogram\", \"x\": [0.03, 0.03, 0.03, 0.03, 0.03], \"xaxis\": \"x\", \"yaxis\": \"y\"}, {\"alignmentgroup\": \"True\", \"bingroup\": \"x\", \"hoverlabel\": {\"namelength\": 0}, \"hovertemplate\": \"precipitation=%{x}<br>count=%{y}\", \"legendgroup\": \"0.18666666666666668\", \"marker\": {\"color\": \"#636efa\", \"opacity\": 0.8}, \"name\": \"0.18666666666666668\", \"nbinsx\": 40, \"offsetgroup\": \"0.18666666666666668\", \"orientation\": \"v\", \"showlegend\": true, \"type\": \"histogram\", \"x\": [0.18666666666666668], \"xaxis\": \"x\", \"yaxis\": \"y\"}, {\"alignmentgroup\": \"True\", \"bingroup\": \"x\", \"hoverlabel\": {\"namelength\": 0}, \"hovertemplate\": \"precipitation=%{x}<br>count=%{y}\", \"legendgroup\": \"0.05714285714285714\", \"marker\": {\"color\": \"#EF553B\", \"opacity\": 0.8}, \"name\": \"0.05714285714285714\", \"nbinsx\": 40, \"offsetgroup\": \"0.05714285714285714\", \"orientation\": \"v\", \"showlegend\": true, \"type\": \"histogram\", \"x\": [0.05714285714285714], \"xaxis\": \"x\", \"yaxis\": \"y\"}, {\"alignmentgroup\": \"True\", \"bingroup\": \"x\", \"hoverlabel\": {\"namelength\": 0}, \"hovertemplate\": \"precipitation=%{x}<br>count=%{y}\", \"legendgroup\": \"0.02142857142857143\", \"marker\": {\"color\": \"#00cc96\", \"opacity\": 0.8}, \"name\": \"0.02142857142857143\", \"nbinsx\": 40, \"offsetgroup\": \"0.02142857142857143\", \"orientation\": \"v\", \"showlegend\": true, \"type\": \"histogram\", \"x\": [0.02142857142857143, 0.02142857142857143], \"xaxis\": \"x\", \"yaxis\": \"y\"}, {\"alignmentgroup\": \"True\", \"bingroup\": \"x\", \"hoverlabel\": {\"namelength\": 0}, \"hovertemplate\": \"precipitation=%{x}<br>count=%{y}\", \"legendgroup\": \"0.008333333333333333\", \"marker\": {\"color\": \"#ab63fa\", \"opacity\": 0.8}, \"name\": \"0.008333333333333333\", \"nbinsx\": 40, \"offsetgroup\": \"0.008333333333333333\", \"orientation\": \"v\", \"showlegend\": true, \"type\": \"histogram\", \"x\": [0.008333333333333333, 0.008333333333333333, 0.008333333333333333, 0.008333333333333333, 0.008333333333333333], \"xaxis\": \"x\", \"yaxis\": \"y\"}, {\"alignmentgroup\": \"True\", \"bingroup\": \"x\", \"hoverlabel\": {\"namelength\": 0}, \"hovertemplate\": \"precipitation=%{x}<br>count=%{y}\", \"legendgroup\": \"0.25666666666666665\", \"marker\": {\"color\": \"#FFA15A\", \"opacity\": 0.8}, \"name\": \"0.25666666666666665\", \"nbinsx\": 40, \"offsetgroup\": \"0.25666666666666665\", \"orientation\": \"v\", \"showlegend\": true, \"type\": \"histogram\", \"x\": [0.25666666666666665], \"xaxis\": \"x\", \"yaxis\": \"y\"}, {\"alignmentgroup\": \"True\", \"bingroup\": \"x\", \"hoverlabel\": {\"namelength\": 0}, \"hovertemplate\": \"precipitation=%{x}<br>count=%{y}\", \"legendgroup\": \"0.0075\", \"marker\": {\"color\": \"#19d3f3\", \"opacity\": 0.8}, \"name\": \"0.0075\", \"nbinsx\": 40, \"offsetgroup\": \"0.0075\", \"orientation\": \"v\", \"showlegend\": true, \"type\": \"histogram\", \"x\": [0.0075, 0.0075], \"xaxis\": \"x\", \"yaxis\": \"y\"}, {\"alignmentgroup\": \"True\", \"bingroup\": \"x\", \"hoverlabel\": {\"namelength\": 0}, \"hovertemplate\": \"precipitation=%{x}<br>count=%{y}\", \"legendgroup\": \"0.095\", \"marker\": {\"color\": \"#FF6692\", \"opacity\": 0.8}, \"name\": \"0.095\", \"nbinsx\": 40, \"offsetgroup\": \"0.095\", \"orientation\": \"v\", \"showlegend\": true, \"type\": \"histogram\", \"x\": [0.095], \"xaxis\": \"x\", \"yaxis\": \"y\"}, {\"alignmentgroup\": \"True\", \"bingroup\": \"x\", \"hoverlabel\": {\"namelength\": 0}, \"hovertemplate\": \"precipitation=%{x}<br>count=%{y}\", \"legendgroup\": \"0.23750000000000002\", \"marker\": {\"color\": \"#B6E880\", \"opacity\": 0.8}, \"name\": \"0.23750000000000002\", \"nbinsx\": 40, \"offsetgroup\": \"0.23750000000000002\", \"orientation\": \"v\", \"showlegend\": true, \"type\": \"histogram\", \"x\": [0.23750000000000002], \"xaxis\": \"x\", \"yaxis\": \"y\"}, {\"alignmentgroup\": \"True\", \"bingroup\": \"x\", \"hoverlabel\": {\"namelength\": 0}, \"hovertemplate\": \"precipitation=%{x}<br>count=%{y}\", \"legendgroup\": \"0.616\", \"marker\": {\"color\": \"#FF97FF\", \"opacity\": 0.8}, \"name\": \"0.616\", \"nbinsx\": 40, \"offsetgroup\": \"0.616\", \"orientation\": \"v\", \"showlegend\": true, \"type\": \"histogram\", \"x\": [0.616], \"xaxis\": \"x\", \"yaxis\": \"y\"}, {\"alignmentgroup\": \"True\", \"bingroup\": \"x\", \"hoverlabel\": {\"namelength\": 0}, \"hovertemplate\": \"precipitation=%{x}<br>count=%{y}\", \"legendgroup\": \"1.002\", \"marker\": {\"color\": \"#FECB52\", \"opacity\": 0.8}, \"name\": \"1.002\", \"nbinsx\": 40, \"offsetgroup\": \"1.002\", \"orientation\": \"v\", \"showlegend\": true, \"type\": \"histogram\", \"x\": [1.002], \"xaxis\": \"x\", \"yaxis\": \"y\"}, {\"alignmentgroup\": \"True\", \"bingroup\": \"x\", \"hoverlabel\": {\"namelength\": 0}, \"hovertemplate\": \"precipitation=%{x}<br>count=%{y}\", \"legendgroup\": \"0.134\", \"marker\": {\"color\": \"#636efa\", \"opacity\": 0.8}, \"name\": \"0.134\", \"nbinsx\": 40, \"offsetgroup\": \"0.134\", \"orientation\": \"v\", \"showlegend\": true, \"type\": \"histogram\", \"x\": [0.134], \"xaxis\": \"x\", \"yaxis\": \"y\"}, {\"alignmentgroup\": \"True\", \"bingroup\": \"x\", \"hoverlabel\": {\"namelength\": 0}, \"hovertemplate\": \"precipitation=%{x}<br>count=%{y}\", \"legendgroup\": \"0.296\", \"marker\": {\"color\": \"#EF553B\", \"opacity\": 0.8}, \"name\": \"0.296\", \"nbinsx\": 40, \"offsetgroup\": \"0.296\", \"orientation\": \"v\", \"showlegend\": true, \"type\": \"histogram\", \"x\": [0.296], \"xaxis\": \"x\", \"yaxis\": \"y\"}, {\"alignmentgroup\": \"True\", \"bingroup\": \"x\", \"hoverlabel\": {\"namelength\": 0}, \"hovertemplate\": \"precipitation=%{x}<br>count=%{y}\", \"legendgroup\": \"0.264\", \"marker\": {\"color\": \"#00cc96\", \"opacity\": 0.8}, \"name\": \"0.264\", \"nbinsx\": 40, \"offsetgroup\": \"0.264\", \"orientation\": \"v\", \"showlegend\": true, \"type\": \"histogram\", \"x\": [0.264], \"xaxis\": \"x\", \"yaxis\": \"y\"}, {\"alignmentgroup\": \"True\", \"bingroup\": \"x\", \"hoverlabel\": {\"namelength\": 0}, \"hovertemplate\": \"precipitation=%{x}<br>count=%{y}\", \"legendgroup\": \"0.085\", \"marker\": {\"color\": \"#ab63fa\", \"opacity\": 0.8}, \"name\": \"0.085\", \"nbinsx\": 40, \"offsetgroup\": \"0.085\", \"orientation\": \"v\", \"showlegend\": true, \"type\": \"histogram\", \"x\": [0.085, 0.085], \"xaxis\": \"x\", \"yaxis\": \"y\"}, {\"alignmentgroup\": \"True\", \"bingroup\": \"x\", \"hoverlabel\": {\"namelength\": 0}, \"hovertemplate\": \"precipitation=%{x}<br>count=%{y}\", \"legendgroup\": \"0.09166666666666667\", \"marker\": {\"color\": \"#FFA15A\", \"opacity\": 0.8}, \"name\": \"0.09166666666666667\", \"nbinsx\": 40, \"offsetgroup\": \"0.09166666666666667\", \"orientation\": \"v\", \"showlegend\": true, \"type\": \"histogram\", \"x\": [0.09166666666666667], \"xaxis\": \"x\", \"yaxis\": \"y\"}, {\"alignmentgroup\": \"True\", \"bingroup\": \"x\", \"hoverlabel\": {\"namelength\": 0}, \"hovertemplate\": \"precipitation=%{x}<br>count=%{y}\", \"legendgroup\": \"0.07166666666666667\", \"marker\": {\"color\": \"#19d3f3\", \"opacity\": 0.8}, \"name\": \"0.07166666666666667\", \"nbinsx\": 40, \"offsetgroup\": \"0.07166666666666667\", \"orientation\": \"v\", \"showlegend\": true, \"type\": \"histogram\", \"x\": [0.07166666666666667], \"xaxis\": \"x\", \"yaxis\": \"y\"}, {\"alignmentgroup\": \"True\", \"bingroup\": \"x\", \"hoverlabel\": {\"namelength\": 0}, \"hovertemplate\": \"precipitation=%{x}<br>count=%{y}\", \"legendgroup\": \"0.17666666666666667\", \"marker\": {\"color\": \"#FF6692\", \"opacity\": 0.8}, \"name\": \"0.17666666666666667\", \"nbinsx\": 40, \"offsetgroup\": \"0.17666666666666667\", \"orientation\": \"v\", \"showlegend\": true, \"type\": \"histogram\", \"x\": [0.17666666666666667], \"xaxis\": \"x\", \"yaxis\": \"y\"}, {\"alignmentgroup\": \"True\", \"bingroup\": \"x\", \"hoverlabel\": {\"namelength\": 0}, \"hovertemplate\": \"precipitation=%{x}<br>count=%{y}\", \"legendgroup\": \"0.295\", \"marker\": {\"color\": \"#B6E880\", \"opacity\": 0.8}, \"name\": \"0.295\", \"nbinsx\": 40, \"offsetgroup\": \"0.295\", \"orientation\": \"v\", \"showlegend\": true, \"type\": \"histogram\", \"x\": [0.295], \"xaxis\": \"x\", \"yaxis\": \"y\"}, {\"alignmentgroup\": \"True\", \"bingroup\": \"x\", \"hoverlabel\": {\"namelength\": 0}, \"hovertemplate\": \"precipitation=%{x}<br>count=%{y}\", \"legendgroup\": \"0.3933333333333333\", \"marker\": {\"color\": \"#FF97FF\", \"opacity\": 0.8}, \"name\": \"0.3933333333333333\", \"nbinsx\": 40, \"offsetgroup\": \"0.3933333333333333\", \"orientation\": \"v\", \"showlegend\": true, \"type\": \"histogram\", \"x\": [0.3933333333333333], \"xaxis\": \"x\", \"yaxis\": \"y\"}, {\"alignmentgroup\": \"True\", \"bingroup\": \"x\", \"hoverlabel\": {\"namelength\": 0}, \"hovertemplate\": \"precipitation=%{x}<br>count=%{y}\", \"legendgroup\": \"0.13333333333333333\", \"marker\": {\"color\": \"#FECB52\", \"opacity\": 0.8}, \"name\": \"0.13333333333333333\", \"nbinsx\": 40, \"offsetgroup\": \"0.13333333333333333\", \"orientation\": \"v\", \"showlegend\": true, \"type\": \"histogram\", \"x\": [0.13333333333333333, 0.13333333333333333], \"xaxis\": \"x\", \"yaxis\": \"y\"}, {\"alignmentgroup\": \"True\", \"bingroup\": \"x\", \"hoverlabel\": {\"namelength\": 0}, \"hovertemplate\": \"precipitation=%{x}<br>count=%{y}\", \"legendgroup\": \"0.54\", \"marker\": {\"color\": \"#636efa\", \"opacity\": 0.8}, \"name\": \"0.54\", \"nbinsx\": 40, \"offsetgroup\": \"0.54\", \"orientation\": \"v\", \"showlegend\": true, \"type\": \"histogram\", \"x\": [0.54], \"xaxis\": \"x\", \"yaxis\": \"y\"}, {\"alignmentgroup\": \"True\", \"bingroup\": \"x\", \"hoverlabel\": {\"namelength\": 0}, \"hovertemplate\": \"precipitation=%{x}<br>count=%{y}\", \"legendgroup\": \"0.076\", \"marker\": {\"color\": \"#EF553B\", \"opacity\": 0.8}, \"name\": \"0.076\", \"nbinsx\": 40, \"offsetgroup\": \"0.076\", \"orientation\": \"v\", \"showlegend\": true, \"type\": \"histogram\", \"x\": [0.076], \"xaxis\": \"x\", \"yaxis\": \"y\"}, {\"alignmentgroup\": \"True\", \"bingroup\": \"x\", \"hoverlabel\": {\"namelength\": 0}, \"hovertemplate\": \"precipitation=%{x}<br>count=%{y}\", \"legendgroup\": \"0.06571428571428573\", \"marker\": {\"color\": \"#00cc96\", \"opacity\": 0.8}, \"name\": \"0.06571428571428573\", \"nbinsx\": 40, \"offsetgroup\": \"0.06571428571428573\", \"orientation\": \"v\", \"showlegend\": true, \"type\": \"histogram\", \"x\": [0.06571428571428573], \"xaxis\": \"x\", \"yaxis\": \"y\"}, {\"alignmentgroup\": \"True\", \"bingroup\": \"x\", \"hoverlabel\": {\"namelength\": 0}, \"hovertemplate\": \"precipitation=%{x}<br>count=%{y}\", \"legendgroup\": \"0.37\", \"marker\": {\"color\": \"#ab63fa\", \"opacity\": 0.8}, \"name\": \"0.37\", \"nbinsx\": 40, \"offsetgroup\": \"0.37\", \"orientation\": \"v\", \"showlegend\": true, \"type\": \"histogram\", \"x\": [0.37], \"xaxis\": \"x\", \"yaxis\": \"y\"}, {\"alignmentgroup\": \"True\", \"bingroup\": \"x\", \"hoverlabel\": {\"namelength\": 0}, \"hovertemplate\": \"precipitation=%{x}<br>count=%{y}\", \"legendgroup\": \"0.026000000000000002\", \"marker\": {\"color\": \"#FFA15A\", \"opacity\": 0.8}, \"name\": \"0.026000000000000002\", \"nbinsx\": 40, \"offsetgroup\": \"0.026000000000000002\", \"orientation\": \"v\", \"showlegend\": true, \"type\": \"histogram\", \"x\": [0.026000000000000002, 0.026000000000000002], \"xaxis\": \"x\", \"yaxis\": \"y\"}, {\"alignmentgroup\": \"True\", \"bingroup\": \"x\", \"hoverlabel\": {\"namelength\": 0}, \"hovertemplate\": \"precipitation=%{x}<br>count=%{y}\", \"legendgroup\": \"0.12833333333333333\", \"marker\": {\"color\": \"#19d3f3\", \"opacity\": 0.8}, \"name\": \"0.12833333333333333\", \"nbinsx\": 40, \"offsetgroup\": \"0.12833333333333333\", \"orientation\": \"v\", \"showlegend\": true, \"type\": \"histogram\", \"x\": [0.12833333333333333], \"xaxis\": \"x\", \"yaxis\": \"y\"}, {\"alignmentgroup\": \"True\", \"bingroup\": \"x\", \"hoverlabel\": {\"namelength\": 0}, \"hovertemplate\": \"precipitation=%{x}<br>count=%{y}\", \"legendgroup\": \"0.043333333333333335\", \"marker\": {\"color\": \"#FF6692\", \"opacity\": 0.8}, \"name\": \"0.043333333333333335\", \"nbinsx\": 40, \"offsetgroup\": \"0.043333333333333335\", \"orientation\": \"v\", \"showlegend\": true, \"type\": \"histogram\", \"x\": [0.043333333333333335], \"xaxis\": \"x\", \"yaxis\": \"y\"}, {\"alignmentgroup\": \"True\", \"bingroup\": \"x\", \"hoverlabel\": {\"namelength\": 0}, \"hovertemplate\": \"precipitation=%{x}<br>count=%{y}\", \"legendgroup\": \"0.07\", \"marker\": {\"color\": \"#B6E880\", \"opacity\": 0.8}, \"name\": \"0.07\", \"nbinsx\": 40, \"offsetgroup\": \"0.07\", \"orientation\": \"v\", \"showlegend\": true, \"type\": \"histogram\", \"x\": [0.07, 0.07], \"xaxis\": \"x\", \"yaxis\": \"y\"}, {\"alignmentgroup\": \"True\", \"bingroup\": \"x\", \"hoverlabel\": {\"namelength\": 0}, \"hovertemplate\": \"precipitation=%{x}<br>count=%{y}\", \"legendgroup\": \"0.178\", \"marker\": {\"color\": \"#FF97FF\", \"opacity\": 0.8}, \"name\": \"0.178\", \"nbinsx\": 40, \"offsetgroup\": \"0.178\", \"orientation\": \"v\", \"showlegend\": true, \"type\": \"histogram\", \"x\": [0.178], \"xaxis\": \"x\", \"yaxis\": \"y\"}, {\"alignmentgroup\": \"True\", \"bingroup\": \"x\", \"hoverlabel\": {\"namelength\": 0}, \"hovertemplate\": \"precipitation=%{x}<br>count=%{y}\", \"legendgroup\": \"0.005\", \"marker\": {\"color\": \"#FECB52\", \"opacity\": 0.8}, \"name\": \"0.005\", \"nbinsx\": 40, \"offsetgroup\": \"0.005\", \"orientation\": \"v\", \"showlegend\": true, \"type\": \"histogram\", \"x\": [0.005, 0.005, 0.005, 0.005, 0.005], \"xaxis\": \"x\", \"yaxis\": \"y\"}, {\"alignmentgroup\": \"True\", \"bingroup\": \"x\", \"hoverlabel\": {\"namelength\": 0}, \"hovertemplate\": \"precipitation=%{x}<br>count=%{y}\", \"legendgroup\": \"0.1285714285714286\", \"marker\": {\"color\": \"#636efa\", \"opacity\": 0.8}, \"name\": \"0.1285714285714286\", \"nbinsx\": 40, \"offsetgroup\": \"0.1285714285714286\", \"orientation\": \"v\", \"showlegend\": true, \"type\": \"histogram\", \"x\": [0.1285714285714286], \"xaxis\": \"x\", \"yaxis\": \"y\"}, {\"alignmentgroup\": \"True\", \"bingroup\": \"x\", \"hoverlabel\": {\"namelength\": 0}, \"hovertemplate\": \"precipitation=%{x}<br>count=%{y}\", \"legendgroup\": \"0.4116666666666666\", \"marker\": {\"color\": \"#EF553B\", \"opacity\": 0.8}, \"name\": \"0.4116666666666666\", \"nbinsx\": 40, \"offsetgroup\": \"0.4116666666666666\", \"orientation\": \"v\", \"showlegend\": true, \"type\": \"histogram\", \"x\": [0.4116666666666666], \"xaxis\": \"x\", \"yaxis\": \"y\"}, {\"alignmentgroup\": \"True\", \"bingroup\": \"x\", \"hoverlabel\": {\"namelength\": 0}, \"hovertemplate\": \"precipitation=%{x}<br>count=%{y}\", \"legendgroup\": \"0.205\", \"marker\": {\"color\": \"#00cc96\", \"opacity\": 0.8}, \"name\": \"0.205\", \"nbinsx\": 40, \"offsetgroup\": \"0.205\", \"orientation\": \"v\", \"showlegend\": true, \"type\": \"histogram\", \"x\": [0.205], \"xaxis\": \"x\", \"yaxis\": \"y\"}, {\"alignmentgroup\": \"True\", \"bingroup\": \"x\", \"hoverlabel\": {\"namelength\": 0}, \"hovertemplate\": \"precipitation=%{x}<br>count=%{y}\", \"legendgroup\": \"0.27\", \"marker\": {\"color\": \"#ab63fa\", \"opacity\": 0.8}, \"name\": \"0.27\", \"nbinsx\": 40, \"offsetgroup\": \"0.27\", \"orientation\": \"v\", \"showlegend\": true, \"type\": \"histogram\", \"x\": [0.27], \"xaxis\": \"x\", \"yaxis\": \"y\"}, {\"alignmentgroup\": \"True\", \"bingroup\": \"x\", \"hoverlabel\": {\"namelength\": 0}, \"hovertemplate\": \"precipitation=%{x}<br>count=%{y}\", \"legendgroup\": \"0.086\", \"marker\": {\"color\": \"#FFA15A\", \"opacity\": 0.8}, \"name\": \"0.086\", \"nbinsx\": 40, \"offsetgroup\": \"0.086\", \"orientation\": \"v\", \"showlegend\": true, \"type\": \"histogram\", \"x\": [0.086], \"xaxis\": \"x\", \"yaxis\": \"y\"}, {\"alignmentgroup\": \"True\", \"bingroup\": \"x\", \"hoverlabel\": {\"namelength\": 0}, \"hovertemplate\": \"precipitation=%{x}<br>count=%{y}\", \"legendgroup\": \"0.40800000000000003\", \"marker\": {\"color\": \"#19d3f3\", \"opacity\": 0.8}, \"name\": \"0.40800000000000003\", \"nbinsx\": 40, \"offsetgroup\": \"0.40800000000000003\", \"orientation\": \"v\", \"showlegend\": true, \"type\": \"histogram\", \"x\": [0.40800000000000003], \"xaxis\": \"x\", \"yaxis\": \"y\"}, {\"alignmentgroup\": \"True\", \"bingroup\": \"x\", \"hoverlabel\": {\"namelength\": 0}, \"hovertemplate\": \"precipitation=%{x}<br>count=%{y}\", \"legendgroup\": \"0.04\", \"marker\": {\"color\": \"#FF6692\", \"opacity\": 0.8}, \"name\": \"0.04\", \"nbinsx\": 40, \"offsetgroup\": \"0.04\", \"orientation\": \"v\", \"showlegend\": true, \"type\": \"histogram\", \"x\": [0.04], \"xaxis\": \"x\", \"yaxis\": \"y\"}, {\"alignmentgroup\": \"True\", \"bingroup\": \"x\", \"hoverlabel\": {\"namelength\": 0}, \"hovertemplate\": \"precipitation=%{x}<br>count=%{y}\", \"legendgroup\": \"0.06833333333333334\", \"marker\": {\"color\": \"#B6E880\", \"opacity\": 0.8}, \"name\": \"0.06833333333333334\", \"nbinsx\": 40, \"offsetgroup\": \"0.06833333333333334\", \"orientation\": \"v\", \"showlegend\": true, \"type\": \"histogram\", \"x\": [0.06833333333333334, 0.06833333333333334, 0.06833333333333334, 0.06833333333333334], \"xaxis\": \"x\", \"yaxis\": \"y\"}, {\"alignmentgroup\": \"True\", \"bingroup\": \"x\", \"hoverlabel\": {\"namelength\": 0}, \"hovertemplate\": \"precipitation=%{x}<br>count=%{y}\", \"legendgroup\": \"0.39666666666666667\", \"marker\": {\"color\": \"#FF97FF\", \"opacity\": 0.8}, \"name\": \"0.39666666666666667\", \"nbinsx\": 40, \"offsetgroup\": \"0.39666666666666667\", \"orientation\": \"v\", \"showlegend\": true, \"type\": \"histogram\", \"x\": [0.39666666666666667], \"xaxis\": \"x\", \"yaxis\": \"y\"}, {\"alignmentgroup\": \"True\", \"bingroup\": \"x\", \"hoverlabel\": {\"namelength\": 0}, \"hovertemplate\": \"precipitation=%{x}<br>count=%{y}\", \"legendgroup\": \"0.5583333333333333\", \"marker\": {\"color\": \"#FECB52\", \"opacity\": 0.8}, \"name\": \"0.5583333333333333\", \"nbinsx\": 40, \"offsetgroup\": \"0.5583333333333333\", \"orientation\": \"v\", \"showlegend\": true, \"type\": \"histogram\", \"x\": [0.5583333333333333], \"xaxis\": \"x\", \"yaxis\": \"y\"}, {\"alignmentgroup\": \"True\", \"bingroup\": \"x\", \"hoverlabel\": {\"namelength\": 0}, \"hovertemplate\": \"precipitation=%{x}<br>count=%{y}\", \"legendgroup\": \"0.42800000000000005\", \"marker\": {\"color\": \"#636efa\", \"opacity\": 0.8}, \"name\": \"0.42800000000000005\", \"nbinsx\": 40, \"offsetgroup\": \"0.42800000000000005\", \"orientation\": \"v\", \"showlegend\": true, \"type\": \"histogram\", \"x\": [0.42800000000000005], \"xaxis\": \"x\", \"yaxis\": \"y\"}, {\"alignmentgroup\": \"True\", \"bingroup\": \"x\", \"hoverlabel\": {\"namelength\": 0}, \"hovertemplate\": \"precipitation=%{x}<br>count=%{y}\", \"legendgroup\": \"0.06999999999999999\", \"marker\": {\"color\": \"#EF553B\", \"opacity\": 0.8}, \"name\": \"0.06999999999999999\", \"nbinsx\": 40, \"offsetgroup\": \"0.06999999999999999\", \"orientation\": \"v\", \"showlegend\": true, \"type\": \"histogram\", \"x\": [0.06999999999999999, 0.06999999999999999, 0.06999999999999999], \"xaxis\": \"x\", \"yaxis\": \"y\"}, {\"alignmentgroup\": \"True\", \"bingroup\": \"x\", \"hoverlabel\": {\"namelength\": 0}, \"hovertemplate\": \"precipitation=%{x}<br>count=%{y}\", \"legendgroup\": \"0.004\", \"marker\": {\"color\": \"#00cc96\", \"opacity\": 0.8}, \"name\": \"0.004\", \"nbinsx\": 40, \"offsetgroup\": \"0.004\", \"orientation\": \"v\", \"showlegend\": true, \"type\": \"histogram\", \"x\": [0.004, 0.004, 0.004, 0.004], \"xaxis\": \"x\", \"yaxis\": \"y\"}, {\"alignmentgroup\": \"True\", \"bingroup\": \"x\", \"hoverlabel\": {\"namelength\": 0}, \"hovertemplate\": \"precipitation=%{x}<br>count=%{y}\", \"legendgroup\": \"0.15833333333333333\", \"marker\": {\"color\": \"#ab63fa\", \"opacity\": 0.8}, \"name\": \"0.15833333333333333\", \"nbinsx\": 40, \"offsetgroup\": \"0.15833333333333333\", \"orientation\": \"v\", \"showlegend\": true, \"type\": \"histogram\", \"x\": [0.15833333333333333], \"xaxis\": \"x\", \"yaxis\": \"y\"}, {\"alignmentgroup\": \"True\", \"bingroup\": \"x\", \"hoverlabel\": {\"namelength\": 0}, \"hovertemplate\": \"precipitation=%{x}<br>count=%{y}\", \"legendgroup\": \"0.002\", \"marker\": {\"color\": \"#FFA15A\", \"opacity\": 0.8}, \"name\": \"0.002\", \"nbinsx\": 40, \"offsetgroup\": \"0.002\", \"orientation\": \"v\", \"showlegend\": true, \"type\": \"histogram\", \"x\": [0.002, 0.002, 0.002], \"xaxis\": \"x\", \"yaxis\": \"y\"}, {\"alignmentgroup\": \"True\", \"bingroup\": \"x\", \"hoverlabel\": {\"namelength\": 0}, \"hovertemplate\": \"precipitation=%{x}<br>count=%{y}\", \"legendgroup\": \"0.0025\", \"marker\": {\"color\": \"#19d3f3\", \"opacity\": 0.8}, \"name\": \"0.0025\", \"nbinsx\": 40, \"offsetgroup\": \"0.0025\", \"orientation\": \"v\", \"showlegend\": true, \"type\": \"histogram\", \"x\": [0.0025, 0.0025], \"xaxis\": \"x\", \"yaxis\": \"y\"}, {\"alignmentgroup\": \"True\", \"bingroup\": \"x\", \"hoverlabel\": {\"namelength\": 0}, \"hovertemplate\": \"precipitation=%{x}<br>count=%{y}\", \"legendgroup\": \"0.04666666666666666\", \"marker\": {\"color\": \"#FF6692\", \"opacity\": 0.8}, \"name\": \"0.04666666666666666\", \"nbinsx\": 40, \"offsetgroup\": \"0.04666666666666666\", \"orientation\": \"v\", \"showlegend\": true, \"type\": \"histogram\", \"x\": [0.04666666666666666, 0.04666666666666666], \"xaxis\": \"x\", \"yaxis\": \"y\"}, {\"alignmentgroup\": \"True\", \"bingroup\": \"x\", \"hoverlabel\": {\"namelength\": 0}, \"hovertemplate\": \"precipitation=%{x}<br>count=%{y}\", \"legendgroup\": \"0.20400000000000001\", \"marker\": {\"color\": \"#B6E880\", \"opacity\": 0.8}, \"name\": \"0.20400000000000001\", \"nbinsx\": 40, \"offsetgroup\": \"0.20400000000000001\", \"orientation\": \"v\", \"showlegend\": true, \"type\": \"histogram\", \"x\": [0.20400000000000001], \"xaxis\": \"x\", \"yaxis\": \"y\"}, {\"alignmentgroup\": \"True\", \"bingroup\": \"x\", \"hoverlabel\": {\"namelength\": 0}, \"hovertemplate\": \"precipitation=%{x}<br>count=%{y}\", \"legendgroup\": \"0.188\", \"marker\": {\"color\": \"#FF97FF\", \"opacity\": 0.8}, \"name\": \"0.188\", \"nbinsx\": 40, \"offsetgroup\": \"0.188\", \"orientation\": \"v\", \"showlegend\": true, \"type\": \"histogram\", \"x\": [0.188], \"xaxis\": \"x\", \"yaxis\": \"y\"}, {\"alignmentgroup\": \"True\", \"bingroup\": \"x\", \"hoverlabel\": {\"namelength\": 0}, \"hovertemplate\": \"precipitation=%{x}<br>count=%{y}\", \"legendgroup\": \"0.45\", \"marker\": {\"color\": \"#FECB52\", \"opacity\": 0.8}, \"name\": \"0.45\", \"nbinsx\": 40, \"offsetgroup\": \"0.45\", \"orientation\": \"v\", \"showlegend\": true, \"type\": \"histogram\", \"x\": [0.45], \"xaxis\": \"x\", \"yaxis\": \"y\"}, {\"alignmentgroup\": \"True\", \"bingroup\": \"x\", \"hoverlabel\": {\"namelength\": 0}, \"hovertemplate\": \"precipitation=%{x}<br>count=%{y}\", \"legendgroup\": \"0.716\", \"marker\": {\"color\": \"#636efa\", \"opacity\": 0.8}, \"name\": \"0.716\", \"nbinsx\": 40, \"offsetgroup\": \"0.716\", \"orientation\": \"v\", \"showlegend\": true, \"type\": \"histogram\", \"x\": [0.716], \"xaxis\": \"x\", \"yaxis\": \"y\"}, {\"alignmentgroup\": \"True\", \"bingroup\": \"x\", \"hoverlabel\": {\"namelength\": 0}, \"hovertemplate\": \"precipitation=%{x}<br>count=%{y}\", \"legendgroup\": \"0.015714285714285715\", \"marker\": {\"color\": \"#EF553B\", \"opacity\": 0.8}, \"name\": \"0.015714285714285715\", \"nbinsx\": 40, \"offsetgroup\": \"0.015714285714285715\", \"orientation\": \"v\", \"showlegend\": true, \"type\": \"histogram\", \"x\": [0.015714285714285715], \"xaxis\": \"x\", \"yaxis\": \"y\"}, {\"alignmentgroup\": \"True\", \"bingroup\": \"x\", \"hoverlabel\": {\"namelength\": 0}, \"hovertemplate\": \"precipitation=%{x}<br>count=%{y}\", \"legendgroup\": \"0.008571428571428572\", \"marker\": {\"color\": \"#00cc96\", \"opacity\": 0.8}, \"name\": \"0.008571428571428572\", \"nbinsx\": 40, \"offsetgroup\": \"0.008571428571428572\", \"orientation\": \"v\", \"showlegend\": true, \"type\": \"histogram\", \"x\": [0.008571428571428572, 0.008571428571428572, 0.008571428571428572], \"xaxis\": \"x\", \"yaxis\": \"y\"}, {\"alignmentgroup\": \"True\", \"bingroup\": \"x\", \"hoverlabel\": {\"namelength\": 0}, \"hovertemplate\": \"precipitation=%{x}<br>count=%{y}\", \"legendgroup\": \"0.028000000000000004\", \"marker\": {\"color\": \"#ab63fa\", \"opacity\": 0.8}, \"name\": \"0.028000000000000004\", \"nbinsx\": 40, \"offsetgroup\": \"0.028000000000000004\", \"orientation\": \"v\", \"showlegend\": true, \"type\": \"histogram\", \"x\": [0.028000000000000004], \"xaxis\": \"x\", \"yaxis\": \"y\"}, {\"alignmentgroup\": \"True\", \"bingroup\": \"x\", \"hoverlabel\": {\"namelength\": 0}, \"hovertemplate\": \"precipitation=%{x}<br>count=%{y}\", \"legendgroup\": \"0.2475\", \"marker\": {\"color\": \"#FFA15A\", \"opacity\": 0.8}, \"name\": \"0.2475\", \"nbinsx\": 40, \"offsetgroup\": \"0.2475\", \"orientation\": \"v\", \"showlegend\": true, \"type\": \"histogram\", \"x\": [0.2475], \"xaxis\": \"x\", \"yaxis\": \"y\"}, {\"alignmentgroup\": \"True\", \"bingroup\": \"x\", \"hoverlabel\": {\"namelength\": 0}, \"hovertemplate\": \"precipitation=%{x}<br>count=%{y}\", \"legendgroup\": \"0.06333333333333334\", \"marker\": {\"color\": \"#19d3f3\", \"opacity\": 0.8}, \"name\": \"0.06333333333333334\", \"nbinsx\": 40, \"offsetgroup\": \"0.06333333333333334\", \"orientation\": \"v\", \"showlegend\": true, \"type\": \"histogram\", \"x\": [0.06333333333333334, 0.06333333333333334], \"xaxis\": \"x\", \"yaxis\": \"y\"}, {\"alignmentgroup\": \"True\", \"bingroup\": \"x\", \"hoverlabel\": {\"namelength\": 0}, \"hovertemplate\": \"precipitation=%{x}<br>count=%{y}\", \"legendgroup\": \"1.0571428571428572\", \"marker\": {\"color\": \"#FF6692\", \"opacity\": 0.8}, \"name\": \"1.0571428571428572\", \"nbinsx\": 40, \"offsetgroup\": \"1.0571428571428572\", \"orientation\": \"v\", \"showlegend\": true, \"type\": \"histogram\", \"x\": [1.0571428571428572], \"xaxis\": \"x\", \"yaxis\": \"y\"}, {\"alignmentgroup\": \"True\", \"bingroup\": \"x\", \"hoverlabel\": {\"namelength\": 0}, \"hovertemplate\": \"precipitation=%{x}<br>count=%{y}\", \"legendgroup\": \"0.1542857142857143\", \"marker\": {\"color\": \"#B6E880\", \"opacity\": 0.8}, \"name\": \"0.1542857142857143\", \"nbinsx\": 40, \"offsetgroup\": \"0.1542857142857143\", \"orientation\": \"v\", \"showlegend\": true, \"type\": \"histogram\", \"x\": [0.1542857142857143], \"xaxis\": \"x\", \"yaxis\": \"y\"}, {\"alignmentgroup\": \"True\", \"bingroup\": \"x\", \"hoverlabel\": {\"namelength\": 0}, \"hovertemplate\": \"precipitation=%{x}<br>count=%{y}\", \"legendgroup\": \"0.002857142857142857\", \"marker\": {\"color\": \"#FF97FF\", \"opacity\": 0.8}, \"name\": \"0.002857142857142857\", \"nbinsx\": 40, \"offsetgroup\": \"0.002857142857142857\", \"orientation\": \"v\", \"showlegend\": true, \"type\": \"histogram\", \"x\": [0.002857142857142857], \"xaxis\": \"x\", \"yaxis\": \"y\"}, {\"alignmentgroup\": \"True\", \"bingroup\": \"x\", \"hoverlabel\": {\"namelength\": 0}, \"hovertemplate\": \"precipitation=%{x}<br>count=%{y}\", \"legendgroup\": \"1.866666666666667\", \"marker\": {\"color\": \"#FECB52\", \"opacity\": 0.8}, \"name\": \"1.866666666666667\", \"nbinsx\": 40, \"offsetgroup\": \"1.866666666666667\", \"orientation\": \"v\", \"showlegend\": true, \"type\": \"histogram\", \"x\": [1.866666666666667], \"xaxis\": \"x\", \"yaxis\": \"y\"}, {\"alignmentgroup\": \"True\", \"bingroup\": \"x\", \"hoverlabel\": {\"namelength\": 0}, \"hovertemplate\": \"precipitation=%{x}<br>count=%{y}\", \"legendgroup\": \"1.7466666666666668\", \"marker\": {\"color\": \"#636efa\", \"opacity\": 0.8}, \"name\": \"1.7466666666666668\", \"nbinsx\": 40, \"offsetgroup\": \"1.7466666666666668\", \"orientation\": \"v\", \"showlegend\": true, \"type\": \"histogram\", \"x\": [1.7466666666666668], \"xaxis\": \"x\", \"yaxis\": \"y\"}, {\"alignmentgroup\": \"True\", \"bingroup\": \"x\", \"hoverlabel\": {\"namelength\": 0}, \"hovertemplate\": \"precipitation=%{x}<br>count=%{y}\", \"legendgroup\": \"0.4866666666666666\", \"marker\": {\"color\": \"#EF553B\", \"opacity\": 0.8}, \"name\": \"0.4866666666666666\", \"nbinsx\": 40, \"offsetgroup\": \"0.4866666666666666\", \"orientation\": \"v\", \"showlegend\": true, \"type\": \"histogram\", \"x\": [0.4866666666666666], \"xaxis\": \"x\", \"yaxis\": \"y\"}, {\"alignmentgroup\": \"True\", \"bingroup\": \"x\", \"hoverlabel\": {\"namelength\": 0}, \"hovertemplate\": \"precipitation=%{x}<br>count=%{y}\", \"legendgroup\": \"0.016\", \"marker\": {\"color\": \"#00cc96\", \"opacity\": 0.8}, \"name\": \"0.016\", \"nbinsx\": 40, \"offsetgroup\": \"0.016\", \"orientation\": \"v\", \"showlegend\": true, \"type\": \"histogram\", \"x\": [0.016, 0.016], \"xaxis\": \"x\", \"yaxis\": \"y\"}, {\"alignmentgroup\": \"True\", \"bingroup\": \"x\", \"hoverlabel\": {\"namelength\": 0}, \"hovertemplate\": \"precipitation=%{x}<br>count=%{y}\", \"legendgroup\": \"0.36999999999999994\", \"marker\": {\"color\": \"#ab63fa\", \"opacity\": 0.8}, \"name\": \"0.36999999999999994\", \"nbinsx\": 40, \"offsetgroup\": \"0.36999999999999994\", \"orientation\": \"v\", \"showlegend\": true, \"type\": \"histogram\", \"x\": [0.36999999999999994], \"xaxis\": \"x\", \"yaxis\": \"y\"}, {\"alignmentgroup\": \"True\", \"bingroup\": \"x\", \"hoverlabel\": {\"namelength\": 0}, \"hovertemplate\": \"precipitation=%{x}<br>count=%{y}\", \"legendgroup\": \"0.17500000000000004\", \"marker\": {\"color\": \"#FFA15A\", \"opacity\": 0.8}, \"name\": \"0.17500000000000004\", \"nbinsx\": 40, \"offsetgroup\": \"0.17500000000000004\", \"orientation\": \"v\", \"showlegend\": true, \"type\": \"histogram\", \"x\": [0.17500000000000004], \"xaxis\": \"x\", \"yaxis\": \"y\"}, {\"alignmentgroup\": \"True\", \"bingroup\": \"x\", \"hoverlabel\": {\"namelength\": 0}, \"hovertemplate\": \"precipitation=%{x}<br>count=%{y}\", \"legendgroup\": \"0.0475\", \"marker\": {\"color\": \"#19d3f3\", \"opacity\": 0.8}, \"name\": \"0.0475\", \"nbinsx\": 40, \"offsetgroup\": \"0.0475\", \"orientation\": \"v\", \"showlegend\": true, \"type\": \"histogram\", \"x\": [0.0475, 0.0475], \"xaxis\": \"x\", \"yaxis\": \"y\"}, {\"alignmentgroup\": \"True\", \"bingroup\": \"x\", \"hoverlabel\": {\"namelength\": 0}, \"hovertemplate\": \"precipitation=%{x}<br>count=%{y}\", \"legendgroup\": \"0.13000000000000003\", \"marker\": {\"color\": \"#FF6692\", \"opacity\": 0.8}, \"name\": \"0.13000000000000003\", \"nbinsx\": 40, \"offsetgroup\": \"0.13000000000000003\", \"orientation\": \"v\", \"showlegend\": true, \"type\": \"histogram\", \"x\": [0.13000000000000003], \"xaxis\": \"x\", \"yaxis\": \"y\"}, {\"alignmentgroup\": \"True\", \"bingroup\": \"x\", \"hoverlabel\": {\"namelength\": 0}, \"hovertemplate\": \"precipitation=%{x}<br>count=%{y}\", \"legendgroup\": \"0.0014285714285714286\", \"marker\": {\"color\": \"#B6E880\", \"opacity\": 0.8}, \"name\": \"0.0014285714285714286\", \"nbinsx\": 40, \"offsetgroup\": \"0.0014285714285714286\", \"orientation\": \"v\", \"showlegend\": true, \"type\": \"histogram\", \"x\": [0.0014285714285714286], \"xaxis\": \"x\", \"yaxis\": \"y\"}, {\"alignmentgroup\": \"True\", \"bingroup\": \"x\", \"hoverlabel\": {\"namelength\": 0}, \"hovertemplate\": \"precipitation=%{x}<br>count=%{y}\", \"legendgroup\": \"0.0375\", \"marker\": {\"color\": \"#FF97FF\", \"opacity\": 0.8}, \"name\": \"0.0375\", \"nbinsx\": 40, \"offsetgroup\": \"0.0375\", \"orientation\": \"v\", \"showlegend\": true, \"type\": \"histogram\", \"x\": [0.0375], \"xaxis\": \"x\", \"yaxis\": \"y\"}, {\"alignmentgroup\": \"True\", \"bingroup\": \"x\", \"hoverlabel\": {\"namelength\": 0}, \"hovertemplate\": \"precipitation=%{x}<br>count=%{y}\", \"legendgroup\": \"0.13666666666666666\", \"marker\": {\"color\": \"#FECB52\", \"opacity\": 0.8}, \"name\": \"0.13666666666666666\", \"nbinsx\": 40, \"offsetgroup\": \"0.13666666666666666\", \"orientation\": \"v\", \"showlegend\": true, \"type\": \"histogram\", \"x\": [0.13666666666666666], \"xaxis\": \"x\", \"yaxis\": \"y\"}, {\"alignmentgroup\": \"True\", \"bingroup\": \"x\", \"hoverlabel\": {\"namelength\": 0}, \"hovertemplate\": \"precipitation=%{x}<br>count=%{y}\", \"legendgroup\": \"1.6600000000000001\", \"marker\": {\"color\": \"#636efa\", \"opacity\": 0.8}, \"name\": \"1.6600000000000001\", \"nbinsx\": 40, \"offsetgroup\": \"1.6600000000000001\", \"orientation\": \"v\", \"showlegend\": true, \"type\": \"histogram\", \"x\": [1.6600000000000001], \"xaxis\": \"x\", \"yaxis\": \"y\"}, {\"alignmentgroup\": \"True\", \"bingroup\": \"x\", \"hoverlabel\": {\"namelength\": 0}, \"hovertemplate\": \"precipitation=%{x}<br>count=%{y}\", \"legendgroup\": \"1.0933333333333333\", \"marker\": {\"color\": \"#EF553B\", \"opacity\": 0.8}, \"name\": \"1.0933333333333333\", \"nbinsx\": 40, \"offsetgroup\": \"1.0933333333333333\", \"orientation\": \"v\", \"showlegend\": true, \"type\": \"histogram\", \"x\": [1.0933333333333333], \"xaxis\": \"x\", \"yaxis\": \"y\"}, {\"alignmentgroup\": \"True\", \"bingroup\": \"x\", \"hoverlabel\": {\"namelength\": 0}, \"hovertemplate\": \"precipitation=%{x}<br>count=%{y}\", \"legendgroup\": \"0.37166666666666665\", \"marker\": {\"color\": \"#00cc96\", \"opacity\": 0.8}, \"name\": \"0.37166666666666665\", \"nbinsx\": 40, \"offsetgroup\": \"0.37166666666666665\", \"orientation\": \"v\", \"showlegend\": true, \"type\": \"histogram\", \"x\": [0.37166666666666665], \"xaxis\": \"x\", \"yaxis\": \"y\"}, {\"alignmentgroup\": \"True\", \"bingroup\": \"x\", \"hoverlabel\": {\"namelength\": 0}, \"hovertemplate\": \"precipitation=%{x}<br>count=%{y}\", \"legendgroup\": \"0.3025\", \"marker\": {\"color\": \"#ab63fa\", \"opacity\": 0.8}, \"name\": \"0.3025\", \"nbinsx\": 40, \"offsetgroup\": \"0.3025\", \"orientation\": \"v\", \"showlegend\": true, \"type\": \"histogram\", \"x\": [0.3025], \"xaxis\": \"x\", \"yaxis\": \"y\"}, {\"alignmentgroup\": \"True\", \"bingroup\": \"x\", \"hoverlabel\": {\"namelength\": 0}, \"hovertemplate\": \"precipitation=%{x}<br>count=%{y}\", \"legendgroup\": \"0.135\", \"marker\": {\"color\": \"#FFA15A\", \"opacity\": 0.8}, \"name\": \"0.135\", \"nbinsx\": 40, \"offsetgroup\": \"0.135\", \"orientation\": \"v\", \"showlegend\": true, \"type\": \"histogram\", \"x\": [0.135, 0.135, 0.135], \"xaxis\": \"x\", \"yaxis\": \"y\"}, {\"alignmentgroup\": \"True\", \"bingroup\": \"x\", \"hoverlabel\": {\"namelength\": 0}, \"hovertemplate\": \"precipitation=%{x}<br>count=%{y}\", \"legendgroup\": \"0.3266666666666667\", \"marker\": {\"color\": \"#19d3f3\", \"opacity\": 0.8}, \"name\": \"0.3266666666666667\", \"nbinsx\": 40, \"offsetgroup\": \"0.3266666666666667\", \"orientation\": \"v\", \"showlegend\": true, \"type\": \"histogram\", \"x\": [0.3266666666666667], \"xaxis\": \"x\", \"yaxis\": \"y\"}, {\"alignmentgroup\": \"True\", \"bingroup\": \"x\", \"hoverlabel\": {\"namelength\": 0}, \"hovertemplate\": \"precipitation=%{x}<br>count=%{y}\", \"legendgroup\": \"0.04142857142857143\", \"marker\": {\"color\": \"#FF6692\", \"opacity\": 0.8}, \"name\": \"0.04142857142857143\", \"nbinsx\": 40, \"offsetgroup\": \"0.04142857142857143\", \"orientation\": \"v\", \"showlegend\": true, \"type\": \"histogram\", \"x\": [0.04142857142857143], \"xaxis\": \"x\", \"yaxis\": \"y\"}, {\"alignmentgroup\": \"True\", \"bingroup\": \"x\", \"hoverlabel\": {\"namelength\": 0}, \"hovertemplate\": \"precipitation=%{x}<br>count=%{y}\", \"legendgroup\": \"0.144\", \"marker\": {\"color\": \"#B6E880\", \"opacity\": 0.8}, \"name\": \"0.144\", \"nbinsx\": 40, \"offsetgroup\": \"0.144\", \"orientation\": \"v\", \"showlegend\": true, \"type\": \"histogram\", \"x\": [0.144], \"xaxis\": \"x\", \"yaxis\": \"y\"}, {\"alignmentgroup\": \"True\", \"bingroup\": \"x\", \"hoverlabel\": {\"namelength\": 0}, \"hovertemplate\": \"precipitation=%{x}<br>count=%{y}\", \"legendgroup\": \"0.18833333333333335\", \"marker\": {\"color\": \"#FF97FF\", \"opacity\": 0.8}, \"name\": \"0.18833333333333335\", \"nbinsx\": 40, \"offsetgroup\": \"0.18833333333333335\", \"orientation\": \"v\", \"showlegend\": true, \"type\": \"histogram\", \"x\": [0.18833333333333335], \"xaxis\": \"x\", \"yaxis\": \"y\"}, {\"alignmentgroup\": \"True\", \"bingroup\": \"x\", \"hoverlabel\": {\"namelength\": 0}, \"hovertemplate\": \"precipitation=%{x}<br>count=%{y}\", \"legendgroup\": \"0.394\", \"marker\": {\"color\": \"#FECB52\", \"opacity\": 0.8}, \"name\": \"0.394\", \"nbinsx\": 40, \"offsetgroup\": \"0.394\", \"orientation\": \"v\", \"showlegend\": true, \"type\": \"histogram\", \"x\": [0.394], \"xaxis\": \"x\", \"yaxis\": \"y\"}, {\"alignmentgroup\": \"True\", \"bingroup\": \"x\", \"hoverlabel\": {\"namelength\": 0}, \"hovertemplate\": \"precipitation=%{x}<br>count=%{y}\", \"legendgroup\": \"0.11833333333333335\", \"marker\": {\"color\": \"#636efa\", \"opacity\": 0.8}, \"name\": \"0.11833333333333335\", \"nbinsx\": 40, \"offsetgroup\": \"0.11833333333333335\", \"orientation\": \"v\", \"showlegend\": true, \"type\": \"histogram\", \"x\": [0.11833333333333335], \"xaxis\": \"x\", \"yaxis\": \"y\"}, {\"alignmentgroup\": \"True\", \"bingroup\": \"x\", \"hoverlabel\": {\"namelength\": 0}, \"hovertemplate\": \"precipitation=%{x}<br>count=%{y}\", \"legendgroup\": \"0.03166666666666667\", \"marker\": {\"color\": \"#EF553B\", \"opacity\": 0.8}, \"name\": \"0.03166666666666667\", \"nbinsx\": 40, \"offsetgroup\": \"0.03166666666666667\", \"orientation\": \"v\", \"showlegend\": true, \"type\": \"histogram\", \"x\": [0.03166666666666667, 0.03166666666666667], \"xaxis\": \"x\", \"yaxis\": \"y\"}, {\"alignmentgroup\": \"True\", \"bingroup\": \"x\", \"hoverlabel\": {\"namelength\": 0}, \"hovertemplate\": \"precipitation=%{x}<br>count=%{y}\", \"legendgroup\": \"0.11\", \"marker\": {\"color\": \"#00cc96\", \"opacity\": 0.8}, \"name\": \"0.11\", \"nbinsx\": 40, \"offsetgroup\": \"0.11\", \"orientation\": \"v\", \"showlegend\": true, \"type\": \"histogram\", \"x\": [0.11, 0.11], \"xaxis\": \"x\", \"yaxis\": \"y\"}, {\"alignmentgroup\": \"True\", \"bingroup\": \"x\", \"hoverlabel\": {\"namelength\": 0}, \"hovertemplate\": \"precipitation=%{x}<br>count=%{y}\", \"legendgroup\": \"0.09428571428571429\", \"marker\": {\"color\": \"#ab63fa\", \"opacity\": 0.8}, \"name\": \"0.09428571428571429\", \"nbinsx\": 40, \"offsetgroup\": \"0.09428571428571429\", \"orientation\": \"v\", \"showlegend\": true, \"type\": \"histogram\", \"x\": [0.09428571428571429], \"xaxis\": \"x\", \"yaxis\": \"y\"}, {\"alignmentgroup\": \"True\", \"bingroup\": \"x\", \"hoverlabel\": {\"namelength\": 0}, \"hovertemplate\": \"precipitation=%{x}<br>count=%{y}\", \"legendgroup\": \"0.07833333333333332\", \"marker\": {\"color\": \"#FFA15A\", \"opacity\": 0.8}, \"name\": \"0.07833333333333332\", \"nbinsx\": 40, \"offsetgroup\": \"0.07833333333333332\", \"orientation\": \"v\", \"showlegend\": true, \"type\": \"histogram\", \"x\": [0.07833333333333332], \"xaxis\": \"x\", \"yaxis\": \"y\"}, {\"alignmentgroup\": \"True\", \"bingroup\": \"x\", \"hoverlabel\": {\"namelength\": 0}, \"hovertemplate\": \"precipitation=%{x}<br>count=%{y}\", \"legendgroup\": \"0.18000000000000002\", \"marker\": {\"color\": \"#19d3f3\", \"opacity\": 0.8}, \"name\": \"0.18000000000000002\", \"nbinsx\": 40, \"offsetgroup\": \"0.18000000000000002\", \"orientation\": \"v\", \"showlegend\": true, \"type\": \"histogram\", \"x\": [0.18000000000000002], \"xaxis\": \"x\", \"yaxis\": \"y\"}, {\"alignmentgroup\": \"True\", \"bingroup\": \"x\", \"hoverlabel\": {\"namelength\": 0}, \"hovertemplate\": \"precipitation=%{x}<br>count=%{y}\", \"legendgroup\": \"0.18166666666666667\", \"marker\": {\"color\": \"#FF6692\", \"opacity\": 0.8}, \"name\": \"0.18166666666666667\", \"nbinsx\": 40, \"offsetgroup\": \"0.18166666666666667\", \"orientation\": \"v\", \"showlegend\": true, \"type\": \"histogram\", \"x\": [0.18166666666666667], \"xaxis\": \"x\", \"yaxis\": \"y\"}, {\"alignmentgroup\": \"True\", \"bingroup\": \"x\", \"hoverlabel\": {\"namelength\": 0}, \"hovertemplate\": \"precipitation=%{x}<br>count=%{y}\", \"legendgroup\": \"1.1199999999999999\", \"marker\": {\"color\": \"#B6E880\", \"opacity\": 0.8}, \"name\": \"1.1199999999999999\", \"nbinsx\": 40, \"offsetgroup\": \"1.1199999999999999\", \"orientation\": \"v\", \"showlegend\": true, \"type\": \"histogram\", \"x\": [1.1199999999999999], \"xaxis\": \"x\", \"yaxis\": \"y\"}, {\"alignmentgroup\": \"True\", \"bingroup\": \"x\", \"hoverlabel\": {\"namelength\": 0}, \"hovertemplate\": \"precipitation=%{x}<br>count=%{y}\", \"legendgroup\": \"0.34800000000000003\", \"marker\": {\"color\": \"#FF97FF\", \"opacity\": 0.8}, \"name\": \"0.34800000000000003\", \"nbinsx\": 40, \"offsetgroup\": \"0.34800000000000003\", \"orientation\": \"v\", \"showlegend\": true, \"type\": \"histogram\", \"x\": [0.34800000000000003], \"xaxis\": \"x\", \"yaxis\": \"y\"}, {\"alignmentgroup\": \"True\", \"bingroup\": \"x\", \"hoverlabel\": {\"namelength\": 0}, \"hovertemplate\": \"precipitation=%{x}<br>count=%{y}\", \"legendgroup\": \"0.21400000000000002\", \"marker\": {\"color\": \"#FECB52\", \"opacity\": 0.8}, \"name\": \"0.21400000000000002\", \"nbinsx\": 40, \"offsetgroup\": \"0.21400000000000002\", \"orientation\": \"v\", \"showlegend\": true, \"type\": \"histogram\", \"x\": [0.21400000000000002], \"xaxis\": \"x\", \"yaxis\": \"y\"}, {\"alignmentgroup\": \"True\", \"bingroup\": \"x\", \"hoverlabel\": {\"namelength\": 0}, \"hovertemplate\": \"precipitation=%{x}<br>count=%{y}\", \"legendgroup\": \"0.6140000000000001\", \"marker\": {\"color\": \"#636efa\", \"opacity\": 0.8}, \"name\": \"0.6140000000000001\", \"nbinsx\": 40, \"offsetgroup\": \"0.6140000000000001\", \"orientation\": \"v\", \"showlegend\": true, \"type\": \"histogram\", \"x\": [0.6140000000000001], \"xaxis\": \"x\", \"yaxis\": \"y\"}, {\"alignmentgroup\": \"True\", \"bingroup\": \"x\", \"hoverlabel\": {\"namelength\": 0}, \"hovertemplate\": \"precipitation=%{x}<br>count=%{y}\", \"legendgroup\": \"0.48\", \"marker\": {\"color\": \"#EF553B\", \"opacity\": 0.8}, \"name\": \"0.48\", \"nbinsx\": 40, \"offsetgroup\": \"0.48\", \"orientation\": \"v\", \"showlegend\": true, \"type\": \"histogram\", \"x\": [0.48], \"xaxis\": \"x\", \"yaxis\": \"y\"}, {\"alignmentgroup\": \"True\", \"bingroup\": \"x\", \"hoverlabel\": {\"namelength\": 0}, \"hovertemplate\": \"precipitation=%{x}<br>count=%{y}\", \"legendgroup\": \"0.03333333333333333\", \"marker\": {\"color\": \"#00cc96\", \"opacity\": 0.8}, \"name\": \"0.03333333333333333\", \"nbinsx\": 40, \"offsetgroup\": \"0.03333333333333333\", \"orientation\": \"v\", \"showlegend\": true, \"type\": \"histogram\", \"x\": [0.03333333333333333, 0.03333333333333333, 0.03333333333333333], \"xaxis\": \"x\", \"yaxis\": \"y\"}, {\"alignmentgroup\": \"True\", \"bingroup\": \"x\", \"hoverlabel\": {\"namelength\": 0}, \"hovertemplate\": \"precipitation=%{x}<br>count=%{y}\", \"legendgroup\": \"0.13\", \"marker\": {\"color\": \"#ab63fa\", \"opacity\": 0.8}, \"name\": \"0.13\", \"nbinsx\": 40, \"offsetgroup\": \"0.13\", \"orientation\": \"v\", \"showlegend\": true, \"type\": \"histogram\", \"x\": [0.13], \"xaxis\": \"x\", \"yaxis\": \"y\"}, {\"alignmentgroup\": \"True\", \"bingroup\": \"x\", \"hoverlabel\": {\"namelength\": 0}, \"hovertemplate\": \"precipitation=%{x}<br>count=%{y}\", \"legendgroup\": \"1.3966666666666667\", \"marker\": {\"color\": \"#FFA15A\", \"opacity\": 0.8}, \"name\": \"1.3966666666666667\", \"nbinsx\": 40, \"offsetgroup\": \"1.3966666666666667\", \"orientation\": \"v\", \"showlegend\": true, \"type\": \"histogram\", \"x\": [1.3966666666666667], \"xaxis\": \"x\", \"yaxis\": \"y\"}, {\"alignmentgroup\": \"True\", \"bingroup\": \"x\", \"hoverlabel\": {\"namelength\": 0}, \"hovertemplate\": \"precipitation=%{x}<br>count=%{y}\", \"legendgroup\": \"0.9920000000000002\", \"marker\": {\"color\": \"#19d3f3\", \"opacity\": 0.8}, \"name\": \"0.9920000000000002\", \"nbinsx\": 40, \"offsetgroup\": \"0.9920000000000002\", \"orientation\": \"v\", \"showlegend\": true, \"type\": \"histogram\", \"x\": [0.9920000000000002], \"xaxis\": \"x\", \"yaxis\": \"y\"}, {\"alignmentgroup\": \"True\", \"bingroup\": \"x\", \"hoverlabel\": {\"namelength\": 0}, \"hovertemplate\": \"precipitation=%{x}<br>count=%{y}\", \"legendgroup\": \"0.015000000000000001\", \"marker\": {\"color\": \"#FF6692\", \"opacity\": 0.8}, \"name\": \"0.015000000000000001\", \"nbinsx\": 40, \"offsetgroup\": \"0.015000000000000001\", \"orientation\": \"v\", \"showlegend\": true, \"type\": \"histogram\", \"x\": [0.015000000000000001], \"xaxis\": \"x\", \"yaxis\": \"y\"}, {\"alignmentgroup\": \"True\", \"bingroup\": \"x\", \"hoverlabel\": {\"namelength\": 0}, \"hovertemplate\": \"precipitation=%{x}<br>count=%{y}\", \"legendgroup\": \"0.7066666666666667\", \"marker\": {\"color\": \"#B6E880\", \"opacity\": 0.8}, \"name\": \"0.7066666666666667\", \"nbinsx\": 40, \"offsetgroup\": \"0.7066666666666667\", \"orientation\": \"v\", \"showlegend\": true, \"type\": \"histogram\", \"x\": [0.7066666666666667], \"xaxis\": \"x\", \"yaxis\": \"y\"}, {\"alignmentgroup\": \"True\", \"bingroup\": \"x\", \"hoverlabel\": {\"namelength\": 0}, \"hovertemplate\": \"precipitation=%{x}<br>count=%{y}\", \"legendgroup\": \"1.3399999999999999\", \"marker\": {\"color\": \"#FF97FF\", \"opacity\": 0.8}, \"name\": \"1.3399999999999999\", \"nbinsx\": 40, \"offsetgroup\": \"1.3399999999999999\", \"orientation\": \"v\", \"showlegend\": true, \"type\": \"histogram\", \"x\": [1.3399999999999999], \"xaxis\": \"x\", \"yaxis\": \"y\"}, {\"alignmentgroup\": \"True\", \"bingroup\": \"x\", \"hoverlabel\": {\"namelength\": 0}, \"hovertemplate\": \"precipitation=%{x}<br>count=%{y}\", \"legendgroup\": \"1.07\", \"marker\": {\"color\": \"#FECB52\", \"opacity\": 0.8}, \"name\": \"1.07\", \"nbinsx\": 40, \"offsetgroup\": \"1.07\", \"orientation\": \"v\", \"showlegend\": true, \"type\": \"histogram\", \"x\": [1.07], \"xaxis\": \"x\", \"yaxis\": \"y\"}, {\"alignmentgroup\": \"True\", \"bingroup\": \"x\", \"hoverlabel\": {\"namelength\": 0}, \"hovertemplate\": \"precipitation=%{x}<br>count=%{y}\", \"legendgroup\": \"0.024\", \"marker\": {\"color\": \"#636efa\", \"opacity\": 0.8}, \"name\": \"0.024\", \"nbinsx\": 40, \"offsetgroup\": \"0.024\", \"orientation\": \"v\", \"showlegend\": true, \"type\": \"histogram\", \"x\": [0.024], \"xaxis\": \"x\", \"yaxis\": \"y\"}, {\"alignmentgroup\": \"True\", \"bingroup\": \"x\", \"hoverlabel\": {\"namelength\": 0}, \"hovertemplate\": \"precipitation=%{x}<br>count=%{y}\", \"legendgroup\": \"0.5016666666666666\", \"marker\": {\"color\": \"#EF553B\", \"opacity\": 0.8}, \"name\": \"0.5016666666666666\", \"nbinsx\": 40, \"offsetgroup\": \"0.5016666666666666\", \"orientation\": \"v\", \"showlegend\": true, \"type\": \"histogram\", \"x\": [0.5016666666666666], \"xaxis\": \"x\", \"yaxis\": \"y\"}, {\"alignmentgroup\": \"True\", \"bingroup\": \"x\", \"hoverlabel\": {\"namelength\": 0}, \"hovertemplate\": \"precipitation=%{x}<br>count=%{y}\", \"legendgroup\": \"0.9260000000000002\", \"marker\": {\"color\": \"#00cc96\", \"opacity\": 0.8}, \"name\": \"0.9260000000000002\", \"nbinsx\": 40, \"offsetgroup\": \"0.9260000000000002\", \"orientation\": \"v\", \"showlegend\": true, \"type\": \"histogram\", \"x\": [0.9260000000000002], \"xaxis\": \"x\", \"yaxis\": \"y\"}, {\"alignmentgroup\": \"True\", \"bingroup\": \"x\", \"hoverlabel\": {\"namelength\": 0}, \"hovertemplate\": \"precipitation=%{x}<br>count=%{y}\", \"legendgroup\": \"0.14333333333333334\", \"marker\": {\"color\": \"#ab63fa\", \"opacity\": 0.8}, \"name\": \"0.14333333333333334\", \"nbinsx\": 40, \"offsetgroup\": \"0.14333333333333334\", \"orientation\": \"v\", \"showlegend\": true, \"type\": \"histogram\", \"x\": [0.14333333333333334], \"xaxis\": \"x\", \"yaxis\": \"y\"}, {\"alignmentgroup\": \"True\", \"bingroup\": \"x\", \"hoverlabel\": {\"namelength\": 0}, \"hovertemplate\": \"precipitation=%{x}<br>count=%{y}\", \"legendgroup\": \"0.032\", \"marker\": {\"color\": \"#FFA15A\", \"opacity\": 0.8}, \"name\": \"0.032\", \"nbinsx\": 40, \"offsetgroup\": \"0.032\", \"orientation\": \"v\", \"showlegend\": true, \"type\": \"histogram\", \"x\": [0.032], \"xaxis\": \"x\", \"yaxis\": \"y\"}, {\"alignmentgroup\": \"True\", \"bingroup\": \"x\", \"hoverlabel\": {\"namelength\": 0}, \"hovertemplate\": \"precipitation=%{x}<br>count=%{y}\", \"legendgroup\": \"0.048\", \"marker\": {\"color\": \"#19d3f3\", \"opacity\": 0.8}, \"name\": \"0.048\", \"nbinsx\": 40, \"offsetgroup\": \"0.048\", \"orientation\": \"v\", \"showlegend\": true, \"type\": \"histogram\", \"x\": [0.048], \"xaxis\": \"x\", \"yaxis\": \"y\"}, {\"alignmentgroup\": \"True\", \"bingroup\": \"x\", \"hoverlabel\": {\"namelength\": 0}, \"hovertemplate\": \"precipitation=%{x}<br>count=%{y}\", \"legendgroup\": \"0.244\", \"marker\": {\"color\": \"#FF6692\", \"opacity\": 0.8}, \"name\": \"0.244\", \"nbinsx\": 40, \"offsetgroup\": \"0.244\", \"orientation\": \"v\", \"showlegend\": true, \"type\": \"histogram\", \"x\": [0.244], \"xaxis\": \"x\", \"yaxis\": \"y\"}, {\"alignmentgroup\": \"True\", \"bingroup\": \"x\", \"hoverlabel\": {\"namelength\": 0}, \"hovertemplate\": \"precipitation=%{x}<br>count=%{y}\", \"legendgroup\": \"0.176\", \"marker\": {\"color\": \"#B6E880\", \"opacity\": 0.8}, \"name\": \"0.176\", \"nbinsx\": 40, \"offsetgroup\": \"0.176\", \"orientation\": \"v\", \"showlegend\": true, \"type\": \"histogram\", \"x\": [0.176], \"xaxis\": \"x\", \"yaxis\": \"y\"}, {\"alignmentgroup\": \"True\", \"bingroup\": \"x\", \"hoverlabel\": {\"namelength\": 0}, \"hovertemplate\": \"precipitation=%{x}<br>count=%{y}\", \"legendgroup\": \"0.025000000000000005\", \"marker\": {\"color\": \"#FF97FF\", \"opacity\": 0.8}, \"name\": \"0.025000000000000005\", \"nbinsx\": 40, \"offsetgroup\": \"0.025000000000000005\", \"orientation\": \"v\", \"showlegend\": true, \"type\": \"histogram\", \"x\": [0.025000000000000005], \"xaxis\": \"x\", \"yaxis\": \"y\"}, {\"alignmentgroup\": \"True\", \"bingroup\": \"x\", \"hoverlabel\": {\"namelength\": 0}, \"hovertemplate\": \"precipitation=%{x}<br>count=%{y}\", \"legendgroup\": \"0.14166666666666666\", \"marker\": {\"color\": \"#FECB52\", \"opacity\": 0.8}, \"name\": \"0.14166666666666666\", \"nbinsx\": 40, \"offsetgroup\": \"0.14166666666666666\", \"orientation\": \"v\", \"showlegend\": true, \"type\": \"histogram\", \"x\": [0.14166666666666666], \"xaxis\": \"x\", \"yaxis\": \"y\"}, {\"alignmentgroup\": \"True\", \"bingroup\": \"x\", \"hoverlabel\": {\"namelength\": 0}, \"hovertemplate\": \"precipitation=%{x}<br>count=%{y}\", \"legendgroup\": \"0.072\", \"marker\": {\"color\": \"#636efa\", \"opacity\": 0.8}, \"name\": \"0.072\", \"nbinsx\": 40, \"offsetgroup\": \"0.072\", \"orientation\": \"v\", \"showlegend\": true, \"type\": \"histogram\", \"x\": [0.072], \"xaxis\": \"x\", \"yaxis\": \"y\"}, {\"alignmentgroup\": \"True\", \"bingroup\": \"x\", \"hoverlabel\": {\"namelength\": 0}, \"hovertemplate\": \"precipitation=%{x}<br>count=%{y}\", \"legendgroup\": \"0.11833333333333333\", \"marker\": {\"color\": \"#EF553B\", \"opacity\": 0.8}, \"name\": \"0.11833333333333333\", \"nbinsx\": 40, \"offsetgroup\": \"0.11833333333333333\", \"orientation\": \"v\", \"showlegend\": true, \"type\": \"histogram\", \"x\": [0.11833333333333333], \"xaxis\": \"x\", \"yaxis\": \"y\"}, {\"alignmentgroup\": \"True\", \"bingroup\": \"x\", \"hoverlabel\": {\"namelength\": 0}, \"hovertemplate\": \"precipitation=%{x}<br>count=%{y}\", \"legendgroup\": \"0.6483333333333333\", \"marker\": {\"color\": \"#00cc96\", \"opacity\": 0.8}, \"name\": \"0.6483333333333333\", \"nbinsx\": 40, \"offsetgroup\": \"0.6483333333333333\", \"orientation\": \"v\", \"showlegend\": true, \"type\": \"histogram\", \"x\": [0.6483333333333333], \"xaxis\": \"x\", \"yaxis\": \"y\"}, {\"alignmentgroup\": \"True\", \"bingroup\": \"x\", \"hoverlabel\": {\"namelength\": 0}, \"hovertemplate\": \"precipitation=%{x}<br>count=%{y}\", \"legendgroup\": \"0.37000000000000005\", \"marker\": {\"color\": \"#ab63fa\", \"opacity\": 0.8}, \"name\": \"0.37000000000000005\", \"nbinsx\": 40, \"offsetgroup\": \"0.37000000000000005\", \"orientation\": \"v\", \"showlegend\": true, \"type\": \"histogram\", \"x\": [0.37000000000000005], \"xaxis\": \"x\", \"yaxis\": \"y\"}, {\"alignmentgroup\": \"True\", \"bingroup\": \"x\", \"hoverlabel\": {\"namelength\": 0}, \"hovertemplate\": \"precipitation=%{x}<br>count=%{y}\", \"legendgroup\": \"0.084\", \"marker\": {\"color\": \"#FFA15A\", \"opacity\": 0.8}, \"name\": \"0.084\", \"nbinsx\": 40, \"offsetgroup\": \"0.084\", \"orientation\": \"v\", \"showlegend\": true, \"type\": \"histogram\", \"x\": [0.084], \"xaxis\": \"x\", \"yaxis\": \"y\"}, {\"alignmentgroup\": \"True\", \"bingroup\": \"x\", \"hoverlabel\": {\"namelength\": 0}, \"hovertemplate\": \"precipitation=%{x}<br>count=%{y}\", \"legendgroup\": \"0.346\", \"marker\": {\"color\": \"#19d3f3\", \"opacity\": 0.8}, \"name\": \"0.346\", \"nbinsx\": 40, \"offsetgroup\": \"0.346\", \"orientation\": \"v\", \"showlegend\": true, \"type\": \"histogram\", \"x\": [0.346], \"xaxis\": \"x\", \"yaxis\": \"y\"}, {\"alignmentgroup\": \"True\", \"bingroup\": \"x\", \"hoverlabel\": {\"namelength\": 0}, \"hovertemplate\": \"precipitation=%{x}<br>count=%{y}\", \"legendgroup\": \"0.074\", \"marker\": {\"color\": \"#FF6692\", \"opacity\": 0.8}, \"name\": \"0.074\", \"nbinsx\": 40, \"offsetgroup\": \"0.074\", \"orientation\": \"v\", \"showlegend\": true, \"type\": \"histogram\", \"x\": [0.074], \"xaxis\": \"x\", \"yaxis\": \"y\"}, {\"alignmentgroup\": \"True\", \"bingroup\": \"x\", \"hoverlabel\": {\"namelength\": 0}, \"hovertemplate\": \"precipitation=%{x}<br>count=%{y}\", \"legendgroup\": \"0.06799999999999999\", \"marker\": {\"color\": \"#B6E880\", \"opacity\": 0.8}, \"name\": \"0.06799999999999999\", \"nbinsx\": 40, \"offsetgroup\": \"0.06799999999999999\", \"orientation\": \"v\", \"showlegend\": true, \"type\": \"histogram\", \"x\": [0.06799999999999999], \"xaxis\": \"x\", \"yaxis\": \"y\"}, {\"alignmentgroup\": \"True\", \"bingroup\": \"x\", \"hoverlabel\": {\"namelength\": 0}, \"hovertemplate\": \"precipitation=%{x}<br>count=%{y}\", \"legendgroup\": \"0.122\", \"marker\": {\"color\": \"#FF97FF\", \"opacity\": 0.8}, \"name\": \"0.122\", \"nbinsx\": 40, \"offsetgroup\": \"0.122\", \"orientation\": \"v\", \"showlegend\": true, \"type\": \"histogram\", \"x\": [0.122], \"xaxis\": \"x\", \"yaxis\": \"y\"}, {\"alignmentgroup\": \"True\", \"bingroup\": \"x\", \"hoverlabel\": {\"namelength\": 0}, \"hovertemplate\": \"precipitation=%{x}<br>count=%{y}\", \"legendgroup\": \"0.306\", \"marker\": {\"color\": \"#FECB52\", \"opacity\": 0.8}, \"name\": \"0.306\", \"nbinsx\": 40, \"offsetgroup\": \"0.306\", \"orientation\": \"v\", \"showlegend\": true, \"type\": \"histogram\", \"x\": [0.306], \"xaxis\": \"x\", \"yaxis\": \"y\"}, {\"alignmentgroup\": \"True\", \"bingroup\": \"x\", \"hoverlabel\": {\"namelength\": 0}, \"hovertemplate\": \"precipitation=%{x}<br>count=%{y}\", \"legendgroup\": \"0.35833333333333334\", \"marker\": {\"color\": \"#636efa\", \"opacity\": 0.8}, \"name\": \"0.35833333333333334\", \"nbinsx\": 40, \"offsetgroup\": \"0.35833333333333334\", \"orientation\": \"v\", \"showlegend\": true, \"type\": \"histogram\", \"x\": [0.35833333333333334], \"xaxis\": \"x\", \"yaxis\": \"y\"}, {\"alignmentgroup\": \"True\", \"bingroup\": \"x\", \"hoverlabel\": {\"namelength\": 0}, \"hovertemplate\": \"precipitation=%{x}<br>count=%{y}\", \"legendgroup\": \"0.2916666666666667\", \"marker\": {\"color\": \"#EF553B\", \"opacity\": 0.8}, \"name\": \"0.2916666666666667\", \"nbinsx\": 40, \"offsetgroup\": \"0.2916666666666667\", \"orientation\": \"v\", \"showlegend\": true, \"type\": \"histogram\", \"x\": [0.2916666666666667], \"xaxis\": \"x\", \"yaxis\": \"y\"}, {\"alignmentgroup\": \"True\", \"bingroup\": \"x\", \"hoverlabel\": {\"namelength\": 0}, \"hovertemplate\": \"precipitation=%{x}<br>count=%{y}\", \"legendgroup\": \"0.22999999999999998\", \"marker\": {\"color\": \"#00cc96\", \"opacity\": 0.8}, \"name\": \"0.22999999999999998\", \"nbinsx\": 40, \"offsetgroup\": \"0.22999999999999998\", \"orientation\": \"v\", \"showlegend\": true, \"type\": \"histogram\", \"x\": [0.22999999999999998], \"xaxis\": \"x\", \"yaxis\": \"y\"}, {\"alignmentgroup\": \"True\", \"bingroup\": \"x\", \"hoverlabel\": {\"namelength\": 0}, \"hovertemplate\": \"precipitation=%{x}<br>count=%{y}\", \"legendgroup\": \"0.26166666666666666\", \"marker\": {\"color\": \"#ab63fa\", \"opacity\": 0.8}, \"name\": \"0.26166666666666666\", \"nbinsx\": 40, \"offsetgroup\": \"0.26166666666666666\", \"orientation\": \"v\", \"showlegend\": true, \"type\": \"histogram\", \"x\": [0.26166666666666666], \"xaxis\": \"x\", \"yaxis\": \"y\"}, {\"alignmentgroup\": \"True\", \"bingroup\": \"x\", \"hoverlabel\": {\"namelength\": 0}, \"hovertemplate\": \"precipitation=%{x}<br>count=%{y}\", \"legendgroup\": \"0.09000000000000001\", \"marker\": {\"color\": \"#FFA15A\", \"opacity\": 0.8}, \"name\": \"0.09000000000000001\", \"nbinsx\": 40, \"offsetgroup\": \"0.09000000000000001\", \"orientation\": \"v\", \"showlegend\": true, \"type\": \"histogram\", \"x\": [0.09000000000000001], \"xaxis\": \"x\", \"yaxis\": \"y\"}, {\"alignmentgroup\": \"True\", \"bingroup\": \"x\", \"hoverlabel\": {\"namelength\": 0}, \"hovertemplate\": \"precipitation=%{x}<br>count=%{y}\", \"legendgroup\": \"0.23666666666666666\", \"marker\": {\"color\": \"#19d3f3\", \"opacity\": 0.8}, \"name\": \"0.23666666666666666\", \"nbinsx\": 40, \"offsetgroup\": \"0.23666666666666666\", \"orientation\": \"v\", \"showlegend\": true, \"type\": \"histogram\", \"x\": [0.23666666666666666], \"xaxis\": \"x\", \"yaxis\": \"y\"}, {\"alignmentgroup\": \"True\", \"bingroup\": \"x\", \"hoverlabel\": {\"namelength\": 0}, \"hovertemplate\": \"precipitation=%{x}<br>count=%{y}\", \"legendgroup\": \"0.12166666666666666\", \"marker\": {\"color\": \"#FF6692\", \"opacity\": 0.8}, \"name\": \"0.12166666666666666\", \"nbinsx\": 40, \"offsetgroup\": \"0.12166666666666666\", \"orientation\": \"v\", \"showlegend\": true, \"type\": \"histogram\", \"x\": [0.12166666666666666], \"xaxis\": \"x\", \"yaxis\": \"y\"}, {\"alignmentgroup\": \"True\", \"bingroup\": \"x\", \"hoverlabel\": {\"namelength\": 0}, \"hovertemplate\": \"precipitation=%{x}<br>count=%{y}\", \"legendgroup\": \"0.1275\", \"marker\": {\"color\": \"#B6E880\", \"opacity\": 0.8}, \"name\": \"0.1275\", \"nbinsx\": 40, \"offsetgroup\": \"0.1275\", \"orientation\": \"v\", \"showlegend\": true, \"type\": \"histogram\", \"x\": [0.1275], \"xaxis\": \"x\", \"yaxis\": \"y\"}, {\"alignmentgroup\": \"True\", \"bingroup\": \"x\", \"hoverlabel\": {\"namelength\": 0}, \"hovertemplate\": \"precipitation=%{x}<br>count=%{y}\", \"legendgroup\": \"0.07333333333333335\", \"marker\": {\"color\": \"#FF97FF\", \"opacity\": 0.8}, \"name\": \"0.07333333333333335\", \"nbinsx\": 40, \"offsetgroup\": \"0.07333333333333335\", \"orientation\": \"v\", \"showlegend\": true, \"type\": \"histogram\", \"x\": [0.07333333333333335], \"xaxis\": \"x\", \"yaxis\": \"y\"}, {\"alignmentgroup\": \"True\", \"bingroup\": \"x\", \"hoverlabel\": {\"namelength\": 0}, \"hovertemplate\": \"precipitation=%{x}<br>count=%{y}\", \"legendgroup\": \"0.11166666666666665\", \"marker\": {\"color\": \"#FECB52\", \"opacity\": 0.8}, \"name\": \"0.11166666666666665\", \"nbinsx\": 40, \"offsetgroup\": \"0.11166666666666665\", \"orientation\": \"v\", \"showlegend\": true, \"type\": \"histogram\", \"x\": [0.11166666666666665], \"xaxis\": \"x\", \"yaxis\": \"y\"}, {\"alignmentgroup\": \"True\", \"bingroup\": \"x\", \"hoverlabel\": {\"namelength\": 0}, \"hovertemplate\": \"precipitation=%{x}<br>count=%{y}\", \"legendgroup\": \"0.128\", \"marker\": {\"color\": \"#636efa\", \"opacity\": 0.8}, \"name\": \"0.128\", \"nbinsx\": 40, \"offsetgroup\": \"0.128\", \"orientation\": \"v\", \"showlegend\": true, \"type\": \"histogram\", \"x\": [0.128], \"xaxis\": \"x\", \"yaxis\": \"y\"}, {\"alignmentgroup\": \"True\", \"bingroup\": \"x\", \"hoverlabel\": {\"namelength\": 0}, \"hovertemplate\": \"precipitation=%{x}<br>count=%{y}\", \"legendgroup\": \"0.02\", \"marker\": {\"color\": \"#EF553B\", \"opacity\": 0.8}, \"name\": \"0.02\", \"nbinsx\": 40, \"offsetgroup\": \"0.02\", \"orientation\": \"v\", \"showlegend\": true, \"type\": \"histogram\", \"x\": [0.02, 0.02], \"xaxis\": \"x\", \"yaxis\": \"y\"}, {\"alignmentgroup\": \"True\", \"bingroup\": \"x\", \"hoverlabel\": {\"namelength\": 0}, \"hovertemplate\": \"precipitation=%{x}<br>count=%{y}\", \"legendgroup\": \"0.018333333333333333\", \"marker\": {\"color\": \"#00cc96\", \"opacity\": 0.8}, \"name\": \"0.018333333333333333\", \"nbinsx\": 40, \"offsetgroup\": \"0.018333333333333333\", \"orientation\": \"v\", \"showlegend\": true, \"type\": \"histogram\", \"x\": [0.018333333333333333], \"xaxis\": \"x\", \"yaxis\": \"y\"}, {\"alignmentgroup\": \"True\", \"bingroup\": \"x\", \"hoverlabel\": {\"namelength\": 0}, \"hovertemplate\": \"precipitation=%{x}<br>count=%{y}\", \"legendgroup\": \"0.07428571428571429\", \"marker\": {\"color\": \"#ab63fa\", \"opacity\": 0.8}, \"name\": \"0.07428571428571429\", \"nbinsx\": 40, \"offsetgroup\": \"0.07428571428571429\", \"orientation\": \"v\", \"showlegend\": true, \"type\": \"histogram\", \"x\": [0.07428571428571429], \"xaxis\": \"x\", \"yaxis\": \"y\"}, {\"alignmentgroup\": \"True\", \"bingroup\": \"x\", \"hoverlabel\": {\"namelength\": 0}, \"hovertemplate\": \"precipitation=%{x}<br>count=%{y}\", \"legendgroup\": \"0.18\", \"marker\": {\"color\": \"#FFA15A\", \"opacity\": 0.8}, \"name\": \"0.18\", \"nbinsx\": 40, \"offsetgroup\": \"0.18\", \"orientation\": \"v\", \"showlegend\": true, \"type\": \"histogram\", \"x\": [0.18], \"xaxis\": \"x\", \"yaxis\": \"y\"}, {\"alignmentgroup\": \"True\", \"bingroup\": \"x\", \"hoverlabel\": {\"namelength\": 0}, \"hovertemplate\": \"precipitation=%{x}<br>count=%{y}\", \"legendgroup\": \"0.148\", \"marker\": {\"color\": \"#19d3f3\", \"opacity\": 0.8}, \"name\": \"0.148\", \"nbinsx\": 40, \"offsetgroup\": \"0.148\", \"orientation\": \"v\", \"showlegend\": true, \"type\": \"histogram\", \"x\": [0.148], \"xaxis\": \"x\", \"yaxis\": \"y\"}, {\"alignmentgroup\": \"True\", \"bingroup\": \"x\", \"hoverlabel\": {\"namelength\": 0}, \"hovertemplate\": \"precipitation=%{x}<br>count=%{y}\", \"legendgroup\": \"0.037500000000000006\", \"marker\": {\"color\": \"#FF6692\", \"opacity\": 0.8}, \"name\": \"0.037500000000000006\", \"nbinsx\": 40, \"offsetgroup\": \"0.037500000000000006\", \"orientation\": \"v\", \"showlegend\": true, \"type\": \"histogram\", \"x\": [0.037500000000000006], \"xaxis\": \"x\", \"yaxis\": \"y\"}, {\"alignmentgroup\": \"True\", \"bingroup\": \"x\", \"hoverlabel\": {\"namelength\": 0}, \"hovertemplate\": \"precipitation=%{x}<br>count=%{y}\", \"legendgroup\": \"0.1\", \"marker\": {\"color\": \"#B6E880\", \"opacity\": 0.8}, \"name\": \"0.1\", \"nbinsx\": 40, \"offsetgroup\": \"0.1\", \"orientation\": \"v\", \"showlegend\": true, \"type\": \"histogram\", \"x\": [0.1], \"xaxis\": \"x\", \"yaxis\": \"y\"}, {\"alignmentgroup\": \"True\", \"bingroup\": \"x\", \"hoverlabel\": {\"namelength\": 0}, \"hovertemplate\": \"precipitation=%{x}<br>count=%{y}\", \"legendgroup\": \"0.060000000000000005\", \"marker\": {\"color\": \"#FF97FF\", \"opacity\": 0.8}, \"name\": \"0.060000000000000005\", \"nbinsx\": 40, \"offsetgroup\": \"0.060000000000000005\", \"orientation\": \"v\", \"showlegend\": true, \"type\": \"histogram\", \"x\": [0.060000000000000005], \"xaxis\": \"x\", \"yaxis\": \"y\"}, {\"alignmentgroup\": \"True\", \"bingroup\": \"x\", \"hoverlabel\": {\"namelength\": 0}, \"hovertemplate\": \"precipitation=%{x}<br>count=%{y}\", \"legendgroup\": \"0.3016666666666667\", \"marker\": {\"color\": \"#FECB52\", \"opacity\": 0.8}, \"name\": \"0.3016666666666667\", \"nbinsx\": 40, \"offsetgroup\": \"0.3016666666666667\", \"orientation\": \"v\", \"showlegend\": true, \"type\": \"histogram\", \"x\": [0.3016666666666667], \"xaxis\": \"x\", \"yaxis\": \"y\"}, {\"alignmentgroup\": \"True\", \"bingroup\": \"x\", \"hoverlabel\": {\"namelength\": 0}, \"hovertemplate\": \"precipitation=%{x}<br>count=%{y}\", \"legendgroup\": \"0.15833333333333335\", \"marker\": {\"color\": \"#636efa\", \"opacity\": 0.8}, \"name\": \"0.15833333333333335\", \"nbinsx\": 40, \"offsetgroup\": \"0.15833333333333335\", \"orientation\": \"v\", \"showlegend\": true, \"type\": \"histogram\", \"x\": [0.15833333333333335], \"xaxis\": \"x\", \"yaxis\": \"y\"}, {\"alignmentgroup\": \"True\", \"bingroup\": \"x\", \"hoverlabel\": {\"namelength\": 0}, \"hovertemplate\": \"precipitation=%{x}<br>count=%{y}\", \"legendgroup\": \"0.15166666666666667\", \"marker\": {\"color\": \"#EF553B\", \"opacity\": 0.8}, \"name\": \"0.15166666666666667\", \"nbinsx\": 40, \"offsetgroup\": \"0.15166666666666667\", \"orientation\": \"v\", \"showlegend\": true, \"type\": \"histogram\", \"x\": [0.15166666666666667], \"xaxis\": \"x\", \"yaxis\": \"y\"}, {\"alignmentgroup\": \"True\", \"bingroup\": \"x\", \"hoverlabel\": {\"namelength\": 0}, \"hovertemplate\": \"precipitation=%{x}<br>count=%{y}\", \"legendgroup\": \"0.3614285714285714\", \"marker\": {\"color\": \"#00cc96\", \"opacity\": 0.8}, \"name\": \"0.3614285714285714\", \"nbinsx\": 40, \"offsetgroup\": \"0.3614285714285714\", \"orientation\": \"v\", \"showlegend\": true, \"type\": \"histogram\", \"x\": [0.3614285714285714], \"xaxis\": \"x\", \"yaxis\": \"y\"}, {\"alignmentgroup\": \"True\", \"bingroup\": \"x\", \"hoverlabel\": {\"namelength\": 0}, \"hovertemplate\": \"precipitation=%{x}<br>count=%{y}\", \"legendgroup\": \"0.17714285714285713\", \"marker\": {\"color\": \"#ab63fa\", \"opacity\": 0.8}, \"name\": \"0.17714285714285713\", \"nbinsx\": 40, \"offsetgroup\": \"0.17714285714285713\", \"orientation\": \"v\", \"showlegend\": true, \"type\": \"histogram\", \"x\": [0.17714285714285713], \"xaxis\": \"x\", \"yaxis\": \"y\"}, {\"alignmentgroup\": \"True\", \"bingroup\": \"x\", \"hoverlabel\": {\"namelength\": 0}, \"hovertemplate\": \"precipitation=%{x}<br>count=%{y}\", \"legendgroup\": \"0.7366666666666667\", \"marker\": {\"color\": \"#FFA15A\", \"opacity\": 0.8}, \"name\": \"0.7366666666666667\", \"nbinsx\": 40, \"offsetgroup\": \"0.7366666666666667\", \"orientation\": \"v\", \"showlegend\": true, \"type\": \"histogram\", \"x\": [0.7366666666666667], \"xaxis\": \"x\", \"yaxis\": \"y\"}, {\"alignmentgroup\": \"True\", \"bingroup\": \"x\", \"hoverlabel\": {\"namelength\": 0}, \"hovertemplate\": \"precipitation=%{x}<br>count=%{y}\", \"legendgroup\": \"0.22600000000000003\", \"marker\": {\"color\": \"#19d3f3\", \"opacity\": 0.8}, \"name\": \"0.22600000000000003\", \"nbinsx\": 40, \"offsetgroup\": \"0.22600000000000003\", \"orientation\": \"v\", \"showlegend\": true, \"type\": \"histogram\", \"x\": [0.22600000000000003], \"xaxis\": \"x\", \"yaxis\": \"y\"}, {\"alignmentgroup\": \"True\", \"bingroup\": \"x\", \"hoverlabel\": {\"namelength\": 0}, \"hovertemplate\": \"precipitation=%{x}<br>count=%{y}\", \"legendgroup\": \"0.6539999999999999\", \"marker\": {\"color\": \"#FF6692\", \"opacity\": 0.8}, \"name\": \"0.6539999999999999\", \"nbinsx\": 40, \"offsetgroup\": \"0.6539999999999999\", \"orientation\": \"v\", \"showlegend\": true, \"type\": \"histogram\", \"x\": [0.6539999999999999], \"xaxis\": \"x\", \"yaxis\": \"y\"}, {\"alignmentgroup\": \"True\", \"bingroup\": \"x\", \"hoverlabel\": {\"namelength\": 0}, \"hovertemplate\": \"precipitation=%{x}<br>count=%{y}\", \"legendgroup\": \"0.08714285714285715\", \"marker\": {\"color\": \"#B6E880\", \"opacity\": 0.8}, \"name\": \"0.08714285714285715\", \"nbinsx\": 40, \"offsetgroup\": \"0.08714285714285715\", \"orientation\": \"v\", \"showlegend\": true, \"type\": \"histogram\", \"x\": [0.08714285714285715], \"xaxis\": \"x\", \"yaxis\": \"y\"}, {\"alignmentgroup\": \"True\", \"bingroup\": \"x\", \"hoverlabel\": {\"namelength\": 0}, \"hovertemplate\": \"precipitation=%{x}<br>count=%{y}\", \"legendgroup\": \"0.08333333333333333\", \"marker\": {\"color\": \"#FF97FF\", \"opacity\": 0.8}, \"name\": \"0.08333333333333333\", \"nbinsx\": 40, \"offsetgroup\": \"0.08333333333333333\", \"orientation\": \"v\", \"showlegend\": true, \"type\": \"histogram\", \"x\": [0.08333333333333333], \"xaxis\": \"x\", \"yaxis\": \"y\"}, {\"alignmentgroup\": \"True\", \"bingroup\": \"x\", \"hoverlabel\": {\"namelength\": 0}, \"hovertemplate\": \"precipitation=%{x}<br>count=%{y}\", \"legendgroup\": \"0.10166666666666667\", \"marker\": {\"color\": \"#FECB52\", \"opacity\": 0.8}, \"name\": \"0.10166666666666667\", \"nbinsx\": 40, \"offsetgroup\": \"0.10166666666666667\", \"orientation\": \"v\", \"showlegend\": true, \"type\": \"histogram\", \"x\": [0.10166666666666667], \"xaxis\": \"x\", \"yaxis\": \"y\"}, {\"alignmentgroup\": \"True\", \"bingroup\": \"x\", \"hoverlabel\": {\"namelength\": 0}, \"hovertemplate\": \"precipitation=%{x}<br>count=%{y}\", \"legendgroup\": \"0.06\", \"marker\": {\"color\": \"#636efa\", \"opacity\": 0.8}, \"name\": \"0.06\", \"nbinsx\": 40, \"offsetgroup\": \"0.06\", \"orientation\": \"v\", \"showlegend\": true, \"type\": \"histogram\", \"x\": [0.06], \"xaxis\": \"x\", \"yaxis\": \"y\"}, {\"alignmentgroup\": \"True\", \"bingroup\": \"x\", \"hoverlabel\": {\"namelength\": 0}, \"hovertemplate\": \"precipitation=%{x}<br>count=%{y}\", \"legendgroup\": \"0.017499999999999998\", \"marker\": {\"color\": \"#EF553B\", \"opacity\": 0.8}, \"name\": \"0.017499999999999998\", \"nbinsx\": 40, \"offsetgroup\": \"0.017499999999999998\", \"orientation\": \"v\", \"showlegend\": true, \"type\": \"histogram\", \"x\": [0.017499999999999998], \"xaxis\": \"x\", \"yaxis\": \"y\"}, {\"alignmentgroup\": \"True\", \"bingroup\": \"x\", \"hoverlabel\": {\"namelength\": 0}, \"hovertemplate\": \"precipitation=%{x}<br>count=%{y}\", \"legendgroup\": \"0.0125\", \"marker\": {\"color\": \"#00cc96\", \"opacity\": 0.8}, \"name\": \"0.0125\", \"nbinsx\": 40, \"offsetgroup\": \"0.0125\", \"orientation\": \"v\", \"showlegend\": true, \"type\": \"histogram\", \"x\": [0.0125], \"xaxis\": \"x\", \"yaxis\": \"y\"}, {\"alignmentgroup\": \"True\", \"bingroup\": \"x\", \"hoverlabel\": {\"namelength\": 0}, \"hovertemplate\": \"precipitation=%{x}<br>count=%{y}\", \"legendgroup\": \"0.049999999999999996\", \"marker\": {\"color\": \"#ab63fa\", \"opacity\": 0.8}, \"name\": \"0.049999999999999996\", \"nbinsx\": 40, \"offsetgroup\": \"0.049999999999999996\", \"orientation\": \"v\", \"showlegend\": true, \"type\": \"histogram\", \"x\": [0.049999999999999996], \"xaxis\": \"x\", \"yaxis\": \"y\"}, {\"alignmentgroup\": \"True\", \"bingroup\": \"x\", \"hoverlabel\": {\"namelength\": 0}, \"hovertemplate\": \"precipitation=%{x}<br>count=%{y}\", \"legendgroup\": \"0.0175\", \"marker\": {\"color\": \"#FFA15A\", \"opacity\": 0.8}, \"name\": \"0.0175\", \"nbinsx\": 40, \"offsetgroup\": \"0.0175\", \"orientation\": \"v\", \"showlegend\": true, \"type\": \"histogram\", \"x\": [0.0175], \"xaxis\": \"x\", \"yaxis\": \"y\"}, {\"alignmentgroup\": \"True\", \"bingroup\": \"x\", \"hoverlabel\": {\"namelength\": 0}, \"hovertemplate\": \"precipitation=%{x}<br>count=%{y}\", \"legendgroup\": \"0.062\", \"marker\": {\"color\": \"#19d3f3\", \"opacity\": 0.8}, \"name\": \"0.062\", \"nbinsx\": 40, \"offsetgroup\": \"0.062\", \"orientation\": \"v\", \"showlegend\": true, \"type\": \"histogram\", \"x\": [0.062], \"xaxis\": \"x\", \"yaxis\": \"y\"}, {\"alignmentgroup\": \"True\", \"bingroup\": \"x\", \"hoverlabel\": {\"namelength\": 0}, \"hovertemplate\": \"precipitation=%{x}<br>count=%{y}\", \"legendgroup\": \"0.164\", \"marker\": {\"color\": \"#FF6692\", \"opacity\": 0.8}, \"name\": \"0.164\", \"nbinsx\": 40, \"offsetgroup\": \"0.164\", \"orientation\": \"v\", \"showlegend\": true, \"type\": \"histogram\", \"x\": [0.164], \"xaxis\": \"x\", \"yaxis\": \"y\"}, {\"alignmentgroup\": \"True\", \"bingroup\": \"x\", \"hoverlabel\": {\"namelength\": 0}, \"hovertemplate\": \"precipitation=%{x}<br>count=%{y}\", \"legendgroup\": \"0.1525\", \"marker\": {\"color\": \"#B6E880\", \"opacity\": 0.8}, \"name\": \"0.1525\", \"nbinsx\": 40, \"offsetgroup\": \"0.1525\", \"orientation\": \"v\", \"showlegend\": true, \"type\": \"histogram\", \"x\": [0.1525], \"xaxis\": \"x\", \"yaxis\": \"y\"}, {\"alignmentgroup\": \"True\", \"bingroup\": \"x\", \"hoverlabel\": {\"namelength\": 0}, \"hovertemplate\": \"precipitation=%{x}<br>count=%{y}\", \"legendgroup\": \"0.19333333333333336\", \"marker\": {\"color\": \"#FF97FF\", \"opacity\": 0.8}, \"name\": \"0.19333333333333336\", \"nbinsx\": 40, \"offsetgroup\": \"0.19333333333333336\", \"orientation\": \"v\", \"showlegend\": true, \"type\": \"histogram\", \"x\": [0.19333333333333336], \"xaxis\": \"x\", \"yaxis\": \"y\"}, {\"alignmentgroup\": \"True\", \"bingroup\": \"x\", \"hoverlabel\": {\"namelength\": 0}, \"hovertemplate\": \"precipitation=%{x}<br>count=%{y}\", \"legendgroup\": \"0.16666666666666666\", \"marker\": {\"color\": \"#FECB52\", \"opacity\": 0.8}, \"name\": \"0.16666666666666666\", \"nbinsx\": 40, \"offsetgroup\": \"0.16666666666666666\", \"orientation\": \"v\", \"showlegend\": true, \"type\": \"histogram\", \"x\": [0.16666666666666666], \"xaxis\": \"x\", \"yaxis\": \"y\"}, {\"alignmentgroup\": \"True\", \"bingroup\": \"x\", \"hoverlabel\": {\"namelength\": 0}, \"hovertemplate\": \"precipitation=%{x}<br>count=%{y}\", \"legendgroup\": \"0.1325\", \"marker\": {\"color\": \"#636efa\", \"opacity\": 0.8}, \"name\": \"0.1325\", \"nbinsx\": 40, \"offsetgroup\": \"0.1325\", \"orientation\": \"v\", \"showlegend\": true, \"type\": \"histogram\", \"x\": [0.1325], \"xaxis\": \"x\", \"yaxis\": \"y\"}],\n",
       "                        {\"barmode\": \"relative\", \"font\": {\"color\": \"#7f7f7f\", \"family\": \"Courier New, monospace\", \"size\": 18}, \"legend\": {\"title\": {\"text\": \"precipitation\"}, \"tracegroupgap\": 0}, \"template\": {\"data\": {\"bar\": [{\"error_x\": {\"color\": \"#2a3f5f\"}, \"error_y\": {\"color\": \"#2a3f5f\"}, \"marker\": {\"line\": {\"color\": \"#E5ECF6\", \"width\": 0.5}}, \"type\": \"bar\"}], \"barpolar\": [{\"marker\": {\"line\": {\"color\": \"#E5ECF6\", \"width\": 0.5}}, \"type\": \"barpolar\"}], \"carpet\": [{\"aaxis\": {\"endlinecolor\": \"#2a3f5f\", \"gridcolor\": \"white\", \"linecolor\": \"white\", \"minorgridcolor\": \"white\", \"startlinecolor\": \"#2a3f5f\"}, \"baxis\": {\"endlinecolor\": \"#2a3f5f\", \"gridcolor\": \"white\", \"linecolor\": \"white\", \"minorgridcolor\": \"white\", \"startlinecolor\": \"#2a3f5f\"}, \"type\": \"carpet\"}], \"choropleth\": [{\"colorbar\": {\"outlinewidth\": 0, \"ticks\": \"\"}, \"type\": \"choropleth\"}], \"contour\": [{\"colorbar\": {\"outlinewidth\": 0, \"ticks\": \"\"}, \"colorscale\": [[0.0, \"#0d0887\"], [0.1111111111111111, \"#46039f\"], [0.2222222222222222, \"#7201a8\"], [0.3333333333333333, \"#9c179e\"], [0.4444444444444444, \"#bd3786\"], [0.5555555555555556, \"#d8576b\"], [0.6666666666666666, \"#ed7953\"], [0.7777777777777778, \"#fb9f3a\"], [0.8888888888888888, \"#fdca26\"], [1.0, \"#f0f921\"]], \"type\": \"contour\"}], \"contourcarpet\": [{\"colorbar\": {\"outlinewidth\": 0, \"ticks\": \"\"}, \"type\": \"contourcarpet\"}], \"heatmap\": [{\"colorbar\": {\"outlinewidth\": 0, \"ticks\": \"\"}, \"colorscale\": [[0.0, \"#0d0887\"], [0.1111111111111111, \"#46039f\"], [0.2222222222222222, \"#7201a8\"], [0.3333333333333333, \"#9c179e\"], [0.4444444444444444, \"#bd3786\"], [0.5555555555555556, \"#d8576b\"], [0.6666666666666666, \"#ed7953\"], [0.7777777777777778, \"#fb9f3a\"], [0.8888888888888888, \"#fdca26\"], [1.0, \"#f0f921\"]], \"type\": \"heatmap\"}], \"heatmapgl\": [{\"colorbar\": {\"outlinewidth\": 0, \"ticks\": \"\"}, \"colorscale\": [[0.0, \"#0d0887\"], [0.1111111111111111, \"#46039f\"], [0.2222222222222222, \"#7201a8\"], [0.3333333333333333, \"#9c179e\"], [0.4444444444444444, \"#bd3786\"], [0.5555555555555556, \"#d8576b\"], [0.6666666666666666, \"#ed7953\"], [0.7777777777777778, \"#fb9f3a\"], [0.8888888888888888, \"#fdca26\"], [1.0, \"#f0f921\"]], \"type\": \"heatmapgl\"}], \"histogram\": [{\"marker\": {\"colorbar\": {\"outlinewidth\": 0, \"ticks\": \"\"}}, \"type\": \"histogram\"}], \"histogram2d\": [{\"colorbar\": {\"outlinewidth\": 0, \"ticks\": \"\"}, \"colorscale\": [[0.0, \"#0d0887\"], [0.1111111111111111, \"#46039f\"], [0.2222222222222222, \"#7201a8\"], [0.3333333333333333, \"#9c179e\"], [0.4444444444444444, \"#bd3786\"], [0.5555555555555556, \"#d8576b\"], [0.6666666666666666, \"#ed7953\"], [0.7777777777777778, \"#fb9f3a\"], [0.8888888888888888, \"#fdca26\"], [1.0, \"#f0f921\"]], \"type\": \"histogram2d\"}], \"histogram2dcontour\": [{\"colorbar\": {\"outlinewidth\": 0, \"ticks\": \"\"}, \"colorscale\": [[0.0, \"#0d0887\"], [0.1111111111111111, \"#46039f\"], [0.2222222222222222, \"#7201a8\"], [0.3333333333333333, \"#9c179e\"], [0.4444444444444444, \"#bd3786\"], [0.5555555555555556, \"#d8576b\"], [0.6666666666666666, \"#ed7953\"], [0.7777777777777778, \"#fb9f3a\"], [0.8888888888888888, \"#fdca26\"], [1.0, \"#f0f921\"]], \"type\": \"histogram2dcontour\"}], \"mesh3d\": [{\"colorbar\": {\"outlinewidth\": 0, \"ticks\": \"\"}, \"type\": \"mesh3d\"}], \"parcoords\": [{\"line\": {\"colorbar\": {\"outlinewidth\": 0, \"ticks\": \"\"}}, \"type\": \"parcoords\"}], \"pie\": [{\"automargin\": true, \"type\": \"pie\"}], \"scatter\": [{\"marker\": {\"colorbar\": {\"outlinewidth\": 0, \"ticks\": \"\"}}, \"type\": \"scatter\"}], \"scatter3d\": [{\"line\": {\"colorbar\": {\"outlinewidth\": 0, \"ticks\": \"\"}}, \"marker\": {\"colorbar\": {\"outlinewidth\": 0, \"ticks\": \"\"}}, \"type\": \"scatter3d\"}], \"scattercarpet\": [{\"marker\": {\"colorbar\": {\"outlinewidth\": 0, \"ticks\": \"\"}}, \"type\": \"scattercarpet\"}], \"scattergeo\": [{\"marker\": {\"colorbar\": {\"outlinewidth\": 0, \"ticks\": \"\"}}, \"type\": \"scattergeo\"}], \"scattergl\": [{\"marker\": {\"colorbar\": {\"outlinewidth\": 0, \"ticks\": \"\"}}, \"type\": \"scattergl\"}], \"scattermapbox\": [{\"marker\": {\"colorbar\": {\"outlinewidth\": 0, \"ticks\": \"\"}}, \"type\": \"scattermapbox\"}], \"scatterpolar\": [{\"marker\": {\"colorbar\": {\"outlinewidth\": 0, \"ticks\": \"\"}}, \"type\": \"scatterpolar\"}], \"scatterpolargl\": [{\"marker\": {\"colorbar\": {\"outlinewidth\": 0, \"ticks\": \"\"}}, \"type\": \"scatterpolargl\"}], \"scatterternary\": [{\"marker\": {\"colorbar\": {\"outlinewidth\": 0, \"ticks\": \"\"}}, \"type\": \"scatterternary\"}], \"surface\": [{\"colorbar\": {\"outlinewidth\": 0, \"ticks\": \"\"}, \"colorscale\": [[0.0, \"#0d0887\"], [0.1111111111111111, \"#46039f\"], [0.2222222222222222, \"#7201a8\"], [0.3333333333333333, \"#9c179e\"], [0.4444444444444444, \"#bd3786\"], [0.5555555555555556, \"#d8576b\"], [0.6666666666666666, \"#ed7953\"], [0.7777777777777778, \"#fb9f3a\"], [0.8888888888888888, \"#fdca26\"], [1.0, \"#f0f921\"]], \"type\": \"surface\"}], \"table\": [{\"cells\": {\"fill\": {\"color\": \"#EBF0F8\"}, \"line\": {\"color\": \"white\"}}, \"header\": {\"fill\": {\"color\": \"#C8D4E3\"}, \"line\": {\"color\": \"white\"}}, \"type\": \"table\"}]}, \"layout\": {\"annotationdefaults\": {\"arrowcolor\": \"#2a3f5f\", \"arrowhead\": 0, \"arrowwidth\": 1}, \"coloraxis\": {\"colorbar\": {\"outlinewidth\": 0, \"ticks\": \"\"}}, \"colorscale\": {\"diverging\": [[0, \"#8e0152\"], [0.1, \"#c51b7d\"], [0.2, \"#de77ae\"], [0.3, \"#f1b6da\"], [0.4, \"#fde0ef\"], [0.5, \"#f7f7f7\"], [0.6, \"#e6f5d0\"], [0.7, \"#b8e186\"], [0.8, \"#7fbc41\"], [0.9, \"#4d9221\"], [1, \"#276419\"]], \"sequential\": [[0.0, \"#0d0887\"], [0.1111111111111111, \"#46039f\"], [0.2222222222222222, \"#7201a8\"], [0.3333333333333333, \"#9c179e\"], [0.4444444444444444, \"#bd3786\"], [0.5555555555555556, \"#d8576b\"], [0.6666666666666666, \"#ed7953\"], [0.7777777777777778, \"#fb9f3a\"], [0.8888888888888888, \"#fdca26\"], [1.0, \"#f0f921\"]], \"sequentialminus\": [[0.0, \"#0d0887\"], [0.1111111111111111, \"#46039f\"], [0.2222222222222222, \"#7201a8\"], [0.3333333333333333, \"#9c179e\"], [0.4444444444444444, \"#bd3786\"], [0.5555555555555556, \"#d8576b\"], [0.6666666666666666, \"#ed7953\"], [0.7777777777777778, \"#fb9f3a\"], [0.8888888888888888, \"#fdca26\"], [1.0, \"#f0f921\"]]}, \"colorway\": [\"#636efa\", \"#EF553B\", \"#00cc96\", \"#ab63fa\", \"#FFA15A\", \"#19d3f3\", \"#FF6692\", \"#B6E880\", \"#FF97FF\", \"#FECB52\"], \"font\": {\"color\": \"#2a3f5f\"}, \"geo\": {\"bgcolor\": \"white\", \"lakecolor\": \"white\", \"landcolor\": \"#E5ECF6\", \"showlakes\": true, \"showland\": true, \"subunitcolor\": \"white\"}, \"hoverlabel\": {\"align\": \"left\"}, \"hovermode\": \"closest\", \"mapbox\": {\"style\": \"light\"}, \"paper_bgcolor\": \"white\", \"plot_bgcolor\": \"#E5ECF6\", \"polar\": {\"angularaxis\": {\"gridcolor\": \"white\", \"linecolor\": \"white\", \"ticks\": \"\"}, \"bgcolor\": \"#E5ECF6\", \"radialaxis\": {\"gridcolor\": \"white\", \"linecolor\": \"white\", \"ticks\": \"\"}}, \"scene\": {\"xaxis\": {\"backgroundcolor\": \"#E5ECF6\", \"gridcolor\": \"white\", \"gridwidth\": 2, \"linecolor\": \"white\", \"showbackground\": true, \"ticks\": \"\", \"zerolinecolor\": \"white\"}, \"yaxis\": {\"backgroundcolor\": \"#E5ECF6\", \"gridcolor\": \"white\", \"gridwidth\": 2, \"linecolor\": \"white\", \"showbackground\": true, \"ticks\": \"\", \"zerolinecolor\": \"white\"}, \"zaxis\": {\"backgroundcolor\": \"#E5ECF6\", \"gridcolor\": \"white\", \"gridwidth\": 2, \"linecolor\": \"white\", \"showbackground\": true, \"ticks\": \"\", \"zerolinecolor\": \"white\"}}, \"shapedefaults\": {\"line\": {\"color\": \"#2a3f5f\"}}, \"ternary\": {\"aaxis\": {\"gridcolor\": \"white\", \"linecolor\": \"white\", \"ticks\": \"\"}, \"baxis\": {\"gridcolor\": \"white\", \"linecolor\": \"white\", \"ticks\": \"\"}, \"bgcolor\": \"#E5ECF6\", \"caxis\": {\"gridcolor\": \"white\", \"linecolor\": \"white\", \"ticks\": \"\"}}, \"title\": {\"x\": 0.05}, \"xaxis\": {\"automargin\": true, \"gridcolor\": \"white\", \"linecolor\": \"white\", \"ticks\": \"\", \"title\": {\"standoff\": 15}, \"zerolinecolor\": \"white\", \"zerolinewidth\": 2}, \"yaxis\": {\"automargin\": true, \"gridcolor\": \"white\", \"linecolor\": \"white\", \"ticks\": \"\", \"title\": {\"standoff\": 15}, \"zerolinecolor\": \"white\", \"zerolinewidth\": 2}}}, \"title\": {\"text\": \"Histogram of Precipitation\", \"x\": 0.5, \"xanchor\": \"center\", \"y\": 0.9, \"yanchor\": \"top\"}, \"xaxis\": {\"anchor\": \"y\", \"categoryarray\": [1.5549999999999997, 0.07714285714285715, 0.016666666666666666, 0.06399999999999999, 0.5166666666666666, 0.24333333333333332, 0.011666666666666667, 0.6359999999999999, 0.006, 0.05, 0.254, 0.276, 0.08499999999999999, 0.246, 0.3333333333333333, 0.07666666666666667, 0.17833333333333332, 0.27999999999999997, 0.25, 0.308, 0.45166666666666666, 2.3800000000000003, 0.8266666666666667, 0.11714285714285715, 0.13599999999999998, 0.10600000000000001, 0.064, 0.14714285714285716, 0.19499999999999998, 0.2057142857142857, 0.22428571428571428, 0.04666666666666667, 0.015, 0.2783333333333333, 0.22666666666666666, 0.018571428571428572, 0.42714285714285716, 0.19166666666666665, 0.2416666666666667, 0.12, 0.115, 0.5816666666666667, 0.1366666666666667, 0.022857142857142857, 0.0016666666666666668, 0.008, 0.0, 0.11499999999999999, 0.013333333333333334, 0.065, 0.11000000000000001, 0.09999999999999999, 0.028333333333333332, 0.202, 0.354, 0.055999999999999994, 0.13166666666666665, 0.15714285714285717, 0.04833333333333334, 0.31, 0.09500000000000001, 0.10666666666666667, 0.26499999999999996, 0.26833333333333337, 0.035, 0.006666666666666667, 0.0033333333333333335, 0.01, 0.075, 0.03, 0.18666666666666668, 0.05714285714285714, 0.02142857142857143, 0.008333333333333333, 0.25666666666666665, 0.0075, 0.095, 0.23750000000000002, 0.616, 1.002, 0.134, 0.296, 0.264, 0.085, 0.09166666666666667, 0.07166666666666667, 0.17666666666666667, 0.295, 0.3933333333333333, 0.13333333333333333, 0.54, 0.076, 0.06571428571428573, 0.37, 0.026000000000000002, 0.12833333333333333, 0.043333333333333335, 0.07, 0.178, 0.005, 0.1285714285714286, 0.4116666666666666, 0.205, 0.27, 0.086, 0.40800000000000003, 0.04, 0.06833333333333334, 0.39666666666666667, 0.5583333333333333, 0.42800000000000005, 0.06999999999999999, 0.004, 0.15833333333333333, 0.002, 0.0025, 0.04666666666666666, 0.20400000000000001, 0.188, 0.45, 0.716, 0.015714285714285715, 0.008571428571428572, 0.028000000000000004, 0.2475, 0.06333333333333334, 1.0571428571428572, 0.1542857142857143, 0.002857142857142857, 1.866666666666667, 1.7466666666666668, 0.4866666666666666, 0.016, 0.36999999999999994, 0.17500000000000004, 0.0475, 0.13000000000000003, 0.0014285714285714286, 0.0375, 0.13666666666666666, 1.6600000000000001, 1.0933333333333333, 0.37166666666666665, 0.3025, 0.135, 0.3266666666666667, 0.04142857142857143, 0.144, 0.18833333333333335, 0.394, 0.11833333333333335, 0.03166666666666667, 0.11, 0.09428571428571429, 0.07833333333333332, 0.18000000000000002, 0.18166666666666667, 1.1199999999999999, 0.34800000000000003, 0.21400000000000002, 0.6140000000000001, 0.48, 0.03333333333333333, 0.13, 1.3966666666666667, 0.9920000000000002, 0.015000000000000001, 0.7066666666666667, 1.3399999999999999, 1.07, 0.024, 0.5016666666666666, 0.9260000000000002, 0.14333333333333334, 0.032, 0.048, 0.244, 0.176, 0.025000000000000005, 0.14166666666666666, 0.072, 0.11833333333333333, 0.6483333333333333, 0.37000000000000005, 0.084, 0.346, 0.074, 0.06799999999999999, 0.122, 0.306, 0.35833333333333334, 0.2916666666666667, 0.22999999999999998, 0.26166666666666666, 0.09000000000000001, 0.23666666666666666, 0.12166666666666666, 0.1275, 0.07333333333333335, 0.11166666666666665, 0.128, 0.02, 0.018333333333333333, 0.07428571428571429, 0.18, 0.148, 0.037500000000000006, 0.1, 0.060000000000000005, 0.3016666666666667, 0.15833333333333335, 0.15166666666666667, 0.3614285714285714, 0.17714285714285713, 0.7366666666666667, 0.22600000000000003, 0.6539999999999999, 0.08714285714285715, 0.08333333333333333, 0.10166666666666667, 0.06, 0.017499999999999998, 0.0125, 0.049999999999999996, 0.0175, 0.062, 0.164, 0.1525, 0.19333333333333336, 0.16666666666666666, 0.1325], \"categoryorder\": \"array\", \"domain\": [0.0, 1.0], \"title\": {\"text\": \"precipitation\"}}, \"yaxis\": {\"anchor\": \"x\", \"domain\": [0.0, 1.0], \"title\": {\"text\": \"count\"}, \"type\": \"log\"}},\n",
       "                        {\"responsive\": true}\n",
       "                    ).then(function(){\n",
       "                            \n",
       "var gd = document.getElementById('92d6fb02-4672-43d1-8fd7-3ac2797ab3a8');\n",
       "var x = new MutationObserver(function (mutations, observer) {{\n",
       "        var display = window.getComputedStyle(gd).display;\n",
       "        if (!display || display === 'none') {{\n",
       "            console.log([gd, 'removed!']);\n",
       "            Plotly.purge(gd);\n",
       "            observer.disconnect();\n",
       "        }}\n",
       "}});\n",
       "\n",
       "// Listen for the removal of the full notebook cells\n",
       "var notebookContainer = gd.closest('#notebook-container');\n",
       "if (notebookContainer) {{\n",
       "    x.observe(notebookContainer, {childList: true});\n",
       "}}\n",
       "\n",
       "// Listen for the clearing of the current output cell\n",
       "var outputEl = gd.closest('.output');\n",
       "if (outputEl) {{\n",
       "    x.observe(outputEl, {childList: true});\n",
       "}}\n",
       "\n",
       "                        })\n",
       "                };\n",
       "                });\n",
       "            </script>\n",
       "        </div>"
      ]
     },
     "metadata": {},
     "output_type": "display_data"
    }
   ],
   "source": [
    "# Histogram with Plotly Express\n",
    "import plotly.express as px\n",
    "df = px.data.tips()\n",
    "fig = px.histogram(df_q12, x=\"precipitation\",\n",
    "                   nbins=40,\n",
    "                   title='Histogram of Precipitation',\n",
    "                   labels={'precipitation':'precipitation', }, # can specify one label per df column\n",
    "                   opacity=0.8,\n",
    "                   log_y=True, # represent bars with log scale\n",
    "                   color = 'precipitation'\n",
    "#                    color_discrete_sequence=['#0d0887', '#46039f', '#7201a8', '#9c179e', '#bd3786', '#d8576b', '#ed7953', '#fb9f3a', '#fdca26', '#f0f921', '#EB89B5'] # color of histogram bars\n",
    "                   )\n",
    "\n",
    "\n",
    "fig.update_layout(\n",
    "    font=dict(\n",
    "        family=\"Courier New, monospace\",\n",
    "        size=18,\n",
    "        color=\"#7f7f7f\"\n",
    "    ),\n",
    "    title={\n",
    "        'y':0.9,\n",
    "        'x':0.5,\n",
    "        'xanchor': 'center',\n",
    "        'yanchor': 'top'}\n",
    ")\n",
    "\n",
    "               \n",
    "fig.show()"
   ]
  },
  {
   "cell_type": "markdown",
   "metadata": {},
   "source": [
    "![precipitation](Images/precipitation.png)"
   ]
  },
  {
   "cell_type": "code",
   "execution_count": 147,
   "metadata": {},
   "outputs": [
    {
     "data": {
      "text/html": [
       "<div>\n",
       "<style scoped>\n",
       "    .dataframe tbody tr th:only-of-type {\n",
       "        vertical-align: middle;\n",
       "    }\n",
       "\n",
       "    .dataframe tbody tr th {\n",
       "        vertical-align: top;\n",
       "    }\n",
       "\n",
       "    .dataframe thead th {\n",
       "        text-align: right;\n",
       "    }\n",
       "</style>\n",
       "<table border=\"1\" class=\"dataframe\">\n",
       "  <thead>\n",
       "    <tr style=\"text-align: right;\">\n",
       "      <th></th>\n",
       "      <th>precipitation</th>\n",
       "    </tr>\n",
       "  </thead>\n",
       "  <tbody>\n",
       "    <tr>\n",
       "      <td>count</td>\n",
       "      <td>365.000000</td>\n",
       "    </tr>\n",
       "    <tr>\n",
       "      <td>mean</td>\n",
       "      <td>0.169987</td>\n",
       "    </tr>\n",
       "    <tr>\n",
       "      <td>std</td>\n",
       "      <td>0.295722</td>\n",
       "    </tr>\n",
       "    <tr>\n",
       "      <td>min</td>\n",
       "      <td>0.000000</td>\n",
       "    </tr>\n",
       "    <tr>\n",
       "      <td>25%</td>\n",
       "      <td>0.008571</td>\n",
       "    </tr>\n",
       "    <tr>\n",
       "      <td>50%</td>\n",
       "      <td>0.070000</td>\n",
       "    </tr>\n",
       "    <tr>\n",
       "      <td>75%</td>\n",
       "      <td>0.191667</td>\n",
       "    </tr>\n",
       "    <tr>\n",
       "      <td>max</td>\n",
       "      <td>2.380000</td>\n",
       "    </tr>\n",
       "  </tbody>\n",
       "</table>\n",
       "</div>"
      ],
      "text/plain": [
       "       precipitation\n",
       "count     365.000000\n",
       "mean        0.169987\n",
       "std         0.295722\n",
       "min         0.000000\n",
       "25%         0.008571\n",
       "50%         0.070000\n",
       "75%         0.191667\n",
       "max         2.380000"
      ]
     },
     "execution_count": 147,
     "metadata": {},
     "output_type": "execute_result"
    }
   ],
   "source": [
    "# Use Pandas to print the summary statistics for the precipitation data for a year.\n",
    "df_q12.describe()"
   ]
  },
  {
   "cell_type": "code",
   "execution_count": 167,
   "metadata": {},
   "outputs": [
    {
     "data": {
      "text/html": [
       "<div>\n",
       "<style scoped>\n",
       "    .dataframe tbody tr th:only-of-type {\n",
       "        vertical-align: middle;\n",
       "    }\n",
       "\n",
       "    .dataframe tbody tr th {\n",
       "        vertical-align: top;\n",
       "    }\n",
       "\n",
       "    .dataframe thead th {\n",
       "        text-align: right;\n",
       "    }\n",
       "</style>\n",
       "<table border=\"1\" class=\"dataframe\">\n",
       "  <thead>\n",
       "    <tr style=\"text-align: right;\">\n",
       "      <th></th>\n",
       "      <th>prcp</th>\n",
       "    </tr>\n",
       "  </thead>\n",
       "  <tbody>\n",
       "    <tr>\n",
       "      <td>count</td>\n",
       "      <td>18103.000000</td>\n",
       "    </tr>\n",
       "    <tr>\n",
       "      <td>mean</td>\n",
       "      <td>0.160644</td>\n",
       "    </tr>\n",
       "    <tr>\n",
       "      <td>std</td>\n",
       "      <td>0.468746</td>\n",
       "    </tr>\n",
       "    <tr>\n",
       "      <td>min</td>\n",
       "      <td>0.000000</td>\n",
       "    </tr>\n",
       "    <tr>\n",
       "      <td>25%</td>\n",
       "      <td>0.000000</td>\n",
       "    </tr>\n",
       "    <tr>\n",
       "      <td>50%</td>\n",
       "      <td>0.010000</td>\n",
       "    </tr>\n",
       "    <tr>\n",
       "      <td>75%</td>\n",
       "      <td>0.110000</td>\n",
       "    </tr>\n",
       "    <tr>\n",
       "      <td>max</td>\n",
       "      <td>11.530000</td>\n",
       "    </tr>\n",
       "  </tbody>\n",
       "</table>\n",
       "</div>"
      ],
      "text/plain": [
       "               prcp\n",
       "count  18103.000000\n",
       "mean       0.160644\n",
       "std        0.468746\n",
       "min        0.000000\n",
       "25%        0.000000\n",
       "50%        0.010000\n",
       "75%        0.110000\n",
       "max       11.530000"
      ]
     },
     "execution_count": 167,
     "metadata": {},
     "output_type": "execute_result"
    }
   ],
   "source": [
    "# Use Pandas to print the summary statistics for the precipitation data from '2010-01-01' to '2017-08-23'.\n",
    "measurement_df[['prcp']].describe()"
   ]
  },
  {
   "cell_type": "markdown",
   "metadata": {},
   "source": [
    "![describe](Images/describe.png)"
   ]
  },
  {
   "cell_type": "code",
   "execution_count": 168,
   "metadata": {},
   "outputs": [
    {
     "data": {
      "text/plain": [
       "9"
      ]
     },
     "execution_count": 168,
     "metadata": {},
     "output_type": "execute_result"
    }
   ],
   "source": [
    "# Design a query to show how many stations are available in this dataset?\n",
    "stations_count = session.query(Station.id).count()\n",
    "stations_count"
   ]
  },
  {
   "cell_type": "code",
   "execution_count": 174,
   "metadata": {},
   "outputs": [
    {
     "data": {
      "text/html": [
       "<div>\n",
       "<style scoped>\n",
       "    .dataframe tbody tr th:only-of-type {\n",
       "        vertical-align: middle;\n",
       "    }\n",
       "\n",
       "    .dataframe tbody tr th {\n",
       "        vertical-align: top;\n",
       "    }\n",
       "\n",
       "    .dataframe thead th {\n",
       "        text-align: right;\n",
       "    }\n",
       "</style>\n",
       "<table border=\"1\" class=\"dataframe\">\n",
       "  <thead>\n",
       "    <tr style=\"text-align: right;\">\n",
       "      <th></th>\n",
       "      <th>station</th>\n",
       "      <th>counts</th>\n",
       "    </tr>\n",
       "  </thead>\n",
       "  <tbody>\n",
       "    <tr>\n",
       "      <td>0</td>\n",
       "      <td>USC00519281</td>\n",
       "      <td>2772</td>\n",
       "    </tr>\n",
       "    <tr>\n",
       "      <td>1</td>\n",
       "      <td>USC00519397</td>\n",
       "      <td>2724</td>\n",
       "    </tr>\n",
       "    <tr>\n",
       "      <td>2</td>\n",
       "      <td>USC00513117</td>\n",
       "      <td>2709</td>\n",
       "    </tr>\n",
       "    <tr>\n",
       "      <td>3</td>\n",
       "      <td>USC00519523</td>\n",
       "      <td>2669</td>\n",
       "    </tr>\n",
       "    <tr>\n",
       "      <td>4</td>\n",
       "      <td>USC00516128</td>\n",
       "      <td>2612</td>\n",
       "    </tr>\n",
       "    <tr>\n",
       "      <td>5</td>\n",
       "      <td>USC00514830</td>\n",
       "      <td>2202</td>\n",
       "    </tr>\n",
       "    <tr>\n",
       "      <td>6</td>\n",
       "      <td>USC00511918</td>\n",
       "      <td>1979</td>\n",
       "    </tr>\n",
       "    <tr>\n",
       "      <td>7</td>\n",
       "      <td>USC00517948</td>\n",
       "      <td>1372</td>\n",
       "    </tr>\n",
       "    <tr>\n",
       "      <td>8</td>\n",
       "      <td>USC00518838</td>\n",
       "      <td>511</td>\n",
       "    </tr>\n",
       "  </tbody>\n",
       "</table>\n",
       "</div>"
      ],
      "text/plain": [
       "       station  counts\n",
       "0  USC00519281    2772\n",
       "1  USC00519397    2724\n",
       "2  USC00513117    2709\n",
       "3  USC00519523    2669\n",
       "4  USC00516128    2612\n",
       "5  USC00514830    2202\n",
       "6  USC00511918    1979\n",
       "7  USC00517948    1372\n",
       "8  USC00518838     511"
      ]
     },
     "execution_count": 174,
     "metadata": {},
     "output_type": "execute_result"
    }
   ],
   "source": [
    "# What are the most active stations? (i.e. what stations have the most rows)?\n",
    "# List the stations and the counts in descending order.\n",
    "active_stations = session.query(Measurement.station, func.count(Measurement.station)).\\\n",
    "            group_by(Measurement.station).\\\n",
    "            order_by(func.count(Measurement.station).desc()).all()\n",
    "active_stations  = pd.DataFrame(active_stations, columns=['station', 'counts'])\n",
    "active_stations"
   ]
  },
  {
   "cell_type": "code",
   "execution_count": 187,
   "metadata": {},
   "outputs": [
    {
     "data": {
      "text/html": [
       "<div>\n",
       "<style scoped>\n",
       "    .dataframe tbody tr th:only-of-type {\n",
       "        vertical-align: middle;\n",
       "    }\n",
       "\n",
       "    .dataframe tbody tr th {\n",
       "        vertical-align: top;\n",
       "    }\n",
       "\n",
       "    .dataframe thead th {\n",
       "        text-align: right;\n",
       "    }\n",
       "</style>\n",
       "<table border=\"1\" class=\"dataframe\">\n",
       "  <thead>\n",
       "    <tr style=\"text-align: right;\">\n",
       "      <th></th>\n",
       "      <th></th>\n",
       "      <th>counts</th>\n",
       "    </tr>\n",
       "    <tr>\n",
       "      <th>station</th>\n",
       "      <th>name</th>\n",
       "      <th></th>\n",
       "    </tr>\n",
       "  </thead>\n",
       "  <tbody>\n",
       "    <tr>\n",
       "      <td>USC00519281</td>\n",
       "      <td>WAIHEE 837.5, HI US</td>\n",
       "      <td>2772</td>\n",
       "    </tr>\n",
       "    <tr>\n",
       "      <td>USC00519397</td>\n",
       "      <td>WAIKIKI 717.2, HI US</td>\n",
       "      <td>2724</td>\n",
       "    </tr>\n",
       "    <tr>\n",
       "      <td>USC00513117</td>\n",
       "      <td>KANEOHE 838.1, HI US</td>\n",
       "      <td>2709</td>\n",
       "    </tr>\n",
       "    <tr>\n",
       "      <td>USC00519523</td>\n",
       "      <td>WAIMANALO EXPERIMENTAL FARM, HI US</td>\n",
       "      <td>2669</td>\n",
       "    </tr>\n",
       "    <tr>\n",
       "      <td>USC00516128</td>\n",
       "      <td>MANOA LYON ARBO 785.2, HI US</td>\n",
       "      <td>2612</td>\n",
       "    </tr>\n",
       "    <tr>\n",
       "      <td>USC00514830</td>\n",
       "      <td>KUALOA RANCH HEADQUARTERS 886.9, HI US</td>\n",
       "      <td>2202</td>\n",
       "    </tr>\n",
       "    <tr>\n",
       "      <td>USC00511918</td>\n",
       "      <td>HONOLULU OBSERVATORY 702.2, HI US</td>\n",
       "      <td>1979</td>\n",
       "    </tr>\n",
       "    <tr>\n",
       "      <td>USC00517948</td>\n",
       "      <td>PEARL CITY, HI US</td>\n",
       "      <td>1372</td>\n",
       "    </tr>\n",
       "    <tr>\n",
       "      <td>USC00518838</td>\n",
       "      <td>UPPER WAHIAWA 874.3, HI US</td>\n",
       "      <td>511</td>\n",
       "    </tr>\n",
       "  </tbody>\n",
       "</table>\n",
       "</div>"
      ],
      "text/plain": [
       "                                                    counts\n",
       "station     name                                          \n",
       "USC00519281 WAIHEE 837.5, HI US                       2772\n",
       "USC00519397 WAIKIKI 717.2, HI US                      2724\n",
       "USC00513117 KANEOHE 838.1, HI US                      2709\n",
       "USC00519523 WAIMANALO EXPERIMENTAL FARM, HI US        2669\n",
       "USC00516128 MANOA LYON ARBO 785.2, HI US              2612\n",
       "USC00514830 KUALOA RANCH HEADQUARTERS 886.9, HI US    2202\n",
       "USC00511918 HONOLULU OBSERVATORY 702.2, HI US         1979\n",
       "USC00517948 PEARL CITY, HI US                         1372\n",
       "USC00518838 UPPER WAHIAWA 874.3, HI US                 511"
      ]
     },
     "execution_count": 187,
     "metadata": {},
     "output_type": "execute_result"
    }
   ],
   "source": [
    "# List the stations and the counts in descending order with names of stations.\n",
    "active_df = combined_data.groupby(['station','name'])['name'].count()\n",
    "active_df = pd.DataFrame(active_df)\n",
    "active_df.rename(columns={'name': 'counts'}, inplace=True)\n",
    "active_df = active_df.sort_values(by='counts', ascending=False)\n",
    "active_df"
   ]
  },
  {
   "cell_type": "code",
   "execution_count": 150,
   "metadata": {},
   "outputs": [],
   "source": [
    "# Using the station id from the previous query, calculate the lowest temperature recorded, \n",
    "# highest temperature recorded, and average temperature of the most active station?\n"
   ]
  },
  {
   "cell_type": "code",
   "execution_count": 151,
   "metadata": {},
   "outputs": [],
   "source": [
    "# Choose the station with the highest number of temperature observations.\n",
    "# Query the last 12 months of temperature observation data for this station and plot the results as a histogram\n"
   ]
  },
  {
   "cell_type": "markdown",
   "metadata": {},
   "source": [
    "![precipitation](Images/station-histogram.png)"
   ]
  },
  {
   "cell_type": "code",
   "execution_count": 152,
   "metadata": {},
   "outputs": [
    {
     "name": "stdout",
     "output_type": "stream",
     "text": [
      "[(62.0, 69.57142857142857, 74.0)]\n"
     ]
    }
   ],
   "source": [
    "# This function called `calc_temps` will accept start date and end date in the format '%Y-%m-%d' \n",
    "# and return the minimum, average, and maximum temperatures for that range of dates\n",
    "def calc_temps(start_date, end_date):\n",
    "    \"\"\"TMIN, TAVG, and TMAX for a list of dates.\n",
    "    \n",
    "    Args:\n",
    "        start_date (string): A date string in the format %Y-%m-%d\n",
    "        end_date (string): A date string in the format %Y-%m-%d\n",
    "        \n",
    "    Returns:\n",
    "        TMIN, TAVE, and TMAX\n",
    "    \"\"\"\n",
    "    \n",
    "    return session.query(func.min(Measurement.tobs), func.avg(Measurement.tobs), func.max(Measurement.tobs)).\\\n",
    "        filter(Measurement.date >= start_date).filter(Measurement.date <= end_date).all()\n",
    "\n",
    "# function usage example\n",
    "print(calc_temps('2012-02-28', '2012-03-05'))"
   ]
  },
  {
   "cell_type": "code",
   "execution_count": 153,
   "metadata": {},
   "outputs": [],
   "source": [
    "# Use your previous function `calc_temps` to calculate the tmin, tavg, and tmax \n",
    "# for your trip using the previous year's data for those same dates.\n"
   ]
  },
  {
   "cell_type": "code",
   "execution_count": 154,
   "metadata": {},
   "outputs": [],
   "source": [
    "# Plot the results from your previous query as a bar chart. \n",
    "# Use \"Trip Avg Temp\" as your Title\n",
    "# Use the average temperature for the y value\n",
    "# Use the peak-to-peak (tmax-tmin) value as the y error bar (yerr)\n"
   ]
  },
  {
   "cell_type": "code",
   "execution_count": 155,
   "metadata": {},
   "outputs": [],
   "source": [
    "# Calculate the total amount of rainfall per weather station for your trip dates using the previous year's matching dates.\n",
    "# Sort this in descending order by precipitation amount and list the station, name, latitude, longitude, and elevation\n",
    "\n"
   ]
  },
  {
   "cell_type": "markdown",
   "metadata": {},
   "source": [
    "## Optional Challenge Assignment"
   ]
  },
  {
   "cell_type": "code",
   "execution_count": 156,
   "metadata": {},
   "outputs": [
    {
     "data": {
      "text/plain": [
       "[(62.0, 69.15384615384616, 77.0)]"
      ]
     },
     "execution_count": 156,
     "metadata": {},
     "output_type": "execute_result"
    }
   ],
   "source": [
    "# Create a query that will calculate the daily normals \n",
    "# (i.e. the averages for tmin, tmax, and tavg for all historic data matching a specific month and day)\n",
    "\n",
    "def daily_normals(date):\n",
    "    \"\"\"Daily Normals.\n",
    "    \n",
    "    Args:\n",
    "        date (str): A date string in the format '%m-%d'\n",
    "        \n",
    "    Returns:\n",
    "        A list of tuples containing the daily normals, tmin, tavg, and tmax\n",
    "    \n",
    "    \"\"\"\n",
    "    \n",
    "    sel = [func.min(Measurement.tobs), func.avg(Measurement.tobs), func.max(Measurement.tobs)]\n",
    "    return session.query(*sel).filter(func.strftime(\"%m-%d\", Measurement.date) == date).all()\n",
    "    \n",
    "daily_normals(\"01-01\")"
   ]
  },
  {
   "cell_type": "code",
   "execution_count": 157,
   "metadata": {},
   "outputs": [],
   "source": [
    "# calculate the daily normals for your trip\n",
    "# push each tuple of calculations into a list called `normals`\n",
    "\n",
    "# Set the start and end date of the trip\n",
    "\n",
    "# Use the start and end date to create a range of dates\n",
    "\n",
    "# Stip off the year and save a list of %m-%d strings\n",
    "\n",
    "# Loop through the list of %m-%d strings and calculate the normals for each date\n"
   ]
  },
  {
   "cell_type": "code",
   "execution_count": 158,
   "metadata": {},
   "outputs": [],
   "source": [
    "# Load the previous query results into a Pandas DataFrame and add the `trip_dates` range as the `date` index\n"
   ]
  },
  {
   "cell_type": "code",
   "execution_count": 159,
   "metadata": {},
   "outputs": [],
   "source": [
    "# Plot the daily normals as an area plot with `stacked=False`\n"
   ]
  }
 ],
 "metadata": {
  "kernel_info": {
   "name": "python3"
  },
  "kernelspec": {
   "display_name": "Python 3",
   "language": "python",
   "name": "python3"
  },
  "language_info": {
   "codemirror_mode": {
    "name": "ipython",
    "version": 3
   },
   "file_extension": ".py",
   "mimetype": "text/x-python",
   "name": "python",
   "nbconvert_exporter": "python",
   "pygments_lexer": "ipython3",
   "version": "3.7.4"
  },
  "nteract": {
   "version": "0.12.3"
  },
  "varInspector": {
   "cols": {
    "lenName": 16,
    "lenType": 16,
    "lenVar": 40
   },
   "kernels_config": {
    "python": {
     "delete_cmd_postfix": "",
     "delete_cmd_prefix": "del ",
     "library": "var_list.py",
     "varRefreshCmd": "print(var_dic_list())"
    },
    "r": {
     "delete_cmd_postfix": ") ",
     "delete_cmd_prefix": "rm(",
     "library": "var_list.r",
     "varRefreshCmd": "cat(var_dic_list()) "
    }
   },
   "types_to_exclude": [
    "module",
    "function",
    "builtin_function_or_method",
    "instance",
    "_Feature"
   ],
   "window_display": false
  }
 },
 "nbformat": 4,
 "nbformat_minor": 2
}
